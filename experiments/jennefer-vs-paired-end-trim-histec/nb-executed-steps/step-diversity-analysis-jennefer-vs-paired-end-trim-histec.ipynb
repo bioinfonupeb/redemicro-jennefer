{
 "cells": [
  {
   "cell_type": "markdown",
   "id": "15bcfa06",
   "metadata": {
    "papermill": {
     "duration": 0.006815,
     "end_time": "2024-02-22T16:05:40.945773",
     "exception": false,
     "start_time": "2024-02-22T16:05:40.938958",
     "status": "completed"
    },
    "tags": []
   },
   "source": [
    " \n",
    "# Alpha and Beta Diversity\n",
    "\n",
    "Different higher-level measures are often used to describe the microbiome in a sample. These do not provide information on changes in the abundance of specific taxa but allow us to access a broader change or difference in the composition of microorganisms. Alpha and beta diversity are examples of such measures.\n",
    "\n",
    "Different measures exist to estimate diversity within a single sample, jointly called alpha diversity. The different measures reflect the richness (number) or distribution (evenness) of a microbial sample or aim to reflect a combination of both properties.\n",
    "\n",
    "Rarefaction curves are often used when calculating alpha diversity indices because increasing numbers of sequenced taxa allow increasingly accurate estimates of total population diversity. Rarefaction curves can therefore be used to estimate the full sample richness, as compared to the observed sample richness.\n",
    "\n",
    "While alpha diversity is a measure of microbiome diversity applicable to a single sample, beta diversity is a measure of the similarity or dissimilarity of two communities. As for alpha diversity, many indices exist, each reflecting different aspects of community heterogeneity. Key differences relate to how the indices value variation in rare species if they consider presence/absence only or incorporate abundance, and how they interpret shared absence. Bray-Curtis dissimilarity is a popular measure that considers both size (overall abundance per sample) and shape (abundance of each taxon) of the communities (Bray, 1957). Beta diversity is an essential measure for many popular statistical methods in ecology, such as ordination-based methods, and is widely used for studying the association between environmental variables and microbial composition.\n",
    "\n",
    "In summary, alpha diversity measures can be seen as a summary statistic of a single population (within-sample diversity), while beta diversity measures are estimates of similarity or dissimilarity between populations (between samples).\n",
    "\n",
    "**Source**: (https://biomcare.com/info/key-terms-in-microbiome-projects/)"
   ]
  },
  {
   "cell_type": "markdown",
   "id": "0e7f2330",
   "metadata": {
    "ExecuteTime": {
     "end_time": "2022-09-22T19:36:33.828188Z",
     "start_time": "2022-09-22T19:36:33.817323Z"
    },
    "papermill": {
     "duration": 0.004485,
     "end_time": "2024-02-22T16:05:40.953211",
     "exception": false,
     "start_time": "2024-02-22T16:05:40.948726",
     "status": "completed"
    },
    "tags": []
   },
   "source": [
    "### STEP : Diversity Analysis\n",
    "\n",
    "Using QIIME2 to create diversity analisys graphs and calculations.\n",
    "\n",
    "- [QIIME2 Workflow Overview](https://docs.qiime2.org/2022.8/tutorials/overview/)\n",
    "\n",
    "\n",
    "#### Methods\n",
    "- [diversity](https://docs.qiime2.org/2022.8/plugins/available/diversity/)\n",
    "- [diversity alpha](https://docs.qiime2.org/2022.8/plugins/available/diversity/alpha/)\n",
    "- [diversity alpha_phylogenetic](https://docs.qiime2.org/2022.8/plugins/available/diversity/alpha-phylogenetic/)\n",
    "- [diversity beta](https://docs.qiime2.org/2022.8/plugins/available/diversity/beta/)\n",
    "- [diversity core_metrics](https://docs.qiime2.org/2022.8/plugins/available/diversity/core-metrics/)\n",
    "- [diversity alpha_group_significance](https://docs.qiime2.org/2022.8/plugins/available/diversity/alpha-group-significance/)\n",
    "- [diversity beta_group_significance](https://docs.qiime2.org/2022.8/plugins/available/diversity/beta-group-significance/)\n",
    "- [feature_table core_features](https://docs.qiime2.org/2022.8/plugins/available/feature-table/core-features/)\n",
    "- [feature_table summarize](https://docs.qiime2.org/2022.8/plugins/available/feature-table/summarize/)\n",
    "- [taxa filter-table](https://docs.qiime2.org/2022.8/plugins/available/taxa/filter-table/)\n",
    "- [taxa collapse](https://docs.qiime2.org/2022.8/plugins/available/taxa/collapse/)"
   ]
  },
  {
   "cell_type": "markdown",
   "id": "843debbf",
   "metadata": {
    "papermill": {
     "duration": 0.00276,
     "end_time": "2024-02-22T16:05:40.958754",
     "exception": false,
     "start_time": "2024-02-22T16:05:40.955994",
     "status": "completed"
    },
    "tags": []
   },
   "source": [
    "## Setup and settings"
   ]
  },
  {
   "cell_type": "code",
   "execution_count": 1,
   "id": "965e28e5",
   "metadata": {
    "ExecuteTime": {
     "end_time": "2022-11-03T20:35:26.198671Z",
     "start_time": "2022-11-03T20:35:06.473173Z"
    },
    "execution": {
     "iopub.execute_input": "2024-02-22T16:05:40.964961Z",
     "iopub.status.busy": "2024-02-22T16:05:40.964839Z",
     "iopub.status.idle": "2024-02-22T16:05:45.550107Z",
     "shell.execute_reply": "2024-02-22T16:05:45.549616Z"
    },
    "papermill": {
     "duration": 4.589773,
     "end_time": "2024-02-22T16:05:45.551295",
     "exception": false,
     "start_time": "2024-02-22T16:05:40.961522",
     "status": "completed"
    },
    "tags": []
   },
   "outputs": [],
   "source": [
    "# Importing packages\n",
    "import os\n",
    "import pandas as pd\n",
    "from qiime2 import Artifact\n",
    "from qiime2 import Visualization\n",
    "from qiime2 import Metadata\n",
    "\n",
    "from qiime2.plugins.phylogeny.pipelines import align_to_tree_mafft_fasttree\n",
    "\n",
    "from qiime2.plugins.diversity.pipelines import alpha\n",
    "from qiime2.plugins.diversity.pipelines import beta\n",
    "from qiime2.plugins.diversity.pipelines import core_metrics\n",
    "from qiime2.plugins.diversity.pipelines import alpha_phylogenetic\n",
    "\n",
    "from qiime2.plugins.diversity.visualizers import alpha_group_significance\n",
    "from qiime2.plugins.diversity.visualizers import beta_group_significance\n",
    "from qiime2.plugins.diversity.visualizers import alpha_correlation\n",
    "from qiime2.plugins.diversity.visualizers import beta_rarefaction\n",
    "\n",
    "from qiime2.plugins.taxa.methods import filter_table\n",
    "from qiime2.plugins.taxa.methods import collapse\n",
    "\n",
    "from qiime2.plugins.feature_table.visualizers import tabulate_seqs\n",
    "from qiime2.plugins.feature_table.visualizers import summarize\n",
    "from qiime2.plugins.feature_table.visualizers import core_features\n",
    "from qiime2.plugins.diversity.pipelines import core_metrics_phylogenetic\n",
    "\n",
    "from qiime2.plugins.feature_table.methods import filter_samples\n",
    "from qiime2.plugins.feature_table.methods import filter_seqs\n",
    "\n",
    "from qiime2.plugins.alignment.methods import mafft\n",
    "\n",
    "\n",
    "import matplotlib.pyplot as plt\n",
    "\n",
    "%matplotlib inline"
   ]
  },
  {
   "cell_type": "markdown",
   "id": "530ceb60",
   "metadata": {
    "papermill": {
     "duration": 0.002908,
     "end_time": "2024-02-22T16:05:45.557302",
     "exception": false,
     "start_time": "2024-02-22T16:05:45.554394",
     "status": "completed"
    },
    "tags": []
   },
   "source": [
    "### Receiving the parameters\n",
    "\n",
    "The following cell can receive parameters using the [papermill](https://papermill.readthedocs.io/en/latest/) tool."
   ]
  },
  {
   "cell_type": "code",
   "execution_count": 2,
   "id": "18d874ea",
   "metadata": {
    "ExecuteTime": {
     "end_time": "2022-09-29T20:54:14.793270Z",
     "start_time": "2022-09-29T20:54:14.789367Z"
    },
    "execution": {
     "iopub.execute_input": "2024-02-22T16:05:45.563934Z",
     "iopub.status.busy": "2024-02-22T16:05:45.563689Z",
     "iopub.status.idle": "2024-02-22T16:05:45.566330Z",
     "shell.execute_reply": "2024-02-22T16:05:45.566026Z"
    },
    "papermill": {
     "duration": 0.006944,
     "end_time": "2024-02-22T16:05:45.567234",
     "exception": false,
     "start_time": "2024-02-22T16:05:45.560290",
     "status": "completed"
    },
    "tags": [
     "parameters"
    ]
   },
   "outputs": [],
   "source": [
    "base_dir = os.path.join('/', 'home')\n",
    "metadata_file = os.path.abspath(os.path.join(base_dir, 'data', 'metadatada.tsv'))\n",
    "experiment_name = ''\n",
    "class_col = ''\n",
    "replace_files = False"
   ]
  },
  {
   "cell_type": "code",
   "execution_count": 3,
   "id": "331f8085",
   "metadata": {
    "execution": {
     "iopub.execute_input": "2024-02-22T16:05:45.573505Z",
     "iopub.status.busy": "2024-02-22T16:05:45.573381Z",
     "iopub.status.idle": "2024-02-22T16:05:45.576131Z",
     "shell.execute_reply": "2024-02-22T16:05:45.575724Z"
    },
    "papermill": {
     "duration": 0.006988,
     "end_time": "2024-02-22T16:05:45.577075",
     "exception": false,
     "start_time": "2024-02-22T16:05:45.570087",
     "status": "completed"
    },
    "tags": [
     "injected-parameters"
    ]
   },
   "outputs": [],
   "source": [
    "# Parameters\n",
    "experiment_name = \"jennefer-vs-paired-end-trim-histec\"\n",
    "base_dir = \"/mnt/nupeb/rede-micro/redemicro-jennefer\"\n",
    "manifest_file = \"/mnt/nupeb/rede-micro/redemicro-jennefer/data/manifest.csv\"\n",
    "metadata_file = \"/mnt/nupeb/rede-micro/redemicro-jennefer/data/metadata-his.tsv\"\n",
    "class_col = \"class\"\n",
    "classifier_file = \"/mnt/nupeb/rede-micro/datasets/16S_classifiers_qiime2/silva-138-99-nb-classifier.qza\"\n",
    "replace_files = False\n",
    "phred = 20\n",
    "trunc_f = 0\n",
    "trunc_r = 0\n",
    "overlap = 12\n",
    "threads = 6\n",
    "trim = {\n",
    "    \"overlap\": 8,\n",
    "    \"forward_primer\": \"CCTACGGGRSGCAGCAG\",\n",
    "    \"reverse_primer\": \"GGACTACHVGGGTWTCTAAT\",\n",
    "}\n"
   ]
  },
  {
   "cell_type": "code",
   "execution_count": 4,
   "id": "f38617d9",
   "metadata": {
    "ExecuteTime": {
     "end_time": "2022-09-29T20:54:14.804575Z",
     "start_time": "2022-09-29T20:54:14.794927Z"
    },
    "execution": {
     "iopub.execute_input": "2024-02-22T16:05:45.583409Z",
     "iopub.status.busy": "2024-02-22T16:05:45.583287Z",
     "iopub.status.idle": "2024-02-22T16:05:45.585654Z",
     "shell.execute_reply": "2024-02-22T16:05:45.585234Z"
    },
    "papermill": {
     "duration": 0.006608,
     "end_time": "2024-02-22T16:05:45.586574",
     "exception": false,
     "start_time": "2024-02-22T16:05:45.579966",
     "status": "completed"
    },
    "tags": []
   },
   "outputs": [],
   "source": [
    "experiment_folder = os.path.abspath(os.path.join(base_dir, 'experiments', experiment_name))\n",
    "img_folder = os.path.abspath(os.path.join(experiment_folder, 'imgs'))"
   ]
  },
  {
   "cell_type": "markdown",
   "id": "ea9b90fb",
   "metadata": {
    "papermill": {
     "duration": 0.010578,
     "end_time": "2024-02-22T16:05:45.600035",
     "exception": false,
     "start_time": "2024-02-22T16:05:45.589457",
     "status": "completed"
    },
    "tags": []
   },
   "source": [
    "### Defining names, paths and flags"
   ]
  },
  {
   "cell_type": "code",
   "execution_count": 5,
   "id": "45727eef",
   "metadata": {
    "ExecuteTime": {
     "end_time": "2022-09-29T20:54:14.816686Z",
     "start_time": "2022-09-29T20:54:14.806238Z"
    },
    "execution": {
     "iopub.execute_input": "2024-02-22T16:05:45.606305Z",
     "iopub.status.busy": "2024-02-22T16:05:45.606184Z",
     "iopub.status.idle": "2024-02-22T16:05:45.635485Z",
     "shell.execute_reply": "2024-02-22T16:05:45.635013Z"
    },
    "papermill": {
     "duration": 0.033585,
     "end_time": "2024-02-22T16:05:45.636519",
     "exception": false,
     "start_time": "2024-02-22T16:05:45.602934",
     "status": "completed"
    },
    "tags": []
   },
   "outputs": [
    {
     "name": "stdout",
     "output_type": "stream",
     "text": [
      "The new directory is created in /mnt/nupeb/rede-micro/redemicro-jennefer/experiments/jennefer-vs-paired-end-trim-histec/qiime-artifacts/alpha-analysis\n",
      "The new directory is created in /mnt/nupeb/rede-micro/redemicro-jennefer/experiments/jennefer-vs-paired-end-trim-histec/qiime-artifacts/beta-analysis\n"
     ]
    }
   ],
   "source": [
    "# QIIME2 Artifacts folder\n",
    "qiime_folder = os.path.join(experiment_folder, 'qiime-artifacts')\n",
    "\n",
    "# Input - DADA2 Artifacts\n",
    "dada2_tabs_path = os.path.join(qiime_folder, 'dada2-tabs.qza')\n",
    "dada2_reps_path = os.path.join(qiime_folder, 'dada2-reps.qza')\n",
    "dada2_stat_path = os.path.join(qiime_folder, 'dada2-stat.qza')\n",
    "\n",
    "# Input - Taxonaomic Artifacts\n",
    "taxonomy_path = os.path.join(qiime_folder, 'metatax.qza')\n",
    "\n",
    "# Create folder to store Alpha files\n",
    "alpha_path = os.path.join(qiime_folder, 'alpha-analysis')\n",
    "if not os.path.exists(alpha_path):\n",
    "    os.makedirs(alpha_path)\n",
    "    print(f'The new directory is created in {alpha_path}')\n",
    "    \n",
    "# Create folder to store Beta files\n",
    "beta_path = os.path.join(qiime_folder, 'beta-analysis')\n",
    "if not os.path.exists(beta_path):\n",
    "    os.makedirs(beta_path)\n",
    "    print(f'The new directory is created in {beta_path}')\n",
    "\n",
    "# Output -Diversity Artifacts\n",
    "alpha_diversity_path = os.path.join(alpha_path, 'alpha-diversity.qza')\n",
    "alpha_diversity_view_path = os.path.join(alpha_path, 'alpha-diversity.qzv')\n",
    "beta_diversity_path = os.path.join(beta_path, 'beta-diversity.qza')\n",
    "beta_diversity_view_path = os.path.join(beta_path, 'beta-diversity.qzv')"
   ]
  },
  {
   "cell_type": "code",
   "execution_count": 6,
   "id": "601ae263",
   "metadata": {
    "ExecuteTime": {
     "end_time": "2022-09-29T20:54:14.829117Z",
     "start_time": "2022-09-29T20:54:14.818272Z"
    },
    "execution": {
     "iopub.execute_input": "2024-02-22T16:05:45.644439Z",
     "iopub.status.busy": "2024-02-22T16:05:45.644293Z",
     "iopub.status.idle": "2024-02-22T16:05:45.648463Z",
     "shell.execute_reply": "2024-02-22T16:05:45.647984Z"
    },
    "papermill": {
     "duration": 0.009472,
     "end_time": "2024-02-22T16:05:45.649501",
     "exception": false,
     "start_time": "2024-02-22T16:05:45.640029",
     "status": "completed"
    },
    "tags": []
   },
   "outputs": [],
   "source": [
    "def filter_and_collapse(tab, seqs, tax, meta, lvl, exclude=True, exclude_list='uncultured,unidentified,metagenome'):\n",
    "    from qiime2.plugins.taxa.methods import collapse\n",
    "    from qiime2.plugins.taxa.methods import filter_table\n",
    "    from qiime2.plugins.feature_table.methods import filter_seqs\n",
    "    from qiime2.plugins.feature_table.visualizers import summarize\n",
    "    \n",
    "    to_include = ('d', 'p', 'c', 'o', 'f', 'g', 's')[lvl-1]\n",
    "    to_include += '__'\n",
    "    to_exclude = exclude_list if exclude else None\n",
    "    \n",
    "    filtered_tabs = filter_table(\n",
    "        table=tab, \n",
    "        taxonomy=tax,\n",
    "        include=to_include,\n",
    "        exclude=to_exclude,\n",
    "        mode='contains').filtered_table\n",
    "    \n",
    "    filtered_seqs = filter_seqs(\n",
    "        data = seqs,\n",
    "        table = filtered_tabs,\n",
    "    ).filtered_data\n",
    "    \n",
    "    collapsed_table = collapse(table=filtered_tabs, taxonomy=tax, level=lvl).collapsed_table\n",
    "    collapsed_table_view = summarize(table=collapsed_table, sample_metadata=meta).visualization\n",
    "    \n",
    "    return collapsed_table, collapsed_table_view, filtered_seqs"
   ]
  },
  {
   "cell_type": "markdown",
   "id": "0999a1b2",
   "metadata": {
    "papermill": {
     "duration": 0.003487,
     "end_time": "2024-02-22T16:05:45.656527",
     "exception": false,
     "start_time": "2024-02-22T16:05:45.653040",
     "status": "completed"
    },
    "tags": []
   },
   "source": [
    "## Step execution\n",
    "\n",
    "### Load input files\n",
    "\n",
    "This Step import the QIIME2 `FeatureTable[Frequency]` Artifact and the `Metadata` file."
   ]
  },
  {
   "cell_type": "code",
   "execution_count": 7,
   "id": "8f299d1a",
   "metadata": {
    "ExecuteTime": {
     "end_time": "2022-09-29T20:54:15.559837Z",
     "start_time": "2022-09-29T20:54:14.830405Z"
    },
    "execution": {
     "iopub.execute_input": "2024-02-22T16:05:45.664539Z",
     "iopub.status.busy": "2024-02-22T16:05:45.664391Z",
     "iopub.status.idle": "2024-02-22T16:05:46.160415Z",
     "shell.execute_reply": "2024-02-22T16:05:46.159945Z"
    },
    "papermill": {
     "duration": 0.501349,
     "end_time": "2024-02-22T16:05:46.161589",
     "exception": false,
     "start_time": "2024-02-22T16:05:45.660240",
     "status": "completed"
    },
    "tags": []
   },
   "outputs": [],
   "source": [
    "#Load Metadata\n",
    "metadata_qa = Metadata.load(metadata_file)\n",
    "\n",
    "#Load FeatureTable[Frequency]\n",
    "tabs = Artifact.load(dada2_tabs_path)\n",
    "tabs_df = tabs.view(Metadata).to_dataframe().T\n",
    "\n",
    "# FeatureData[Sequence]\n",
    "reps = Artifact.load(dada2_reps_path)\n",
    "\n",
    "# FeatureData[Taxonomy]\n",
    "tax = Artifact.load(taxonomy_path)"
   ]
  },
  {
   "cell_type": "code",
   "execution_count": 8,
   "id": "c8dfe530",
   "metadata": {
    "ExecuteTime": {
     "end_time": "2022-09-29T20:54:15.564968Z",
     "start_time": "2022-09-29T20:54:15.561875Z"
    },
    "execution": {
     "iopub.execute_input": "2024-02-22T16:05:46.168688Z",
     "iopub.status.busy": "2024-02-22T16:05:46.168396Z",
     "iopub.status.idle": "2024-02-22T16:05:46.465376Z",
     "shell.execute_reply": "2024-02-22T16:05:46.464913Z"
    },
    "papermill": {
     "duration": 0.301636,
     "end_time": "2024-02-22T16:05:46.466402",
     "exception": false,
     "start_time": "2024-02-22T16:05:46.164766",
     "status": "completed"
    },
    "tags": []
   },
   "outputs": [
    {
     "name": "stderr",
     "output_type": "stream",
     "text": [
      "/home/lauro/anaconda3/envs/qiime2-2023.5/lib/python3.8/site-packages/q2_types/feature_data/_transformer.py:258: FutureWarning: iteritems is deprecated and will be removed in a future version. Use .items instead.\n",
      "  for id_, seq in data.iteritems():\n"
     ]
    }
   ],
   "source": [
    "# Filter FeatureTable[Frequency | RelativeFrequency | PresenceAbsence | Composition] based on Metadata sample ID values\n",
    "tabs = filter_samples(\n",
    "    table=tabs,\n",
    "    metadata=metadata_qa,\n",
    ").filtered_table\n",
    "# Filter SampleData[SequencesWithQuality | PairedEndSequencesWithQuality | JoinedSequencesWithQuality] based on Metadata sample ID values; returns FeatureData[Sequence | AlignedSequence]\n",
    "reps = filter_seqs(\n",
    "    data=reps,\n",
    "    table=tabs,\n",
    ").filtered_data"
   ]
  },
  {
   "cell_type": "markdown",
   "id": "9f43843a",
   "metadata": {
    "ExecuteTime": {
     "end_time": "2022-09-22T22:48:07.523952Z",
     "start_time": "2022-09-22T22:48:07.517565Z"
    },
    "papermill": {
     "duration": 0.003003,
     "end_time": "2024-02-22T16:05:46.472593",
     "exception": false,
     "start_time": "2024-02-22T16:05:46.469590",
     "status": "completed"
    },
    "tags": []
   },
   "source": [
    "## Alpha diversity analysis\n",
    "\n",
    "#### Reference\n",
    "- [The Use and Types of Alpha-Diversity Metrics in Microbial NGS](https://www.cd-genomics.com/microbioseq/the-use-and-types-of-alpha-diversity-metrics-in-microbial-ngs.html)\n",
    "- [Alpha diversity metrics](http://scikit-bio.org/docs/0.2.0/generated/skbio.diversity.alpha.html)\n",
    "\n",
    "#### Methods\n",
    "- [diversity alpha](https://docs.qiime2.org/2022.8/plugins/available/diversity/alpha/): Computes a user-specified alpha diversity metric for all samples in a\n",
    "feature table.\n",
    "- [diversity alpha_phylogenetic](https://docs.qiime2.org/2022.8/plugins/available/diversity/alpha-phylogenetic/): Computes a user-specified phylogenetic alpha diversity metric for all\n",
    "samples in a feature table.\n",
    "- [diversity alpha_correlation](https://docs.qiime2.org/2022.8/plugins/available/diversity/alpha-correlation/): Determine whether numeric sample metadata columns are correlated with alpha diversity.\n",
    "- [diversity alpha_group_significance](https://docs.qiime2.org/2022.8/plugins/available/diversity/alpha-group-significance/): Visually and statistically compare groups of alpha diversity values."
   ]
  },
  {
   "cell_type": "markdown",
   "id": "606b9c75",
   "metadata": {
    "papermill": {
     "duration": 0.002976,
     "end_time": "2024-02-22T16:05:46.478696",
     "exception": false,
     "start_time": "2024-02-22T16:05:46.475720",
     "status": "completed"
    },
    "tags": []
   },
   "source": [
    "### Compute Alpha Diversity vectors\n",
    "- [diversity alpha](https://docs.qiime2.org/2022.8/plugins/available/diversity/alpha/): Computes a user-specified alpha diversity metric for all samples in a feature table.\n",
    "- [Alpha diversity metrics](http://scikit-bio.org/docs/0.2.0/generated/skbio.diversity.alpha.html)\n",
    " - Choices: ('ace', 'berger_parker_d', 'brillouin_d', 'chao1', 'chao1_ci', 'dominance', 'doubles', 'enspie', 'esty_ci', 'fisher_alpha', 'gini_index', 'goods_coverage', 'heip_e', 'kempton_taylor_q', 'lladser_pe', 'margalef', 'mcintosh_d', 'mcintosh_e', 'menhinick', 'michaelis_menten_fit', 'observed_features', 'osd', 'pielou_e', 'robbins', 'shannon', 'simpson', 'simpson_e', 'singles', 'strong')"
   ]
  },
  {
   "cell_type": "code",
   "execution_count": 9,
   "id": "556e5264",
   "metadata": {
    "ExecuteTime": {
     "end_time": "2022-09-29T20:54:20.790166Z",
     "start_time": "2022-09-29T20:54:20.451134Z"
    },
    "execution": {
     "iopub.execute_input": "2024-02-22T16:05:46.486026Z",
     "iopub.status.busy": "2024-02-22T16:05:46.485875Z",
     "iopub.status.idle": "2024-02-22T16:05:46.914409Z",
     "shell.execute_reply": "2024-02-22T16:05:46.913967Z"
    },
    "papermill": {
     "duration": 0.433233,
     "end_time": "2024-02-22T16:05:46.915409",
     "exception": false,
     "start_time": "2024-02-22T16:05:46.482176",
     "status": "completed"
    },
    "tags": []
   },
   "outputs": [
    {
     "name": "stdout",
     "output_type": "stream",
     "text": [
      "Calculating alpha diversity: chao1\n",
      "DONE: Calculating alpha diversity: chao1\n",
      "Calculating alpha diversity: chao1_ci\n",
      "DONE: Calculating alpha diversity: chao1_ci\n",
      "Calculating alpha diversity: observed_features\n"
     ]
    },
    {
     "name": "stdout",
     "output_type": "stream",
     "text": [
      "DONE: Calculating alpha diversity: observed_features\n",
      "Calculating alpha diversity: shannon\n",
      "DONE: Calculating alpha diversity: shannon\n",
      "Calculating alpha diversity: simpson\n",
      "DONE: Calculating alpha diversity: simpson\n",
      "Calculating alpha diversity: simpson_e\n"
     ]
    },
    {
     "name": "stdout",
     "output_type": "stream",
     "text": [
      "DONE: Calculating alpha diversity: simpson_e\n"
     ]
    }
   ],
   "source": [
    "metrics = ('ace', 'berger_parker_d', 'brillouin_d', 'chao1', 'chao1_ci', 'dominance', 'doubles', 'enspie', 'esty_ci', 'fisher_alpha', 'gini_index', 'goods_coverage', 'heip_e', 'kempton_taylor_q', 'lladser_pe', 'margalef', 'mcintosh_d', 'mcintosh_e', 'menhinick', 'michaelis_menten_fit', 'observed_features', 'osd', 'pielou_e', 'robbins', 'shannon', 'simpson', 'simpson_e', 'singles', 'strong')\n",
    "\n",
    "# Sugestão de valores para Alpha diversity\n",
    "# chao1 e observed_features (riqueza); shannon e simpson (diversidade - que levam em consideração riqueza e equitabilidade).\n",
    "metrics = ('chao1', 'chao1_ci', 'observed_features', 'shannon', 'simpson', 'simpson_e')\n",
    "alpha_diversities = dict()\n",
    "for metric in metrics:\n",
    "    print(f\"Calculating alpha diversity: {metric}\")\n",
    "    try:\n",
    "        alpha_diversity = alpha(table=tabs, metric=metric).alpha_diversity\n",
    "        alpha_diversities[metric] = alpha_diversity\n",
    "        # Save SampleData[AlphaDiversity] Artifact\n",
    "        file_path = os.path.join(alpha_path, f'alpha-values-{metric}.qza')\n",
    "        alpha_diversity.save(file_path)\n",
    "        print(f\"DONE: Calculating alpha diversity: {metric}\")\n",
    "    except Exception as e:\n",
    "        print(f\"ERROR: Calculating alpha diversity: {metric}\")\n",
    "        print(e)"
   ]
  },
  {
   "cell_type": "markdown",
   "id": "184bcb7b",
   "metadata": {
    "papermill": {
     "duration": 0.003164,
     "end_time": "2024-02-22T16:05:46.921950",
     "exception": false,
     "start_time": "2024-02-22T16:05:46.918786",
     "status": "completed"
    },
    "tags": []
   },
   "source": [
    "### Create Phylogenetic inference\n",
    "\n",
    "- [alignment align_to_tree_mafft_fasttree](https://docs.qiime2.org/2022.8/plugins/available/phylogeny/align-to-tree-mafft-fasttree/): Build a phylogenetic tree using fasttree and mafft alignment\n",
    "\n",
    "This pipeline will start by creating a sequence alignment using MAFFT,\n",
    "after which any alignment columns that are phylogenetically uninformative\n",
    "or ambiguously aligned will be removed (masked). The resulting masked\n",
    "alignment will be used to infer a phylogenetic tree and then subsequently\n",
    "rooted at its midpoint. Output files from each step of the pipeline will be\n",
    "saved. This includes both the unmasked and masked MAFFT alignment from\n",
    "q2-alignment methods, and both the rooted and unrooted phylogenies from\n",
    "q2-phylogeny methods.\n",
    "\n",
    "\n",
    "Returns\n",
    "- alignment : FeatureData[AlignedSequence] : The aligned sequences.\n",
    "- masked_alignment : FeatureData[AlignedSequence] : The masked alignment.\n",
    "- tree : Phylogeny[Unrooted] : The unrooted phylogenetic tree.\n",
    "- rooted_tree : Phylogeny[Rooted] : The rooted phylogenetic tree."
   ]
  },
  {
   "cell_type": "code",
   "execution_count": 10,
   "id": "9c8cfe47",
   "metadata": {
    "ExecuteTime": {
     "end_time": "2022-09-29T20:54:35.139531Z",
     "start_time": "2022-09-29T20:54:20.792130Z"
    },
    "execution": {
     "iopub.execute_input": "2024-02-22T16:05:46.929860Z",
     "iopub.status.busy": "2024-02-22T16:05:46.929703Z",
     "iopub.status.idle": "2024-02-22T16:05:55.148975Z",
     "shell.execute_reply": "2024-02-22T16:05:55.148450Z"
    },
    "papermill": {
     "duration": 8.224161,
     "end_time": "2024-02-22T16:05:55.150160",
     "exception": false,
     "start_time": "2024-02-22T16:05:46.925999",
     "status": "completed"
    },
    "tags": []
   },
   "outputs": [
    {
     "name": "stdout",
     "output_type": "stream",
     "text": [
      "Running external command line application. This may print messages to stdout and/or stderr.\n",
      "The command being run is below. This command cannot be manually re-run as it will depend on temporary files that no longer exist.\n",
      "\n",
      "Command: mafft --preservecase --inputorder --thread 6 /tmp/qiime2/lauro/data/18b7bc9b-0fd3-4c74-98ad-3799821b1221/data/dna-sequences.fasta\n",
      "\n"
     ]
    },
    {
     "name": "stderr",
     "output_type": "stream",
     "text": [
      "inputfile = orig\n",
      "849 x 431 - 23 d\n",
      "nthread = 6\n",
      "nthreadpair = 6\n",
      "nthreadtb = 6\n",
      "ppenalty_ex = 0\n",
      "stacksize: 8192 kb\n",
      "generating a scoring matrix for nucleotide (dist=200) ... done\n",
      "Gap Penalty = -1.53, +0.00, +0.00\n",
      "\n",
      "\n",
      "\n",
      "Making a distance matrix ..\n",
      "\r",
      "    1 / 849 (thread    2)\r",
      "  101 / 849 (thread    3)\r",
      "  201 / 849 (thread    1)\r",
      "  301 / 849 (thread    0)\r",
      "  401 / 849 (thread    3)\r",
      "  501 / 849 (thread    4)\r",
      "  601 / 849 (thread    3)\r",
      "  701 / 849 (thread    2)\r",
      "  801 / 849 (thread    2)\n",
      "done.\n",
      "\n",
      "Constructing a UPGMA tree (efffree=0) ... \n",
      "\r",
      "    0 / 849\r",
      "   10 / 849\r",
      "   20 / 849\r",
      "   30 / 849\r",
      "   40 / 849\r",
      "   50 / 849\r",
      "   60 / 849\r",
      "   70 / 849\r",
      "   80 / 849\r",
      "   90 / 849\r",
      "  100 / 849\r",
      "  110 / 849\r",
      "  120 / 849\r",
      "  130 / 849\r",
      "  140 / 849\r",
      "  150 / 849\r",
      "  160 / 849\r",
      "  170 / 849\r",
      "  180 / 849\r",
      "  190 / 849\r",
      "  200 / 849\r",
      "  210 / 849\r",
      "  220 / 849\r",
      "  230 / 849\r",
      "  240 / 849\r",
      "  250 / 849\r",
      "  260 / 849\r",
      "  270 / 849\r",
      "  280 / 849\r",
      "  290 / 849\r",
      "  300 / 849\r",
      "  310 / 849\r",
      "  320 / 849\r",
      "  330 / 849\r",
      "  340 / 849\r",
      "  350 / 849\r",
      "  360 / 849\r",
      "  370 / 849\r",
      "  380 / 849\r",
      "  390 / 849\r",
      "  400 / 849\r",
      "  410 / 849\r",
      "  420 / 849\r",
      "  430 / 849\r",
      "  440 / 849\r",
      "  450 / 849\r",
      "  460 / 849\r",
      "  470 / 849\r",
      "  480 / 849\r",
      "  490 / 849\r",
      "  500 / 849\r",
      "  510 / 849\r",
      "  520 / 849\r",
      "  530 / 849\r",
      "  540 / 849\r",
      "  550 / 849\r",
      "  560 / 849\r",
      "  570 / 849\r",
      "  580 / 849\r",
      "  590 / 849\r",
      "  600 / 849\r",
      "  610 / 849\r",
      "  620 / 849\r",
      "  630 / 849\r",
      "  640 / 849\r",
      "  650 / 849\r",
      "  660 / 849\r",
      "  670 / 849\r",
      "  680 / 849\r",
      "  690 / 849\r",
      "  700 / 849\r",
      "  710 / 849\r",
      "  720 / 849\r",
      "  730 / 849\r",
      "  740 / 849\r",
      "  750 / 849\r",
      "  760 / 849\r",
      "  770 / 849\r",
      "  780 / 849\r",
      "  790 / 849\r",
      "  800 / 849\r",
      "  810 / 849\r",
      "  820 / 849\r",
      "  830 / 849\r",
      "  840 / 849\n",
      "done.\n",
      "\n",
      "Progressive alignment 1/2... \n",
      "\r",
      "STEP     1 / 848 (thread    3) f\b\b\r",
      "STEP     2 / 848 (thread    2)\r",
      "STEP     5 / 848 (thread    1)\r",
      "STEP     3 / 848 (thread    4) f\b\b f\b\b\r",
      "STEP     4 / 848 (thread    5) f\b\b f\b\b\r",
      "STEP     6 / 848 (thread    0) f\b\b\r",
      "STEP     7 / 848 (thread    0) f\b\b\r",
      "STEP     8 / 848 (thread    4) f\b\b\r",
      "STEP    11 / 848 (thread    4) f\b\b\r",
      "STEP     9 / 848 (thread    5) f\b\b\r",
      "STEP    12 / 848 (thread    4) f\b\b\r",
      "STEP    13 / 848 (thread    4) f\b\b\r",
      "STEP    14 / 848 (thread    4) f\b\b\r",
      "STEP    16 / 848 (thread    5) f\b\b\r",
      "STEP    10 / 848 (thread    0) f\b\b\r",
      "STEP    17 / 848 (thread    5) f\b\b\r",
      "STEP    18 / 848 (thread    3) f\b\b\r",
      "STEP    19 / 848 (thread    1) f\b\b\r",
      "STEP    20 / 848 (thread    5) f\b\b\r",
      "STEP    21 / 848 (thread    3) f\b\b\r",
      "STEP    23 / 848 (thread    5) f\b\b\r",
      "STEP    24 / 848 (thread    3) f\b\b\r",
      "STEP    22 / 848 (thread    1) f\b\b\r",
      "STEP    25 / 848 (thread    3) f\b\b\r",
      "STEP    26 / 848 (thread    3) f\b\b\r",
      "STEP    27 / 848 (thread    3) f\b\b\r",
      "STEP    28 / 848 (thread    4) f\b\b\r",
      "STEP    15 / 848 (thread    2) f\b\b\r",
      "STEP    30 / 848 (thread    0) f\b\b\r",
      "STEP    29 / 848 (thread    3) f\b\b\r",
      "STEP    32 / 848 (thread    1) f\b\b\r",
      "STEP    33 / 848 (thread    0) f\b\b\r",
      "STEP    31 / 848 (thread    4) f\b\b\r",
      "STEP    34 / 848 (thread    2) f\b\b\r",
      "STEP    35 / 848 (thread    2) f\b\b\r",
      "STEP    36 / 848 (thread    3) f\b\b\r",
      "STEP    37 / 848 (thread    5) f\b\b\r",
      "STEP    38 / 848 (thread    2) f\b\b\r",
      "STEP    40 / 848 (thread    0) f\b\b\r",
      "STEP    41 / 848 (thread    0) f\b\b\r",
      "STEP    42 / 848 (thread    2) f\b\b\r",
      "STEP    43 / 848 (thread    4) f\b\b\r",
      "STEP    44 / 848 (thread    3) f\b\b\r",
      "STEP    46 / 848 (thread    2) f\b\b\r",
      "STEP    47 / 848 (thread    4) f\b\b\r",
      "STEP    48 / 848 (thread    2) f\b\b\r",
      "STEP    49 / 848 (thread    3) f\b\b\r",
      "STEP    45 / 848 (thread    0) f\b\b\r",
      "STEP    50 / 848 (thread    3) f\b\b\r",
      "STEP    51 / 848 (thread    2) f\b\b\r",
      "STEP    52 / 848 (thread    4) f\b\b\r",
      "STEP    53 / 848 (thread    5) f\b\b\r",
      "STEP    39 / 848 (thread    1) f\b\b\r",
      "STEP    54 / 848 (thread    3) f\b\b\r",
      "STEP    55 / 848 (thread    2) f\b\b\r",
      "STEP    56 / 848 (thread    4) f\b\b\r",
      "STEP    57 / 848 (thread    0) f\b\b\r",
      "STEP    58 / 848 (thread    5) f\b\b\r",
      "STEP    59 / 848 (thread    3) f\b\b\r",
      "STEP    60 / 848 (thread    4) f\b\b\r",
      "STEP    61 / 848 (thread    0) f\b\b\r",
      "STEP    62 / 848 (thread    5) f\b\b\r",
      "STEP    63 / 848 (thread    1) f\b\b\r",
      "STEP    64 / 848 (thread    3) f\b\b\r",
      "STEP    65 / 848 (thread    4) f\b\b\r",
      "STEP    66 / 848 (thread    5) f\b\b\r",
      "STEP    67 / 848 (thread    0) f\b\b\r",
      "STEP    68 / 848 (thread    2) f\b\b\r",
      "STEP    69 / 848 (thread    3) f\b\b\r",
      "STEP    70 / 848 (thread    1) f\b\b\r",
      "STEP    71 / 848 (thread    0) f\b\b\r",
      "STEP    72 / 848 (thread    2) f\b\b\r",
      "STEP    73 / 848 (thread    3) f\b\b\r",
      "STEP    74 / 848 (thread    4) f\b\b\r",
      "STEP    75 / 848 (thread    5) f\b\b\r",
      "STEP    76 / 848 (thread    1) f\b\b\r",
      "STEP    77 / 848 (thread    0) f\b\b\r",
      "STEP    78 / 848 (thread    2) f\b\b\r",
      "STEP    79 / 848 (thread    3) f\b\b\r",
      "STEP    80 / 848 (thread    4) f\b\b\r",
      "STEP    81 / 848 (thread    5) f\b\b\r",
      "STEP    83 / 848 (thread    0) f\b\b\r",
      "STEP    84 / 848 (thread    2) f\b\b\r",
      "STEP    85 / 848 (thread    3) f\b\b\r",
      "STEP    86 / 848 (thread    4) f\b\b\r",
      "STEP    87 / 848 (thread    5) f\b\b\r",
      "STEP    82 / 848 (thread    1) f\b\b\r",
      "STEP    88 / 848 (thread    0) f\b\b\r",
      "STEP    90 / 848 (thread    3) f\b\b\r",
      "STEP    91 / 848 (thread    4) f\b\b\r",
      "STEP    92 / 848 (thread    5) f\b\b\r",
      "STEP    93 / 848 (thread    0) f\b\b\r",
      "STEP    89 / 848 (thread    2) f\b\b\r",
      "STEP    94 / 848 (thread    3) f\b\b\r",
      "STEP    95 / 848 (thread    4) f\b\b\r",
      "STEP    96 / 848 (thread    5) f\b\b\r",
      "STEP    97 / 848 (thread    0) f\b\b\r",
      "STEP    98 / 848 (thread    1) f\b\b\r",
      "STEP    99 / 848 (thread    3) f\b\b\r",
      "STEP   100 / 848 (thread    4) f\b\b\r",
      "STEP   101 / 848 (thread    5) f\b\b\r",
      "STEP   102 / 848 (thread    0) f\b\b\r",
      "STEP   103 / 848 (thread    2) f\b\b\r",
      "STEP   104 / 848 (thread    1) f\b\b\r",
      "STEP   105 / 848 (thread    3) f\b\b\r",
      "STEP   106 / 848 (thread    4) f\b\b\r",
      "STEP   107 / 848 (thread    0) f\b\b\r",
      "STEP   108 / 848 (thread    2) f\b\b\r",
      "STEP   109 / 848 (thread    3) f\b\b\r",
      "STEP   110 / 848 (thread    4) f\b\b\r",
      "STEP   111 / 848 (thread    0) f\b\b\r",
      "STEP   112 / 848 (thread    2) f\b\b\r",
      "STEP   113 / 848 (thread    5) f\b\b\r",
      "STEP   114 / 848 (thread    1) f\b\b\r",
      "STEP   115 / 848 (thread    3) f\b\b\r",
      "STEP   116 / 848 (thread    4) f\b\b\r",
      "STEP   117 / 848 (thread    0) f\b\b\r",
      "STEP   118 / 848 (thread    2) f\b\b\r",
      "STEP   119 / 848 (thread    5) f\b\b\r",
      "STEP   120 / 848 (thread    1) f\b\b\r",
      "STEP   121 / 848 (thread    3) f\b\b\r",
      "STEP   122 / 848 (thread    4) f\b\b\r",
      "STEP   123 / 848 (thread    0) f\b\b\r",
      "STEP   124 / 848 (thread    2) f\b\b\r",
      "STEP   125 / 848 (thread    5) f\b\b\r",
      "STEP   126 / 848 (thread    1)\r",
      "STEP   127 / 848 (thread    3) f\b\b f\b\b\r",
      "STEP   128 / 848 (thread    4) f\b\b\r",
      "STEP   129 / 848 (thread    0) f\b\b\r",
      "STEP   130 / 848 (thread    2) f\b\b\r",
      "STEP   131 / 848 (thread    5) f\b\b\r",
      "STEP   132 / 848 (thread    3) f\b\b\r",
      "STEP   133 / 848 (thread    1) f\b\b\r",
      "STEP   134 / 848 (thread    4) f\b\b\r",
      "STEP   135 / 848 (thread    0) f\b\b\r",
      "STEP   136 / 848 (thread    2) f\b\b\r",
      "STEP   137 / 848 (thread    5) f\b\b\r",
      "STEP   138 / 848 (thread    3) f\b\b\r",
      "STEP   139 / 848 (thread    4) f\b\b\r",
      "STEP   140 / 848 (thread    1) f\b\b\r",
      "STEP   141 / 848 (thread    2) f\b\b\r",
      "STEP   142 / 848 (thread    5) f\b\b\r",
      "STEP   143 / 848 (thread    3) f\b\b\r",
      "STEP   144 / 848 (thread    1) f\b\b\r",
      "STEP   145 / 848 (thread    2) f\b\b\r",
      "STEP   146 / 848 (thread    0) f\b\b\r",
      "STEP   147 / 848 (thread    5) f\b\b\r",
      "STEP   148 / 848 (thread    3) f\b\b\r",
      "STEP   149 / 848 (thread    4) f\b\b\r",
      "STEP   150 / 848 (thread    2) f\b\b\r",
      "STEP   151 / 848 (thread    0) f\b\b\r",
      "STEP   152 / 848 (thread    5) f\b\b\r",
      "STEP   153 / 848 (thread    3) f\b\b\r",
      "STEP   154 / 848 (thread    4) f\b\b\r",
      "STEP   155 / 848 (thread    1) f\b\b\r",
      "STEP   156 / 848 (thread    2) f\b\b\r",
      "STEP   157 / 848 (thread    0) f\b\b\r",
      "STEP   158 / 848 (thread    5) f\b\b\r",
      "STEP   159 / 848 (thread    1) f\b\b\r",
      "STEP   160 / 848 (thread    2) f\b\b\r",
      "STEP   161 / 848 (thread    0) f\b\b\r",
      "STEP   162 / 848 (thread    5) f\b\b\r",
      "STEP   163 / 848 (thread    3) f\b\b\r",
      "STEP   164 / 848 (thread    4) f\b\b\r",
      "STEP   165 / 848 (thread    1) f\b\b\r",
      "STEP   166 / 848 (thread    5) f\b\b\r",
      "STEP   167 / 848 (thread    3) f\b\b\r",
      "STEP   168 / 848 (thread    4) f\b\b\r",
      "STEP   169 / 848 (thread    2) f\b\b\r",
      "STEP   170 / 848 (thread    0) f\b\b\r",
      "STEP   171 / 848 (thread    1) f\b\b\r",
      "STEP   172 / 848 (thread    5) f\b\b\r",
      "STEP   173 / 848 (thread    3) f\b\b\r",
      "STEP   174 / 848 (thread    4) f\b\b\r",
      "STEP   175 / 848 (thread    2) f\b\b\r",
      "STEP   176 / 848 (thread    0) f\b\b\r",
      "STEP   177 / 848 (thread    1) f\b\b\r",
      "STEP   178 / 848 (thread    5) f\b\b\r",
      "STEP   179 / 848 (thread    3) f\b\b\r",
      "STEP   180 / 848 (thread    4) f\b\b\r",
      "STEP   181 / 848 (thread    2) f\b\b\r",
      "STEP   182 / 848 (thread    0) f\b\b\r",
      "STEP   183 / 848 (thread    3) f\b\b\r",
      "STEP   184 / 848 (thread    4) f\b\b\r",
      "STEP   185 / 848 (thread    2) f\b\b\r",
      "STEP   186 / 848 (thread    0) f\b\b\r",
      "STEP   187 / 848 (thread    1) f\b\b\r",
      "STEP   188 / 848 (thread    5) f\b\b\r",
      "STEP   189 / 848 (thread    3) f\b\b\r",
      "STEP   190 / 848 (thread    4) f\b\b\r",
      "STEP   191 / 848 (thread    2) f\b\b\r",
      "STEP   192 / 848 (thread    0) f\b\b\r",
      "STEP   193 / 848 (thread    1) f\b\b\r",
      "STEP   194 / 848 (thread    5) f\b\b\r",
      "STEP   195 / 848 (thread    3) f\b\b\r",
      "STEP   196 / 848 (thread    4) f\b\b\r",
      "STEP   197 / 848 (thread    2) f\b\b\r",
      "STEP   198 / 848 (thread    5) f\b\b\r",
      "STEP   199 / 848 (thread    3) f\b\b\r",
      "STEP   200 / 848 (thread    4) f\b\b\r",
      "STEP   201 / 848 (thread    2) f\b\b\r",
      "STEP   202 / 848 (thread    0) f\b\b\r",
      "STEP   203 / 848 (thread    3) f\b\b\r",
      "STEP   204 / 848 (thread    5) f\b\b\r",
      "STEP   205 / 848 (thread    4) f\b\b\r",
      "STEP   207 / 848 (thread    1) f\b\b\r",
      "STEP   208 / 848 (thread    0) f\b\b\r",
      "STEP   209 / 848 (thread    3) f\b\b\r",
      "STEP   206 / 848 (thread    2) f\b\b\r",
      "STEP   210 / 848 (thread    5) f\b\b\r",
      "STEP   211 / 848 (thread    4) f\b\b\r",
      "STEP   212 / 848 (thread    3) f\b\b\r",
      "STEP   213 / 848 (thread    5) f\b\b\r",
      "STEP   214 / 848 (thread    4) f\b\b\r",
      "STEP   215 / 848 (thread    1) f\b\b\r",
      "STEP   216 / 848 (thread    0) f\b\b\r",
      "STEP   217 / 848 (thread    3) f\b\b\r",
      "STEP   218 / 848 (thread    5) f\b\b\r",
      "STEP   219 / 848 (thread    2) f\b\b\r",
      "STEP   220 / 848 (thread    4) f\b\b\r",
      "STEP   221 / 848 (thread    1) f\b\b\r",
      "STEP   222 / 848 (thread    0) f\b\b\r",
      "STEP   223 / 848 (thread    3) f\b\b\r",
      "STEP   224 / 848 (thread    2) f\b\b\r",
      "STEP   225 / 848 (thread    5) f\b\b\r",
      "STEP   226 / 848 (thread    4) f\b\b\r",
      "STEP   227 / 848 (thread    1) f\b\b\r",
      "STEP   228 / 848 (thread    0) f\b\b\r",
      "STEP   229 / 848 (thread    3) f\b\b\r",
      "STEP   230 / 848 (thread    4) f\b\b\r",
      "STEP   231 / 848 (thread    5) f\b\b\r",
      "STEP   232 / 848 (thread    2) f\b\b\r",
      "STEP   233 / 848 (thread    1) f\b\b\r",
      "STEP   234 / 848 (thread    0) f\b\b\r",
      "STEP   235 / 848 (thread    4) f\b\b\r",
      "STEP   236 / 848 (thread    2) f\b\b\r",
      "STEP   237 / 848 (thread    3) f\b\b\r",
      "STEP   238 / 848 (thread    1) f\b\b\r",
      "STEP   239 / 848 (thread    5) f\b\b\r",
      "STEP   240 / 848 (thread    0) f\b\b\r",
      "STEP   241 / 848 (thread    4) f\b\b\r",
      "STEP   242 / 848 (thread    2) f\b\b\r",
      "STEP   243 / 848 (thread    3) f\b\b\r",
      "STEP   244 / 848 (thread    1) f\b\b\r",
      "STEP   245 / 848 (thread    5) f\b\b\r",
      "STEP   246 / 848 (thread    0) f\b\b\r",
      "STEP   247 / 848 (thread    4) f\b\b\r",
      "STEP   248 / 848 (thread    2) f\b\b\r",
      "STEP   249 / 848 (thread    3) f\b\b\r",
      "STEP   250 / 848 (thread    1) f\b\b\r",
      "STEP   251 / 848 (thread    5) f\b\b\r",
      "STEP   252 / 848 (thread    4) f\b\b\r",
      "STEP   253 / 848 (thread    0) f\b\b\r",
      "STEP   254 / 848 (thread    2) f\b\b\r",
      "STEP   255 / 848 (thread    3) f\b\b\r",
      "STEP   256 / 848 (thread    1) f\b\b\r",
      "STEP   257 / 848 (thread    5) f\b\b\r",
      "STEP   258 / 848 (thread    4) f\b\b\r",
      "STEP   259 / 848 (thread    0) f\b\b\r",
      "STEP   260 / 848 (thread    2) f\b\b\r",
      "STEP   261 / 848 (thread    3) f\b\b\r",
      "STEP   262 / 848 (thread    1) f\b\b\r",
      "STEP   263 / 848 (thread    5) f\b\b\r",
      "STEP   264 / 848 (thread    4) f\b\b\r",
      "STEP   265 / 848 (thread    0) f\b\b\r",
      "STEP   266 / 848 (thread    2) f\b\b\r",
      "STEP   267 / 848 (thread    3) f\b\b\r",
      "STEP   268 / 848 (thread    1) f\b\b\r",
      "STEP   269 / 848 (thread    4) f\b\b\r",
      "STEP   270 / 848 (thread    0) f\b\b\r",
      "STEP   271 / 848 (thread    5) f\b\b\r",
      "STEP   272 / 848 (thread    2) f\b\b\r",
      "STEP   273 / 848 (thread    3) f\b\b\r",
      "STEP   274 / 848 (thread    1) f\b\b\r",
      "STEP   275 / 848 (thread    4) f\b\b\r",
      "STEP   276 / 848 (thread    0) f\b\b\r",
      "STEP   277 / 848 (thread    5) f\b\b\r",
      "STEP   278 / 848 (thread    2) f\b\b\r",
      "STEP   279 / 848 (thread    3) f\b\b\r",
      "STEP   280 / 848 (thread    1) f\b\b\r",
      "STEP   281 / 848 (thread    0) f\b\b\r",
      "STEP   282 / 848 (thread    5) f\b\b\r",
      "STEP   283 / 848 (thread    4) f\b\b\r",
      "STEP   284 / 848 (thread    2) f\b\b\r",
      "STEP   285 / 848 (thread    3) f\b\b\r",
      "STEP   286 / 848 (thread    0) f\b\b\r",
      "STEP   287 / 848 (thread    1) f\b\b\r",
      "STEP   288 / 848 (thread    5) f\b\b\r",
      "STEP   289 / 848 (thread    4) f\b\b\r",
      "STEP   290 / 848 (thread    3) f\b\b\r",
      "STEP   291 / 848 (thread    5) f\b\b\r",
      "STEP   292 / 848 (thread    2) f\b\b\r",
      "STEP   293 / 848 (thread    1) f\b\b\r",
      "STEP   294 / 848 (thread    0) f\b\b\r",
      "STEP   295 / 848 (thread    4) f\b\b\r",
      "STEP   296 / 848 (thread    5) f\b\b\r",
      "STEP   297 / 848 (thread    3) f\b\b\r",
      "STEP   298 / 848 (thread    2) f\b\b\r",
      "STEP   299 / 848 (thread    1) f\b\b\r",
      "STEP   300 / 848 (thread    0) f\b\b\r",
      "STEP   302 / 848 (thread    0) f\b\b\r",
      "STEP   303 / 848 (thread    3) f\b\b\r",
      "STEP   304 / 848 (thread    2) f\b\b\r",
      "STEP   301 / 848 (thread    4) f\b\b\r",
      "STEP   305 / 848 (thread    1) f\b\b\r",
      "STEP   306 / 848 (thread    5) f\b\b\r",
      "STEP   307 / 848 (thread    3) f\b\b\r",
      "STEP   309 / 848 (thread    0) f\b\b\r",
      "STEP   310 / 848 (thread    4) f\b\b\r",
      "STEP   308 / 848 (thread    3) f\b\b\r",
      "STEP   311 / 848 (thread    2) f\b\b\r",
      "STEP   312 / 848 (thread    1) f\b\b\r",
      "STEP   313 / 848 (thread    5) f\b\b\r",
      "STEP   314 / 848 (thread    4) f\b\b\r",
      "STEP   315 / 848 (thread    0) f\b\b\r",
      "STEP   316 / 848 (thread    1) f\b\b\r",
      "STEP   317 / 848 (thread    2) f\b\b\r",
      "STEP   318 / 848 (thread    3) f\b\b\r",
      "STEP   319 / 848 (thread    5) f\b\b\r",
      "STEP   320 / 848 (thread    0) f\b\b\r",
      "STEP   321 / 848 (thread    1) f\b\b\r",
      "STEP   322 / 848 (thread    4) f\b\b\r",
      "STEP   323 / 848 (thread    0) f\b\b\r",
      "STEP   324 / 848 (thread    2) f\b\b\r",
      "STEP   325 / 848 (thread    3) f\b\b\r",
      "STEP   326 / 848 (thread    4) f\b\b\r",
      "STEP   327 / 848 (thread    5) f\b\b\r",
      "STEP   328 / 848 (thread    1) f\b\b\r",
      "STEP   329 / 848 (thread    4) f\b\b\r",
      "STEP   330 / 848 (thread    2) f\b\b\r",
      "STEP   331 / 848 (thread    3) f\b\b\r",
      "STEP   333 / 848 (thread    1) f\b\b\r",
      "STEP   334 / 848 (thread    1) f\b\b\r",
      "STEP   335 / 848 (thread    4) f\b\b\r",
      "STEP   336 / 848 (thread    3) f\b\b\r",
      "STEP   337 / 848 (thread    5) f\b\b\r",
      "STEP   338 / 848 (thread    2) f\b\b\r",
      "STEP   332 / 848 (thread    0) f\b\b\r",
      "STEP   339 / 848 (thread    1) f\b\b\r",
      "STEP   340 / 848 (thread    3) f\b\b\r",
      "STEP   341 / 848 (thread    2) f\b\b\r",
      "STEP   343 / 848 (thread    4) f\b\b\r",
      "STEP   344 / 848 (thread    1) f\b\b\r",
      "STEP   345 / 848 (thread    3) f\b\b\r",
      "STEP   346 / 848 (thread    2) f\b\b\r",
      "STEP   342 / 848 (thread    5) f\b\b\r",
      "STEP   347 / 848 (thread    0) f\b\b\r",
      "STEP   348 / 848 (thread    4) f\b\b\r",
      "STEP   349 / 848 (thread    1) f\b\b\r",
      "STEP   350 / 848 (thread    2) f\b\b\r",
      "STEP   351 / 848 (thread    3) f\b\b\r",
      "STEP   352 / 848 (thread    0) f\b\b\r",
      "STEP   353 / 848 (thread    5) f\b\b\r",
      "STEP   354 / 848 (thread    4) f\b\b\r",
      "STEP   355 / 848 (thread    1) f\b\b\r",
      "STEP   356 / 848 (thread    2) f\b\b\r",
      "STEP   357 / 848 (thread    4) f\b\b\r",
      "STEP   358 / 848 (thread    1) f\b\b\r",
      "STEP   359 / 848 (thread    3) f\b\b\r",
      "STEP   360 / 848 (thread    0) f\b\b\r",
      "STEP   361 / 848 (thread    5) f\b\b\r",
      "STEP   362 / 848 (thread    4) f\b\b\r",
      "STEP   364 / 848 (thread    3) f\b\b\r",
      "STEP   365 / 848 (thread    2) f\b\b\r",
      "STEP   363 / 848 (thread    1) f\b\b\r",
      "STEP   366 / 848 (thread    0) f\b\b\r",
      "STEP   367 / 848 (thread    5) f\b\b\r",
      "STEP   368 / 848 (thread    4) f\b\b\r",
      "STEP   369 / 848 (thread    2) f\b\b\r",
      "STEP   370 / 848 (thread    3) f\b\b\r",
      "STEP   371 / 848 (thread    1) f\b\b\r",
      "STEP   372 / 848 (thread    0) f\b\b\r",
      "STEP   373 / 848 (thread    4) f\b\b\r",
      "STEP   374 / 848 (thread    5) f\b\b\r",
      "STEP   375 / 848 (thread    2) f\b\b\r",
      "STEP   376 / 848 (thread    0) f\b\b\r",
      "STEP   377 / 848 (thread    3) f\b\b\r",
      "STEP   378 / 848 (thread    1) f\b\b\r",
      "STEP   379 / 848 (thread    4) f\b\b\r",
      "STEP   380 / 848 (thread    5) f\b\b\r",
      "STEP   381 / 848 (thread    2) f\b\b\r",
      "STEP   382 / 848 (thread    3) f\b\b\r",
      "STEP   383 / 848 (thread    0) f\b\b\r",
      "STEP   384 / 848 (thread    1) f\b\b\r",
      "STEP   385 / 848 (thread    0) f\b\b\r",
      "STEP   386 / 848 (thread    4) f\b\b\r",
      "STEP   387 / 848 (thread    3) f\b\b\r",
      "STEP   388 / 848 (thread    3) f\b\b\r",
      "STEP   389 / 848 (thread    2) f\b\b\r",
      "STEP   390 / 848 (thread    5) f\b\b\r",
      "STEP   391 / 848 (thread    1) f\b\b\r",
      "STEP   392 / 848 (thread    4) f\b\b\r",
      "STEP   393 / 848 (thread    3) f\b\b\r",
      "STEP   394 / 848 (thread    0) f\b\b\r",
      "STEP   395 / 848 (thread    1) f\b\b\r",
      "STEP   396 / 848 (thread    5) f\b\b\r",
      "STEP   397 / 848 (thread    2) f\b\b\r",
      "STEP   398 / 848 (thread    3) f\b\b\n",
      "Reallocating..done. *alloclen = 1867\n",
      "\r",
      "STEP   399 / 848 (thread    1) f\b\b\r",
      "STEP   400 / 848 (thread    4) f\b\b\r",
      "STEP   401 / 848 (thread    0) f\b\b\r",
      "STEP   402 / 848 (thread    2) f\b\b\r",
      "STEP   403 / 848 (thread    5) f\b\b\r",
      "STEP   404 / 848 (thread    3) f\b\b\r",
      "STEP   405 / 848 (thread    0) f\b\b\r",
      "STEP   406 / 848 (thread    4) f\b\b\r",
      "STEP   407 / 848 (thread    2) f\b\b\r",
      "STEP   408 / 848 (thread    3) f\b\b\r",
      "STEP   409 / 848 (thread    5) f\b\b\r",
      "STEP   410 / 848 (thread    0) f\b\b\r",
      "STEP   411 / 848 (thread    4) f\b\b\r",
      "STEP   412 / 848 (thread    2) f\b\b\r",
      "STEP   413 / 848 (thread    4) f\b\b\r",
      "STEP   414 / 848 (thread    1) f\b\b\r",
      "STEP   415 / 848 (thread    4) f\b\b\r",
      "STEP   416 / 848 (thread    3) f\b\b\r",
      "STEP   417 / 848 (thread    0) f\b\b\r",
      "STEP   418 / 848 (thread    2) f\b\b\r",
      "STEP   419 / 848 (thread    5) f\b\b\r",
      "STEP   420 / 848 (thread    1) f\b\b\r",
      "STEP   421 / 848 (thread    3) f\b\b\r",
      "STEP   422 / 848 (thread    4) f\b\b\r",
      "STEP   423 / 848 (thread    1) f\b\b\r",
      "STEP   424 / 848 (thread    2) f\b\b\r",
      "STEP   425 / 848 (thread    0) f\b\b\r",
      "STEP   426 / 848 (thread    4) f\b\b\r",
      "STEP   427 / 848 (thread    5) f\b\b\r",
      "STEP   428 / 848 (thread    3) f\b\b\r",
      "STEP   429 / 848 (thread    0) f\b\b\r",
      "STEP   430 / 848 (thread    1) f\b\b\r",
      "STEP   431 / 848 (thread    2) f\b\b\r",
      "STEP   432 / 848 (thread    4) f\b\b\r",
      "STEP   433 / 848 (thread    5) f\b\b\r",
      "STEP   434 / 848 (thread    0) f\b\b\r",
      "STEP   435 / 848 (thread    5) f\b\b\r",
      "STEP   436 / 848 (thread    3) f\b\b\r",
      "STEP   437 / 848 (thread    3) f\b\b\r",
      "STEP   438 / 848 (thread    5) f\b\b\r",
      "STEP   439 / 848 (thread    4) f\b\b\r",
      "STEP   440 / 848 (thread    3) f\b\b\r",
      "STEP   441 / 848 (thread    0) f\b\b\r",
      "STEP   442 / 848 (thread    1) f\b\b\r",
      "STEP   443 / 848 (thread    2) f\b\b\r",
      "STEP   444 / 848 (thread    5) f\b\b\r",
      "STEP   445 / 848 (thread    4) f\b\b\r",
      "STEP   446 / 848 (thread    2) f\b\b\r",
      "STEP   447 / 848 (thread    3) f\b\b\r",
      "STEP   448 / 848 (thread    0) f\b\b\r",
      "STEP   449 / 848 (thread    1) f\b\b\r",
      "STEP   450 / 848 (thread    4) f\b\b\r",
      "STEP   451 / 848 (thread    1) f\b\b\r",
      "STEP   452 / 848 (thread    0) f\b\b\r",
      "STEP   453 / 848 (thread    2) f\b\b\r",
      "STEP   454 / 848 (thread    3) f\b\b\r",
      "STEP   455 / 848 (thread    4) f\b\b\r",
      "STEP   456 / 848 (thread    3) f\b\b\r",
      "STEP   457 / 848 (thread    4) f\b\b\r",
      "STEP   458 / 848 (thread    0) f\b\b\r",
      "STEP   459 / 848 (thread    5) f\b\b\r",
      "STEP   460 / 848 (thread    2) f\b\b\r",
      "STEP   461 / 848 (thread    4) f\b\b\r",
      "STEP   462 / 848 (thread    1) f\b\b\r",
      "STEP   463 / 848 (thread    3) f\b\b\r",
      "STEP   464 / 848 (thread    0) f\b\b\r",
      "STEP   466 / 848 (thread    2) f\b\b\r",
      "STEP   467 / 848 (thread    4) f\b\b\r",
      "STEP   468 / 848 (thread    1) f\b\b\r",
      "STEP   469 / 848 (thread    3) f\b\b\r",
      "STEP   470 / 848 (thread    0) f\b\b\r",
      "STEP   465 / 848 (thread    5) f\b\b\r",
      "STEP   471 / 848 (thread    4) f\b\b\r",
      "STEP   472 / 848 (thread    1) f\b\b\r",
      "STEP   473 / 848 (thread    3) f\b\b\r",
      "STEP   474 / 848 (thread    2) f\b\b\r",
      "STEP   475 / 848 (thread    0) f\b\b\r",
      "STEP   476 / 848 (thread    2) f\b\b\r",
      "STEP   477 / 848 (thread    5) f\b\b\r",
      "STEP   478 / 848 (thread    4) f\b\b\r",
      "STEP   479 / 848 (thread    3) f\b\b\r",
      "STEP   480 / 848 (thread    1) f\b\b\r",
      "STEP   481 / 848 (thread    4) f\b\b\r",
      "STEP   482 / 848 (thread    5) f\b\b\r",
      "STEP   483 / 848 (thread    0) f\b\b\r",
      "STEP   484 / 848 (thread    2) f\b\b\r",
      "STEP   485 / 848 (thread    3) f\b\b\r",
      "STEP   486 / 848 (thread    3) f\b\b\r",
      "STEP   487 / 848 (thread    2) f\b\b\r",
      "STEP   488 / 848 (thread    1) f\b\b\r",
      "STEP   489 / 848 (thread    4) f\b\b\r",
      "STEP   490 / 848 (thread    2) f\b\b\r",
      "STEP   491 / 848 (thread    5) f\b\b\r",
      "STEP   492 / 848 (thread    0) f\b\b\r",
      "STEP   493 / 848 (thread    4) f\b\b\r",
      "STEP   494 / 848 (thread    3) f\b\b\r",
      "STEP   495 / 848 (thread    1) f\b\b\r",
      "STEP   496 / 848 (thread    4) f\b\b\r",
      "STEP   497 / 848 (thread    2) f\b\b\r",
      "STEP   498 / 848 (thread    4) f\b\b\r",
      "STEP   499 / 848 (thread    1) f\b\b\r",
      "STEP   500 / 848 (thread    0) f\b\b\r",
      "STEP   501 / 848 (thread    5) f\b\b\r",
      "STEP   601 / 848 (thread    1) f\b\b\r",
      "STEP   701 / 848 (thread    2) f\b\b"
     ]
    },
    {
     "name": "stderr",
     "output_type": "stream",
     "text": [
      "\r",
      "STEP   801 / 848 (thread    5) f\b\b\n",
      "done.\n",
      "\n",
      "Making a distance matrix from msa.. \n",
      "\r",
      "    0 / 849 (thread    0)\r",
      "  100 / 849 (thread    0)\r",
      "  200 / 849 (thread    0)\r",
      "  300 / 849 (thread    3)\r",
      "  400 / 849 (thread    3)\r",
      "  500 / 849 (thread    0)\r",
      "  600 / 849 (thread    4)\r",
      "  700 / 849 (thread    1)\r",
      "  800 / 849 (thread    1)\n",
      "done.\n",
      "\n",
      "Constructing a UPGMA tree (efffree=1) ... \n",
      "\r",
      "    0 / 849\r",
      "   10 / 849\r",
      "   20 / 849\r",
      "   30 / 849\r",
      "   40 / 849\r",
      "   50 / 849\r",
      "   60 / 849\r",
      "   70 / 849\r",
      "   80 / 849\r",
      "   90 / 849\r",
      "  100 / 849\r",
      "  110 / 849\r",
      "  120 / 849\r",
      "  130 / 849\r",
      "  140 / 849\r",
      "  150 / 849\r",
      "  160 / 849\r",
      "  170 / 849\r",
      "  180 / 849\r",
      "  190 / 849\r",
      "  200 / 849\r",
      "  210 / 849\r",
      "  220 / 849\r",
      "  230 / 849\r",
      "  240 / 849\r",
      "  250 / 849\r",
      "  260 / 849\r",
      "  270 / 849\r",
      "  280 / 849\r",
      "  290 / 849\r",
      "  300 / 849\r",
      "  310 / 849\r",
      "  320 / 849\r",
      "  330 / 849\r",
      "  340 / 849\r",
      "  350 / 849\r",
      "  360 / 849\r",
      "  370 / 849\r",
      "  380 / 849\r",
      "  390 / 849\r",
      "  400 / 849\r",
      "  410 / 849\r",
      "  420 / 849\r",
      "  430 / 849\r",
      "  440 / 849\r",
      "  450 / 849\r",
      "  460 / 849\r",
      "  470 / 849\r",
      "  480 / 849\r",
      "  490 / 849\r",
      "  500 / 849\r",
      "  510 / 849\r",
      "  520 / 849\r",
      "  530 / 849\r",
      "  540 / 849\r",
      "  550 / 849\r",
      "  560 / 849\r",
      "  570 / 849\r",
      "  580 / 849\r",
      "  590 / 849\r",
      "  600 / 849\r",
      "  610 / 849\r",
      "  620 / 849\r",
      "  630 / 849\r",
      "  640 / 849\r",
      "  650 / 849\r",
      "  660 / 849\r",
      "  670 / 849\r",
      "  680 / 849\r",
      "  690 / 849\r",
      "  700 / 849\r",
      "  710 / 849\r",
      "  720 / 849\r",
      "  730 / 849\r",
      "  740 / 849\r",
      "  750 / 849\r",
      "  760 / 849\r",
      "  770 / 849\r",
      "  780 / 849\r",
      "  790 / 849\r",
      "  800 / 849\r",
      "  810 / 849\r",
      "  820 / 849\r",
      "  830 / 849\r",
      "  840 / 849\n",
      "done.\n",
      "\n",
      "Progressive alignment 2/2... \n",
      "\r",
      "STEP     2 / 848 (thread    2) f\b\b\r",
      "STEP     3 / 848 (thread    1) f\b\b\r",
      "STEP     1 / 848 (thread    0) f\b\b\r",
      "STEP     4 / 848 (thread    5) f\b\b\r",
      "STEP     6 / 848 (thread    3) f\b\b\r",
      "STEP     5 / 848 (thread    4) f\b\b\r",
      "STEP     7 / 848 (thread    4) f\b\b\r",
      "STEP     8 / 848 (thread    0) f\b\b\r",
      "STEP     9 / 848 (thread    5) f\b\b\r",
      "STEP    10 / 848 (thread    2) f\b\b\r",
      "STEP    11 / 848 (thread    3) f\b\b\r",
      "STEP    12 / 848 (thread    1) f\b\b\r",
      "STEP    13 / 848 (thread    4) f\b\b\r",
      "STEP    14 / 848 (thread    0) f\b\b\r",
      "STEP    15 / 848 (thread    5) f\b\b\r",
      "STEP    16 / 848 (thread    2) f\b\b\r",
      "STEP    17 / 848 (thread    3) f\b\b\r",
      "STEP    18 / 848 (thread    1) f\b\b\r",
      "STEP    19 / 848 (thread    0) f\b\b\r",
      "STEP    20 / 848 (thread    4) f\b\b\r",
      "STEP    21 / 848 (thread    5) f\b\b\r",
      "STEP    22 / 848 (thread    2) f\b\b\r",
      "STEP    23 / 848 (thread    3) f\b\b\r",
      "STEP    24 / 848 (thread    1) f\b\b\r",
      "STEP    25 / 848 (thread    0) f\b\b\r",
      "STEP    26 / 848 (thread    4) f\b\b\r",
      "STEP    27 / 848 (thread    5) f\b\b\r",
      "STEP    28 / 848 (thread    2) f\b\b\r",
      "STEP    29 / 848 (thread    3) f\b\b\r",
      "STEP    30 / 848 (thread    1) f\b\b"
     ]
    },
    {
     "name": "stderr",
     "output_type": "stream",
     "text": [
      "\r",
      "STEP    31 / 848 (thread    0) f\b\b\r",
      "STEP    32 / 848 (thread    4) f\b\b\r",
      "STEP    33 / 848 (thread    5) f\b\b\r",
      "STEP    34 / 848 (thread    2) f\b\b\r",
      "STEP    35 / 848 (thread    3) f\b\b\r",
      "STEP    36 / 848 (thread    1) f\b\b\r",
      "STEP    37 / 848 (thread    4) f\b\b\r",
      "STEP    38 / 848 (thread    0) f\b\b\r",
      "STEP    39 / 848 (thread    2) f\b\b\r",
      "STEP    40 / 848 (thread    5) f\b\b\r",
      "STEP    41 / 848 (thread    3) f\b\b\r",
      "STEP    42 / 848 (thread    1) f\b\b\r",
      "STEP    43 / 848 (thread    4) f\b\b\r",
      "STEP    44 / 848 (thread    0) f\b\b\r",
      "STEP    45 / 848 (thread    2) f\b\b\r",
      "STEP    46 / 848 (thread    5) f\b\b\r",
      "STEP    47 / 848 (thread    3) f\b\b\r",
      "STEP    48 / 848 (thread    1) f\b\b\r",
      "STEP    49 / 848 (thread    0) f\b\b\r",
      "STEP    50 / 848 (thread    4) f\b\b\r",
      "STEP    51 / 848 (thread    2) f\b\b\r",
      "STEP    52 / 848 (thread    3) f\b\b\r",
      "STEP    53 / 848 (thread    5) f\b\b\r",
      "STEP    54 / 848 (thread    1) f\b\b\r",
      "STEP    55 / 848 (thread    4) f\b\b\r",
      "STEP    56 / 848 (thread    0) f\b\b\r",
      "STEP    57 / 848 (thread    2) f\b\b\r",
      "STEP    58 / 848 (thread    3) f\b\b\r",
      "STEP    59 / 848 (thread    1) f\b\b\r",
      "STEP    60 / 848 (thread    5) f\b\b\r",
      "STEP    61 / 848 (thread    4) f\b\b\r",
      "STEP    62 / 848 (thread    0) f\b\b\r",
      "STEP    63 / 848 (thread    2) f\b\b\r",
      "STEP    64 / 848 (thread    3) f\b\b\r",
      "STEP    65 / 848 (thread    1) f\b\b\r",
      "STEP    66 / 848 (thread    5) f\b\b\r",
      "STEP    67 / 848 (thread    4) f\b\b\r",
      "STEP    68 / 848 (thread    0) f\b\b\r",
      "STEP    69 / 848 (thread    2) f\b\b\r",
      "STEP    70 / 848 (thread    3) f\b\b\r",
      "STEP    71 / 848 (thread    5) f\b\b\r",
      "STEP    72 / 848 (thread    1) f\b\b\r",
      "STEP    73 / 848 (thread    4) f\b\b\r",
      "STEP    74 / 848 (thread    0) f\b\b\r",
      "STEP    75 / 848 (thread    2) f\b\b\r",
      "STEP    76 / 848 (thread    3) f\b\b\r",
      "STEP    77 / 848 (thread    5) f\b\b\r",
      "STEP    78 / 848 (thread    1) f\b\b\r",
      "STEP    79 / 848 (thread    0) f\b\b\r",
      "STEP    80 / 848 (thread    4) f\b\b\r",
      "STEP    81 / 848 (thread    2) f\b\b\r",
      "STEP    82 / 848 (thread    3) f\b\b\r",
      "STEP    83 / 848 (thread    5) f\b\b\r",
      "STEP    84 / 848 (thread    1) f\b\b\r",
      "STEP    85 / 848 (thread    4) f\b\b\r",
      "STEP    86 / 848 (thread    0) f\b\b\r",
      "STEP    87 / 848 (thread    2) f\b\b\r",
      "STEP    88 / 848 (thread    3) f\b\b\r",
      "STEP    89 / 848 (thread    5) f\b\b\r",
      "STEP    90 / 848 (thread    1) f\b\b\r",
      "STEP    91 / 848 (thread    4) f\b\b\r",
      "STEP    92 / 848 (thread    0) f\b\b\r",
      "STEP    93 / 848 (thread    2) f\b\b\r",
      "STEP    94 / 848 (thread    3) f\b\b\r",
      "STEP    95 / 848 (thread    1) f\b\b\r",
      "STEP    96 / 848 (thread    5) f\b\b\r",
      "STEP    97 / 848 (thread    4) f\b\b\r",
      "STEP    98 / 848 (thread    0) f\b\b\r",
      "STEP    99 / 848 (thread    2) f\b\b\r",
      "STEP   100 / 848 (thread    3) f\b\b\r",
      "STEP   101 / 848 (thread    1) f\b\b\r",
      "STEP   102 / 848 (thread    5) f\b\b\r",
      "STEP   103 / 848 (thread    4) f\b\b\r",
      "STEP   104 / 848 (thread    0) f\b\b\r",
      "STEP   105 / 848 (thread    2) f\b\b\r",
      "STEP   106 / 848 (thread    3) f\b\b\r",
      "STEP   107 / 848 (thread    1) f\b\b\r",
      "STEP   108 / 848 (thread    5) f\b\b\r",
      "STEP   109 / 848 (thread    3) f\b\b\r",
      "STEP   110 / 848 (thread    1) f\b\b\r",
      "STEP   111 / 848 (thread    5) f\b\b\r",
      "STEP   112 / 848 (thread    3) f\b\b\r",
      "STEP   113 / 848 (thread    1) f\b\b\r",
      "STEP   114 / 848 (thread    5) f\b\b\r",
      "STEP   115 / 848 (thread    4) f\b\b\r",
      "STEP   116 / 848 (thread    0) f\b\b\r",
      "STEP   117 / 848 (thread    2) f\b\b\r",
      "STEP   118 / 848 (thread    3) f\b\b\r",
      "STEP   119 / 848 (thread    1) f\b\b\r",
      "STEP   120 / 848 (thread    5) f\b\b\r",
      "STEP   121 / 848 (thread    4) f\b\b\r",
      "STEP   122 / 848 (thread    2) f\b\b\r",
      "STEP   123 / 848 (thread    0) f\b\b\r",
      "STEP   124 / 848 (thread    3) f\b\b\r",
      "STEP   125 / 848 (thread    1) f\b\b\r",
      "STEP   126 / 848 (thread    4) f\b\b\r",
      "STEP   127 / 848 (thread    5) f\b\b\r",
      "STEP   128 / 848 (thread    4) f\b\b\r",
      "STEP   129 / 848 (thread    5) f\b\b\r",
      "STEP   130 / 848 (thread    2) f\b\b\r",
      "STEP   131 / 848 (thread    0) f\b\b\r",
      "STEP   132 / 848 (thread    4) f\b\b\r",
      "STEP   133 / 848 (thread    5) f\b\b\r",
      "STEP   134 / 848 (thread    3) f\b\b\r",
      "STEP   135 / 848 (thread    1) f\b\b\r",
      "STEP   136 / 848 (thread    2) f\b\b\r",
      "STEP   137 / 848 (thread    0) f\b\b\r",
      "STEP   138 / 848 (thread    4) f\b\b\r",
      "STEP   139 / 848 (thread    5) f\b\b\r",
      "STEP   140 / 848 (thread    3) f\b\b\r",
      "STEP   141 / 848 (thread    1) f\b\b\r",
      "STEP   142 / 848 (thread    2) f\b\b\r",
      "STEP   143 / 848 (thread    0) f\b\b\r",
      "STEP   144 / 848 (thread    4) f\b\b\r",
      "STEP   145 / 848 (thread    5) f\b\b\r",
      "STEP   146 / 848 (thread    3) f\b\b\r",
      "STEP   147 / 848 (thread    1) f\b\b\r",
      "STEP   148 / 848 (thread    0) f\b\b\r",
      "STEP   149 / 848 (thread    2) f\b\b\r",
      "STEP   150 / 848 (thread    4) f\b\b\r",
      "STEP   151 / 848 (thread    3) f\b\b\r",
      "STEP   152 / 848 (thread    5) f\b\b\r",
      "STEP   153 / 848 (thread    1) f\b\b\r",
      "STEP   154 / 848 (thread    2) f\b\b\r",
      "STEP   155 / 848 (thread    0) f\b\b\r",
      "STEP   156 / 848 (thread    4) f\b\b\r",
      "STEP   157 / 848 (thread    3) f\b\b\r",
      "STEP   158 / 848 (thread    1) f\b\b\r",
      "STEP   159 / 848 (thread    5) f\b\b\r",
      "STEP   160 / 848 (thread    2) f\b\b\r",
      "STEP   161 / 848 (thread    0) f\b\b\r",
      "STEP   162 / 848 (thread    4) f\b\b\r",
      "STEP   163 / 848 (thread    1) f\b\b\r",
      "STEP   164 / 848 (thread    3) f\b\b\r",
      "STEP   165 / 848 (thread    5) f\b\b\r",
      "STEP   166 / 848 (thread    2) f\b\b\r",
      "STEP   167 / 848 (thread    0) f\b\b\r",
      "STEP   168 / 848 (thread    4) f\b\b\r",
      "STEP   169 / 848 (thread    1) f\b\b\r",
      "STEP   170 / 848 (thread    3) f\b\b\r",
      "STEP   171 / 848 (thread    5) f\b\b\r",
      "STEP   172 / 848 (thread    2) f\b\b\r",
      "STEP   173 / 848 (thread    0) f\b\b\r",
      "STEP   174 / 848 (thread    4) f\b\b\r",
      "STEP   175 / 848 (thread    1) f\b\b\r",
      "STEP   176 / 848 (thread    3) f\b\b\r",
      "STEP   177 / 848 (thread    5) f\b\b\r",
      "STEP   178 / 848 (thread    2) f\b\b\r",
      "STEP   179 / 848 (thread    0) f\b\b\r",
      "STEP   180 / 848 (thread    4) f\b\b\r",
      "STEP   182 / 848 (thread    1) f\b\b\r",
      "STEP   181 / 848 (thread    3) f\b\b\r",
      "STEP   186 / 848 (thread    4) f\b\b\r",
      "STEP   183 / 848 (thread    5) f\b\b\r",
      "STEP   188 / 848 (thread    3) f\b\b\r",
      "STEP   189 / 848 (thread    4) f\b\b\r",
      "STEP   187 / 848 (thread    1) f\b\b\r",
      "STEP   190 / 848 (thread    3) f\b\b\r",
      "STEP   191 / 848 (thread    4) f\b\b\r",
      "STEP   192 / 848 (thread    1) f\b\b\r",
      "STEP   193 / 848 (thread    3) f\b\b\r",
      "STEP   194 / 848 (thread    4) f\b\b\r",
      "STEP   195 / 848 (thread    5) f\b\b\r",
      "STEP   184 / 848 (thread    2) f\b\b\r",
      "STEP   196 / 848 (thread    1) f\b\b\r",
      "STEP   197 / 848 (thread    3) f\b\b\r",
      "STEP   198 / 848 (thread    4) f\b\b\r",
      "STEP   199 / 848 (thread    5) f\b\b\r",
      "STEP   200 / 848 (thread    3) f\b\b\r",
      "STEP   201 / 848 (thread    4) f\b\b\r",
      "STEP   202 / 848 (thread    5) f\b\b\r",
      "STEP   203 / 848 (thread    2) f\b\b\r",
      "STEP   185 / 848 (thread    0) f\b\b\r",
      "STEP   204 / 848 (thread    1) f\b\b\r",
      "STEP   205 / 848 (thread    3) f\b\b\r",
      "STEP   206 / 848 (thread    4) f\b\b\r",
      "STEP   207 / 848 (thread    5) f\b\b\r",
      "STEP   208 / 848 (thread    2) f\b\b\r",
      "STEP   209 / 848 (thread    1) f\b\b\r",
      "STEP   210 / 848 (thread    0) f\b\b\r",
      "STEP   212 / 848 (thread    1) f\b\b\r",
      "STEP   213 / 848 (thread    0) f\b\b\r",
      "STEP   211 / 848 (thread    3) f\b\b\r",
      "STEP   214 / 848 (thread    4) f\b\b\r",
      "STEP   215 / 848 (thread    5) f\b\b\r",
      "STEP   216 / 848 (thread    2) f\b\b\r",
      "STEP   217 / 848 (thread    2) f\b\b\r",
      "STEP   218 / 848 (thread    3) f\b\b\r",
      "STEP   219 / 848 (thread    1) f\b\b\r",
      "STEP   220 / 848 (thread    0) f\b\b\r",
      "STEP   221 / 848 (thread    4) f\b\b\r",
      "STEP   222 / 848 (thread    2) f\b\b\r",
      "STEP   223 / 848 (thread    3) f\b\b\r",
      "STEP   224 / 848 (thread    1) f\b\b\r",
      "STEP   225 / 848 (thread    5) f\b\b\r",
      "STEP   226 / 848 (thread    1) f\b\b\r",
      "STEP   227 / 848 (thread    5) f\b\b\r",
      "STEP   228 / 848 (thread    0) f\b\b\r",
      "STEP   229 / 848 (thread    5) f\b\b\r",
      "STEP   230 / 848 (thread    4) f\b\b\r",
      "STEP   231 / 848 (thread    2) f\b\b\r",
      "STEP   232 / 848 (thread    3) f\b\b\r",
      "STEP   233 / 848 (thread    0) f\b\b\r",
      "STEP   234 / 848 (thread    5) f\b\b\r",
      "STEP   235 / 848 (thread    4) f\b\b\r",
      "STEP   236 / 848 (thread    1) f\b\b\r",
      "STEP   237 / 848 (thread    4) f\b\b\r",
      "STEP   238 / 848 (thread    2) f\b\b\r",
      "STEP   239 / 848 (thread    3) f\b\b\r",
      "STEP   240 / 848 (thread    0) f\b\b\r",
      "STEP   241 / 848 (thread    5) f\b\b\r",
      "STEP   242 / 848 (thread    1) f\b\b\r",
      "STEP   243 / 848 (thread    0) f\b\b\r",
      "STEP   244 / 848 (thread    4) f\b\b\r",
      "STEP   245 / 848 (thread    5) f\b\b\r",
      "STEP   246 / 848 (thread    0) f\b\b\r",
      "STEP   247 / 848 (thread    2) f\b\b\r",
      "STEP   248 / 848 (thread    3) f\b\b\r",
      "STEP   249 / 848 (thread    0) f\b\b\r",
      "STEP   250 / 848 (thread    2) f\b\b\r",
      "STEP   251 / 848 (thread    3) f\b\b\r",
      "STEP   252 / 848 (thread    1) f\b\b\r",
      "STEP   253 / 848 (thread    4) f\b\b\r",
      "STEP   254 / 848 (thread    5) f\b\b\r",
      "STEP   255 / 848 (thread    0) f\b\b\r",
      "STEP   256 / 848 (thread    2) f\b\b\r",
      "STEP   257 / 848 (thread    3) f\b\b\r",
      "STEP   258 / 848 (thread    1) f\b\b\r",
      "STEP   259 / 848 (thread    4) f\b\b\r",
      "STEP   260 / 848 (thread    5) f\b\b\r",
      "STEP   261 / 848 (thread    0) f\b\b\r",
      "STEP   262 / 848 (thread    2) f\b\b\r",
      "STEP   263 / 848 (thread    3) f\b\b\r",
      "STEP   264 / 848 (thread    1) f\b\b\r",
      "STEP   265 / 848 (thread    4) f\b\b\r",
      "STEP   266 / 848 (thread    5) f\b\b\r",
      "STEP   267 / 848 (thread    0) f\b\b\r",
      "STEP   268 / 848 (thread    2) f\b\b\r",
      "STEP   269 / 848 (thread    3) f\b\b\r",
      "STEP   270 / 848 (thread    1) f\b\b\r",
      "STEP   271 / 848 (thread    4) f\b\b\r",
      "STEP   272 / 848 (thread    5) f\b\b\r",
      "STEP   273 / 848 (thread    0) f\b\b\r",
      "STEP   274 / 848 (thread    2) f\b\b\r",
      "STEP   275 / 848 (thread    3) f\b\b\r",
      "STEP   276 / 848 (thread    1) f\b\b\r",
      "STEP   277 / 848 (thread    4) f\b\b\r",
      "STEP   278 / 848 (thread    5) f\b\b\r",
      "STEP   279 / 848 (thread    0) f\b\b\r",
      "STEP   280 / 848 (thread    2) f\b\b\r",
      "STEP   282 / 848 (thread    1) f\b\b\r",
      "STEP   281 / 848 (thread    3) f\b\b\r",
      "STEP   285 / 848 (thread    0) f\b\b\r",
      "STEP   286 / 848 (thread    2) f\b\b\r",
      "STEP   284 / 848 (thread    5) f\b\b\r",
      "STEP   287 / 848 (thread    1) f\b\b\r",
      "STEP   283 / 848 (thread    4) f\b\b\r",
      "STEP   288 / 848 (thread    3) f\b\b\r",
      "STEP   289 / 848 (thread    1) f\b\b\r",
      "STEP   290 / 848 (thread    3) f\b\b\r",
      "STEP   291 / 848 (thread    0) f\b\b\r",
      "STEP   292 / 848 (thread    2) f\b\b\r",
      "STEP   293 / 848 (thread    5) f\b\b\r",
      "STEP   294 / 848 (thread    1) f\b\b\r",
      "STEP   295 / 848 (thread    4) f\b\b\r",
      "STEP   296 / 848 (thread    3) f\b\b\r",
      "STEP   297 / 848 (thread    0) f\b\b\r",
      "STEP   298 / 848 (thread    2) f\b\b\r",
      "STEP   299 / 848 (thread    4) f\b\b\r",
      "STEP   300 / 848 (thread    1) f\b\b\r",
      "STEP   301 / 848 (thread    5) f\b\b\r",
      "STEP   302 / 848 (thread    3) f\b\b\r",
      "STEP   303 / 848 (thread    0) f\b\b\r",
      "STEP   304 / 848 (thread    2) f\b\b\r",
      "STEP   305 / 848 (thread    1) f\b\b\r",
      "STEP   306 / 848 (thread    3) f\b\b\r",
      "STEP   307 / 848 (thread    4) f\b\b\r",
      "STEP   308 / 848 (thread    5) f\b\b\r",
      "STEP   309 / 848 (thread    0) f\b\b\r",
      "STEP   310 / 848 (thread    2) f\b\b\r",
      "STEP   311 / 848 (thread    1) f\b\b\r",
      "STEP   312 / 848 (thread    2) f\b\b\r",
      "STEP   313 / 848 (thread    1) f\b\b\r",
      "STEP   314 / 848 (thread    3) f\b\b\r",
      "STEP   315 / 848 (thread    4) f\b\b\r",
      "STEP   316 / 848 (thread    5) f\b\b\r",
      "STEP   317 / 848 (thread    0) f\b\b\r",
      "STEP   318 / 848 (thread    4) f\b\b\r",
      "STEP   319 / 848 (thread    5) f\b\b\r",
      "STEP   320 / 848 (thread    0) f\b\b\r",
      "STEP   321 / 848 (thread    2) f\b\b\r",
      "STEP   322 / 848 (thread    4) f\b\b\r",
      "STEP   323 / 848 (thread    1) f\b\b\r",
      "STEP   324 / 848 (thread    3) f\b\b\r",
      "STEP   326 / 848 (thread    5) f\b\b\r",
      "STEP   328 / 848 (thread    4) f\b\b\r",
      "STEP   325 / 848 (thread    2) f\b\b\r",
      "STEP   329 / 848 (thread    3) f\b\b\r",
      "STEP   330 / 848 (thread    1) f\b\b\r",
      "STEP   327 / 848 (thread    0) f\b\b\r",
      "STEP   331 / 848 (thread    4) f\b\b\r",
      "STEP   332 / 848 (thread    5) f\b\b\r",
      "STEP   333 / 848 (thread    2) f\b\b\r",
      "STEP   334 / 848 (thread    3) f\b\b\r",
      "STEP   335 / 848 (thread    5) f\b\b\r",
      "STEP   336 / 848 (thread    1) f\b\b\r",
      "STEP   337 / 848 (thread    0) f\b\b\r",
      "STEP   338 / 848 (thread    4) f\b\b\r",
      "STEP   339 / 848 (thread    5) f\b\b\r",
      "STEP   340 / 848 (thread    1) f\b\b\r",
      "STEP   341 / 848 (thread    0) f\b\b\r",
      "STEP   342 / 848 (thread    2) f\b\b\r",
      "STEP   343 / 848 (thread    3) f\b\b\r",
      "STEP   344 / 848 (thread    0) f\b\b\r",
      "STEP   345 / 848 (thread    4) f\b\b\r",
      "STEP   346 / 848 (thread    2) f\b\b\r",
      "STEP   347 / 848 (thread    5) f\b\b\r",
      "STEP   349 / 848 (thread    0) f\b\b\r",
      "STEP   350 / 848 (thread    4) f\b\b\r",
      "STEP   351 / 848 (thread    3) f\b\b\r",
      "STEP   352 / 848 (thread    0) f\b\b\r",
      "STEP   353 / 848 (thread    4) f\b\b\r",
      "STEP   354 / 848 (thread    2) f\b\b\r",
      "STEP   348 / 848 (thread    1) f\b\b\r",
      "STEP   355 / 848 (thread    5) f\b\b\r",
      "STEP   356 / 848 (thread    0) f\b\b\r",
      "STEP   357 / 848 (thread    3) f\b\b\r",
      "STEP   358 / 848 (thread    4) f\b\b\r",
      "STEP   359 / 848 (thread    2) f\b\b\r",
      "STEP   360 / 848 (thread    3) f\b\b\r",
      "STEP   361 / 848 (thread    3) f\b\b\r",
      "STEP   362 / 848 (thread    5) f\b\b\r",
      "STEP   363 / 848 (thread    1) f\b\b\r",
      "STEP   364 / 848 (thread    4) f\b\b\r",
      "STEP   365 / 848 (thread    0) f\b\b\r",
      "STEP   366 / 848 (thread    3) f\b\b\r",
      "STEP   368 / 848 (thread    2) f\b\b\r",
      "STEP   369 / 848 (thread    1) f\b\b\r",
      "STEP   370 / 848 (thread    0) f\b\b\r",
      "STEP   371 / 848 (thread    5) f\b\b\r",
      "STEP   372 / 848 (thread    2) f\b\b\r",
      "STEP   367 / 848 (thread    4) f\b\b\r",
      "STEP   374 / 848 (thread    0) f\b\b\r",
      "STEP   375 / 848 (thread    5) f\b\b\r",
      "STEP   376 / 848 (thread    1) f\b\b\r",
      "STEP   373 / 848 (thread    3) f\b\b\r",
      "STEP   377 / 848 (thread    0) f\b\b\r",
      "STEP   378 / 848 (thread    2) f\b\b\r",
      "STEP   379 / 848 (thread    4) f\b\b\r",
      "STEP   380 / 848 (thread    0) f\b\b\r",
      "STEP   381 / 848 (thread    1) f\b\b\r",
      "STEP   382 / 848 (thread    5) f\b\b\r",
      "STEP   383 / 848 (thread    3) f\b\b\r",
      "STEP   384 / 848 (thread    2) f\b\b\r",
      "STEP   385 / 848 (thread    4) f\b\b\r",
      "STEP   386 / 848 (thread    1) f\b\b\r",
      "STEP   387 / 848 (thread    0) f\b\b\r",
      "STEP   388 / 848 (thread    5) f\b\b\r",
      "STEP   389 / 848 (thread    4) f\b\b\r",
      "STEP   390 / 848 (thread    1) f\b\b\r",
      "STEP   391 / 848 (thread    2) f\b\b\r",
      "STEP   392 / 848 (thread    0) f\b\b\r",
      "STEP   393 / 848 (thread    3) f\b\b\r",
      "STEP   394 / 848 (thread    1) f\b\b\r",
      "STEP   395 / 848 (thread    5) f\b\b\r",
      "STEP   396 / 848 (thread    3) f\b\b\r",
      "STEP   397 / 848 (thread    1) f\b\b\r",
      "STEP   398 / 848 (thread    2) f\b\b\r",
      "STEP   399 / 848 (thread    4) f\b\b\r",
      "STEP   400 / 848 (thread    0) f\b\b\r",
      "STEP   401 / 848 (thread    5) f\b\b\r",
      "STEP   402 / 848 (thread    1) f\b\b\r",
      "STEP   403 / 848 (thread    4) f\b\b\r",
      "STEP   404 / 848 (thread    3) f\b\b\r",
      "STEP   405 / 848 (thread    2) f\b\b\r",
      "STEP   407 / 848 (thread    5) f\b\b\r",
      "STEP   408 / 848 (thread    0) f\b\b\r",
      "STEP   406 / 848 (thread    4) f\b\b\r",
      "STEP   409 / 848 (thread    1) f\b\b\r",
      "STEP   410 / 848 (thread    3) f\b\b\r",
      "STEP   411 / 848 (thread    0) f\b\b\r",
      "STEP   412 / 848 (thread    2) f\b\b\r",
      "STEP   413 / 848 (thread    1) f\b\b\r",
      "STEP   414 / 848 (thread    5) f\b\b\r",
      "STEP   415 / 848 (thread    3) f\b\b\r",
      "STEP   416 / 848 (thread    4) f\b\b\r",
      "STEP   417 / 848 (thread    2) f\b\b\r",
      "STEP   418 / 848 (thread    0) f\b\b\r",
      "STEP   419 / 848 (thread    1) f\b\b\r",
      "STEP   420 / 848 (thread    5) f\b\b\r",
      "STEP   422 / 848 (thread    4) f\b\b\r",
      "STEP   423 / 848 (thread    2) f\b\b\r",
      "STEP   421 / 848 (thread    3) f\b\b\r",
      "STEP   424 / 848 (thread    0) f\b\b\r",
      "STEP   425 / 848 (thread    2) f\b\b\r",
      "STEP   426 / 848 (thread    4) f\b\b\r",
      "STEP   427 / 848 (thread    1) f\b\b\r",
      "STEP   428 / 848 (thread    0) f\b\b\r",
      "STEP   429 / 848 (thread    3) f\b\b\r",
      "STEP   430 / 848 (thread    5) f\b\b\r",
      "STEP   431 / 848 (thread    4) f\b\b\r",
      "STEP   432 / 848 (thread    2) f\b\b\r",
      "STEP   433 / 848 (thread    5) f\b\b\r",
      "STEP   435 / 848 (thread    0) f\b\b\r",
      "STEP   436 / 848 (thread    3) f\b\b\r",
      "STEP   437 / 848 (thread    4) f\b\b\r",
      "STEP   434 / 848 (thread    1) f\b\b\r",
      "STEP   439 / 848 (thread    2) f\b\b\r",
      "STEP   440 / 848 (thread    5) f\b\b\r",
      "STEP   441 / 848 (thread    0) f\b\b\r",
      "STEP   442 / 848 (thread    2) f\b\b\r",
      "STEP   438 / 848 (thread    3) f\b\b\r",
      "STEP   443 / 848 (thread    4) f\b\b\r",
      "STEP   444 / 848 (thread    1) f\b\b\r",
      "STEP   445 / 848 (thread    4) f\b\b\r",
      "STEP   446 / 848 (thread    0) f\b\b\r",
      "STEP   447 / 848 (thread    2) f\b\b\r",
      "STEP   448 / 848 (thread    1) f\b\b\r",
      "STEP   449 / 848 (thread    5) f\b\b\r",
      "STEP   450 / 848 (thread    3) f\b\b\r",
      "STEP   451 / 848 (thread    0) f\b\b\r",
      "STEP   452 / 848 (thread    4) f\b\b\r",
      "STEP   453 / 848 (thread    0) f\b\b\r",
      "STEP   454 / 848 (thread    5) f\b\b\r",
      "STEP   455 / 848 (thread    2) f\b\b\r",
      "STEP   456 / 848 (thread    1) f\b\b\r",
      "STEP   457 / 848 (thread    2) f\b\b\r",
      "STEP   458 / 848 (thread    3) f\b\b\r",
      "STEP   459 / 848 (thread    0) f\b\b\r",
      "STEP   460 / 848 (thread    4) f\b\b\r",
      "STEP   461 / 848 (thread    5) f\b\b\r",
      "STEP   462 / 848 (thread    1) f\b\b\r",
      "STEP   463 / 848 (thread    0) f\b\b\r",
      "STEP   464 / 848 (thread    4) f\b\b\r",
      "STEP   465 / 848 (thread    3) f\b\b\r",
      "STEP   466 / 848 (thread    2) f\b\b\r",
      "STEP   467 / 848 (thread    2) f\b\b\r",
      "STEP   468 / 848 (thread    0) f\b\b\r",
      "STEP   469 / 848 (thread    5) f\b\b\r",
      "STEP   471 / 848 (thread    3) f\b\b\r",
      "STEP   470 / 848 (thread    4) f\b\b\r",
      "STEP   472 / 848 (thread    1) f\b\b\r",
      "STEP   473 / 848 (thread    5) f\b\b\r",
      "STEP   474 / 848 (thread    2) f\b\b\r",
      "STEP   475 / 848 (thread    0) f\b\b\r",
      "STEP   476 / 848 (thread    3) f\b\b\r",
      "STEP   477 / 848 (thread    4) f\b\b\r",
      "STEP   478 / 848 (thread    1) f\b\b\r",
      "STEP   479 / 848 (thread    5) f\b\b\r",
      "STEP   480 / 848 (thread    2) f\b\b\r",
      "STEP   481 / 848 (thread    0) f\b\b\r",
      "STEP   482 / 848 (thread    3) f\b\b\r",
      "STEP   483 / 848 (thread    4) f\b\b\r",
      "STEP   484 / 848 (thread    1) f\b\b\r",
      "STEP   485 / 848 (thread    2) f\b\b\r",
      "STEP   487 / 848 (thread    1) f\b\b\r",
      "STEP   488 / 848 (thread    0) f\b\b\r",
      "STEP   486 / 848 (thread    5) f\b\b\r",
      "STEP   489 / 848 (thread    3) f\b\b\r",
      "STEP   491 / 848 (thread    1) f\b\b\r",
      "STEP   492 / 848 (thread    4) f\b\b\r",
      "STEP   493 / 848 (thread    5) f\b\b\r",
      "STEP   494 / 848 (thread    3) f\b\b\r",
      "STEP   495 / 848 (thread    0) f\b\b\r",
      "STEP   490 / 848 (thread    2) f\b\b\r",
      "STEP   496 / 848 (thread    4) f\b\b\r",
      "STEP   497 / 848 (thread    5) f\b\b\r",
      "STEP   498 / 848 (thread    3) f\b\b\r",
      "STEP   499 / 848 (thread    5) f\b\b\r",
      "STEP   500 / 848 (thread    0) f\b\b\r",
      "STEP   501 / 848 (thread    2) f\b\b\n",
      "Reallocating..done. *alloclen = 1867\n",
      "\r",
      "STEP   601 / 848 (thread    4) f\b\b\r",
      "STEP   701 / 848 (thread    1) f\b\b\r",
      "STEP   801 / 848 (thread    0) f\b\b"
     ]
    },
    {
     "name": "stderr",
     "output_type": "stream",
     "text": [
      "\n",
      "done.\n",
      "\n",
      "disttbfast (nuc) Version 7.520\n",
      "alg=A, model=DNA200 (2), 1.53 (4.59), -0.00 (-0.00), noshift, amax=0.0\n",
      "6 thread(s)\n",
      "\n",
      "\n",
      "Strategy:\n",
      " FFT-NS-2 (Fast but rough)\n",
      " Progressive method (guide trees were built 2 times.)\n",
      "\n",
      "If unsure which option to use, try 'mafft --auto input > output'.\n",
      "For more information, see 'mafft --help', 'mafft --man' and the mafft page.\n",
      "\n",
      "The default gap scoring scheme has been changed in version 7.110 (2013 Oct).\n",
      "It tends to insert more gaps into gap-rich regions than previous versions.\n",
      "To disable this change, add the --leavegappyregion option.\n",
      "\n"
     ]
    },
    {
     "name": "stdout",
     "output_type": "stream",
     "text": [
      "Running external command line application. This may print messages to stdout and/or stderr.\n",
      "The command being run is below. This command cannot be manually re-run as it will depend on temporary files that no longer exist.\n",
      "\n",
      "Command: FastTreeMP -quote -nt /tmp/qiime2/lauro/data/d7a62c2e-895b-463f-afcc-de0a12e8239e/data/aligned-dna-sequences.fasta\n",
      "\n"
     ]
    },
    {
     "name": "stderr",
     "output_type": "stream",
     "text": [
      "FastTree Version 2.1.11 Double precision (No SSE3), OpenMP (6 threads)\n",
      "Alignment: /tmp/qiime2/lauro/data/d7a62c2e-895b-463f-afcc-de0a12e8239e/data/aligned-dna-sequences.fasta\n",
      "Nucleotide distances: Jukes-Cantor Joins: balanced Support: SH-like 1000\n",
      "Search: Normal +NNI +SPR (2 rounds range 10) +ML-NNI opt-each=1\n",
      "TopHits: 1.00*sqrtN close=default refresh=0.80\n",
      "ML Model: Jukes-Cantor, CAT approximation with 20 rate categories\n",
      "      0.11 seconds: Joined    300 of    785\n"
     ]
    },
    {
     "name": "stderr",
     "output_type": "stream",
     "text": [
      "      0.22 seconds: Joined    600 of    785\n",
      "Initial topology in 0.30 seconds\n",
      "Refining topology: 38 rounds ME-NNIs, 2 rounds ME-SPRs, 19 rounds ML-NNIs\n",
      "      0.32 seconds: ME NNI round 2 of 38, 301 of 786 splits, 50 changes (max delta 0.213)\n"
     ]
    },
    {
     "name": "stderr",
     "output_type": "stream",
     "text": [
      "      0.46 seconds: SPR round   1 of   2, 201 of 1574 nodes\n",
      "      0.58 seconds: SPR round   1 of   2, 501 of 1574 nodes\n"
     ]
    },
    {
     "name": "stderr",
     "output_type": "stream",
     "text": [
      "      0.70 seconds: SPR round   1 of   2, 801 of 1574 nodes\n",
      "      0.84 seconds: SPR round   1 of   2, 1101 of 1574 nodes\n"
     ]
    },
    {
     "name": "stderr",
     "output_type": "stream",
     "text": [
      "      0.98 seconds: SPR round   1 of   2, 1401 of 1574 nodes\n",
      "      1.08 seconds: ME NNI round 14 of 38, 101 of 786 splits, 0 changes\n"
     ]
    },
    {
     "name": "stderr",
     "output_type": "stream",
     "text": [
      "      1.19 seconds: SPR round   2 of   2, 201 of 1574 nodes\n",
      "      1.33 seconds: SPR round   2 of   2, 501 of 1574 nodes\n"
     ]
    },
    {
     "name": "stderr",
     "output_type": "stream",
     "text": [
      "      1.45 seconds: SPR round   2 of   2, 801 of 1574 nodes\n",
      "      1.55 seconds: SPR round   2 of   2, 1001 of 1574 nodes\n"
     ]
    },
    {
     "name": "stderr",
     "output_type": "stream",
     "text": [
      "      1.67 seconds: SPR round   2 of   2, 1301 of 1574 nodes\n",
      "      1.79 seconds: ME NNI round 25 of 38, 1 of 786 splits\n",
      "Total branch-length 32.555 after 1.86 sec\n"
     ]
    },
    {
     "name": "stderr",
     "output_type": "stream",
     "text": [
      "      1.90 seconds: ML Lengths 201 of 786 splits\n",
      "      2.00 seconds: ML Lengths 701 of 786 splits\n"
     ]
    },
    {
     "name": "stderr",
     "output_type": "stream",
     "text": [
      "      2.13 seconds: ML NNI round 1 of 19, 301 of 786 splits, 52 changes (max delta 7.882)\n",
      "      2.24 seconds: ML NNI round 1 of 19, 601 of 786 splits, 120 changes (max delta 7.882)\n",
      "ML-NNI round 1: LogLk = -50046.385 NNIs 163 max delta 7.88 Time 2.31\n"
     ]
    },
    {
     "name": "stderr",
     "output_type": "stream",
     "text": [
      "      2.34 seconds: Site likelihoods with rate category 5 of 20\n",
      "Switched to using 20 rate categories (CAT approximation)\n",
      "Rate categories were divided by 0.979 so that average rate = 1.0\n",
      "CAT-based log-likelihoods may not be comparable across runs\n",
      "Use -gamma for approximate but comparable Gamma(20) log-likelihoods\n",
      "      2.47 seconds: ML NNI round 2 of 19, 101 of 786 splits, 6 changes (max delta 4.441)\n"
     ]
    },
    {
     "name": "stderr",
     "output_type": "stream",
     "text": [
      "      2.59 seconds: ML NNI round 2 of 19, 401 of 786 splits, 63 changes (max delta 4.441)\n",
      "      2.70 seconds: ML NNI round 2 of 19, 701 of 786 splits, 103 changes (max delta 4.441)\n",
      "ML-NNI round 2: LogLk = -43384.364 NNIs 112 max delta 4.44 Time 2.74\n"
     ]
    },
    {
     "name": "stderr",
     "output_type": "stream",
     "text": [
      "      2.81 seconds: ML NNI round 3 of 19, 201 of 786 splits, 30 changes (max delta 1.499)\n",
      "      2.92 seconds: ML NNI round 3 of 19, 501 of 786 splits, 40 changes (max delta 1.499)\n",
      "ML-NNI round 3: LogLk = -43361.448 NNIs 41 max delta 3.86 Time 2.95\n"
     ]
    },
    {
     "name": "stderr",
     "output_type": "stream",
     "text": [
      "      3.03 seconds: ML NNI round 4 of 19, 201 of 786 splits, 14 changes (max delta 2.243)\n",
      "ML-NNI round 4: LogLk = -43355.386 NNIs 15 max delta 2.24 Time 3.09\n",
      "ML-NNI round 5: LogLk = -43354.834 NNIs 6 max delta 0.20 Time 3.13\n",
      "      3.13 seconds: ML NNI round 6 of 19, 1 of 786 splits\n",
      "ML-NNI round 6: LogLk = -43354.744 NNIs 3 max delta 0.02 Time 3.15\n",
      "Turning off heuristics for final round of ML NNIs (converged)\n"
     ]
    },
    {
     "name": "stderr",
     "output_type": "stream",
     "text": [
      "      3.26 seconds: ML NNI round 7 of 19, 301 of 786 splits, 6 changes (max delta 0.051)\n",
      "      3.36 seconds: ML NNI round 7 of 19, 601 of 786 splits, 7 changes (max delta 0.051)\n",
      "ML-NNI round 7: LogLk = -43353.598 NNIs 7 max delta 0.05 Time 3.44 (final)\n"
     ]
    },
    {
     "name": "stderr",
     "output_type": "stream",
     "text": [
      "      3.47 seconds: ML Lengths 201 of 786 splits\n",
      "Optimize all lengths: LogLk = -43353.492 Time 3.57\n",
      "      3.67 seconds: ML split tests for    100 of    785 internal splits\n"
     ]
    },
    {
     "name": "stderr",
     "output_type": "stream",
     "text": [
      "      3.87 seconds: ML split tests for    300 of    785 internal splits\n",
      "      4.07 seconds: ML split tests for    500 of    785 internal splits\n"
     ]
    },
    {
     "name": "stderr",
     "output_type": "stream",
     "text": [
      "      4.17 seconds: ML split tests for    600 of    785 internal splits\n",
      "Total time: 4.36 seconds Unique: 788/849 Bad splits: 1/785 Worst delta-LogLk 0.202\n"
     ]
    }
   ],
   "source": [
    "mafft_alignment, mafft_masked_alignment, mafft_tree, mafft_rooted_tree = align_to_tree_mafft_fasttree(\n",
    "    sequences=reps, n_threads=6, )"
   ]
  },
  {
   "cell_type": "markdown",
   "id": "0768d598",
   "metadata": {
    "papermill": {
     "duration": 0.004182,
     "end_time": "2024-02-22T16:05:55.158983",
     "exception": false,
     "start_time": "2024-02-22T16:05:55.154801",
     "status": "completed"
    },
    "tags": []
   },
   "source": [
    "### Compute Alpha Diversity (Phylogeny)\n",
    "- [diversity alpha_phylogenetic](https://docs.qiime2.org/2022.8/plugins/available/diversity/alpha-phylogenetic/): Computes a user-specified phylogenetic alpha diversity metric for all samples in a feature table.\n",
    "- Metrics: Choices ('faith_pd')"
   ]
  },
  {
   "cell_type": "code",
   "execution_count": 11,
   "id": "0383aa19",
   "metadata": {
    "ExecuteTime": {
     "end_time": "2022-09-29T20:54:35.310009Z",
     "start_time": "2022-09-29T20:54:35.141333Z"
    },
    "execution": {
     "iopub.execute_input": "2024-02-22T16:05:55.169360Z",
     "iopub.status.busy": "2024-02-22T16:05:55.169218Z",
     "iopub.status.idle": "2024-02-22T16:05:55.291010Z",
     "shell.execute_reply": "2024-02-22T16:05:55.290524Z"
    },
    "papermill": {
     "duration": 0.127683,
     "end_time": "2024-02-22T16:05:55.292071",
     "exception": false,
     "start_time": "2024-02-22T16:05:55.164388",
     "status": "completed"
    },
    "tags": []
   },
   "outputs": [
    {
     "name": "stdout",
     "output_type": "stream",
     "text": [
      "Calculating alpha diversity: faith_pd\n",
      "Running external command line application. This may print messages to stdout and/or stderr.\n",
      "The command being run is below. This command cannot be manually re-run as it will depend on temporary files that no longer exist.\n",
      "\n",
      "Command:\n",
      "\n",
      "faithpd -i /tmp/qiime2/lauro/data/9c7b5717-96f0-4aef-aae0-43be1c9d030e/data/feature-table.biom -t /tmp/qiime2/lauro/data/4ead1d6e-6503-4a9d-bcaf-24c531834468/data/tree.nwk -o /tmp/q2-AlphaDiversityFormat-emk1rj6n\n",
      "\n",
      "DONE: Calculating alpha phylogeny: faith_pd\n"
     ]
    }
   ],
   "source": [
    "metrics = ('faith_pd', )\n",
    "alpha_diversities_phylogenetic = dict()\n",
    "for metric in metrics:\n",
    "    print(f\"Calculating alpha diversity: {metric}\")\n",
    "    try:\n",
    "        alpha_diversity = alpha_phylogenetic(table=tabs, phylogeny=mafft_rooted_tree, metric=metric).alpha_diversity\n",
    "        alpha_diversities_phylogenetic[metric] = alpha_diversity\n",
    "        # Save Artifact\n",
    "        file_path = os.path.join(alpha_path, f'alpha-phylogeny-{metric}.qza')\n",
    "        alpha_diversity.save(file_path)\n",
    "        print(f\"DONE: Calculating alpha phylogeny: {metric}\")\n",
    "    except Exception as e:\n",
    "        print(f\"ERROR: Calculating alpha phylogeny: {metric}\")"
   ]
  },
  {
   "cell_type": "markdown",
   "id": "42db1ead",
   "metadata": {
    "papermill": {
     "duration": 0.004276,
     "end_time": "2024-02-22T16:05:55.300901",
     "exception": false,
     "start_time": "2024-02-22T16:05:55.296625",
     "status": "completed"
    },
    "tags": []
   },
   "source": [
    "- [core-metrics-phylogenetic](https://docs.qiime2.org/2023.7/plugins/available/diversity/core-metrics-phylogenetic/)"
   ]
  },
  {
   "cell_type": "code",
   "execution_count": 12,
   "id": "ef726ab7",
   "metadata": {
    "execution": {
     "iopub.execute_input": "2024-02-22T16:05:55.310224Z",
     "iopub.status.busy": "2024-02-22T16:05:55.310084Z",
     "iopub.status.idle": "2024-02-22T16:05:57.256447Z",
     "shell.execute_reply": "2024-02-22T16:05:57.255972Z"
    },
    "papermill": {
     "duration": 1.952403,
     "end_time": "2024-02-22T16:05:57.257617",
     "exception": false,
     "start_time": "2024-02-22T16:05:55.305214",
     "status": "completed"
    },
    "tags": []
   },
   "outputs": [
    {
     "name": "stderr",
     "output_type": "stream",
     "text": [
      "/home/lauro/anaconda3/envs/qiime2-2023.5/lib/python3.8/site-packages/sklearn/metrics/pairwise.py:1761: DataConversionWarning: Data was converted to boolean for metric jaccard\n",
      "  warnings.warn(msg, DataConversionWarning)\n",
      "/home/lauro/anaconda3/envs/qiime2-2023.5/lib/python3.8/site-packages/skbio/stats/ordination/_principal_coordinate_analysis.py:143: RuntimeWarning: The result contains negative eigenvalues. Please compare their magnitude with the magnitude of some of the largest positive eigenvalues. If the negative ones are smaller, it's probably safe to ignore them, but if they are large in magnitude, the results won't be useful. See the Notes section for more details. The smallest eigenvalue is -0.019303395815202636 and the largest is 3.292476742231856.\n",
      "  warn(\n",
      "/home/lauro/anaconda3/envs/qiime2-2023.5/lib/python3.8/site-packages/skbio/stats/ordination/_principal_coordinate_analysis.py:143: RuntimeWarning: The result contains negative eigenvalues. Please compare their magnitude with the magnitude of some of the largest positive eigenvalues. If the negative ones are smaller, it's probably safe to ignore them, but if they are large in magnitude, the results won't be useful. See the Notes section for more details. The smallest eigenvalue is -0.29416643764688527 and the largest is 6.605103717464078.\n",
      "  warn(\n"
     ]
    },
    {
     "name": "stdout",
     "output_type": "stream",
     "text": [
      "Running external command line application. This may print messages to stdout and/or stderr.\n",
      "The command being run is below. This command cannot be manually re-run as it will depend on temporary files that no longer exist.\n",
      "\n",
      "Command:\n",
      "\n",
      "faithpd -i /tmp/qiime2/lauro/data/ffb05d48-85ce-42d5-a6bd-c8b4640d1a3a/data/feature-table.biom -t /tmp/qiime2/lauro/data/4ead1d6e-6503-4a9d-bcaf-24c531834468/data/tree.nwk -o /tmp/q2-AlphaDiversityFormat-whp3o2f9\n",
      "\n",
      "Running external command line application. This may print messages to stdout and/or stderr.\n",
      "The command being run is below. This command cannot be manually re-run as it will depend on temporary files that no longer exist.\n",
      "\n",
      "Command:\n",
      "\n",
      "ssu -i /tmp/qiime2/lauro/data/ffb05d48-85ce-42d5-a6bd-c8b4640d1a3a/data/feature-table.biom -t /tmp/qiime2/lauro/data/4ead1d6e-6503-4a9d-bcaf-24c531834468/data/tree.nwk -m unweighted -o /tmp/q2-LSMatFormat-7u4hr29b\n",
      "\n"
     ]
    },
    {
     "name": "stdout",
     "output_type": "stream",
     "text": [
      "Running external command line application. This may print messages to stdout and/or stderr.\n",
      "The command being run is below. This command cannot be manually re-run as it will depend on temporary files that no longer exist.\n",
      "\n",
      "Command:\n",
      "\n",
      "ssu -i /tmp/qiime2/lauro/data/ffb05d48-85ce-42d5-a6bd-c8b4640d1a3a/data/feature-table.biom -t /tmp/qiime2/lauro/data/4ead1d6e-6503-4a9d-bcaf-24c531834468/data/tree.nwk -m weighted_unnormalized -o /tmp/q2-LSMatFormat-lx4v5k9f\n",
      "\n"
     ]
    },
    {
     "name": "stderr",
     "output_type": "stream",
     "text": [
      "/home/lauro/anaconda3/envs/qiime2-2023.5/lib/python3.8/site-packages/skbio/stats/ordination/_principal_coordinate_analysis.py:143: RuntimeWarning: The result contains negative eigenvalues. Please compare their magnitude with the magnitude of some of the largest positive eigenvalues. If the negative ones are smaller, it's probably safe to ignore them, but if they are large in magnitude, the results won't be useful. See the Notes section for more details. The smallest eigenvalue is -0.08580738504828224 and the largest is 2.8144319791380528.\n",
      "  warn(\n",
      "/home/lauro/anaconda3/envs/qiime2-2023.5/lib/python3.8/site-packages/skbio/stats/ordination/_principal_coordinate_analysis.py:143: RuntimeWarning: The result contains negative eigenvalues. Please compare their magnitude with the magnitude of some of the largest positive eigenvalues. If the negative ones are smaller, it's probably safe to ignore them, but if they are large in magnitude, the results won't be useful. See the Notes section for more details. The smallest eigenvalue is -0.10643534810291976 and the largest is 2.696238088168685.\n",
      "  warn(\n"
     ]
    }
   ],
   "source": [
    "s_depth = int(tabs.view(pd.DataFrame).sum(axis=1).min())\n",
    "results = core_metrics_phylogenetic(\n",
    "    table = tabs,\n",
    "    phylogeny = mafft_rooted_tree,\n",
    "    sampling_depth = s_depth,\n",
    "    metadata = metadata_qa,\n",
    "    n_jobs_or_threads = 6,\n",
    ")"
   ]
  },
  {
   "cell_type": "code",
   "execution_count": 13,
   "id": "19311218",
   "metadata": {
    "execution": {
     "iopub.execute_input": "2024-02-22T16:05:57.269039Z",
     "iopub.status.busy": "2024-02-22T16:05:57.268903Z",
     "iopub.status.idle": "2024-02-22T16:05:57.272424Z",
     "shell.execute_reply": "2024-02-22T16:05:57.272089Z"
    },
    "papermill": {
     "duration": 0.010823,
     "end_time": "2024-02-22T16:05:57.273318",
     "exception": false,
     "start_time": "2024-02-22T16:05:57.262495",
     "status": "completed"
    },
    "tags": []
   },
   "outputs": [],
   "source": [
    "results_info = [(\"rarefied_table\", \"FeatureTable[Frequency]\", \"The resulting rarefied feature table.\"),\n",
    "(\"faith_pd_vector\", \"SampleData[AlphaDiversity]\", \"Vector of Faith PD values by sample.\"),\n",
    "(\"observed_features_vector\", \"SampleData[AlphaDiversity]\", \"Vector of Observed Features values by sample.\"),\n",
    "(\"shannon_vector\", \"SampleData[AlphaDiversity]\", \"Vector of Shannon diversity values by sample.\"),\n",
    "(\"evenness_vector\", \"SampleData[AlphaDiversity]\", \"Vector of Pielou's evenness values by sample.\"),\n",
    "(\"unweighted_unifrac_distance_matrix\", \"DistanceMatrix\", \"Matrix of unweighted UniFrac distances between pairs of samples.\"),\n",
    "(\"weighted_unifrac_distance_matrix\", \"DistanceMatrix\", \"Matrix of weighted UniFrac distances between pairs of samples.\"),\n",
    "(\"jaccard_distance_matrix\", \"DistanceMatrix\", \"Matrix of Jaccard distances between pairs of samples.\"),\n",
    "(\"bray_curtis_distance_matrix\", \"DistanceMatrix\", \"Matrix of Bray-Curtis distances between pairs of samples.\"),\n",
    "(\"unweighted_unifrac_pcoa_results\", \"PCoAResults\", \"PCoA matrix computed from unweighted UniFrac distances between samples.\"),\n",
    "(\"weighted_unifrac_pcoa_results\", \"PCoAResults\", \"PCoA matrix computed from weighted UniFrac distances between samples.\"),\n",
    "(\"jaccard_pcoa_results\", \"PCoAResults\", \"PCoA matrix computed from Jaccard distances between samples.\"),\n",
    "(\"bray_curtis_pcoa_results\", \"PCoAResults\", \"PCoA matrix computed from Bray-Curtis distances between samples.\"),\n",
    "(\"unweighted_unifrac_emperor\", \"Visualization\", \"Emperor plot of the PCoA matrix computed from unweighted UniFrac.\"),\n",
    "(\"weighted_unifrac_emperor\", \"Visualization\", \"Emperor plot of the PCoA matrix computed from weighted UniFrac.\"),\n",
    "(\"jaccard_emperor\", \"Visualization\", \"Emperor plot of the PCoA matrix computed from Jaccard.\"),\n",
    "(\"bray_curtis_emperor\", \"Visualization\", \"Emperor plot of the PCoA matrix computed from Bray-Curtis.\")]"
   ]
  },
  {
   "cell_type": "code",
   "execution_count": 14,
   "id": "2264925a",
   "metadata": {
    "execution": {
     "iopub.execute_input": "2024-02-22T16:05:57.283074Z",
     "iopub.status.busy": "2024-02-22T16:05:57.282952Z",
     "iopub.status.idle": "2024-02-22T16:05:57.560015Z",
     "shell.execute_reply": "2024-02-22T16:05:57.559649Z"
    },
    "papermill": {
     "duration": 0.283193,
     "end_time": "2024-02-22T16:05:57.561040",
     "exception": false,
     "start_time": "2024-02-22T16:05:57.277847",
     "status": "completed"
    },
    "tags": []
   },
   "outputs": [
    {
     "name": "stdout",
     "output_type": "stream",
     "text": [
      "13 unweighted_unifrac_emperor Visualization\n",
      "--- Emperor plot of the PCoA matrix computed from unweighted UniFrac. ---\n",
      "Saving emperor file at: /mnt/nupeb/rede-micro/redemicro-jennefer/experiments/jennefer-vs-paired-end-trim-histec/qiime-artifacts/beta-analysis/unweighted_unifrac_emperor.qzv\n",
      "\n",
      "14 weighted_unifrac_emperor Visualization\n",
      "--- Emperor plot of the PCoA matrix computed from weighted UniFrac. ---\n",
      "Saving emperor file at: /mnt/nupeb/rede-micro/redemicro-jennefer/experiments/jennefer-vs-paired-end-trim-histec/qiime-artifacts/beta-analysis/weighted_unifrac_emperor.qzv\n",
      "\n",
      "15 jaccard_emperor Visualization\n",
      "--- Emperor plot of the PCoA matrix computed from Jaccard. ---\n",
      "Saving emperor file at: /mnt/nupeb/rede-micro/redemicro-jennefer/experiments/jennefer-vs-paired-end-trim-histec/qiime-artifacts/beta-analysis/jaccard_emperor.qzv\n",
      "\n"
     ]
    },
    {
     "name": "stdout",
     "output_type": "stream",
     "text": [
      "16 bray_curtis_emperor Visualization\n",
      "--- Emperor plot of the PCoA matrix computed from Bray-Curtis. ---\n",
      "Saving emperor file at: /mnt/nupeb/rede-micro/redemicro-jennefer/experiments/jennefer-vs-paired-end-trim-histec/qiime-artifacts/beta-analysis/bray_curtis_emperor.qzv\n",
      "\n"
     ]
    }
   ],
   "source": [
    "distance_matrix = dict()\n",
    "for i, info in enumerate(results_info):\n",
    "    r_id, r_type, r_desc = info\n",
    "    #print(i, r_id, r_type)\n",
    "    file_name = f\"{r_id}.qzv\"\n",
    "    if r_type == \"FeatureTable[Frequency]\":\n",
    "        pass\n",
    "    elif r_type == \"DistanceMatrix\":\n",
    "        distance_matrix[r_id] = results[i]\n",
    "    elif r_id.endswith('emperor'):\n",
    "        print(i, r_id, r_type)\n",
    "        print(f\"--- {r_desc} ---\")\n",
    "        file_name = os.path.join(beta_path, file_name)\n",
    "        print(f'Saving emperor file at: {file_name}\\n')\n",
    "        results[i].save(filepath=file_name)"
   ]
  },
  {
   "cell_type": "markdown",
   "id": "c7752cfd",
   "metadata": {
    "papermill": {
     "duration": 0.00457,
     "end_time": "2024-02-22T16:05:57.570330",
     "exception": false,
     "start_time": "2024-02-22T16:05:57.565760",
     "status": "completed"
    },
    "tags": []
   },
   "source": [
    "### Alpha diversity correlation\n",
    "\n",
    "This method only process `numeric` columns.\n"
   ]
  },
  {
   "cell_type": "code",
   "execution_count": 15,
   "id": "2814f613",
   "metadata": {
    "ExecuteTime": {
     "end_time": "2022-09-29T20:54:35.317618Z",
     "start_time": "2022-09-29T20:54:35.312094Z"
    },
    "execution": {
     "iopub.execute_input": "2024-02-22T16:05:57.580016Z",
     "iopub.status.busy": "2024-02-22T16:05:57.579891Z",
     "iopub.status.idle": "2024-02-22T16:05:58.274276Z",
     "shell.execute_reply": "2024-02-22T16:05:58.273777Z"
    },
    "papermill": {
     "duration": 0.70041,
     "end_time": "2024-02-22T16:05:58.275308",
     "exception": false,
     "start_time": "2024-02-22T16:05:57.574898",
     "status": "completed"
    },
    "tags": []
   },
   "outputs": [
    {
     "name": "stdout",
     "output_type": "stream",
     "text": [
      "DONE: Calculating alpha correlation: chao1 spearman\n"
     ]
    },
    {
     "name": "stderr",
     "output_type": "stream",
     "text": [
      "/home/lauro/anaconda3/envs/qiime2-2023.5/lib/python3.8/site-packages/q2_diversity/_alpha/_visualizer.py:168: FutureWarning: Passing a set as an indexer is deprecated and will raise in a future version. Use a list instead.\n",
      "  alpha_diversity = alpha_diversity[matched_ids]\n",
      "/home/lauro/anaconda3/envs/qiime2-2023.5/lib/python3.8/site-packages/q2_diversity/_alpha/_visualizer.py:168: FutureWarning: Passing a set as an indexer is deprecated and will raise in a future version. Use a list instead.\n",
      "  alpha_diversity = alpha_diversity[matched_ids]\n",
      "/home/lauro/anaconda3/envs/qiime2-2023.5/lib/python3.8/site-packages/q2_diversity/_alpha/_visualizer.py:168: FutureWarning: Passing a set as an indexer is deprecated and will raise in a future version. Use a list instead.\n",
      "  alpha_diversity = alpha_diversity[matched_ids]\n"
     ]
    },
    {
     "name": "stdout",
     "output_type": "stream",
     "text": [
      "DONE: Calculating alpha correlation: chao1 pearson\n",
      "ERROR: Calculating alpha correlation: chao1_ci spearman\n",
      "ERROR: Calculating alpha correlation: chao1_ci pearson\n",
      "DONE: Calculating alpha correlation: observed_features spearman\n"
     ]
    },
    {
     "name": "stdout",
     "output_type": "stream",
     "text": [
      "DONE: Calculating alpha correlation: observed_features pearson\n"
     ]
    },
    {
     "name": "stderr",
     "output_type": "stream",
     "text": [
      "/home/lauro/anaconda3/envs/qiime2-2023.5/lib/python3.8/site-packages/q2_diversity/_alpha/_visualizer.py:168: FutureWarning: Passing a set as an indexer is deprecated and will raise in a future version. Use a list instead.\n",
      "  alpha_diversity = alpha_diversity[matched_ids]\n",
      "/home/lauro/anaconda3/envs/qiime2-2023.5/lib/python3.8/site-packages/q2_diversity/_alpha/_visualizer.py:168: FutureWarning: Passing a set as an indexer is deprecated and will raise in a future version. Use a list instead.\n",
      "  alpha_diversity = alpha_diversity[matched_ids]\n",
      "/home/lauro/anaconda3/envs/qiime2-2023.5/lib/python3.8/site-packages/q2_diversity/_alpha/_visualizer.py:168: FutureWarning: Passing a set as an indexer is deprecated and will raise in a future version. Use a list instead.\n",
      "  alpha_diversity = alpha_diversity[matched_ids]\n",
      "/home/lauro/anaconda3/envs/qiime2-2023.5/lib/python3.8/site-packages/q2_diversity/_alpha/_visualizer.py:168: FutureWarning: Passing a set as an indexer is deprecated and will raise in a future version. Use a list instead.\n",
      "  alpha_diversity = alpha_diversity[matched_ids]\n"
     ]
    },
    {
     "name": "stdout",
     "output_type": "stream",
     "text": [
      "DONE: Calculating alpha correlation: shannon spearman\n",
      "DONE: Calculating alpha correlation: shannon pearson\n",
      "DONE: Calculating alpha correlation: simpson spearman\n"
     ]
    },
    {
     "name": "stdout",
     "output_type": "stream",
     "text": [
      "DONE: Calculating alpha correlation: simpson pearson\n",
      "DONE: Calculating alpha correlation: simpson_e spearman\n",
      "DONE: Calculating alpha correlation: simpson_e pearson\n"
     ]
    },
    {
     "name": "stderr",
     "output_type": "stream",
     "text": [
      "/home/lauro/anaconda3/envs/qiime2-2023.5/lib/python3.8/site-packages/q2_diversity/_alpha/_visualizer.py:168: FutureWarning: Passing a set as an indexer is deprecated and will raise in a future version. Use a list instead.\n",
      "  alpha_diversity = alpha_diversity[matched_ids]\n",
      "/home/lauro/anaconda3/envs/qiime2-2023.5/lib/python3.8/site-packages/q2_diversity/_alpha/_visualizer.py:168: FutureWarning: Passing a set as an indexer is deprecated and will raise in a future version. Use a list instead.\n",
      "  alpha_diversity = alpha_diversity[matched_ids]\n",
      "/home/lauro/anaconda3/envs/qiime2-2023.5/lib/python3.8/site-packages/q2_diversity/_alpha/_visualizer.py:168: FutureWarning: Passing a set as an indexer is deprecated and will raise in a future version. Use a list instead.\n",
      "  alpha_diversity = alpha_diversity[matched_ids]\n"
     ]
    }
   ],
   "source": [
    "methods = ('spearman', 'pearson')\n",
    "numerics_cols = metadata_qa.filter_columns(column_type='numeric')\n",
    "if numerics_cols.column_count > 0:\n",
    "    for metric, alpha_values in alpha_diversities.items():\n",
    "        for method in methods:\n",
    "            try:\n",
    "                corr_view = alpha_correlation(alpha_diversity=alpha_values, metadata=numerics_cols, \n",
    "                                          method=method, intersect_ids=True).visualization\n",
    "                view_path = os.path.join(alpha_path, f'alpha-correlation-{metric}-{method}.qzv')\n",
    "                corr_view.save(view_path)\n",
    "                corr_view\n",
    "                print(f\"DONE: Calculating alpha correlation: {metric} {method}\")\n",
    "            except Exception as e:\n",
    "                print(f\"ERROR: Calculating alpha correlation: {metric} {method}\")"
   ]
  },
  {
   "cell_type": "markdown",
   "id": "8ea83c8a",
   "metadata": {
    "papermill": {
     "duration": 0.004904,
     "end_time": "2024-02-22T16:05:58.285403",
     "exception": false,
     "start_time": "2024-02-22T16:05:58.280499",
     "status": "completed"
    },
    "tags": []
   },
   "source": [
    "## Alpha diversity comparisons\n",
    "\n",
    "Visually and statistically compare groups of alpha diversity values.\n",
    "\n",
    "[diversity alpha_group_significance](https://docs.qiime2.org/2022.8/plugins/available/diversity/alpha-group-significance/)"
   ]
  },
  {
   "cell_type": "code",
   "execution_count": 16,
   "id": "276d1c18",
   "metadata": {
    "ExecuteTime": {
     "end_time": "2022-09-29T20:54:36.089290Z",
     "start_time": "2022-09-29T20:54:35.318963Z"
    },
    "execution": {
     "iopub.execute_input": "2024-02-22T16:05:58.295772Z",
     "iopub.status.busy": "2024-02-22T16:05:58.295611Z",
     "iopub.status.idle": "2024-02-22T16:05:58.695333Z",
     "shell.execute_reply": "2024-02-22T16:05:58.694828Z"
    },
    "papermill": {
     "duration": 0.406115,
     "end_time": "2024-02-22T16:05:58.696363",
     "exception": false,
     "start_time": "2024-02-22T16:05:58.290248",
     "status": "completed"
    },
    "tags": []
   },
   "outputs": [
    {
     "name": "stdout",
     "output_type": "stream",
     "text": [
      "Processing alpha_group_significance: chao1\n"
     ]
    },
    {
     "name": "stdout",
     "output_type": "stream",
     "text": [
      "DONE: Calculating alpha group significance: chao1\n",
      "Processing alpha_group_significance: chao1_ci\n",
      "ERROR: Calculating alpha group significance: chao1_ci\n",
      "Processing alpha_group_significance: observed_features\n",
      "DONE: Calculating alpha group significance: observed_features\n",
      "Processing alpha_group_significance: shannon\n"
     ]
    },
    {
     "name": "stdout",
     "output_type": "stream",
     "text": [
      "DONE: Calculating alpha group significance: shannon\n",
      "Processing alpha_group_significance: simpson\n"
     ]
    },
    {
     "name": "stdout",
     "output_type": "stream",
     "text": [
      "DONE: Calculating alpha group significance: simpson\n",
      "Processing alpha_group_significance: simpson_e\n",
      "DONE: Calculating alpha group significance: simpson_e\n"
     ]
    }
   ],
   "source": [
    "for metric, alpha_values in alpha_diversities.items():\n",
    "    print(f\"Processing alpha_group_significance: {metric}\")\n",
    "    try:\n",
    "        significance_view = alpha_group_significance(alpha_diversity=alpha_values, metadata=metadata_qa).visualization\n",
    "        view_path = os.path.join(alpha_path, f'alpha-group-significance-{metric}.qzv')\n",
    "        significance_view.save(view_path)\n",
    "        significance_view\n",
    "        print(f\"DONE: Calculating alpha group significance: {metric}\")\n",
    "    except Exception as e:\n",
    "        print(f\"ERROR: Calculating alpha group significance: {metric}\")"
   ]
  },
  {
   "cell_type": "markdown",
   "id": "4349d357",
   "metadata": {
    "papermill": {
     "duration": 0.004997,
     "end_time": "2024-02-22T16:05:58.706591",
     "exception": false,
     "start_time": "2024-02-22T16:05:58.701594",
     "status": "completed"
    },
    "tags": []
   },
   "source": [
    "## Beta diversity analysis\n",
    "\n",
    "#### Reference\n",
    "- [diversity beta](https://docs.qiime2.org/2022.8/plugins/available/diversity/beta/): Computes a user-specified beta diversity metric for all pairs of samples in a feature table.\n",
    "- [Beta diversity metrics](http://scikit-bio.org/docs/0.2.0/generated/skbio.diversity.beta.html)\n",
    "\n",
    "- Metric Choices('aitchison', 'braycurtis', 'canberra', 'canberra_adkins', 'chebyshev', 'cityblock', 'correlation', 'cosine', 'dice', 'euclidean', 'hamming', 'jaccard', 'jensenshannon', 'kulsinski', 'matching', 'minkowski', 'rogerstanimoto', 'russellrao', 'seuclidean', 'sokalmichener', 'sokalsneath', 'sqeuclidean', 'yule')"
   ]
  },
  {
   "cell_type": "code",
   "execution_count": 17,
   "id": "f6f358dd",
   "metadata": {
    "ExecuteTime": {
     "end_time": "2022-09-29T20:54:36.335038Z",
     "start_time": "2022-09-29T20:54:36.091288Z"
    },
    "execution": {
     "iopub.execute_input": "2024-02-22T16:05:58.717008Z",
     "iopub.status.busy": "2024-02-22T16:05:58.716878Z",
     "iopub.status.idle": "2024-02-22T16:05:59.114271Z",
     "shell.execute_reply": "2024-02-22T16:05:59.113782Z"
    },
    "papermill": {
     "duration": 0.403726,
     "end_time": "2024-02-22T16:05:59.115224",
     "exception": false,
     "start_time": "2024-02-22T16:05:58.711498",
     "status": "completed"
    },
    "tags": []
   },
   "outputs": [
    {
     "name": "stdout",
     "output_type": "stream",
     "text": [
      "Calculating beta diversity: euclidean\n"
     ]
    },
    {
     "name": "stdout",
     "output_type": "stream",
     "text": [
      "DONE: Calculating beta diversity: euclidean\n",
      "Calculating beta diversity: dice\n"
     ]
    },
    {
     "name": "stdout",
     "output_type": "stream",
     "text": [
      "DONE: Calculating beta diversity: dice\n",
      "Calculating beta diversity: braycurtis\n"
     ]
    },
    {
     "name": "stdout",
     "output_type": "stream",
     "text": [
      "DONE: Calculating beta diversity: braycurtis\n",
      "Calculating beta diversity: correlation\n",
      "ERROR: Calculating beta diversity: correlation\n",
      "Calculating beta diversity: cosine\n",
      "ERROR: Calculating beta diversity: cosine\n",
      "Calculating beta diversity: matching\n"
     ]
    },
    {
     "name": "stderr",
     "output_type": "stream",
     "text": [
      "/home/lauro/anaconda3/envs/qiime2-2023.5/lib/python3.8/site-packages/sklearn/metrics/pairwise.py:1761: DataConversionWarning: Data was converted to boolean for metric dice\n",
      "  warnings.warn(msg, DataConversionWarning)\n",
      "/home/lauro/anaconda3/envs/qiime2-2023.5/lib/python3.8/site-packages/sklearn/metrics/pairwise.py:1761: DataConversionWarning: Data was converted to boolean for metric matching\n",
      "  warnings.warn(msg, DataConversionWarning)\n"
     ]
    },
    {
     "name": "stdout",
     "output_type": "stream",
     "text": [
      "DONE: Calculating beta diversity: matching\n",
      "Calculating beta diversity: jaccard\n"
     ]
    },
    {
     "name": "stdout",
     "output_type": "stream",
     "text": [
      "DONE: Calculating beta diversity: jaccard\n"
     ]
    },
    {
     "name": "stderr",
     "output_type": "stream",
     "text": [
      "/home/lauro/anaconda3/envs/qiime2-2023.5/lib/python3.8/site-packages/sklearn/metrics/pairwise.py:1761: DataConversionWarning: Data was converted to boolean for metric jaccard\n",
      "  warnings.warn(msg, DataConversionWarning)\n"
     ]
    }
   ],
   "source": [
    "metrics = ('aitchison', 'braycurtis', 'canberra', 'canberra_adkins', 'chebyshev', 'cityblock', 'correlation', 'cosine', 'dice', 'euclidean', 'hamming', 'jaccard', 'jensenshannon', 'kulsinski', 'matching', 'minkowski', 'rogerstanimoto', 'russellrao', 'seuclidean', 'sokalmichener', 'sokalsneath', 'sqeuclidean', 'yule')\n",
    "metrics = ('euclidean', 'dice', 'braycurtis', 'correlation', 'cosine', 'matching', 'jaccard')\n",
    "beta_diversities = dict()\n",
    "for metric in metrics:\n",
    "    print(f\"Calculating beta diversity: {metric}\")\n",
    "    try:\n",
    "        beta_diversity = beta(table=tabs, metric=metric, n_jobs=6, pseudocount=1).distance_matrix\n",
    "        beta_diversities[metric] = beta_diversity\n",
    "        # Save SampleData[BetaDiversity] Artifact\n",
    "        file_path = os.path.join(beta_path, f'beta-values-{metric}.qza')\n",
    "        beta_diversity.save(file_path)\n",
    "        print(f\"DONE: Calculating beta diversity: {metric}\")\n",
    "    except Exception as e:\n",
    "        print(f\"ERROR: Calculating beta diversity: {metric}\")"
   ]
  },
  {
   "cell_type": "markdown",
   "id": "200a2fa7",
   "metadata": {
    "papermill": {
     "duration": 0.005287,
     "end_time": "2024-02-22T16:05:59.125997",
     "exception": false,
     "start_time": "2024-02-22T16:05:59.120710",
     "status": "completed"
    },
    "tags": []
   },
   "source": [
    "### Beta group significance\n",
    "\n",
    "- [diversity beta_group_significance](https://docs.qiime2.org/2022.8/plugins/available/diversity/beta-group-significance/): Determine whether groups of samples are significantly different from one another using a permutation-based statistical test.\n",
    "- Marti J Anderson. A new method for non-parametric multivariate analysis of variance. Austral ecology, 26(1):32–46, 2001. doi:https://doi.org/10.1111/j.1442-9993.2001.01070.pp.x."
   ]
  },
  {
   "cell_type": "code",
   "execution_count": 18,
   "id": "b8dd42b6",
   "metadata": {
    "ExecuteTime": {
     "end_time": "2022-09-29T20:55:08.313860Z",
     "start_time": "2022-09-29T20:54:36.336993Z"
    },
    "execution": {
     "iopub.execute_input": "2024-02-22T16:05:59.136893Z",
     "iopub.status.busy": "2024-02-22T16:05:59.136759Z",
     "iopub.status.idle": "2024-02-22T16:06:58.739064Z",
     "shell.execute_reply": "2024-02-22T16:06:58.738747Z"
    },
    "papermill": {
     "duration": 59.608828,
     "end_time": "2024-02-22T16:06:58.739955",
     "exception": false,
     "start_time": "2024-02-22T16:05:59.131127",
     "status": "completed"
    },
    "tags": []
   },
   "outputs": [
    {
     "name": "stdout",
     "output_type": "stream",
     "text": [
      "Calculating beta group significance with method permanova and metric euclidean\n"
     ]
    },
    {
     "name": "stdout",
     "output_type": "stream",
     "text": [
      "DONE: Calculating beta group significance: permanova euclidean\n",
      "Calculating beta group significance with method permanova and metric dice\n"
     ]
    },
    {
     "name": "stdout",
     "output_type": "stream",
     "text": [
      "DONE: Calculating beta group significance: permanova dice\n",
      "Calculating beta group significance with method permanova and metric braycurtis\n"
     ]
    },
    {
     "name": "stdout",
     "output_type": "stream",
     "text": [
      "DONE: Calculating beta group significance: permanova braycurtis\n",
      "Calculating beta group significance with method permanova and metric matching\n"
     ]
    },
    {
     "name": "stdout",
     "output_type": "stream",
     "text": [
      "DONE: Calculating beta group significance: permanova matching\n",
      "Calculating beta group significance with method permanova and metric jaccard\n"
     ]
    },
    {
     "name": "stdout",
     "output_type": "stream",
     "text": [
      "DONE: Calculating beta group significance: permanova jaccard\n",
      "Calculating beta group significance with method anosim and metric euclidean\n"
     ]
    },
    {
     "name": "stdout",
     "output_type": "stream",
     "text": [
      "DONE: Calculating beta group significance: anosim euclidean\n",
      "Calculating beta group significance with method anosim and metric dice\n"
     ]
    },
    {
     "name": "stdout",
     "output_type": "stream",
     "text": [
      "DONE: Calculating beta group significance: anosim dice\n",
      "Calculating beta group significance with method anosim and metric braycurtis\n"
     ]
    },
    {
     "name": "stdout",
     "output_type": "stream",
     "text": [
      "DONE: Calculating beta group significance: anosim braycurtis\n",
      "Calculating beta group significance with method anosim and metric matching\n"
     ]
    },
    {
     "name": "stdout",
     "output_type": "stream",
     "text": [
      "DONE: Calculating beta group significance: anosim matching\n",
      "Calculating beta group significance with method anosim and metric jaccard\n"
     ]
    },
    {
     "name": "stdout",
     "output_type": "stream",
     "text": [
      "DONE: Calculating beta group significance: anosim jaccard\n",
      "Calculating beta group significance with method permdisp and metric euclidean\n"
     ]
    },
    {
     "name": "stderr",
     "output_type": "stream",
     "text": [
      "/home/lauro/anaconda3/envs/qiime2-2023.5/lib/python3.8/site-packages/skbio/stats/ordination/_principal_coordinate_analysis.py:143: RuntimeWarning: The result contains negative eigenvalues. Please compare their magnitude with the magnitude of some of the largest positive eigenvalues. If the negative ones are smaller, it's probably safe to ignore them, but if they are large in magnitude, the results won't be useful. See the Notes section for more details. The smallest eigenvalue is -5.924322235658708e-06 and the largest is 71444043197.26158.\n",
      "  warn(\n"
     ]
    },
    {
     "name": "stderr",
     "output_type": "stream",
     "text": [
      "/home/lauro/anaconda3/envs/qiime2-2023.5/lib/python3.8/site-packages/skbio/stats/ordination/_principal_coordinate_analysis.py:143: RuntimeWarning: The result contains negative eigenvalues. Please compare their magnitude with the magnitude of some of the largest positive eigenvalues. If the negative ones are smaller, it's probably safe to ignore them, but if they are large in magnitude, the results won't be useful. See the Notes section for more details. The smallest eigenvalue is -6.477702144795115e-06 and the largest is 62591885344.98662.\n",
      "  warn(\n"
     ]
    },
    {
     "name": "stderr",
     "output_type": "stream",
     "text": [
      "/home/lauro/anaconda3/envs/qiime2-2023.5/lib/python3.8/site-packages/skbio/stats/ordination/_principal_coordinate_analysis.py:143: RuntimeWarning: The result contains negative eigenvalues. Please compare their magnitude with the magnitude of some of the largest positive eigenvalues. If the negative ones are smaller, it's probably safe to ignore them, but if they are large in magnitude, the results won't be useful. See the Notes section for more details. The smallest eigenvalue is -9.488715519161417e-06 and the largest is 56965821639.570045.\n",
      "  warn(\n"
     ]
    },
    {
     "name": "stderr",
     "output_type": "stream",
     "text": [
      "/home/lauro/anaconda3/envs/qiime2-2023.5/lib/python3.8/site-packages/skbio/stats/ordination/_principal_coordinate_analysis.py:143: RuntimeWarning: The result contains negative eigenvalues. Please compare their magnitude with the magnitude of some of the largest positive eigenvalues. If the negative ones are smaller, it's probably safe to ignore them, but if they are large in magnitude, the results won't be useful. See the Notes section for more details. The smallest eigenvalue is -4.5186790931655725e-05 and the largest is 356370603177.92126.\n",
      "  warn(\n"
     ]
    },
    {
     "name": "stderr",
     "output_type": "stream",
     "text": [
      "/home/lauro/anaconda3/envs/qiime2-2023.5/lib/python3.8/site-packages/skbio/stats/ordination/_principal_coordinate_analysis.py:143: RuntimeWarning: The result contains negative eigenvalues. Please compare their magnitude with the magnitude of some of the largest positive eigenvalues. If the negative ones are smaller, it's probably safe to ignore them, but if they are large in magnitude, the results won't be useful. See the Notes section for more details. The smallest eigenvalue is -3.152198656622148e-05 and the largest is 347642895948.2938.\n",
      "  warn(\n"
     ]
    },
    {
     "name": "stdout",
     "output_type": "stream",
     "text": [
      "DONE: Calculating beta group significance: permdisp euclidean\n",
      "Calculating beta group significance with method permdisp and metric dice\n"
     ]
    },
    {
     "name": "stderr",
     "output_type": "stream",
     "text": [
      "/home/lauro/anaconda3/envs/qiime2-2023.5/lib/python3.8/site-packages/skbio/stats/ordination/_principal_coordinate_analysis.py:143: RuntimeWarning: The result contains negative eigenvalues. Please compare their magnitude with the magnitude of some of the largest positive eigenvalues. If the negative ones are smaller, it's probably safe to ignore them, but if they are large in magnitude, the results won't be useful. See the Notes section for more details. The smallest eigenvalue is -0.0883189441931431 and the largest is 2.9849626408649153.\n",
      "  warn(\n"
     ]
    },
    {
     "name": "stderr",
     "output_type": "stream",
     "text": [
      "/home/lauro/anaconda3/envs/qiime2-2023.5/lib/python3.8/site-packages/skbio/stats/ordination/_principal_coordinate_analysis.py:143: RuntimeWarning: The result contains negative eigenvalues. Please compare their magnitude with the magnitude of some of the largest positive eigenvalues. If the negative ones are smaller, it's probably safe to ignore them, but if they are large in magnitude, the results won't be useful. See the Notes section for more details. The smallest eigenvalue is -0.007623012075511823 and the largest is 0.9582826881036848.\n",
      "  warn(\n"
     ]
    },
    {
     "name": "stderr",
     "output_type": "stream",
     "text": [
      "/home/lauro/anaconda3/envs/qiime2-2023.5/lib/python3.8/site-packages/skbio/stats/ordination/_principal_coordinate_analysis.py:143: RuntimeWarning: The result contains negative eigenvalues. Please compare their magnitude with the magnitude of some of the largest positive eigenvalues. If the negative ones are smaller, it's probably safe to ignore them, but if they are large in magnitude, the results won't be useful. See the Notes section for more details. The smallest eigenvalue is -0.004719397235428236 and the largest is 1.3385039235067115.\n",
      "  warn(\n"
     ]
    },
    {
     "name": "stderr",
     "output_type": "stream",
     "text": [
      "/home/lauro/anaconda3/envs/qiime2-2023.5/lib/python3.8/site-packages/skbio/stats/ordination/_principal_coordinate_analysis.py:143: RuntimeWarning: The result contains negative eigenvalues. Please compare their magnitude with the magnitude of some of the largest positive eigenvalues. If the negative ones are smaller, it's probably safe to ignore them, but if they are large in magnitude, the results won't be useful. See the Notes section for more details. The smallest eigenvalue is -0.030027978083472035 and the largest is 1.911855576935359.\n",
      "  warn(\n"
     ]
    },
    {
     "name": "stderr",
     "output_type": "stream",
     "text": [
      "/home/lauro/anaconda3/envs/qiime2-2023.5/lib/python3.8/site-packages/skbio/stats/ordination/_principal_coordinate_analysis.py:143: RuntimeWarning: The result contains negative eigenvalues. Please compare their magnitude with the magnitude of some of the largest positive eigenvalues. If the negative ones are smaller, it's probably safe to ignore them, but if they are large in magnitude, the results won't be useful. See the Notes section for more details. The smallest eigenvalue is -0.01416160903025542 and the largest is 1.437512254384091.\n",
      "  warn(\n"
     ]
    },
    {
     "name": "stderr",
     "output_type": "stream",
     "text": [
      "/home/lauro/anaconda3/envs/qiime2-2023.5/lib/python3.8/site-packages/skbio/stats/ordination/_principal_coordinate_analysis.py:143: RuntimeWarning: The result contains negative eigenvalues. Please compare their magnitude with the magnitude of some of the largest positive eigenvalues. If the negative ones are smaller, it's probably safe to ignore them, but if they are large in magnitude, the results won't be useful. See the Notes section for more details. The smallest eigenvalue is -0.04973312250271617 and the largest is 1.8669527536808759.\n",
      "  warn(\n"
     ]
    },
    {
     "name": "stderr",
     "output_type": "stream",
     "text": [
      "/home/lauro/anaconda3/envs/qiime2-2023.5/lib/python3.8/site-packages/skbio/stats/ordination/_principal_coordinate_analysis.py:143: RuntimeWarning: The result contains negative eigenvalues. Please compare their magnitude with the magnitude of some of the largest positive eigenvalues. If the negative ones are smaller, it's probably safe to ignore them, but if they are large in magnitude, the results won't be useful. See the Notes section for more details. The smallest eigenvalue is -0.05469716717558425 and the largest is 2.2865105675609327.\n",
      "  warn(\n"
     ]
    },
    {
     "name": "stdout",
     "output_type": "stream",
     "text": [
      "DONE: Calculating beta group significance: permdisp dice\n",
      "Calculating beta group significance with method permdisp and metric braycurtis\n"
     ]
    },
    {
     "name": "stderr",
     "output_type": "stream",
     "text": [
      "/home/lauro/anaconda3/envs/qiime2-2023.5/lib/python3.8/site-packages/skbio/stats/ordination/_principal_coordinate_analysis.py:143: RuntimeWarning: The result contains negative eigenvalues. Please compare their magnitude with the magnitude of some of the largest positive eigenvalues. If the negative ones are smaller, it's probably safe to ignore them, but if they are large in magnitude, the results won't be useful. See the Notes section for more details. The smallest eigenvalue is -0.19394267148487068 and the largest is 4.863991725689036.\n",
      "  warn(\n"
     ]
    },
    {
     "name": "stderr",
     "output_type": "stream",
     "text": [
      "/home/lauro/anaconda3/envs/qiime2-2023.5/lib/python3.8/site-packages/skbio/stats/ordination/_principal_coordinate_analysis.py:143: RuntimeWarning: The result contains negative eigenvalues. Please compare their magnitude with the magnitude of some of the largest positive eigenvalues. If the negative ones are smaller, it's probably safe to ignore them, but if they are large in magnitude, the results won't be useful. See the Notes section for more details. The smallest eigenvalue is -0.07446372005912329 and the largest is 1.9148713023474941.\n",
      "  warn(\n"
     ]
    },
    {
     "name": "stderr",
     "output_type": "stream",
     "text": [
      "/home/lauro/anaconda3/envs/qiime2-2023.5/lib/python3.8/site-packages/skbio/stats/ordination/_principal_coordinate_analysis.py:143: RuntimeWarning: The result contains negative eigenvalues. Please compare their magnitude with the magnitude of some of the largest positive eigenvalues. If the negative ones are smaller, it's probably safe to ignore them, but if they are large in magnitude, the results won't be useful. See the Notes section for more details. The smallest eigenvalue is -0.05248957551941635 and the largest is 2.4059619153481835.\n",
      "  warn(\n"
     ]
    },
    {
     "name": "stderr",
     "output_type": "stream",
     "text": [
      "/home/lauro/anaconda3/envs/qiime2-2023.5/lib/python3.8/site-packages/skbio/stats/ordination/_principal_coordinate_analysis.py:143: RuntimeWarning: The result contains negative eigenvalues. Please compare their magnitude with the magnitude of some of the largest positive eigenvalues. If the negative ones are smaller, it's probably safe to ignore them, but if they are large in magnitude, the results won't be useful. See the Notes section for more details. The smallest eigenvalue is -0.08281567592892436 and the largest is 3.161275337947766.\n",
      "  warn(\n"
     ]
    },
    {
     "name": "stderr",
     "output_type": "stream",
     "text": [
      "/home/lauro/anaconda3/envs/qiime2-2023.5/lib/python3.8/site-packages/skbio/stats/ordination/_principal_coordinate_analysis.py:143: RuntimeWarning: The result contains negative eigenvalues. Please compare their magnitude with the magnitude of some of the largest positive eigenvalues. If the negative ones are smaller, it's probably safe to ignore them, but if they are large in magnitude, the results won't be useful. See the Notes section for more details. The smallest eigenvalue is -0.08673768081454196 and the largest is 2.265842801931261.\n",
      "  warn(\n"
     ]
    },
    {
     "name": "stderr",
     "output_type": "stream",
     "text": [
      "/home/lauro/anaconda3/envs/qiime2-2023.5/lib/python3.8/site-packages/skbio/stats/ordination/_principal_coordinate_analysis.py:143: RuntimeWarning: The result contains negative eigenvalues. Please compare their magnitude with the magnitude of some of the largest positive eigenvalues. If the negative ones are smaller, it's probably safe to ignore them, but if they are large in magnitude, the results won't be useful. See the Notes section for more details. The smallest eigenvalue is -0.14166854156324868 and the largest is 3.2005036339464232.\n",
      "  warn(\n"
     ]
    },
    {
     "name": "stderr",
     "output_type": "stream",
     "text": [
      "/home/lauro/anaconda3/envs/qiime2-2023.5/lib/python3.8/site-packages/skbio/stats/ordination/_principal_coordinate_analysis.py:143: RuntimeWarning: The result contains negative eigenvalues. Please compare their magnitude with the magnitude of some of the largest positive eigenvalues. If the negative ones are smaller, it's probably safe to ignore them, but if they are large in magnitude, the results won't be useful. See the Notes section for more details. The smallest eigenvalue is -0.0847157618856608 and the largest is 3.0601372610549133.\n",
      "  warn(\n"
     ]
    },
    {
     "name": "stdout",
     "output_type": "stream",
     "text": [
      "DONE: Calculating beta group significance: permdisp braycurtis\n",
      "Calculating beta group significance with method permdisp and metric matching\n"
     ]
    },
    {
     "name": "stderr",
     "output_type": "stream",
     "text": [
      "/home/lauro/anaconda3/envs/qiime2-2023.5/lib/python3.8/site-packages/skbio/stats/ordination/_principal_coordinate_analysis.py:143: RuntimeWarning: The result contains negative eigenvalues. Please compare their magnitude with the magnitude of some of the largest positive eigenvalues. If the negative ones are smaller, it's probably safe to ignore them, but if they are large in magnitude, the results won't be useful. See the Notes section for more details. The smallest eigenvalue is -0.006833973378130916 and the largest is 0.05441586051420063.\n",
      "  warn(\n"
     ]
    },
    {
     "name": "stderr",
     "output_type": "stream",
     "text": [
      "/home/lauro/anaconda3/envs/qiime2-2023.5/lib/python3.8/site-packages/skbio/stats/ordination/_principal_coordinate_analysis.py:143: RuntimeWarning: The result contains negative eigenvalues. Please compare their magnitude with the magnitude of some of the largest positive eigenvalues. If the negative ones are smaller, it's probably safe to ignore them, but if they are large in magnitude, the results won't be useful. See the Notes section for more details. The smallest eigenvalue is -0.0005802479971325172 and the largest is 0.02249786284472907.\n",
      "  warn(\n"
     ]
    },
    {
     "name": "stderr",
     "output_type": "stream",
     "text": [
      "/home/lauro/anaconda3/envs/qiime2-2023.5/lib/python3.8/site-packages/skbio/stats/ordination/_principal_coordinate_analysis.py:143: RuntimeWarning: The result contains negative eigenvalues. Please compare their magnitude with the magnitude of some of the largest positive eigenvalues. If the negative ones are smaller, it's probably safe to ignore them, but if they are large in magnitude, the results won't be useful. See the Notes section for more details. The smallest eigenvalue is -0.000288843389551519 and the largest is 0.024216237717168323.\n",
      "  warn(\n"
     ]
    },
    {
     "name": "stderr",
     "output_type": "stream",
     "text": [
      "/home/lauro/anaconda3/envs/qiime2-2023.5/lib/python3.8/site-packages/skbio/stats/ordination/_principal_coordinate_analysis.py:143: RuntimeWarning: The result contains negative eigenvalues. Please compare their magnitude with the magnitude of some of the largest positive eigenvalues. If the negative ones are smaller, it's probably safe to ignore them, but if they are large in magnitude, the results won't be useful. See the Notes section for more details. The smallest eigenvalue is -0.003646530720935516 and the largest is 0.051005506116433355.\n",
      "  warn(\n"
     ]
    },
    {
     "name": "stderr",
     "output_type": "stream",
     "text": [
      "/home/lauro/anaconda3/envs/qiime2-2023.5/lib/python3.8/site-packages/skbio/stats/ordination/_principal_coordinate_analysis.py:143: RuntimeWarning: The result contains negative eigenvalues. Please compare their magnitude with the magnitude of some of the largest positive eigenvalues. If the negative ones are smaller, it's probably safe to ignore them, but if they are large in magnitude, the results won't be useful. See the Notes section for more details. The smallest eigenvalue is -0.00032179495803674735 and the largest is 0.014764204727937559.\n",
      "  warn(\n"
     ]
    },
    {
     "name": "stderr",
     "output_type": "stream",
     "text": [
      "/home/lauro/anaconda3/envs/qiime2-2023.5/lib/python3.8/site-packages/skbio/stats/ordination/_principal_coordinate_analysis.py:143: RuntimeWarning: The result contains negative eigenvalues. Please compare their magnitude with the magnitude of some of the largest positive eigenvalues. If the negative ones are smaller, it's probably safe to ignore them, but if they are large in magnitude, the results won't be useful. See the Notes section for more details. The smallest eigenvalue is -0.003701567337744802 and the largest is 0.050211640737472404.\n",
      "  warn(\n"
     ]
    },
    {
     "name": "stderr",
     "output_type": "stream",
     "text": [
      "/home/lauro/anaconda3/envs/qiime2-2023.5/lib/python3.8/site-packages/skbio/stats/ordination/_principal_coordinate_analysis.py:143: RuntimeWarning: The result contains negative eigenvalues. Please compare their magnitude with the magnitude of some of the largest positive eigenvalues. If the negative ones are smaller, it's probably safe to ignore them, but if they are large in magnitude, the results won't be useful. See the Notes section for more details. The smallest eigenvalue is -0.003754884326606361 and the largest is 0.0519344576567911.\n",
      "  warn(\n"
     ]
    },
    {
     "name": "stdout",
     "output_type": "stream",
     "text": [
      "DONE: Calculating beta group significance: permdisp matching\n",
      "Calculating beta group significance with method permdisp and metric jaccard\n"
     ]
    },
    {
     "name": "stdout",
     "output_type": "stream",
     "text": [
      "DONE: Calculating beta group significance: permdisp jaccard\n"
     ]
    },
    {
     "data": {
      "text/plain": [
       "<Figure size 640x480 with 0 Axes>"
      ]
     },
     "metadata": {},
     "output_type": "display_data"
    }
   ],
   "source": [
    "methods = ('permanova', 'anosim', 'permdisp')\n",
    "for method in methods:\n",
    "    for metric, beta_diversity in beta_diversities.items():\n",
    "        print(f'Calculating beta group significance with method {method} and metric {metric}')\n",
    "        try:\n",
    "            beta_view = beta_group_significance(distance_matrix=beta_diversity, \n",
    "                                                metadata=metadata_qa.get_column(class_col), \n",
    "                                                pairwise=True, method=method).visualization\n",
    "            view_name = os.path.join(beta_path, f'beta-group-significance-{metric}-{method}.qzv')\n",
    "            beta_view.save(view_name)\n",
    "            print(f\"DONE: Calculating beta group significance: {method} {metric}\")\n",
    "        except Exception as e:\n",
    "            print(f\"ERROR: Calculating beta group significance: {method} {metric}\")"
   ]
  },
  {
   "cell_type": "code",
   "execution_count": 19,
   "id": "6366725e",
   "metadata": {
    "execution": {
     "iopub.execute_input": "2024-02-22T16:06:58.812650Z",
     "iopub.status.busy": "2024-02-22T16:06:58.812421Z",
     "iopub.status.idle": "2024-02-22T16:07:46.711983Z",
     "shell.execute_reply": "2024-02-22T16:07:46.711667Z"
    },
    "papermill": {
     "duration": 47.966187,
     "end_time": "2024-02-22T16:07:46.712901",
     "exception": false,
     "start_time": "2024-02-22T16:06:58.746714",
     "status": "completed"
    },
    "tags": []
   },
   "outputs": [
    {
     "name": "stdout",
     "output_type": "stream",
     "text": [
      "Calculating beta group significance with method permanova and metric unweighted_unifrac_distance_matrix\n"
     ]
    },
    {
     "name": "stdout",
     "output_type": "stream",
     "text": [
      "DONE: Calculating beta group significance: permanova unweighted_unifrac_distance_matrix\n",
      "Calculating beta group significance with method permanova and metric weighted_unifrac_distance_matrix\n"
     ]
    },
    {
     "name": "stdout",
     "output_type": "stream",
     "text": [
      "DONE: Calculating beta group significance: permanova weighted_unifrac_distance_matrix\n",
      "Calculating beta group significance with method permanova and metric jaccard_distance_matrix\n"
     ]
    },
    {
     "name": "stdout",
     "output_type": "stream",
     "text": [
      "DONE: Calculating beta group significance: permanova jaccard_distance_matrix\n",
      "Calculating beta group significance with method permanova and metric bray_curtis_distance_matrix\n"
     ]
    },
    {
     "name": "stdout",
     "output_type": "stream",
     "text": [
      "DONE: Calculating beta group significance: permanova bray_curtis_distance_matrix\n",
      "Calculating beta group significance with method anosim and metric unweighted_unifrac_distance_matrix\n"
     ]
    },
    {
     "name": "stdout",
     "output_type": "stream",
     "text": [
      "DONE: Calculating beta group significance: anosim unweighted_unifrac_distance_matrix\n",
      "Calculating beta group significance with method anosim and metric weighted_unifrac_distance_matrix\n"
     ]
    },
    {
     "name": "stdout",
     "output_type": "stream",
     "text": [
      "DONE: Calculating beta group significance: anosim weighted_unifrac_distance_matrix\n",
      "Calculating beta group significance with method anosim and metric jaccard_distance_matrix\n"
     ]
    },
    {
     "name": "stdout",
     "output_type": "stream",
     "text": [
      "DONE: Calculating beta group significance: anosim jaccard_distance_matrix\n",
      "Calculating beta group significance with method anosim and metric bray_curtis_distance_matrix\n"
     ]
    },
    {
     "name": "stdout",
     "output_type": "stream",
     "text": [
      "DONE: Calculating beta group significance: anosim bray_curtis_distance_matrix\n",
      "Calculating beta group significance with method permdisp and metric unweighted_unifrac_distance_matrix\n"
     ]
    },
    {
     "name": "stderr",
     "output_type": "stream",
     "text": [
      "/home/lauro/anaconda3/envs/qiime2-2023.5/lib/python3.8/site-packages/skbio/stats/ordination/_principal_coordinate_analysis.py:143: RuntimeWarning: The result contains negative eigenvalues. Please compare their magnitude with the magnitude of some of the largest positive eigenvalues. If the negative ones are smaller, it's probably safe to ignore them, but if they are large in magnitude, the results won't be useful. See the Notes section for more details. The smallest eigenvalue is -0.08580738504828225 and the largest is 2.8144319791380528.\n",
      "  warn(\n"
     ]
    },
    {
     "name": "stderr",
     "output_type": "stream",
     "text": [
      "/home/lauro/anaconda3/envs/qiime2-2023.5/lib/python3.8/site-packages/skbio/stats/ordination/_principal_coordinate_analysis.py:143: RuntimeWarning: The result contains negative eigenvalues. Please compare their magnitude with the magnitude of some of the largest positive eigenvalues. If the negative ones are smaller, it's probably safe to ignore them, but if they are large in magnitude, the results won't be useful. See the Notes section for more details. The smallest eigenvalue is -0.03060845012305872 and the largest is 0.9121428562597312.\n",
      "  warn(\n"
     ]
    },
    {
     "name": "stderr",
     "output_type": "stream",
     "text": [
      "/home/lauro/anaconda3/envs/qiime2-2023.5/lib/python3.8/site-packages/skbio/stats/ordination/_principal_coordinate_analysis.py:143: RuntimeWarning: The result contains negative eigenvalues. Please compare their magnitude with the magnitude of some of the largest positive eigenvalues. If the negative ones are smaller, it's probably safe to ignore them, but if they are large in magnitude, the results won't be useful. See the Notes section for more details. The smallest eigenvalue is -0.02850171524826845 and the largest is 0.9363958099199416.\n",
      "  warn(\n"
     ]
    },
    {
     "name": "stderr",
     "output_type": "stream",
     "text": [
      "/home/lauro/anaconda3/envs/qiime2-2023.5/lib/python3.8/site-packages/skbio/stats/ordination/_principal_coordinate_analysis.py:143: RuntimeWarning: The result contains negative eigenvalues. Please compare their magnitude with the magnitude of some of the largest positive eigenvalues. If the negative ones are smaller, it's probably safe to ignore them, but if they are large in magnitude, the results won't be useful. See the Notes section for more details. The smallest eigenvalue is -0.05854633923230476 and the largest is 1.7531826224049403.\n",
      "  warn(\n"
     ]
    },
    {
     "name": "stderr",
     "output_type": "stream",
     "text": [
      "/home/lauro/anaconda3/envs/qiime2-2023.5/lib/python3.8/site-packages/skbio/stats/ordination/_principal_coordinate_analysis.py:143: RuntimeWarning: The result contains negative eigenvalues. Please compare their magnitude with the magnitude of some of the largest positive eigenvalues. If the negative ones are smaller, it's probably safe to ignore them, but if they are large in magnitude, the results won't be useful. See the Notes section for more details. The smallest eigenvalue is -0.036527447078819573 and the largest is 1.1104636854736138.\n",
      "  warn(\n"
     ]
    },
    {
     "name": "stderr",
     "output_type": "stream",
     "text": [
      "/home/lauro/anaconda3/envs/qiime2-2023.5/lib/python3.8/site-packages/skbio/stats/ordination/_principal_coordinate_analysis.py:143: RuntimeWarning: The result contains negative eigenvalues. Please compare their magnitude with the magnitude of some of the largest positive eigenvalues. If the negative ones are smaller, it's probably safe to ignore them, but if they are large in magnitude, the results won't be useful. See the Notes section for more details. The smallest eigenvalue is -0.06240626066912577 and the largest is 1.900238668984142.\n",
      "  warn(\n"
     ]
    },
    {
     "name": "stderr",
     "output_type": "stream",
     "text": [
      "/home/lauro/anaconda3/envs/qiime2-2023.5/lib/python3.8/site-packages/skbio/stats/ordination/_principal_coordinate_analysis.py:143: RuntimeWarning: The result contains negative eigenvalues. Please compare their magnitude with the magnitude of some of the largest positive eigenvalues. If the negative ones are smaller, it's probably safe to ignore them, but if they are large in magnitude, the results won't be useful. See the Notes section for more details. The smallest eigenvalue is -0.062697273342198 and the largest is 1.9361063427305587.\n",
      "  warn(\n"
     ]
    },
    {
     "name": "stdout",
     "output_type": "stream",
     "text": [
      "DONE: Calculating beta group significance: permdisp unweighted_unifrac_distance_matrix\n",
      "Calculating beta group significance with method permdisp and metric weighted_unifrac_distance_matrix\n"
     ]
    },
    {
     "name": "stderr",
     "output_type": "stream",
     "text": [
      "/home/lauro/anaconda3/envs/qiime2-2023.5/lib/python3.8/site-packages/skbio/stats/ordination/_principal_coordinate_analysis.py:143: RuntimeWarning: The result contains negative eigenvalues. Please compare their magnitude with the magnitude of some of the largest positive eigenvalues. If the negative ones are smaller, it's probably safe to ignore them, but if they are large in magnitude, the results won't be useful. See the Notes section for more details. The smallest eigenvalue is -0.10643534810291969 and the largest is 2.6962380881686863.\n",
      "  warn(\n"
     ]
    },
    {
     "name": "stderr",
     "output_type": "stream",
     "text": [
      "/home/lauro/anaconda3/envs/qiime2-2023.5/lib/python3.8/site-packages/skbio/stats/ordination/_principal_coordinate_analysis.py:143: RuntimeWarning: The result contains negative eigenvalues. Please compare their magnitude with the magnitude of some of the largest positive eigenvalues. If the negative ones are smaller, it's probably safe to ignore them, but if they are large in magnitude, the results won't be useful. See the Notes section for more details. The smallest eigenvalue is -0.020725882775089306 and the largest is 0.8823568954342058.\n",
      "  warn(\n"
     ]
    },
    {
     "name": "stderr",
     "output_type": "stream",
     "text": [
      "/home/lauro/anaconda3/envs/qiime2-2023.5/lib/python3.8/site-packages/skbio/stats/ordination/_principal_coordinate_analysis.py:143: RuntimeWarning: The result contains negative eigenvalues. Please compare their magnitude with the magnitude of some of the largest positive eigenvalues. If the negative ones are smaller, it's probably safe to ignore them, but if they are large in magnitude, the results won't be useful. See the Notes section for more details. The smallest eigenvalue is -0.021756371556498937 and the largest is 0.9745907100997742.\n",
      "  warn(\n"
     ]
    },
    {
     "name": "stderr",
     "output_type": "stream",
     "text": [
      "/home/lauro/anaconda3/envs/qiime2-2023.5/lib/python3.8/site-packages/skbio/stats/ordination/_principal_coordinate_analysis.py:143: RuntimeWarning: The result contains negative eigenvalues. Please compare their magnitude with the magnitude of some of the largest positive eigenvalues. If the negative ones are smaller, it's probably safe to ignore them, but if they are large in magnitude, the results won't be useful. See the Notes section for more details. The smallest eigenvalue is -0.07478589028761182 and the largest is 1.7218415973187238.\n",
      "  warn(\n"
     ]
    },
    {
     "name": "stderr",
     "output_type": "stream",
     "text": [
      "/home/lauro/anaconda3/envs/qiime2-2023.5/lib/python3.8/site-packages/skbio/stats/ordination/_principal_coordinate_analysis.py:143: RuntimeWarning: The result contains negative eigenvalues. Please compare their magnitude with the magnitude of some of the largest positive eigenvalues. If the negative ones are smaller, it's probably safe to ignore them, but if they are large in magnitude, the results won't be useful. See the Notes section for more details. The smallest eigenvalue is -0.02010746065542348 and the largest is 0.974507137836032.\n",
      "  warn(\n"
     ]
    },
    {
     "name": "stderr",
     "output_type": "stream",
     "text": [
      "/home/lauro/anaconda3/envs/qiime2-2023.5/lib/python3.8/site-packages/skbio/stats/ordination/_principal_coordinate_analysis.py:143: RuntimeWarning: The result contains negative eigenvalues. Please compare their magnitude with the magnitude of some of the largest positive eigenvalues. If the negative ones are smaller, it's probably safe to ignore them, but if they are large in magnitude, the results won't be useful. See the Notes section for more details. The smallest eigenvalue is -0.07492179096842276 and the largest is 1.7362331553135588.\n",
      "  warn(\n"
     ]
    },
    {
     "name": "stderr",
     "output_type": "stream",
     "text": [
      "/home/lauro/anaconda3/envs/qiime2-2023.5/lib/python3.8/site-packages/skbio/stats/ordination/_principal_coordinate_analysis.py:143: RuntimeWarning: The result contains negative eigenvalues. Please compare their magnitude with the magnitude of some of the largest positive eigenvalues. If the negative ones are smaller, it's probably safe to ignore them, but if they are large in magnitude, the results won't be useful. See the Notes section for more details. The smallest eigenvalue is -0.0878716291303053 and the largest is 1.8188188975417412.\n",
      "  warn(\n"
     ]
    },
    {
     "name": "stdout",
     "output_type": "stream",
     "text": [
      "DONE: Calculating beta group significance: permdisp weighted_unifrac_distance_matrix\n",
      "Calculating beta group significance with method permdisp and metric jaccard_distance_matrix\n"
     ]
    },
    {
     "name": "stderr",
     "output_type": "stream",
     "text": [
      "/home/lauro/anaconda3/envs/qiime2-2023.5/lib/python3.8/site-packages/skbio/stats/ordination/_principal_coordinate_analysis.py:143: RuntimeWarning: The result contains negative eigenvalues. Please compare their magnitude with the magnitude of some of the largest positive eigenvalues. If the negative ones are smaller, it's probably safe to ignore them, but if they are large in magnitude, the results won't be useful. See the Notes section for more details. The smallest eigenvalue is -0.019303395815202545 and the largest is 3.2924767422318553.\n",
      "  warn(\n"
     ]
    },
    {
     "name": "stderr",
     "output_type": "stream",
     "text": [
      "/home/lauro/anaconda3/envs/qiime2-2023.5/lib/python3.8/site-packages/skbio/stats/ordination/_principal_coordinate_analysis.py:143: RuntimeWarning: The result contains negative eigenvalues. Please compare their magnitude with the magnitude of some of the largest positive eigenvalues. If the negative ones are smaller, it's probably safe to ignore them, but if they are large in magnitude, the results won't be useful. See the Notes section for more details. The smallest eigenvalue is -0.0010724537406445799 and the largest is 2.2896307709543997.\n",
      "  warn(\n"
     ]
    },
    {
     "name": "stdout",
     "output_type": "stream",
     "text": [
      "DONE: Calculating beta group significance: permdisp jaccard_distance_matrix\n",
      "Calculating beta group significance with method permdisp and metric bray_curtis_distance_matrix\n"
     ]
    },
    {
     "name": "stderr",
     "output_type": "stream",
     "text": [
      "/home/lauro/anaconda3/envs/qiime2-2023.5/lib/python3.8/site-packages/skbio/stats/ordination/_principal_coordinate_analysis.py:143: RuntimeWarning: The result contains negative eigenvalues. Please compare their magnitude with the magnitude of some of the largest positive eigenvalues. If the negative ones are smaller, it's probably safe to ignore them, but if they are large in magnitude, the results won't be useful. See the Notes section for more details. The smallest eigenvalue is -0.2941664376468851 and the largest is 6.605103717464079.\n",
      "  warn(\n"
     ]
    },
    {
     "name": "stderr",
     "output_type": "stream",
     "text": [
      "/home/lauro/anaconda3/envs/qiime2-2023.5/lib/python3.8/site-packages/skbio/stats/ordination/_principal_coordinate_analysis.py:143: RuntimeWarning: The result contains negative eigenvalues. Please compare their magnitude with the magnitude of some of the largest positive eigenvalues. If the negative ones are smaller, it's probably safe to ignore them, but if they are large in magnitude, the results won't be useful. See the Notes section for more details. The smallest eigenvalue is -0.06792288377119327 and the largest is 2.265643021252624.\n",
      "  warn(\n"
     ]
    },
    {
     "name": "stderr",
     "output_type": "stream",
     "text": [
      "/home/lauro/anaconda3/envs/qiime2-2023.5/lib/python3.8/site-packages/skbio/stats/ordination/_principal_coordinate_analysis.py:143: RuntimeWarning: The result contains negative eigenvalues. Please compare their magnitude with the magnitude of some of the largest positive eigenvalues. If the negative ones are smaller, it's probably safe to ignore them, but if they are large in magnitude, the results won't be useful. See the Notes section for more details. The smallest eigenvalue is -0.061821688750608714 and the largest is 2.814542215523396.\n",
      "  warn(\n"
     ]
    },
    {
     "name": "stderr",
     "output_type": "stream",
     "text": [
      "/home/lauro/anaconda3/envs/qiime2-2023.5/lib/python3.8/site-packages/skbio/stats/ordination/_principal_coordinate_analysis.py:143: RuntimeWarning: The result contains negative eigenvalues. Please compare their magnitude with the magnitude of some of the largest positive eigenvalues. If the negative ones are smaller, it's probably safe to ignore them, but if they are large in magnitude, the results won't be useful. See the Notes section for more details. The smallest eigenvalue is -0.1853486753676892 and the largest is 4.481441535158708.\n",
      "  warn(\n"
     ]
    },
    {
     "name": "stderr",
     "output_type": "stream",
     "text": [
      "/home/lauro/anaconda3/envs/qiime2-2023.5/lib/python3.8/site-packages/skbio/stats/ordination/_principal_coordinate_analysis.py:143: RuntimeWarning: The result contains negative eigenvalues. Please compare their magnitude with the magnitude of some of the largest positive eigenvalues. If the negative ones are smaller, it's probably safe to ignore them, but if they are large in magnitude, the results won't be useful. See the Notes section for more details. The smallest eigenvalue is -0.05756096060777323 and the largest is 2.4800394559189383.\n",
      "  warn(\n"
     ]
    },
    {
     "name": "stderr",
     "output_type": "stream",
     "text": [
      "/home/lauro/anaconda3/envs/qiime2-2023.5/lib/python3.8/site-packages/skbio/stats/ordination/_principal_coordinate_analysis.py:143: RuntimeWarning: The result contains negative eigenvalues. Please compare their magnitude with the magnitude of some of the largest positive eigenvalues. If the negative ones are smaller, it's probably safe to ignore them, but if they are large in magnitude, the results won't be useful. See the Notes section for more details. The smallest eigenvalue is -0.24694471586329775 and the largest is 4.4197420508972405.\n",
      "  warn(\n"
     ]
    },
    {
     "name": "stderr",
     "output_type": "stream",
     "text": [
      "/home/lauro/anaconda3/envs/qiime2-2023.5/lib/python3.8/site-packages/skbio/stats/ordination/_principal_coordinate_analysis.py:143: RuntimeWarning: The result contains negative eigenvalues. Please compare their magnitude with the magnitude of some of the largest positive eigenvalues. If the negative ones are smaller, it's probably safe to ignore them, but if they are large in magnitude, the results won't be useful. See the Notes section for more details. The smallest eigenvalue is -0.21277847885446813 and the largest is 4.512881392225284.\n",
      "  warn(\n"
     ]
    },
    {
     "name": "stdout",
     "output_type": "stream",
     "text": [
      "DONE: Calculating beta group significance: permdisp bray_curtis_distance_matrix\n"
     ]
    },
    {
     "data": {
      "text/plain": [
       "<Figure size 640x480 with 0 Axes>"
      ]
     },
     "metadata": {},
     "output_type": "display_data"
    }
   ],
   "source": [
    "# Expand tests using UNIFRAC metrics\n",
    "methods = ('permanova', 'anosim', 'permdisp')\n",
    "for method in methods:\n",
    "    for metric, beta_diversity in distance_matrix.items():\n",
    "        print(f'Calculating beta group significance with method {method} and metric {metric}')\n",
    "        try:\n",
    "            beta_view = beta_group_significance(distance_matrix=beta_diversity, \n",
    "                                                metadata=metadata_qa.get_column(class_col), \n",
    "                                                pairwise=True, method=method).visualization\n",
    "            view_name = os.path.join(beta_path, f'beta-group-significance-{metric}-{method}.qzv')\n",
    "            beta_view.save(view_name)\n",
    "            print(f\"DONE: Calculating beta group significance: {method} {metric}\")\n",
    "        except Exception as e:\n",
    "            print(f\"ERROR: Calculating beta group significance: {method} {metric}\")"
   ]
  },
  {
   "cell_type": "markdown",
   "id": "c0de85cf",
   "metadata": {
    "papermill": {
     "duration": 0.00733,
     "end_time": "2024-02-22T16:07:46.728010",
     "exception": false,
     "start_time": "2024-02-22T16:07:46.720680",
     "status": "completed"
    },
    "tags": []
   },
   "source": [
    "### Beta group Rarefaction\n",
    "\n",
    "- [diversity beta_rarefaction](https://docs.qiime2.org/2022.8/plugins/available/diversity/beta-rarefaction/): Repeatedly rarefy a feature table to compare beta diversity results within a given rarefaction depth.  For a given beta diversity metric, this visualizer will provide: an Emperor jackknifed PCoA plot, samples clustered by UPGMA or neighbor joining with support calculation, and a heatmap showing the correlation between rarefaction trials of that beta diversity metric."
   ]
  }
 ],
 "metadata": {
  "celltoolbar": "Edit Metadata",
  "kernelspec": {
   "display_name": "Python 3 (ipykernel)",
   "language": "python",
   "name": "python3"
  },
  "language_info": {
   "codemirror_mode": {
    "name": "ipython",
    "version": 3
   },
   "file_extension": ".py",
   "mimetype": "text/x-python",
   "name": "python",
   "nbconvert_exporter": "python",
   "pygments_lexer": "ipython3",
   "version": "3.8.16"
  },
  "papermill": {
   "default_parameters": {},
   "duration": 127.371008,
   "end_time": "2024-02-22T16:07:47.551902",
   "environment_variables": {},
   "exception": null,
   "input_path": "nb-templates/step-diversity-analysis.ipynb",
   "output_path": "/mnt/nupeb/rede-micro/redemicro-jennefer/experiments/jennefer-vs-paired-end-trim-histec/nb-executed-steps/step-diversity-analysis-jennefer-vs-paired-end-trim-histec.ipynb",
   "parameters": {
    "base_dir": "/mnt/nupeb/rede-micro/redemicro-jennefer",
    "class_col": "class",
    "classifier_file": "/mnt/nupeb/rede-micro/datasets/16S_classifiers_qiime2/silva-138-99-nb-classifier.qza",
    "experiment_name": "jennefer-vs-paired-end-trim-histec",
    "manifest_file": "/mnt/nupeb/rede-micro/redemicro-jennefer/data/manifest.csv",
    "metadata_file": "/mnt/nupeb/rede-micro/redemicro-jennefer/data/metadata-his.tsv",
    "overlap": 12,
    "phred": 20,
    "replace_files": false,
    "threads": 6,
    "trim": {
     "forward_primer": "CCTACGGGRSGCAGCAG",
     "overlap": 8,
     "reverse_primer": "GGACTACHVGGGTWTCTAAT"
    },
    "trunc_f": 0,
    "trunc_r": 0
   },
   "start_time": "2024-02-22T16:05:40.180894",
   "version": "2.4.0"
  }
 },
 "nbformat": 4,
 "nbformat_minor": 5
}