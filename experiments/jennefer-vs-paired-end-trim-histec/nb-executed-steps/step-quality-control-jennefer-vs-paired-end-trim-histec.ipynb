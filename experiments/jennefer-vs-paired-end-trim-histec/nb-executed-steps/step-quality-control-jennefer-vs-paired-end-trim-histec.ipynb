{
 "cells": [
  {
   "cell_type": "markdown",
   "id": "40ed9eac",
   "metadata": {
    "papermill": {
     "duration": 0.015485,
     "end_time": "2024-02-22T11:52:24.126489",
     "exception": false,
     "start_time": "2024-02-22T11:52:24.111004",
     "status": "completed"
    },
    "tags": []
   },
   "source": [
    "# Quality Control and ASV table construction with DADA2"
   ]
  },
  {
   "cell_type": "markdown",
   "id": "7f89721a",
   "metadata": {
    "papermill": {
     "duration": 0.009804,
     "end_time": "2024-02-22T11:52:24.150247",
     "exception": false,
     "start_time": "2024-02-22T11:52:24.140443",
     "status": "completed"
    },
    "tags": []
   },
   "source": [
    "## Setup and settings"
   ]
  },
  {
   "cell_type": "code",
   "execution_count": 1,
   "id": "08de8991",
   "metadata": {
    "ExecuteTime": {
     "end_time": "2022-06-29T18:49:49.974644Z",
     "start_time": "2022-06-29T18:49:30.876897Z"
    },
    "execution": {
     "iopub.execute_input": "2024-02-22T11:52:24.162446Z",
     "iopub.status.busy": "2024-02-22T11:52:24.162204Z",
     "iopub.status.idle": "2024-02-22T11:52:28.592643Z",
     "shell.execute_reply": "2024-02-22T11:52:28.592119Z"
    },
    "papermill": {
     "duration": 4.43747,
     "end_time": "2024-02-22T11:52:28.593926",
     "exception": false,
     "start_time": "2024-02-22T11:52:24.156456",
     "status": "completed"
    },
    "tags": []
   },
   "outputs": [],
   "source": [
    "# Importing packages\n",
    "import os\n",
    "import yaml\n",
    "import logging\n",
    "import pandas as pd\n",
    "from qiime2 import Artifact\n",
    "from qiime2 import Visualization\n",
    "from qiime2 import Metadata\n",
    "import qiime2.plugins.dada2.actions as dada2_actions\n",
    "import qiime2.plugins.metadata.actions as metadata_actions\n",
    "from qiime2.plugins.feature_table.visualizers import tabulate_seqs\n",
    "from qiime2.plugins.feature_table.visualizers import summarize\n",
    "from qiime2.plugins.feature_table.visualizers import core_features\n",
    "from qiime2.plugins.feature_table.methods import filter_samples\n",
    "from qiime2.plugins.feature_table.methods import filter_seqs\n",
    "\n",
    "import matplotlib.pyplot as plt\n",
    "\n",
    "%matplotlib inline"
   ]
  },
  {
   "cell_type": "markdown",
   "id": "78fca318",
   "metadata": {
    "papermill": {
     "duration": 0.005381,
     "end_time": "2024-02-22T11:52:28.601868",
     "exception": false,
     "start_time": "2024-02-22T11:52:28.596487",
     "status": "completed"
    },
    "tags": []
   },
   "source": [
    "### Receiving the parameters\n",
    "\n",
    "The following cell can receive parameters using the [papermill](https://papermill.readthedocs.io/en/latest/) tool."
   ]
  },
  {
   "cell_type": "code",
   "execution_count": 2,
   "id": "f45c6734",
   "metadata": {
    "ExecuteTime": {
     "end_time": "2022-06-29T18:54:01.035034Z",
     "start_time": "2022-06-29T18:54:01.028724Z"
    },
    "execution": {
     "iopub.execute_input": "2024-02-22T11:52:28.610056Z",
     "iopub.status.busy": "2024-02-22T11:52:28.609749Z",
     "iopub.status.idle": "2024-02-22T11:52:28.613064Z",
     "shell.execute_reply": "2024-02-22T11:52:28.612652Z"
    },
    "papermill": {
     "duration": 0.009963,
     "end_time": "2024-02-22T11:52:28.614026",
     "exception": false,
     "start_time": "2024-02-22T11:52:28.604063",
     "status": "completed"
    },
    "tags": [
     "parameters"
    ]
   },
   "outputs": [],
   "source": [
    "experiment_name = 'ana-flavia-superlactacao'\n",
    "base_dir = os.path.join('/', 'home', 'lauro', 'nupeb', 'redemicro')\n",
    "metadata_file = os.path.join(base_dir, 'data', 'raw', 'metadata', 'sample-metadata.tsv')\n",
    "manifest_file = os.path.join(base_dir, 'data', 'raw', 'manifest', 'sample-manifest.csv')\n",
    "replace_files = False\n",
    "phred = 20\n",
    "trunc_f = 0\n",
    "trunc_r = 0\n",
    "overlap = 12\n",
    "threads = 6\n",
    "trim = None"
   ]
  },
  {
   "cell_type": "code",
   "execution_count": 3,
   "id": "b3f5dc29",
   "metadata": {
    "execution": {
     "iopub.execute_input": "2024-02-22T11:52:28.618932Z",
     "iopub.status.busy": "2024-02-22T11:52:28.618815Z",
     "iopub.status.idle": "2024-02-22T11:52:28.621623Z",
     "shell.execute_reply": "2024-02-22T11:52:28.621205Z"
    },
    "papermill": {
     "duration": 0.006338,
     "end_time": "2024-02-22T11:52:28.622524",
     "exception": false,
     "start_time": "2024-02-22T11:52:28.616186",
     "status": "completed"
    },
    "tags": [
     "injected-parameters"
    ]
   },
   "outputs": [],
   "source": [
    "# Parameters\n",
    "experiment_name = \"jennefer-vs-paired-end-trim-histec\"\n",
    "base_dir = \"/mnt/nupeb/rede-micro/redemicro-jennefer\"\n",
    "manifest_file = \"/mnt/nupeb/rede-micro/redemicro-jennefer/data/manifest.csv\"\n",
    "metadata_file = \"/mnt/nupeb/rede-micro/redemicro-jennefer/data/metadata-his.tsv\"\n",
    "class_col = \"class\"\n",
    "classifier_file = \"/mnt/nupeb/rede-micro/datasets/16S_classifiers_qiime2/silva-138-99-nb-classifier.qza\"\n",
    "replace_files = False\n",
    "phred = 20\n",
    "trunc_f = 0\n",
    "trunc_r = 0\n",
    "overlap = 12\n",
    "threads = 6\n",
    "trim = {\n",
    "    \"overlap\": 8,\n",
    "    \"forward_primer\": \"CCTACGGGRSGCAGCAG\",\n",
    "    \"reverse_primer\": \"GGACTACHVGGGTWTCTAAT\",\n",
    "}\n"
   ]
  },
  {
   "cell_type": "code",
   "execution_count": 4,
   "id": "0256c596",
   "metadata": {
    "execution": {
     "iopub.execute_input": "2024-02-22T11:52:28.627438Z",
     "iopub.status.busy": "2024-02-22T11:52:28.627321Z",
     "iopub.status.idle": "2024-02-22T11:52:28.630713Z",
     "shell.execute_reply": "2024-02-22T11:52:28.630298Z"
    },
    "papermill": {
     "duration": 0.00697,
     "end_time": "2024-02-22T11:52:28.631647",
     "exception": false,
     "start_time": "2024-02-22T11:52:28.624677",
     "status": "completed"
    },
    "tags": []
   },
   "outputs": [],
   "source": [
    "# Setting hardcoded parameters for development and debbuging\n",
    "production = True\n",
    "if not production:\n",
    "    params_path = os.path.join('..', 'params', 'ana-flavia-superlactacao.yaml')\n",
    "    with open(params_path, 'r') as stream:\n",
    "        params = yaml.safe_load(stream)\n",
    "        experiment_name = params['experiment_name']\n",
    "        base_dir = params['base_dir']\n",
    "        replace_files = params['replace_files']\n",
    "        experiment_folder = os.path.abspath(os.path.join(os.getcwd(), '..', 'experiments', 'thayane-feces-01'))\n",
    "        img_folder = os.path.abspath(os.path.join(experiment_folder, 'imgs'))\n",
    "        replace_files = False\n",
    "        phred = 20\n",
    "        trunc_f = 0\n",
    "        trunc_r = 0\n",
    "        overlap = 12\n",
    "        threads = 6"
   ]
  },
  {
   "cell_type": "code",
   "execution_count": 5,
   "id": "dda0e917",
   "metadata": {
    "ExecuteTime": {
     "end_time": "2022-06-29T18:51:02.089300Z",
     "start_time": "2022-06-29T18:51:02.084922Z"
    },
    "execution": {
     "iopub.execute_input": "2024-02-22T11:52:28.636638Z",
     "iopub.status.busy": "2024-02-22T11:52:28.636519Z",
     "iopub.status.idle": "2024-02-22T11:52:28.639387Z",
     "shell.execute_reply": "2024-02-22T11:52:28.638966Z"
    },
    "papermill": {
     "duration": 0.006434,
     "end_time": "2024-02-22T11:52:28.640262",
     "exception": false,
     "start_time": "2024-02-22T11:52:28.633828",
     "status": "completed"
    },
    "tags": []
   },
   "outputs": [],
   "source": [
    "experiment_folder = os.path.abspath(os.path.join(base_dir, 'experiments', experiment_name))\n",
    "img_folder = os.path.abspath(os.path.join(experiment_folder, 'imgs'))\n",
    "qiime_folder = os.path.join(experiment_folder, 'qiime-artifacts')\n",
    "data_dir =  os.path.abspath(os.path.join(base_dir, 'data'))\n",
    "raw_data_dir =  os.path.abspath(os.path.join(data_dir, 'raw'))\n",
    "interim_data_dir =  os.path.abspath(os.path.join(data_dir, 'interim'))"
   ]
  },
  {
   "cell_type": "markdown",
   "id": "e78a032c",
   "metadata": {
    "papermill": {
     "duration": 0.002188,
     "end_time": "2024-02-22T11:52:28.644699",
     "exception": false,
     "start_time": "2024-02-22T11:52:28.642511",
     "status": "completed"
    },
    "tags": []
   },
   "source": [
    "### Defining names and paths"
   ]
  },
  {
   "cell_type": "code",
   "execution_count": 6,
   "id": "9d91f791",
   "metadata": {
    "execution": {
     "iopub.execute_input": "2024-02-22T11:52:28.649742Z",
     "iopub.status.busy": "2024-02-22T11:52:28.649622Z",
     "iopub.status.idle": "2024-02-22T11:52:28.654293Z",
     "shell.execute_reply": "2024-02-22T11:52:28.653992Z"
    },
    "papermill": {
     "duration": 0.008244,
     "end_time": "2024-02-22T11:52:28.655181",
     "exception": false,
     "start_time": "2024-02-22T11:52:28.646937",
     "status": "completed"
    },
    "tags": []
   },
   "outputs": [],
   "source": [
    "# Determine if is SingleEnd or PairedEnd\n",
    "manifest_df = pd.read_csv(manifest_file)\n",
    "n_directions = len(manifest_df['direction'].unique())\n",
    "sufix = 'single' if n_directions == 1 else 'paired'"
   ]
  },
  {
   "cell_type": "code",
   "execution_count": 7,
   "id": "0549a07e",
   "metadata": {
    "ExecuteTime": {
     "end_time": "2022-05-30T19:57:39.064490Z",
     "start_time": "2022-05-30T19:57:39.007809Z"
    },
    "execution": {
     "iopub.execute_input": "2024-02-22T11:52:28.660336Z",
     "iopub.status.busy": "2024-02-22T11:52:28.660154Z",
     "iopub.status.idle": "2024-02-22T11:52:28.663162Z",
     "shell.execute_reply": "2024-02-22T11:52:28.662741Z"
    },
    "papermill": {
     "duration": 0.00664,
     "end_time": "2024-02-22T11:52:28.664060",
     "exception": false,
     "start_time": "2024-02-22T11:52:28.657420",
     "status": "completed"
    },
    "tags": []
   },
   "outputs": [],
   "source": [
    "if trim:\n",
    "    demux_file = os.path.join(qiime_folder, f'demux-{sufix}-trim.qza')\n",
    "else:\n",
    "    demux_file = os.path.join(qiime_folder, f'demux-{sufix}.qza')\n",
    "\n",
    "dada2_tabs = os.path.join(qiime_folder, 'dada2-tabs.qza')\n",
    "dada2_reps = os.path.join(qiime_folder, 'dada2-reps.qza')\n",
    "dada2_stat = os.path.join(qiime_folder, 'dada2-stat.qza')\n",
    "\n",
    "\n",
    "dada2_tabs_view = dada2_tabs[:-1] + 'v'\n",
    "dada2_reps_view = dada2_reps[:-1] + 'v'\n",
    "dada2_stat_view = dada2_stat[:-1] + 'v'\n",
    "dada2_core_view = os.path.join(qiime_folder, 'dada2-core.qzv')"
   ]
  },
  {
   "cell_type": "markdown",
   "id": "d4ad6bf9",
   "metadata": {
    "papermill": {
     "duration": 0.00227,
     "end_time": "2024-02-22T11:52:28.668593",
     "exception": false,
     "start_time": "2024-02-22T11:52:28.666323",
     "status": "completed"
    },
    "tags": []
   },
   "source": [
    "## Step execution\n",
    "\n",
    "### Load input files\n",
    "\n",
    "This Step import the QIIME2 `SampleData[PairedEndSequencesWithQuality]` Artifact with all demultiplexed sequences and the `Metadata` file."
   ]
  },
  {
   "cell_type": "code",
   "execution_count": 8,
   "id": "2bdbdc9e",
   "metadata": {
    "ExecuteTime": {
     "end_time": "2022-05-30T19:57:39.077380Z",
     "start_time": "2022-05-30T19:57:39.066746Z"
    },
    "execution": {
     "iopub.execute_input": "2024-02-22T11:52:28.673708Z",
     "iopub.status.busy": "2024-02-22T11:52:28.673485Z",
     "iopub.status.idle": "2024-02-22T11:52:28.676104Z",
     "shell.execute_reply": "2024-02-22T11:52:28.675687Z"
    },
    "papermill": {
     "duration": 0.006188,
     "end_time": "2024-02-22T11:52:28.677022",
     "exception": false,
     "start_time": "2024-02-22T11:52:28.670834",
     "status": "completed"
    },
    "tags": []
   },
   "outputs": [],
   "source": [
    "need_dada2 = not (os.path.isfile(dada2_tabs) and os.path.isfile(dada2_reps) and os.path.isfile(dada2_stat)) or replace_files\n",
    "need_view = not (os.path.isfile(dada2_tabs_view) and os.path.isfile(dada2_reps_view) and os.path.isfile(dada2_stat_view)) or replace_files"
   ]
  },
  {
   "cell_type": "code",
   "execution_count": 9,
   "id": "05dc90ff",
   "metadata": {
    "ExecuteTime": {
     "end_time": "2022-05-30T19:57:39.089632Z",
     "start_time": "2022-05-30T19:57:39.079347Z"
    },
    "execution": {
     "iopub.execute_input": "2024-02-22T11:52:28.682350Z",
     "iopub.status.busy": "2024-02-22T11:52:28.682102Z",
     "iopub.status.idle": "2024-02-22T11:52:31.352142Z",
     "shell.execute_reply": "2024-02-22T11:52:31.351647Z"
    },
    "papermill": {
     "duration": 2.673944,
     "end_time": "2024-02-22T11:52:31.353297",
     "exception": false,
     "start_time": "2024-02-22T11:52:28.679353",
     "status": "completed"
    },
    "tags": []
   },
   "outputs": [],
   "source": [
    "if need_dada2:\n",
    "    demux = Artifact.load(demux_file)"
   ]
  },
  {
   "cell_type": "code",
   "execution_count": 10,
   "id": "b554f431",
   "metadata": {
    "ExecuteTime": {
     "end_time": "2022-05-30T19:57:39.145879Z",
     "start_time": "2022-05-30T19:57:39.091983Z"
    },
    "execution": {
     "iopub.execute_input": "2024-02-22T11:52:31.359035Z",
     "iopub.status.busy": "2024-02-22T11:52:31.358891Z",
     "iopub.status.idle": "2024-02-22T11:52:31.365078Z",
     "shell.execute_reply": "2024-02-22T11:52:31.364761Z"
    },
    "papermill": {
     "duration": 0.010046,
     "end_time": "2024-02-22T11:52:31.365999",
     "exception": false,
     "start_time": "2024-02-22T11:52:31.355953",
     "status": "completed"
    },
    "tags": []
   },
   "outputs": [],
   "source": [
    "metadata = Metadata.load(metadata_file)"
   ]
  },
  {
   "cell_type": "markdown",
   "id": "391649ee",
   "metadata": {
    "papermill": {
     "duration": 0.004245,
     "end_time": "2024-02-22T11:52:31.372580",
     "exception": false,
     "start_time": "2024-02-22T11:52:31.368335",
     "status": "completed"
    },
    "tags": []
   },
   "source": [
    "### Execute DADA2 plugin and create Artifacts\n",
    "\n",
    "The DADA2 plugin perform tha quality control and create the ASV table. It will be produced three Artifacts:\n",
    "\n",
    "- tabs (`FeatureTable[Frequency]`) : \n",
    "    The resulting feature table.\n",
    "- reps (`FeatureData[Sequence]`) :\n",
    "    The resulting feature sequences. Each feature in the feature table will\n",
    "    be represented by exactly one sequence, and these sequences will be the\n",
    "    joined paired-end sequences.\n",
    "- denoising_stats (`SampleData[DADA2Stats]`) : the resulting stats. Shows the number and the proportion of filtered reads in each phase of the plugin execution."
   ]
  },
  {
   "cell_type": "code",
   "execution_count": 11,
   "id": "bca76df5",
   "metadata": {
    "execution": {
     "iopub.execute_input": "2024-02-22T11:52:31.378116Z",
     "iopub.status.busy": "2024-02-22T11:52:31.377992Z",
     "iopub.status.idle": "2024-02-22T12:08:00.247525Z",
     "shell.execute_reply": "2024-02-22T12:08:00.247000Z"
    },
    "papermill": {
     "duration": 928.873849,
     "end_time": "2024-02-22T12:08:00.248764",
     "exception": false,
     "start_time": "2024-02-22T11:52:31.374915",
     "status": "completed"
    },
    "tags": []
   },
   "outputs": [
    {
     "name": "stdout",
     "output_type": "stream",
     "text": [
      "Create new local DADA2 data\n",
      "Running external command line application(s). This may print messages to stdout and/or stderr.\n",
      "The command(s) being run are below. These commands cannot be manually re-run as they will depend on temporary files that no longer exist.\n",
      "\n",
      "Command: run_dada.R --input_directory /tmp/tmpdtmev35t/forward --input_directory_reverse /tmp/tmpdtmev35t/reverse --output_path /tmp/tmpdtmev35t/output.tsv.biom --output_track /tmp/tmpdtmev35t/track.tsv --filtered_directory /tmp/tmpdtmev35t/filt_f --filtered_directory_reverse /tmp/tmpdtmev35t/filt_r --truncation_length 0 --truncation_length_reverse 0 --trim_left 0 --trim_left_reverse 0 --max_expected_errors 2.0 --max_expected_errors_reverse 2.0 --truncation_quality_score 20 --min_overlap 12 --pooling_method independent --chimera_method consensus --min_parental_fold 1.0 --allow_one_off False --num_threads 6 --learn_min_reads 1000000\n",
      "\n",
      "R version 4.2.3 (2023-03-15) \n"
     ]
    },
    {
     "name": "stderr",
     "output_type": "stream",
     "text": [
      "Loading required package: Rcpp\n"
     ]
    },
    {
     "name": "stdout",
     "output_type": "stream",
     "text": [
      "DADA2: 1.26.0 / Rcpp: 1.0.10 / RcppParallel: 5.1.6 \n",
      "2) Filtering "
     ]
    },
    {
     "name": "stdout",
     "output_type": "stream",
     "text": [
      "............................................................................\n",
      "3) Learning Error Rates\n"
     ]
    },
    {
     "name": "stdout",
     "output_type": "stream",
     "text": [
      "267068564 total bases in 1184301 reads from 9 samples will be used for learning the error rates.\n"
     ]
    },
    {
     "name": "stdout",
     "output_type": "stream",
     "text": [
      "175030993 total bases in 1184301 reads from 9 samples will be used for learning the error rates.\n"
     ]
    },
    {
     "name": "stdout",
     "output_type": "stream",
     "text": [
      "3) Denoise samples "
     ]
    },
    {
     "name": "stdout",
     "output_type": "stream",
     "text": [
      "."
     ]
    },
    {
     "name": "stdout",
     "output_type": "stream",
     "text": [
      "."
     ]
    },
    {
     "name": "stdout",
     "output_type": "stream",
     "text": [
      "."
     ]
    },
    {
     "name": "stdout",
     "output_type": "stream",
     "text": [
      "."
     ]
    },
    {
     "name": "stdout",
     "output_type": "stream",
     "text": [
      "."
     ]
    },
    {
     "name": "stdout",
     "output_type": "stream",
     "text": [
      "."
     ]
    },
    {
     "name": "stdout",
     "output_type": "stream",
     "text": [
      "."
     ]
    },
    {
     "name": "stdout",
     "output_type": "stream",
     "text": [
      "."
     ]
    },
    {
     "name": "stdout",
     "output_type": "stream",
     "text": [
      "."
     ]
    },
    {
     "name": "stdout",
     "output_type": "stream",
     "text": [
      "."
     ]
    },
    {
     "name": "stdout",
     "output_type": "stream",
     "text": [
      "."
     ]
    },
    {
     "name": "stdout",
     "output_type": "stream",
     "text": [
      "."
     ]
    },
    {
     "name": "stdout",
     "output_type": "stream",
     "text": [
      "."
     ]
    },
    {
     "name": "stdout",
     "output_type": "stream",
     "text": [
      "."
     ]
    },
    {
     "name": "stdout",
     "output_type": "stream",
     "text": [
      "."
     ]
    },
    {
     "name": "stdout",
     "output_type": "stream",
     "text": [
      "."
     ]
    },
    {
     "name": "stdout",
     "output_type": "stream",
     "text": [
      "."
     ]
    },
    {
     "name": "stdout",
     "output_type": "stream",
     "text": [
      "."
     ]
    },
    {
     "name": "stdout",
     "output_type": "stream",
     "text": [
      "."
     ]
    },
    {
     "name": "stdout",
     "output_type": "stream",
     "text": [
      "."
     ]
    },
    {
     "name": "stdout",
     "output_type": "stream",
     "text": [
      "."
     ]
    },
    {
     "name": "stdout",
     "output_type": "stream",
     "text": [
      "."
     ]
    },
    {
     "name": "stdout",
     "output_type": "stream",
     "text": [
      "."
     ]
    },
    {
     "name": "stdout",
     "output_type": "stream",
     "text": [
      "."
     ]
    },
    {
     "name": "stdout",
     "output_type": "stream",
     "text": [
      "."
     ]
    },
    {
     "name": "stdout",
     "output_type": "stream",
     "text": [
      "."
     ]
    },
    {
     "name": "stdout",
     "output_type": "stream",
     "text": [
      "."
     ]
    },
    {
     "name": "stdout",
     "output_type": "stream",
     "text": [
      "."
     ]
    },
    {
     "name": "stdout",
     "output_type": "stream",
     "text": [
      "."
     ]
    },
    {
     "name": "stdout",
     "output_type": "stream",
     "text": [
      "."
     ]
    },
    {
     "name": "stdout",
     "output_type": "stream",
     "text": [
      "."
     ]
    },
    {
     "name": "stdout",
     "output_type": "stream",
     "text": [
      "."
     ]
    },
    {
     "name": "stdout",
     "output_type": "stream",
     "text": [
      "."
     ]
    },
    {
     "name": "stdout",
     "output_type": "stream",
     "text": [
      "."
     ]
    },
    {
     "name": "stdout",
     "output_type": "stream",
     "text": [
      "."
     ]
    },
    {
     "name": "stdout",
     "output_type": "stream",
     "text": [
      "."
     ]
    },
    {
     "name": "stdout",
     "output_type": "stream",
     "text": [
      "."
     ]
    },
    {
     "name": "stdout",
     "output_type": "stream",
     "text": [
      "."
     ]
    },
    {
     "name": "stdout",
     "output_type": "stream",
     "text": [
      "."
     ]
    },
    {
     "name": "stdout",
     "output_type": "stream",
     "text": [
      "."
     ]
    },
    {
     "name": "stdout",
     "output_type": "stream",
     "text": [
      "."
     ]
    },
    {
     "name": "stdout",
     "output_type": "stream",
     "text": [
      "."
     ]
    },
    {
     "name": "stdout",
     "output_type": "stream",
     "text": [
      "."
     ]
    },
    {
     "name": "stdout",
     "output_type": "stream",
     "text": [
      "."
     ]
    },
    {
     "name": "stdout",
     "output_type": "stream",
     "text": [
      "."
     ]
    },
    {
     "name": "stdout",
     "output_type": "stream",
     "text": [
      "..."
     ]
    },
    {
     "name": "stdout",
     "output_type": "stream",
     "text": [
      "."
     ]
    },
    {
     "name": "stdout",
     "output_type": "stream",
     "text": [
      "."
     ]
    },
    {
     "name": "stdout",
     "output_type": "stream",
     "text": [
      "."
     ]
    },
    {
     "name": "stdout",
     "output_type": "stream",
     "text": [
      "."
     ]
    },
    {
     "name": "stdout",
     "output_type": "stream",
     "text": [
      "."
     ]
    },
    {
     "name": "stdout",
     "output_type": "stream",
     "text": [
      "."
     ]
    },
    {
     "name": "stdout",
     "output_type": "stream",
     "text": [
      "."
     ]
    },
    {
     "name": "stdout",
     "output_type": "stream",
     "text": [
      "."
     ]
    },
    {
     "name": "stdout",
     "output_type": "stream",
     "text": [
      "."
     ]
    },
    {
     "name": "stdout",
     "output_type": "stream",
     "text": [
      "."
     ]
    },
    {
     "name": "stdout",
     "output_type": "stream",
     "text": [
      "."
     ]
    },
    {
     "name": "stdout",
     "output_type": "stream",
     "text": [
      "."
     ]
    },
    {
     "name": "stdout",
     "output_type": "stream",
     "text": [
      "."
     ]
    },
    {
     "name": "stdout",
     "output_type": "stream",
     "text": [
      ".."
     ]
    },
    {
     "name": "stdout",
     "output_type": "stream",
     "text": [
      "."
     ]
    },
    {
     "name": "stdout",
     "output_type": "stream",
     "text": [
      "."
     ]
    },
    {
     "name": "stdout",
     "output_type": "stream",
     "text": [
      "."
     ]
    },
    {
     "name": "stdout",
     "output_type": "stream",
     "text": [
      "."
     ]
    },
    {
     "name": "stdout",
     "output_type": "stream",
     "text": [
      "."
     ]
    },
    {
     "name": "stdout",
     "output_type": "stream",
     "text": [
      "."
     ]
    },
    {
     "name": "stdout",
     "output_type": "stream",
     "text": [
      "."
     ]
    },
    {
     "name": "stdout",
     "output_type": "stream",
     "text": [
      "."
     ]
    },
    {
     "name": "stdout",
     "output_type": "stream",
     "text": [
      "."
     ]
    },
    {
     "name": "stdout",
     "output_type": "stream",
     "text": [
      "."
     ]
    },
    {
     "name": "stdout",
     "output_type": "stream",
     "text": [
      "."
     ]
    },
    {
     "name": "stdout",
     "output_type": "stream",
     "text": [
      "."
     ]
    },
    {
     "name": "stdout",
     "output_type": "stream",
     "text": [
      ".\n"
     ]
    },
    {
     "name": "stdout",
     "output_type": "stream",
     "text": [
      "."
     ]
    },
    {
     "name": "stdout",
     "output_type": "stream",
     "text": [
      "."
     ]
    },
    {
     "name": "stdout",
     "output_type": "stream",
     "text": [
      "."
     ]
    },
    {
     "name": "stdout",
     "output_type": "stream",
     "text": [
      "."
     ]
    },
    {
     "name": "stdout",
     "output_type": "stream",
     "text": [
      "."
     ]
    },
    {
     "name": "stdout",
     "output_type": "stream",
     "text": [
      "."
     ]
    },
    {
     "name": "stdout",
     "output_type": "stream",
     "text": [
      "."
     ]
    },
    {
     "name": "stdout",
     "output_type": "stream",
     "text": [
      "."
     ]
    },
    {
     "name": "stderr",
     "output_type": "stream",
     "text": [
      "Duplicate sequences in merged output.\n"
     ]
    },
    {
     "name": "stdout",
     "output_type": "stream",
     "text": [
      "."
     ]
    },
    {
     "name": "stdout",
     "output_type": "stream",
     "text": [
      "."
     ]
    },
    {
     "name": "stdout",
     "output_type": "stream",
     "text": [
      "."
     ]
    },
    {
     "name": "stdout",
     "output_type": "stream",
     "text": [
      "."
     ]
    },
    {
     "name": "stdout",
     "output_type": "stream",
     "text": [
      "."
     ]
    },
    {
     "name": "stdout",
     "output_type": "stream",
     "text": [
      "."
     ]
    },
    {
     "name": "stdout",
     "output_type": "stream",
     "text": [
      "."
     ]
    },
    {
     "name": "stdout",
     "output_type": "stream",
     "text": [
      "."
     ]
    },
    {
     "name": "stdout",
     "output_type": "stream",
     "text": [
      "."
     ]
    },
    {
     "name": "stderr",
     "output_type": "stream",
     "text": [
      "Duplicate sequences in merged output.\n"
     ]
    },
    {
     "name": "stdout",
     "output_type": "stream",
     "text": [
      "."
     ]
    },
    {
     "name": "stdout",
     "output_type": "stream",
     "text": [
      "."
     ]
    },
    {
     "name": "stderr",
     "output_type": "stream",
     "text": [
      "Duplicate sequences in merged output.\n"
     ]
    },
    {
     "name": "stdout",
     "output_type": "stream",
     "text": [
      "."
     ]
    },
    {
     "name": "stdout",
     "output_type": "stream",
     "text": [
      "."
     ]
    },
    {
     "name": "stdout",
     "output_type": "stream",
     "text": [
      "."
     ]
    },
    {
     "name": "stderr",
     "output_type": "stream",
     "text": [
      "Duplicate sequences in merged output.\n"
     ]
    },
    {
     "name": "stdout",
     "output_type": "stream",
     "text": [
      "."
     ]
    },
    {
     "name": "stdout",
     "output_type": "stream",
     "text": [
      "."
     ]
    },
    {
     "name": "stderr",
     "output_type": "stream",
     "text": [
      "Duplicate sequences in merged output.\n"
     ]
    },
    {
     "name": "stdout",
     "output_type": "stream",
     "text": [
      "."
     ]
    },
    {
     "name": "stdout",
     "output_type": "stream",
     "text": [
      "."
     ]
    },
    {
     "name": "stdout",
     "output_type": "stream",
     "text": [
      "."
     ]
    },
    {
     "name": "stderr",
     "output_type": "stream",
     "text": [
      "Duplicate sequences in merged output.\n"
     ]
    },
    {
     "name": "stdout",
     "output_type": "stream",
     "text": [
      "."
     ]
    },
    {
     "name": "stdout",
     "output_type": "stream",
     "text": [
      "."
     ]
    },
    {
     "name": "stderr",
     "output_type": "stream",
     "text": [
      "Duplicate sequences in merged output.\n"
     ]
    },
    {
     "name": "stdout",
     "output_type": "stream",
     "text": [
      "."
     ]
    },
    {
     "name": "stdout",
     "output_type": "stream",
     "text": [
      "."
     ]
    },
    {
     "name": "stdout",
     "output_type": "stream",
     "text": [
      "."
     ]
    },
    {
     "name": "stdout",
     "output_type": "stream",
     "text": [
      "."
     ]
    },
    {
     "name": "stdout",
     "output_type": "stream",
     "text": [
      "."
     ]
    },
    {
     "name": "stdout",
     "output_type": "stream",
     "text": [
      "."
     ]
    },
    {
     "name": "stdout",
     "output_type": "stream",
     "text": [
      "."
     ]
    },
    {
     "name": "stdout",
     "output_type": "stream",
     "text": [
      "."
     ]
    },
    {
     "name": "stderr",
     "output_type": "stream",
     "text": [
      "Duplicate sequences in merged output.\n"
     ]
    },
    {
     "name": "stdout",
     "output_type": "stream",
     "text": [
      "."
     ]
    },
    {
     "name": "stdout",
     "output_type": "stream",
     "text": [
      "."
     ]
    },
    {
     "name": "stdout",
     "output_type": "stream",
     "text": [
      "."
     ]
    },
    {
     "name": "stdout",
     "output_type": "stream",
     "text": [
      "."
     ]
    },
    {
     "name": "stdout",
     "output_type": "stream",
     "text": [
      "."
     ]
    },
    {
     "name": "stdout",
     "output_type": "stream",
     "text": [
      "."
     ]
    },
    {
     "name": "stderr",
     "output_type": "stream",
     "text": [
      "Duplicate sequences in merged output.\n"
     ]
    },
    {
     "name": "stdout",
     "output_type": "stream",
     "text": [
      "."
     ]
    },
    {
     "name": "stderr",
     "output_type": "stream",
     "text": [
      "Duplicate sequences in merged output.\n"
     ]
    },
    {
     "name": "stdout",
     "output_type": "stream",
     "text": [
      "."
     ]
    },
    {
     "name": "stdout",
     "output_type": "stream",
     "text": [
      "..."
     ]
    },
    {
     "name": "stderr",
     "output_type": "stream",
     "text": [
      "Duplicate sequences in merged output.\n"
     ]
    },
    {
     "name": "stdout",
     "output_type": "stream",
     "text": [
      "."
     ]
    },
    {
     "name": "stderr",
     "output_type": "stream",
     "text": [
      "Duplicate sequences in merged output.\n"
     ]
    },
    {
     "name": "stdout",
     "output_type": "stream",
     "text": [
      "."
     ]
    },
    {
     "name": "stdout",
     "output_type": "stream",
     "text": [
      "."
     ]
    },
    {
     "name": "stdout",
     "output_type": "stream",
     "text": [
      "."
     ]
    },
    {
     "name": "stdout",
     "output_type": "stream",
     "text": [
      "."
     ]
    },
    {
     "name": "stdout",
     "output_type": "stream",
     "text": [
      "."
     ]
    },
    {
     "name": "stdout",
     "output_type": "stream",
     "text": [
      "."
     ]
    },
    {
     "name": "stdout",
     "output_type": "stream",
     "text": [
      "."
     ]
    },
    {
     "name": "stdout",
     "output_type": "stream",
     "text": [
      "."
     ]
    },
    {
     "name": "stderr",
     "output_type": "stream",
     "text": [
      "Duplicate sequences in merged output.\n"
     ]
    },
    {
     "name": "stdout",
     "output_type": "stream",
     "text": [
      "."
     ]
    },
    {
     "name": "stdout",
     "output_type": "stream",
     "text": [
      "."
     ]
    },
    {
     "name": "stdout",
     "output_type": "stream",
     "text": [
      "."
     ]
    },
    {
     "name": "stdout",
     "output_type": "stream",
     "text": [
      "."
     ]
    },
    {
     "name": "stderr",
     "output_type": "stream",
     "text": [
      "Duplicate sequences in merged output.\n"
     ]
    },
    {
     "name": "stdout",
     "output_type": "stream",
     "text": [
      ".."
     ]
    },
    {
     "name": "stdout",
     "output_type": "stream",
     "text": [
      "."
     ]
    },
    {
     "name": "stdout",
     "output_type": "stream",
     "text": [
      "."
     ]
    },
    {
     "name": "stdout",
     "output_type": "stream",
     "text": [
      "."
     ]
    },
    {
     "name": "stdout",
     "output_type": "stream",
     "text": [
      "."
     ]
    },
    {
     "name": "stdout",
     "output_type": "stream",
     "text": [
      "."
     ]
    },
    {
     "name": "stdout",
     "output_type": "stream",
     "text": [
      "."
     ]
    },
    {
     "name": "stdout",
     "output_type": "stream",
     "text": [
      "."
     ]
    },
    {
     "name": "stdout",
     "output_type": "stream",
     "text": [
      "."
     ]
    },
    {
     "name": "stdout",
     "output_type": "stream",
     "text": [
      "."
     ]
    },
    {
     "name": "stdout",
     "output_type": "stream",
     "text": [
      "."
     ]
    },
    {
     "name": "stdout",
     "output_type": "stream",
     "text": [
      "."
     ]
    },
    {
     "name": "stdout",
     "output_type": "stream",
     "text": [
      "."
     ]
    },
    {
     "name": "stdout",
     "output_type": "stream",
     "text": [
      ".\n",
      "5) Remove chimeras (method = consensus)\n"
     ]
    },
    {
     "name": "stderr",
     "output_type": "stream",
     "text": [
      "Duplicate sequences detected and merged.\n",
      "Duplicate sequences detected and merged.\n",
      "Duplicate sequences detected and merged.\n",
      "Duplicate sequences detected and merged.\n",
      "Duplicate sequences detected and merged.\n",
      "Duplicate sequences detected and merged.\n",
      "Duplicate sequences detected and merged.\n",
      "Duplicate sequences detected and merged.\n",
      "Duplicate sequences detected and merged.\n",
      "Duplicate sequences detected and merged.\n",
      "Duplicate sequences detected and merged.\n",
      "Duplicate sequences detected and merged.\n",
      "Duplicate sequences detected and merged.\n",
      "Duplicate sequences detected and merged.\n"
     ]
    },
    {
     "name": "stdout",
     "output_type": "stream",
     "text": [
      "6) Report read numbers through the pipeline\n",
      "7) Write output\n"
     ]
    }
   ],
   "source": [
    "if not os.path.isfile(dada2_tabs) or replace_files:\n",
    "    interim_tabs_path = os.path.join(interim_data_dir, \"dada2-tabs.qza\")\n",
    "    interim_reps_path = os.path.join(interim_data_dir, \"dada2-reps.qza\")\n",
    "    interim_stat_path = os.path.join(interim_data_dir, \"dada2-stat.qza\")\n",
    "    # Verify if has shared files\n",
    "    if os.path.isfile(interim_tabs_path) and os.path.isfile(interim_reps_path) and os.path.isfile(interim_stat_path):\n",
    "        print(\"Load DADA2 data from shared files\")\n",
    "        tabs = Artifact.load(interim_tabs_path)\n",
    "        reps = Artifact.load(interim_reps_path)\n",
    "        stat = Artifact.load(interim_stat_path)\n",
    "    # Create new DADA2 files\n",
    "    else:\n",
    "        print(\"Create new local DADA2 data\")\n",
    "        if n_directions == 1: # SingleEnd\n",
    "            tabs, reps, stat = dada2_actions.denoise_single(\n",
    "                demultiplexed_seqs=demux,\n",
    "                trunc_q = phred,\n",
    "                n_threads = threads,\n",
    "                trunc_len = trunc_f,\n",
    "            )\n",
    "        elif n_directions == 2: # PairedEnd\n",
    "            tabs, reps, stat = dada2_actions.denoise_paired(\n",
    "                demultiplexed_seqs=demux,\n",
    "                trunc_q = phred,\n",
    "                min_overlap = overlap,\n",
    "                n_threads = threads,\n",
    "                trunc_len_f = trunc_f,\n",
    "                trunc_len_r = trunc_r,\n",
    "            )\n",
    "        tabs.save(dada2_tabs)\n",
    "        reps.save(dada2_reps)\n",
    "        stat.save(dada2_stat)\n",
    "else:\n",
    "    print(\"Load DADA2 data from local files\")\n",
    "    tabs = Artifact.load(dada2_tabs)\n",
    "    reps = Artifact.load(dada2_reps)\n",
    "    stat = Artifact.load(dada2_stat)"
   ]
  },
  {
   "cell_type": "markdown",
   "id": "ed51822d",
   "metadata": {
    "papermill": {
     "duration": 0.006337,
     "end_time": "2024-02-22T12:08:00.261813",
     "exception": false,
     "start_time": "2024-02-22T12:08:00.255476",
     "status": "completed"
    },
    "tags": []
   },
   "source": [
    "### Filter samples"
   ]
  },
  {
   "cell_type": "code",
   "execution_count": 12,
   "id": "af0a49c5",
   "metadata": {
    "execution": {
     "iopub.execute_input": "2024-02-22T12:08:00.275422Z",
     "iopub.status.busy": "2024-02-22T12:08:00.275273Z",
     "iopub.status.idle": "2024-02-22T12:08:00.506564Z",
     "shell.execute_reply": "2024-02-22T12:08:00.506075Z"
    },
    "papermill": {
     "duration": 0.239382,
     "end_time": "2024-02-22T12:08:00.507594",
     "exception": false,
     "start_time": "2024-02-22T12:08:00.268212",
     "status": "completed"
    },
    "tags": []
   },
   "outputs": [
    {
     "name": "stderr",
     "output_type": "stream",
     "text": [
      "/home/lauro/anaconda3/envs/qiime2-2023.5/lib/python3.8/site-packages/q2_types/feature_data/_transformer.py:258: FutureWarning: iteritems is deprecated and will be removed in a future version. Use .items instead.\n",
      "  for id_, seq in data.iteritems():\n"
     ]
    }
   ],
   "source": [
    "# Filter FeatureTable[Frequency | RelativeFrequency | PresenceAbsence | Composition] based on Metadata sample ID values\n",
    "tabs = filter_samples(\n",
    "    table=tabs,\n",
    "    metadata=metadata,\n",
    ").filtered_table\n",
    "# Filter SampleData[SequencesWithQuality | PairedEndSequencesWithQuality | JoinedSequencesWithQuality] based on Metadata sample ID values; returns FeatureData[Sequence | AlignedSequence]\n",
    "reps = filter_seqs(\n",
    "    data=reps,\n",
    "    table=tabs,\n",
    ").filtered_data"
   ]
  },
  {
   "cell_type": "markdown",
   "id": "0086f060",
   "metadata": {
    "papermill": {
     "duration": 0.006448,
     "end_time": "2024-02-22T12:08:00.520658",
     "exception": false,
     "start_time": "2024-02-22T12:08:00.514210",
     "status": "completed"
    },
    "tags": []
   },
   "source": [
    "### Define Visualizations Artifacts"
   ]
  },
  {
   "cell_type": "code",
   "execution_count": 13,
   "id": "e1408c1c",
   "metadata": {
    "ExecuteTime": {
     "end_time": "2022-05-30T19:57:39.249051Z",
     "start_time": "2022-05-30T19:57:39.173053Z"
    },
    "execution": {
     "iopub.execute_input": "2024-02-22T12:08:00.534038Z",
     "iopub.status.busy": "2024-02-22T12:08:00.533887Z",
     "iopub.status.idle": "2024-02-22T12:08:03.353337Z",
     "shell.execute_reply": "2024-02-22T12:08:03.352871Z"
    },
    "papermill": {
     "duration": 2.827384,
     "end_time": "2024-02-22T12:08:03.354407",
     "exception": false,
     "start_time": "2024-02-22T12:08:00.527023",
     "status": "completed"
    },
    "tags": []
   },
   "outputs": [
    {
     "data": {
      "image/png": "[encoded data removed]",
      "text/plain": [
       "<Figure size 640x480 with 1 Axes>"
      ]
     },
     "metadata": {},
     "output_type": "display_data"
    }
   ],
   "source": [
    "# If some of the DADA2 Visualization artifacts do not exist or if the old files will be replaced\n",
    "if need_view:\n",
    "    \n",
    "    tabs_view, = metadata_actions.tabulate(input=tabs.view(Metadata))\n",
    "    reps_view, = metadata_actions.tabulate(input=reps.view(Metadata))\n",
    "    stat_view, = metadata_actions.tabulate(input=stat.view(Metadata))\n",
    "    \n",
    "    tabs_view = summarize(table=tabs, sample_metadata=metadata).visualization\n",
    "    reps_view = tabulate_seqs(data=reps).visualization\n",
    "    core_view = core_features(table=tabs, min_fraction=.1, steps=10).visualization\n",
    "    \n",
    "    \n",
    "    # Save the artifacts objects\n",
    "    tabs_view.save(dada2_tabs_view)\n",
    "    reps_view.save(dada2_reps_view)\n",
    "    stat_view.save(dada2_stat_view)\n",
    "    core_view.save(dada2_core_view)\n",
    "\n",
    "else:\n",
    "    tabs_view = Visualization.load(dada2_tabs_view)\n",
    "    reps_view = Visualization.load(dada2_reps_view)\n",
    "    stat_view = Visualization.load(dada2_stat_view)\n",
    "    core_view = Visualization.load(dada2_core_view)"
   ]
  },
  {
   "cell_type": "code",
   "execution_count": 14,
   "id": "5a2761c8",
   "metadata": {
    "execution": {
     "iopub.execute_input": "2024-02-22T12:08:03.368768Z",
     "iopub.status.busy": "2024-02-22T12:08:03.368610Z",
     "iopub.status.idle": "2024-02-22T12:08:03.372165Z",
     "shell.execute_reply": "2024-02-22T12:08:03.371724Z"
    },
    "papermill": {
     "duration": 0.011648,
     "end_time": "2024-02-22T12:08:03.373086",
     "exception": false,
     "start_time": "2024-02-22T12:08:03.361438",
     "status": "completed"
    },
    "tags": []
   },
   "outputs": [],
   "source": [
    "def plot_stats_box(artifact, fname, total_reads_phases, percent_phases, cols):\n",
    "    import matplotlib.pyplot as plt\n",
    "    from qiime2 import Metadata\n",
    "    \n",
    "    df = artifact.view(Metadata).to_dataframe()\n",
    "    df_vals = df[total_reads_phases]\n",
    "    df_perc = df[percent_phases]\n",
    "    df_perc.columns = cols\n",
    "    \n",
    "    \n",
    "    plt.figure(figsize=(15,5))\n",
    "    plt.subplot(1, 2, 1)\n",
    "    df_vals.boxplot()\n",
    "    plt.xlabel('Fases')\n",
    "    plt.ylabel('# of reads')\n",
    "    \n",
    "    plt.subplot(1, 2, 2)\n",
    "    df_perc.boxplot()\n",
    "    plt.xlabel('Fases')\n",
    "    plt.ylabel('% of input')\n",
    "    \n",
    "    plt.savefig(fname, bbox_inches='tight')\n",
    "\n",
    "    plt.show()"
   ]
  },
  {
   "cell_type": "code",
   "execution_count": 15,
   "id": "773f8ee1",
   "metadata": {
    "execution": {
     "iopub.execute_input": "2024-02-22T12:08:03.386911Z",
     "iopub.status.busy": "2024-02-22T12:08:03.386793Z",
     "iopub.status.idle": "2024-02-22T12:08:03.389523Z",
     "shell.execute_reply": "2024-02-22T12:08:03.389110Z"
    },
    "papermill": {
     "duration": 0.010745,
     "end_time": "2024-02-22T12:08:03.390455",
     "exception": false,
     "start_time": "2024-02-22T12:08:03.379710",
     "status": "completed"
    },
    "tags": []
   },
   "outputs": [],
   "source": [
    "if n_directions == 1: # SingleEnd\n",
    "    total_reads_phases = ['input', 'filtered', 'denoised', 'non-chimeric']\n",
    "    percent_phases = ['percentage of input passed filter', 'percentage of input non-chimeric']\n",
    "    cols = ['filtered', 'non-chimeric']\n",
    "elif n_directions == 2: # PairedEnd\n",
    "    total_reads_phases = ['input', 'filtered', 'denoised', 'merged', 'non-chimeric']\n",
    "    percent_phases = ['percentage of input passed filter', 'percentage of input merged', 'percentage of input non-chimeric']\n",
    "    cols = ['filtered', 'merged', 'non-chimeric']"
   ]
  },
  {
   "cell_type": "code",
   "execution_count": 16,
   "id": "2bff50b3",
   "metadata": {
    "ExecuteTime": {
     "end_time": "2022-05-30T19:57:39.901491Z",
     "start_time": "2022-05-30T19:57:39.255220Z"
    },
    "execution": {
     "iopub.execute_input": "2024-02-22T12:08:03.404307Z",
     "iopub.status.busy": "2024-02-22T12:08:03.404174Z",
     "iopub.status.idle": "2024-02-22T12:08:03.692359Z",
     "shell.execute_reply": "2024-02-22T12:08:03.691883Z"
    },
    "papermill": {
     "duration": 0.296217,
     "end_time": "2024-02-22T12:08:03.693352",
     "exception": false,
     "start_time": "2024-02-22T12:08:03.397135",
     "status": "completed"
    },
    "scrolled": false,
    "tags": []
   },
   "outputs": [
    {
     "data": {
      "image/png": "[encoded data removed]",
      "text/plain": [
       "<Figure size 1500x500 with 2 Axes>"
      ]
     },
     "metadata": {},
     "output_type": "display_data"
    }
   ],
   "source": [
    "plot_stats_box(stat, os.path.join(img_folder, 'step02-stats-boxplot.pdf'), total_reads_phases, percent_phases, cols)"
   ]
  },
  {
   "cell_type": "code",
   "execution_count": 17,
   "id": "0fbeff6e",
   "metadata": {
    "ExecuteTime": {
     "end_time": "2022-05-31T17:58:47.140114Z",
     "start_time": "2022-05-31T17:58:47.087808Z"
    },
    "execution": {
     "iopub.execute_input": "2024-02-22T12:08:03.708015Z",
     "iopub.status.busy": "2024-02-22T12:08:03.707884Z",
     "iopub.status.idle": "2024-02-22T12:08:03.730432Z",
     "shell.execute_reply": "2024-02-22T12:08:03.730118Z"
    },
    "papermill": {
     "duration": 0.030759,
     "end_time": "2024-02-22T12:08:03.731317",
     "exception": false,
     "start_time": "2024-02-22T12:08:03.700558",
     "status": "completed"
    },
    "tags": []
   },
   "outputs": [
    {
     "data": {
      "text/html": [
       "<div>\n",
       "<style scoped>\n",
       "    .dataframe tbody tr th:only-of-type {\n",
       "        vertical-align: middle;\n",
       "    }\n",
       "\n",
       "    .dataframe tbody tr th {\n",
       "        vertical-align: top;\n",
       "    }\n",
       "\n",
       "    .dataframe thead th {\n",
       "        text-align: right;\n",
       "    }\n",
       "</style>\n",
       "<table border=\"1\" class=\"dataframe\">\n",
       "  <thead>\n",
       "    <tr style=\"text-align: right;\">\n",
       "      <th></th>\n",
       "      <th>percentage of input passed filter</th>\n",
       "      <th>percentage of input merged</th>\n",
       "      <th>percentage of input non-chimeric</th>\n",
       "    </tr>\n",
       "  </thead>\n",
       "  <tbody>\n",
       "    <tr>\n",
       "      <th>count</th>\n",
       "      <td>76.000000</td>\n",
       "      <td>76.000000</td>\n",
       "      <td>76.000000</td>\n",
       "    </tr>\n",
       "    <tr>\n",
       "      <th>mean</th>\n",
       "      <td>82.972632</td>\n",
       "      <td>76.153289</td>\n",
       "      <td>73.980000</td>\n",
       "    </tr>\n",
       "    <tr>\n",
       "      <th>std</th>\n",
       "      <td>3.659873</td>\n",
       "      <td>8.046687</td>\n",
       "      <td>8.524169</td>\n",
       "    </tr>\n",
       "    <tr>\n",
       "      <th>min</th>\n",
       "      <td>58.920000</td>\n",
       "      <td>28.110000</td>\n",
       "      <td>28.110000</td>\n",
       "    </tr>\n",
       "    <tr>\n",
       "      <th>25%</th>\n",
       "      <td>83.145000</td>\n",
       "      <td>74.345000</td>\n",
       "      <td>71.022500</td>\n",
       "    </tr>\n",
       "    <tr>\n",
       "      <th>50%</th>\n",
       "      <td>83.660000</td>\n",
       "      <td>77.725000</td>\n",
       "      <td>75.520000</td>\n",
       "    </tr>\n",
       "    <tr>\n",
       "      <th>75%</th>\n",
       "      <td>84.027500</td>\n",
       "      <td>80.355000</td>\n",
       "      <td>79.777500</td>\n",
       "    </tr>\n",
       "    <tr>\n",
       "      <th>max</th>\n",
       "      <td>84.950000</td>\n",
       "      <td>83.780000</td>\n",
       "      <td>83.730000</td>\n",
       "    </tr>\n",
       "  </tbody>\n",
       "</table>\n",
       "</div>"
      ],
      "text/plain": [
       "       percentage of input passed filter  percentage of input merged  \\\n",
       "count                          76.000000                   76.000000   \n",
       "mean                           82.972632                   76.153289   \n",
       "std                             3.659873                    8.046687   \n",
       "min                            58.920000                   28.110000   \n",
       "25%                            83.145000                   74.345000   \n",
       "50%                            83.660000                   77.725000   \n",
       "75%                            84.027500                   80.355000   \n",
       "max                            84.950000                   83.780000   \n",
       "\n",
       "       percentage of input non-chimeric  \n",
       "count                         76.000000  \n",
       "mean                          73.980000  \n",
       "std                            8.524169  \n",
       "min                           28.110000  \n",
       "25%                           71.022500  \n",
       "50%                           75.520000  \n",
       "75%                           79.777500  \n",
       "max                           83.730000  "
      ]
     },
     "execution_count": 17,
     "metadata": {},
     "output_type": "execute_result"
    }
   ],
   "source": [
    "stat.view(Metadata).to_dataframe().describe()[percent_phases]"
   ]
  },
  {
   "cell_type": "code",
   "execution_count": 18,
   "id": "04792140",
   "metadata": {
    "ExecuteTime": {
     "end_time": "2022-05-30T19:57:39.957632Z",
     "start_time": "2022-05-30T19:57:39.953762Z"
    },
    "execution": {
     "iopub.execute_input": "2024-02-22T12:08:03.746510Z",
     "iopub.status.busy": "2024-02-22T12:08:03.746081Z",
     "iopub.status.idle": "2024-02-22T12:08:03.749111Z",
     "shell.execute_reply": "2024-02-22T12:08:03.748811Z"
    },
    "papermill": {
     "duration": 0.011557,
     "end_time": "2024-02-22T12:08:03.750013",
     "exception": false,
     "start_time": "2024-02-22T12:08:03.738456",
     "status": "completed"
    },
    "tags": []
   },
   "outputs": [
    {
     "data": {
      "text/html": [
       "<div><img onload=\"(function(div, url){\n",
       "if (typeof require !== 'undefined') {\n",
       "    var baseURL = require.toUrl('').split('/').slice(0, -2).join('/');\n",
       "} else {\n",
       "    var baseURL = JSON.parse(\n",
       "        document.getElementById('jupyter-config-data').innerHTML\n",
       "    ).baseUrl.slice(0, -1);\n",
       "}\n",
       "url = baseURL + url;\n",
       "fetch(url).then(function(res) {\n",
       "    if (res.status === 404) {\n",
       "        div.innerHTML = 'Install QIIME 2 Jupyter extension with:<br />' +\n",
       "                        '<code>jupyter serverextension enable --py qiime2' +\n",
       "                        ' --sys-prefix</code><br />then restart your server.' +\n",
       "                        '<br /><br />(Interactive output not available on ' +\n",
       "                        'static notebook viewer services like nbviewer.)';\n",
       "    } else if (res.status === 409) {\n",
       "        div.innerHTML = 'Visualization no longer in scope. Re-run this cell' +\n",
       "                        ' to see the visualization.';\n",
       "    } else if (res.ok) {\n",
       "        url = res.url;\n",
       "        div.innerHTML = '<iframe src=\\'' + url + '\\' style=\\'' +\n",
       "                        'width: 100%; height: 700px; border: 0;\\'>' +\n",
       "                        '</iframe><hr />Open in a: <a href=\\'' + url + '\\'' +\n",
       "                        ' target=\\'_blank\\'>new window</a>'\n",
       "    } else {\n",
       "        div.innerHTML = 'Something has gone wrong. Check notebook server for' +\n",
       "                        ' errors.';\n",
       "    }\n",
       "});\n",
       "})(this.parentElement, '/qiime2/redirect?location=/tmp/qiime2/lauro/data/e0d814f9-3adb-4899-be62-aca37d2993d1')\" src=\"data:image/gif;base64,R0lGODlhAQABAIAAAP///wAAACH5BAEAAAAALAAAAAABAAEAAAICRAEAOw==\" /></div>"
      ],
      "text/plain": [
       "<visualization: Visualization uuid: e0d814f9-3adb-4899-be62-aca37d2993d1>"
      ]
     },
     "execution_count": 18,
     "metadata": {},
     "output_type": "execute_result"
    }
   ],
   "source": [
    "stat_view"
   ]
  }
 ],
 "metadata": {
  "celltoolbar": "Edit Metadata",
  "kernelspec": {
   "display_name": "Python 3 (ipykernel)",
   "language": "python",
   "name": "python3"
  },
  "language_info": {
   "codemirror_mode": {
    "name": "ipython",
    "version": 3
   },
   "file_extension": ".py",
   "mimetype": "text/x-python",
   "name": "python",
   "nbconvert_exporter": "python",
   "pygments_lexer": "ipython3",
   "version": "3.8.16"
  },
  "papermill": {
   "default_parameters": {},
   "duration": 941.490776,
   "end_time": "2024-02-22T12:08:04.574409",
   "environment_variables": {},
   "exception": null,
   "input_path": "nb-templates/step-quality-control.ipynb",
   "output_path": "/mnt/nupeb/rede-micro/redemicro-jennefer/experiments/jennefer-vs-paired-end-trim-histec/nb-executed-steps/step-quality-control-jennefer-vs-paired-end-trim-histec.ipynb",
   "parameters": {
    "base_dir": "/mnt/nupeb/rede-micro/redemicro-jennefer",
    "class_col": "class",
    "classifier_file": "/mnt/nupeb/rede-micro/datasets/16S_classifiers_qiime2/silva-138-99-nb-classifier.qza",
    "experiment_name": "jennefer-vs-paired-end-trim-histec",
    "manifest_file": "/mnt/nupeb/rede-micro/redemicro-jennefer/data/manifest.csv",
    "metadata_file": "/mnt/nupeb/rede-micro/redemicro-jennefer/data/metadata-his.tsv",
    "overlap": 12,
    "phred": 20,
    "replace_files": false,
    "threads": 6,
    "trim": {
     "forward_primer": "CCTACGGGRSGCAGCAG",
     "overlap": 8,
     "reverse_primer": "GGACTACHVGGGTWTCTAAT"
    },
    "trunc_f": 0,
    "trunc_r": 0
   },
   "start_time": "2024-02-22T11:52:23.083633",
   "version": "2.4.0"
  },
  "toc-autonumbering": false,
  "toc-showcode": false,
  "toc-showmarkdowntxt": false
 },
 "nbformat": 4,
 "nbformat_minor": 5
}