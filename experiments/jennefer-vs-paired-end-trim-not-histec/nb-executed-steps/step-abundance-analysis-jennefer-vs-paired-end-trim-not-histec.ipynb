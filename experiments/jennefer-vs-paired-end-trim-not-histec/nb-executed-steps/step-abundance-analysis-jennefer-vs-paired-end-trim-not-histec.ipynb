{
 "cells": [
  {
   "cell_type": "markdown",
   "id": "0e7f2330",
   "metadata": {
    "ExecuteTime": {
     "end_time": "2022-09-22T19:36:33.828188Z",
     "start_time": "2022-09-22T19:36:33.817323Z"
    },
    "papermill": {
     "duration": 0.010979,
     "end_time": "2024-03-12T22:49:02.153775",
     "exception": false,
     "start_time": "2024-03-12T22:49:02.142796",
     "status": "completed"
    },
    "tags": []
   },
   "source": [
    "### STEP : Diversity Analysis\n",
    "\n",
    "\n",
    "\n",
    "#### Example\n",
    "\n",
    "- [“Moving Pictures” tutorial](https://docs.qiime2.org/2022.8/tutorials/moving-pictures-usage/?highlight=ancom)\n",
    "- [Biostats ANCOM](http://scikit-bio.org/docs/0.4.2/generated/generated/skbio.stats.composition.ancom.html)\n",
    "\n",
    "\n",
    "#### Methods\n",
    "- [composition](https://docs.qiime2.org/2022.8/plugins/available/composition/)\n",
    "- [composition add_pseudocount](https://docs.qiime2.org/2022.8/plugins/available/composition/add-pseudocount/): Increment all counts in table by pseudocount.\n",
    "- [composition ancom](https://docs.qiime2.org/2022.8/plugins/available/composition/ancom/): Apply ANCOM to identify features that differ in abundance."
   ]
  },
  {
   "cell_type": "markdown",
   "id": "843debbf",
   "metadata": {
    "papermill": {
     "duration": 0.027491,
     "end_time": "2024-03-12T22:49:02.190801",
     "exception": false,
     "start_time": "2024-03-12T22:49:02.163310",
     "status": "completed"
    },
    "tags": []
   },
   "source": [
    "## Setup and settings"
   ]
  },
  {
   "cell_type": "code",
   "execution_count": 1,
   "id": "965e28e5",
   "metadata": {
    "ExecuteTime": {
     "end_time": "2022-11-03T20:35:26.198671Z",
     "start_time": "2022-11-03T20:35:06.473173Z"
    },
    "execution": {
     "iopub.execute_input": "2024-03-12T22:49:02.210834Z",
     "iopub.status.busy": "2024-03-12T22:49:02.210118Z",
     "iopub.status.idle": "2024-03-12T22:49:06.792465Z",
     "shell.execute_reply": "2024-03-12T22:49:06.791957Z"
    },
    "papermill": {
     "duration": 4.594359,
     "end_time": "2024-03-12T22:49:06.793678",
     "exception": false,
     "start_time": "2024-03-12T22:49:02.199319",
     "status": "completed"
    },
    "tags": []
   },
   "outputs": [],
   "source": [
    "# Importing packages\n",
    "import os\n",
    "import pandas as pd\n",
    "from qiime2 import Artifact\n",
    "from qiime2 import Visualization\n",
    "from qiime2 import Metadata\n",
    "\n",
    "from qiime2.plugins.composition.visualizers import ancom\n",
    "from qiime2.plugins.composition.methods import add_pseudocount\n",
    "\n",
    "from qiime2.plugins.feature_table.methods import filter_samples\n",
    "from qiime2.plugins.feature_table.methods import filter_seqs\n",
    "\n",
    "%matplotlib inline"
   ]
  },
  {
   "cell_type": "markdown",
   "id": "530ceb60",
   "metadata": {
    "papermill": {
     "duration": 0.001569,
     "end_time": "2024-03-12T22:49:06.833873",
     "exception": false,
     "start_time": "2024-03-12T22:49:06.832304",
     "status": "completed"
    },
    "tags": []
   },
   "source": [
    "### Receiving the parameters\n",
    "\n",
    "The following cell can receive parameters using the [papermill](https://papermill.readthedocs.io/en/latest/) tool."
   ]
  },
  {
   "cell_type": "code",
   "execution_count": 2,
   "id": "18d874ea",
   "metadata": {
    "ExecuteTime": {
     "end_time": "2022-09-29T20:54:14.793270Z",
     "start_time": "2022-09-29T20:54:14.789367Z"
    },
    "execution": {
     "iopub.execute_input": "2024-03-12T22:49:06.838015Z",
     "iopub.status.busy": "2024-03-12T22:49:06.837715Z",
     "iopub.status.idle": "2024-03-12T22:49:06.840568Z",
     "shell.execute_reply": "2024-03-12T22:49:06.840116Z"
    },
    "papermill": {
     "duration": 0.006077,
     "end_time": "2024-03-12T22:49:06.841526",
     "exception": false,
     "start_time": "2024-03-12T22:49:06.835449",
     "status": "completed"
    },
    "tags": [
     "parameters"
    ]
   },
   "outputs": [],
   "source": [
    "metadata_file = '/home/lauro/nupeb/rede-micro/redemicro-miliane-nutri/data/raw/metadata/miliane-metadata-CxAC.tsv'\n",
    "base_dir = os.path.join('/', 'home', 'lauro', 'nupeb', 'rede-micro', 'redemicro-miliane-nutri')\n",
    "experiment_name = 'miliane-CxAC-trim'\n",
    "class_col = 'group-id'\n",
    "replace_files = False"
   ]
  },
  {
   "cell_type": "code",
   "execution_count": 3,
   "id": "6e03284d",
   "metadata": {
    "execution": {
     "iopub.execute_input": "2024-03-12T22:49:06.845107Z",
     "iopub.status.busy": "2024-03-12T22:49:06.844977Z",
     "iopub.status.idle": "2024-03-12T22:49:06.847851Z",
     "shell.execute_reply": "2024-03-12T22:49:06.847403Z"
    },
    "papermill": {
     "duration": 0.005825,
     "end_time": "2024-03-12T22:49:06.848847",
     "exception": false,
     "start_time": "2024-03-12T22:49:06.843022",
     "status": "completed"
    },
    "tags": [
     "injected-parameters"
    ]
   },
   "outputs": [],
   "source": [
    "# Parameters\n",
    "experiment_name = \"jennefer-vs-paired-end-trim-not-histec\"\n",
    "base_dir = \"/mnt/nupeb/rede-micro/redemicro-jennefer\"\n",
    "manifest_file = \"/mnt/nupeb/rede-micro/redemicro-jennefer/data/manifest.csv\"\n",
    "metadata_file = \"/mnt/nupeb/rede-micro/redemicro-jennefer/data/metadata-not-his.tsv\"\n",
    "class_col = \"class\"\n",
    "classifier_file = \"/mnt/nupeb/rede-micro/datasets/16S_classifiers_qiime2/silva-138-99-nb-classifier.qza\"\n",
    "replace_files = False\n",
    "phred = 20\n",
    "trunc_f = 0\n",
    "trunc_r = 0\n",
    "overlap = 12\n",
    "threads = 6\n",
    "trim = {\n",
    "    \"overlap\": 8,\n",
    "    \"forward_primer\": \"CCTACGGGRSGCAGCAG\",\n",
    "    \"reverse_primer\": \"GGACTACHVGGGTWTCTAAT\",\n",
    "}\n"
   ]
  },
  {
   "cell_type": "code",
   "execution_count": 4,
   "id": "f38617d9",
   "metadata": {
    "ExecuteTime": {
     "end_time": "2022-09-29T20:54:14.804575Z",
     "start_time": "2022-09-29T20:54:14.794927Z"
    },
    "execution": {
     "iopub.execute_input": "2024-03-12T22:49:06.852647Z",
     "iopub.status.busy": "2024-03-12T22:49:06.852511Z",
     "iopub.status.idle": "2024-03-12T22:49:06.854936Z",
     "shell.execute_reply": "2024-03-12T22:49:06.854494Z"
    },
    "papermill": {
     "duration": 0.005452,
     "end_time": "2024-03-12T22:49:06.855908",
     "exception": false,
     "start_time": "2024-03-12T22:49:06.850456",
     "status": "completed"
    },
    "tags": []
   },
   "outputs": [],
   "source": [
    "experiment_folder = os.path.abspath(os.path.join(base_dir, 'experiments', experiment_name))\n",
    "img_folder = os.path.abspath(os.path.join(experiment_folder, 'imgs'))"
   ]
  },
  {
   "cell_type": "markdown",
   "id": "ea9b90fb",
   "metadata": {
    "papermill": {
     "duration": 0.001513,
     "end_time": "2024-03-12T22:49:06.858905",
     "exception": false,
     "start_time": "2024-03-12T22:49:06.857392",
     "status": "completed"
    },
    "tags": []
   },
   "source": [
    "### Defining names, paths and flags"
   ]
  },
  {
   "cell_type": "code",
   "execution_count": 5,
   "id": "45727eef",
   "metadata": {
    "ExecuteTime": {
     "end_time": "2022-09-29T20:54:14.816686Z",
     "start_time": "2022-09-29T20:54:14.806238Z"
    },
    "execution": {
     "iopub.execute_input": "2024-03-12T22:49:06.862560Z",
     "iopub.status.busy": "2024-03-12T22:49:06.862376Z",
     "iopub.status.idle": "2024-03-12T22:49:06.864556Z",
     "shell.execute_reply": "2024-03-12T22:49:06.864140Z"
    },
    "papermill": {
     "duration": 0.005001,
     "end_time": "2024-03-12T22:49:06.865447",
     "exception": false,
     "start_time": "2024-03-12T22:49:06.860446",
     "status": "completed"
    },
    "tags": []
   },
   "outputs": [],
   "source": [
    "# QIIME2 Artifacts folder\n",
    "qiime_folder = os.path.join(experiment_folder, 'qiime-artifacts')\n",
    "\n",
    "# Input - DADA2 Artifacts\n",
    "dada2_tabs_path = os.path.join(qiime_folder, 'dada2-tabs.qza')"
   ]
  },
  {
   "cell_type": "markdown",
   "id": "0999a1b2",
   "metadata": {
    "papermill": {
     "duration": 0.001465,
     "end_time": "2024-03-12T22:49:06.868402",
     "exception": false,
     "start_time": "2024-03-12T22:49:06.866937",
     "status": "completed"
    },
    "tags": []
   },
   "source": [
    "## Step execution\n",
    "\n",
    "### Load input files\n",
    "\n",
    "This Step import the QIIME2 `FeatureTable[Frequency]` Artifact and the `Metadata` file."
   ]
  },
  {
   "cell_type": "code",
   "execution_count": 6,
   "id": "8f299d1a",
   "metadata": {
    "ExecuteTime": {
     "end_time": "2022-09-29T20:54:15.559837Z",
     "start_time": "2022-09-29T20:54:14.830405Z"
    },
    "execution": {
     "iopub.execute_input": "2024-03-12T22:49:06.872212Z",
     "iopub.status.busy": "2024-03-12T22:49:06.871948Z",
     "iopub.status.idle": "2024-03-12T22:49:06.984151Z",
     "shell.execute_reply": "2024-03-12T22:49:06.983683Z"
    },
    "papermill": {
     "duration": 0.115399,
     "end_time": "2024-03-12T22:49:06.985306",
     "exception": false,
     "start_time": "2024-03-12T22:49:06.869907",
     "status": "completed"
    },
    "tags": []
   },
   "outputs": [],
   "source": [
    "#Load Metadata\n",
    "metadata_qa = Metadata.load(metadata_file)\n",
    "\n",
    "#Load FeatureTable[Frequency]\n",
    "tabs = Artifact.load(dada2_tabs_path)\n",
    "\n",
    "# Filter FeatureTable[Frequency | RelativeFrequency | PresenceAbsence | Composition] based on Metadata sample ID values\n",
    "tabs = filter_samples(\n",
    "    table=tabs,\n",
    "    metadata=metadata_qa,\n",
    ").filtered_table"
   ]
  },
  {
   "cell_type": "markdown",
   "id": "a9a446c4",
   "metadata": {
    "papermill": {
     "duration": 0.001572,
     "end_time": "2024-03-12T22:49:06.988676",
     "exception": false,
     "start_time": "2024-03-12T22:49:06.987104",
     "status": "completed"
    },
    "tags": []
   },
   "source": [
    "# ANCOM\n",
    "\n",
    "Apply Analysis of Composition of Microbiomes (ANCOM) to identify features\n",
    "that are differentially abundant across groups.\n",
    "\n",
    "- [composition add_pseudocount](https://docs.qiime2.org/2022.8/plugins/available/composition/add-pseudocount/): Increment all counts in table by pseudocount.\n",
    "- [composition ancom](https://docs.qiime2.org/2022.8/plugins/available/composition/ancom/): Apply ANCOM to identify features that differ in abundance."
   ]
  },
  {
   "cell_type": "code",
   "execution_count": 7,
   "id": "cda81bf5",
   "metadata": {
    "execution": {
     "iopub.execute_input": "2024-03-12T22:49:06.992732Z",
     "iopub.status.busy": "2024-03-12T22:49:06.992368Z",
     "iopub.status.idle": "2024-03-12T22:49:06.995704Z",
     "shell.execute_reply": "2024-03-12T22:49:06.995311Z"
    },
    "papermill": {
     "duration": 0.006362,
     "end_time": "2024-03-12T22:49:06.996611",
     "exception": false,
     "start_time": "2024-03-12T22:49:06.990249",
     "status": "completed"
    },
    "tags": []
   },
   "outputs": [],
   "source": [
    "# Select class column\n",
    "column = metadata_qa.get_column(class_col)"
   ]
  },
  {
   "cell_type": "code",
   "execution_count": 8,
   "id": "2f023bcc",
   "metadata": {
    "execution": {
     "iopub.execute_input": "2024-03-12T22:49:07.000346Z",
     "iopub.status.busy": "2024-03-12T22:49:07.000222Z",
     "iopub.status.idle": "2024-03-12T22:49:07.077516Z",
     "shell.execute_reply": "2024-03-12T22:49:07.077068Z"
    },
    "papermill": {
     "duration": 0.080388,
     "end_time": "2024-03-12T22:49:07.078589",
     "exception": false,
     "start_time": "2024-03-12T22:49:06.998201",
     "status": "completed"
    },
    "tags": []
   },
   "outputs": [],
   "source": [
    "# Create the pseudocount table\n",
    "composition_tab = add_pseudocount(table = tabs).composition_table"
   ]
  },
  {
   "cell_type": "code",
   "execution_count": 9,
   "id": "2999c2f6",
   "metadata": {
    "execution": {
     "iopub.execute_input": "2024-03-12T22:49:07.082542Z",
     "iopub.status.busy": "2024-03-12T22:49:07.082369Z",
     "iopub.status.idle": "2024-03-12T22:53:07.874667Z",
     "shell.execute_reply": "2024-03-12T22:53:07.874212Z"
    },
    "papermill": {
     "duration": 240.795576,
     "end_time": "2024-03-12T22:53:07.875819",
     "exception": false,
     "start_time": "2024-03-12T22:49:07.080243",
     "status": "completed"
    },
    "tags": []
   },
   "outputs": [
    {
     "name": "stdout",
     "output_type": "stream",
     "text": [
      "Calculating ANCOM with: sqrt mean_difference\n"
     ]
    },
    {
     "name": "stderr",
     "output_type": "stream",
     "text": [
      "/home/lauro/anaconda3/envs/qiime2-2023.5/lib/python3.8/site-packages/scipy/stats/_stats_py.py:3659: F_onewayConstantInputWarning: Each of the input arrays is constant;the F statistic is not defined or infinite\n",
      "  warnings.warn(F_onewayConstantInputWarning())\n"
     ]
    },
    {
     "name": "stdout",
     "output_type": "stream",
     "text": [
      "ERROR: Calculating ANCOM with: sqrt mean_difference\n",
      "<lambda>() takes 2 positional arguments but 3 were given\n",
      "Calculating ANCOM with: sqrt f_statistic\n"
     ]
    },
    {
     "name": "stderr",
     "output_type": "stream",
     "text": [
      "/home/lauro/anaconda3/envs/qiime2-2023.5/lib/python3.8/site-packages/scipy/stats/_stats_py.py:3659: F_onewayConstantInputWarning: Each of the input arrays is constant;the F statistic is not defined or infinite\n",
      "  warnings.warn(F_onewayConstantInputWarning())\n"
     ]
    },
    {
     "name": "stdout",
     "output_type": "stream",
     "text": [
      "Calculating ANCOM with: log mean_difference\n"
     ]
    },
    {
     "name": "stderr",
     "output_type": "stream",
     "text": [
      "/home/lauro/anaconda3/envs/qiime2-2023.5/lib/python3.8/site-packages/scipy/stats/_stats_py.py:3659: F_onewayConstantInputWarning: Each of the input arrays is constant;the F statistic is not defined or infinite\n",
      "  warnings.warn(F_onewayConstantInputWarning())\n"
     ]
    },
    {
     "name": "stdout",
     "output_type": "stream",
     "text": [
      "ERROR: Calculating ANCOM with: log mean_difference\n",
      "<lambda>() takes 2 positional arguments but 3 were given\n",
      "Calculating ANCOM with: log f_statistic\n"
     ]
    },
    {
     "name": "stderr",
     "output_type": "stream",
     "text": [
      "/home/lauro/anaconda3/envs/qiime2-2023.5/lib/python3.8/site-packages/scipy/stats/_stats_py.py:3659: F_onewayConstantInputWarning: Each of the input arrays is constant;the F statistic is not defined or infinite\n",
      "  warnings.warn(F_onewayConstantInputWarning())\n"
     ]
    },
    {
     "name": "stdout",
     "output_type": "stream",
     "text": [
      "Calculating ANCOM with: clr mean_difference\n"
     ]
    },
    {
     "name": "stderr",
     "output_type": "stream",
     "text": [
      "/home/lauro/anaconda3/envs/qiime2-2023.5/lib/python3.8/site-packages/scipy/stats/_stats_py.py:3659: F_onewayConstantInputWarning: Each of the input arrays is constant;the F statistic is not defined or infinite\n",
      "  warnings.warn(F_onewayConstantInputWarning())\n"
     ]
    },
    {
     "name": "stdout",
     "output_type": "stream",
     "text": [
      "ERROR: Calculating ANCOM with: clr mean_difference\n",
      "<lambda>() takes 2 positional arguments but 3 were given\n",
      "Calculating ANCOM with: clr f_statistic\n"
     ]
    },
    {
     "name": "stderr",
     "output_type": "stream",
     "text": [
      "/home/lauro/anaconda3/envs/qiime2-2023.5/lib/python3.8/site-packages/scipy/stats/_stats_py.py:3659: F_onewayConstantInputWarning: Each of the input arrays is constant;the F statistic is not defined or infinite\n",
      "  warnings.warn(F_onewayConstantInputWarning())\n"
     ]
    }
   ],
   "source": [
    "# Create visualizations for each parameter combination for the ANCOM  method.\n",
    "transform_functions = ('sqrt', 'log', 'clr')\n",
    "difference_functions = ('mean_difference', 'f_statistic')\n",
    "for t in transform_functions:\n",
    "    for d in difference_functions:\n",
    "        print(f\"Calculating ANCOM with: {t} {d}\")\n",
    "        try:\n",
    "            ancom_viz = ancom(\n",
    "                table = composition_tab, \n",
    "                metadata = column, \n",
    "                transform_function = t, \n",
    "                difference_function = d\n",
    "            ).visualization\n",
    "            view_name = os.path.join(qiime_folder, f'ancom-{t}-{d}.qzv')\n",
    "            ancom_viz.save(view_name)\n",
    "        except Exception as e:\n",
    "            print(f\"ERROR: Calculating ANCOM with: {t} {d}\")\n",
    "            print(e)"
   ]
  }
 ],
 "metadata": {
  "celltoolbar": "Edit Metadata",
  "kernelspec": {
   "display_name": "Python 3 (ipykernel)",
   "language": "python",
   "name": "python3"
  },
  "language_info": {
   "codemirror_mode": {
    "name": "ipython",
    "version": 3
   },
   "file_extension": ".py",
   "mimetype": "text/x-python",
   "name": "python",
   "nbconvert_exporter": "python",
   "pygments_lexer": "ipython3",
   "version": "3.8.16"
  },
  "papermill": {
   "default_parameters": {},
   "duration": 247.369885,
   "end_time": "2024-03-12T22:53:08.495354",
   "environment_variables": {},
   "exception": null,
   "input_path": "nb-templates/step-abundance-analysis.ipynb",
   "output_path": "/mnt/nupeb/rede-micro/redemicro-jennefer/experiments/jennefer-vs-paired-end-trim-not-histec/nb-executed-steps/step-abundance-analysis-jennefer-vs-paired-end-trim-not-histec.ipynb",
   "parameters": {
    "base_dir": "/mnt/nupeb/rede-micro/redemicro-jennefer",
    "class_col": "class",
    "classifier_file": "/mnt/nupeb/rede-micro/datasets/16S_classifiers_qiime2/silva-138-99-nb-classifier.qza",
    "experiment_name": "jennefer-vs-paired-end-trim-not-histec",
    "manifest_file": "/mnt/nupeb/rede-micro/redemicro-jennefer/data/manifest.csv",
    "metadata_file": "/mnt/nupeb/rede-micro/redemicro-jennefer/data/metadata-not-his.tsv",
    "overlap": 12,
    "phred": 20,
    "replace_files": false,
    "threads": 6,
    "trim": {
     "forward_primer": "CCTACGGGRSGCAGCAG",
     "overlap": 8,
     "reverse_primer": "GGACTACHVGGGTWTCTAAT"
    },
    "trunc_f": 0,
    "trunc_r": 0
   },
   "start_time": "2024-03-12T22:49:01.125469",
   "version": "2.4.0"
  }
 },
 "nbformat": 4,
 "nbformat_minor": 5
}