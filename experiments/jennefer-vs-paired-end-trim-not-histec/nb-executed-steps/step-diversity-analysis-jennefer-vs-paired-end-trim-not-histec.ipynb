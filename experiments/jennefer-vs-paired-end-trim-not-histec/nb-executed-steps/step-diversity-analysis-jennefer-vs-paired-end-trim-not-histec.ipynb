{
 "cells": [
  {
   "cell_type": "markdown",
   "id": "15bcfa06",
   "metadata": {
    "papermill": {
     "duration": 0.020442,
     "end_time": "2024-03-12T22:47:35.858730",
     "exception": false,
     "start_time": "2024-03-12T22:47:35.838288",
     "status": "completed"
    },
    "tags": []
   },
   "source": [
    " \n",
    "# Alpha and Beta Diversity\n",
    "\n",
    "Different higher-level measures are often used to describe the microbiome in a sample. These do not provide information on changes in the abundance of specific taxa but allow us to access a broader change or difference in the composition of microorganisms. Alpha and beta diversity are examples of such measures.\n",
    "\n",
    "Different measures exist to estimate diversity within a single sample, jointly called alpha diversity. The different measures reflect the richness (number) or distribution (evenness) of a microbial sample or aim to reflect a combination of both properties.\n",
    "\n",
    "Rarefaction curves are often used when calculating alpha diversity indices because increasing numbers of sequenced taxa allow increasingly accurate estimates of total population diversity. Rarefaction curves can therefore be used to estimate the full sample richness, as compared to the observed sample richness.\n",
    "\n",
    "While alpha diversity is a measure of microbiome diversity applicable to a single sample, beta diversity is a measure of the similarity or dissimilarity of two communities. As for alpha diversity, many indices exist, each reflecting different aspects of community heterogeneity. Key differences relate to how the indices value variation in rare species if they consider presence/absence only or incorporate abundance, and how they interpret shared absence. Bray-Curtis dissimilarity is a popular measure that considers both size (overall abundance per sample) and shape (abundance of each taxon) of the communities (Bray, 1957). Beta diversity is an essential measure for many popular statistical methods in ecology, such as ordination-based methods, and is widely used for studying the association between environmental variables and microbial composition.\n",
    "\n",
    "In summary, alpha diversity measures can be seen as a summary statistic of a single population (within-sample diversity), while beta diversity measures are estimates of similarity or dissimilarity between populations (between samples).\n",
    "\n",
    "**Source**: (https://biomcare.com/info/key-terms-in-microbiome-projects/)"
   ]
  },
  {
   "cell_type": "markdown",
   "id": "0e7f2330",
   "metadata": {
    "ExecuteTime": {
     "end_time": "2022-09-22T19:36:33.828188Z",
     "start_time": "2022-09-22T19:36:33.817323Z"
    },
    "papermill": {
     "duration": 0.024366,
     "end_time": "2024-03-12T22:47:35.898888",
     "exception": false,
     "start_time": "2024-03-12T22:47:35.874522",
     "status": "completed"
    },
    "tags": []
   },
   "source": [
    "### STEP : Diversity Analysis\n",
    "\n",
    "Using QIIME2 to create diversity analisys graphs and calculations.\n",
    "\n",
    "- [QIIME2 Workflow Overview](https://docs.qiime2.org/2022.8/tutorials/overview/)\n",
    "\n",
    "\n",
    "#### Methods\n",
    "- [diversity](https://docs.qiime2.org/2022.8/plugins/available/diversity/)\n",
    "- [diversity alpha](https://docs.qiime2.org/2022.8/plugins/available/diversity/alpha/)\n",
    "- [diversity alpha_phylogenetic](https://docs.qiime2.org/2022.8/plugins/available/diversity/alpha-phylogenetic/)\n",
    "- [diversity beta](https://docs.qiime2.org/2022.8/plugins/available/diversity/beta/)\n",
    "- [diversity core_metrics](https://docs.qiime2.org/2022.8/plugins/available/diversity/core-metrics/)\n",
    "- [diversity alpha_group_significance](https://docs.qiime2.org/2022.8/plugins/available/diversity/alpha-group-significance/)\n",
    "- [diversity beta_group_significance](https://docs.qiime2.org/2022.8/plugins/available/diversity/beta-group-significance/)\n",
    "- [feature_table core_features](https://docs.qiime2.org/2022.8/plugins/available/feature-table/core-features/)\n",
    "- [feature_table summarize](https://docs.qiime2.org/2022.8/plugins/available/feature-table/summarize/)\n",
    "- [taxa filter-table](https://docs.qiime2.org/2022.8/plugins/available/taxa/filter-table/)\n",
    "- [taxa collapse](https://docs.qiime2.org/2022.8/plugins/available/taxa/collapse/)"
   ]
  },
  {
   "cell_type": "markdown",
   "id": "843debbf",
   "metadata": {
    "papermill": {
     "duration": 0.023672,
     "end_time": "2024-03-12T22:47:35.940774",
     "exception": false,
     "start_time": "2024-03-12T22:47:35.917102",
     "status": "completed"
    },
    "tags": []
   },
   "source": [
    "## Setup and settings"
   ]
  },
  {
   "cell_type": "code",
   "execution_count": 1,
   "id": "965e28e5",
   "metadata": {
    "ExecuteTime": {
     "end_time": "2022-11-03T20:35:26.198671Z",
     "start_time": "2022-11-03T20:35:06.473173Z"
    },
    "execution": {
     "iopub.execute_input": "2024-03-12T22:47:35.955217Z",
     "iopub.status.busy": "2024-03-12T22:47:35.954934Z",
     "iopub.status.idle": "2024-03-12T22:47:40.472231Z",
     "shell.execute_reply": "2024-03-12T22:47:40.471717Z"
    },
    "papermill": {
     "duration": 4.526131,
     "end_time": "2024-03-12T22:47:40.473499",
     "exception": false,
     "start_time": "2024-03-12T22:47:35.947368",
     "status": "completed"
    },
    "tags": []
   },
   "outputs": [],
   "source": [
    "# Importing packages\n",
    "import os\n",
    "import pandas as pd\n",
    "from qiime2 import Artifact\n",
    "from qiime2 import Visualization\n",
    "from qiime2 import Metadata\n",
    "\n",
    "from qiime2.plugins.phylogeny.pipelines import align_to_tree_mafft_fasttree\n",
    "\n",
    "from qiime2.plugins.diversity.pipelines import alpha\n",
    "from qiime2.plugins.diversity.pipelines import beta\n",
    "from qiime2.plugins.diversity.pipelines import core_metrics\n",
    "from qiime2.plugins.diversity.pipelines import alpha_phylogenetic\n",
    "\n",
    "from qiime2.plugins.diversity.visualizers import alpha_group_significance\n",
    "from qiime2.plugins.diversity.visualizers import beta_group_significance\n",
    "from qiime2.plugins.diversity.visualizers import alpha_correlation\n",
    "from qiime2.plugins.diversity.visualizers import beta_rarefaction\n",
    "\n",
    "from qiime2.plugins.taxa.methods import filter_table\n",
    "from qiime2.plugins.taxa.methods import collapse\n",
    "\n",
    "from qiime2.plugins.feature_table.visualizers import tabulate_seqs\n",
    "from qiime2.plugins.feature_table.visualizers import summarize\n",
    "from qiime2.plugins.feature_table.visualizers import core_features\n",
    "from qiime2.plugins.diversity.pipelines import core_metrics_phylogenetic\n",
    "\n",
    "from qiime2.plugins.feature_table.methods import filter_samples\n",
    "from qiime2.plugins.feature_table.methods import filter_seqs\n",
    "\n",
    "from qiime2.plugins.alignment.methods import mafft\n",
    "\n",
    "\n",
    "import matplotlib.pyplot as plt\n",
    "\n",
    "%matplotlib inline"
   ]
  },
  {
   "cell_type": "markdown",
   "id": "530ceb60",
   "metadata": {
    "papermill": {
     "duration": 0.002915,
     "end_time": "2024-03-12T22:47:40.479558",
     "exception": false,
     "start_time": "2024-03-12T22:47:40.476643",
     "status": "completed"
    },
    "tags": []
   },
   "source": [
    "### Receiving the parameters\n",
    "\n",
    "The following cell can receive parameters using the [papermill](https://papermill.readthedocs.io/en/latest/) tool."
   ]
  },
  {
   "cell_type": "code",
   "execution_count": 2,
   "id": "18d874ea",
   "metadata": {
    "ExecuteTime": {
     "end_time": "2022-09-29T20:54:14.793270Z",
     "start_time": "2022-09-29T20:54:14.789367Z"
    },
    "execution": {
     "iopub.execute_input": "2024-03-12T22:47:40.486861Z",
     "iopub.status.busy": "2024-03-12T22:47:40.486563Z",
     "iopub.status.idle": "2024-03-12T22:47:40.489592Z",
     "shell.execute_reply": "2024-03-12T22:47:40.489169Z"
    },
    "papermill": {
     "duration": 0.008167,
     "end_time": "2024-03-12T22:47:40.490564",
     "exception": false,
     "start_time": "2024-03-12T22:47:40.482397",
     "status": "completed"
    },
    "tags": [
     "parameters"
    ]
   },
   "outputs": [],
   "source": [
    "base_dir = os.path.join('/', 'home')\n",
    "metadata_file = os.path.abspath(os.path.join(base_dir, 'data', 'metadatada.tsv'))\n",
    "experiment_name = ''\n",
    "class_col = ''\n",
    "replace_files = False"
   ]
  },
  {
   "cell_type": "code",
   "execution_count": 3,
   "id": "21d51c8b",
   "metadata": {
    "execution": {
     "iopub.execute_input": "2024-03-12T22:47:40.496815Z",
     "iopub.status.busy": "2024-03-12T22:47:40.496696Z",
     "iopub.status.idle": "2024-03-12T22:47:40.499510Z",
     "shell.execute_reply": "2024-03-12T22:47:40.499104Z"
    },
    "papermill": {
     "duration": 0.006969,
     "end_time": "2024-03-12T22:47:40.500362",
     "exception": false,
     "start_time": "2024-03-12T22:47:40.493393",
     "status": "completed"
    },
    "tags": [
     "injected-parameters"
    ]
   },
   "outputs": [],
   "source": [
    "# Parameters\n",
    "experiment_name = \"jennefer-vs-paired-end-trim-not-histec\"\n",
    "base_dir = \"/mnt/nupeb/rede-micro/redemicro-jennefer\"\n",
    "manifest_file = \"/mnt/nupeb/rede-micro/redemicro-jennefer/data/manifest.csv\"\n",
    "metadata_file = \"/mnt/nupeb/rede-micro/redemicro-jennefer/data/metadata-not-his.tsv\"\n",
    "class_col = \"class\"\n",
    "classifier_file = \"/mnt/nupeb/rede-micro/datasets/16S_classifiers_qiime2/silva-138-99-nb-classifier.qza\"\n",
    "replace_files = False\n",
    "phred = 20\n",
    "trunc_f = 0\n",
    "trunc_r = 0\n",
    "overlap = 12\n",
    "threads = 6\n",
    "trim = {\n",
    "    \"overlap\": 8,\n",
    "    \"forward_primer\": \"CCTACGGGRSGCAGCAG\",\n",
    "    \"reverse_primer\": \"GGACTACHVGGGTWTCTAAT\",\n",
    "}\n"
   ]
  },
  {
   "cell_type": "code",
   "execution_count": 4,
   "id": "f38617d9",
   "metadata": {
    "ExecuteTime": {
     "end_time": "2022-09-29T20:54:14.804575Z",
     "start_time": "2022-09-29T20:54:14.794927Z"
    },
    "execution": {
     "iopub.execute_input": "2024-03-12T22:47:40.506690Z",
     "iopub.status.busy": "2024-03-12T22:47:40.506573Z",
     "iopub.status.idle": "2024-03-12T22:47:40.508915Z",
     "shell.execute_reply": "2024-03-12T22:47:40.508616Z"
    },
    "papermill": {
     "duration": 0.006611,
     "end_time": "2024-03-12T22:47:40.509859",
     "exception": false,
     "start_time": "2024-03-12T22:47:40.503248",
     "status": "completed"
    },
    "tags": []
   },
   "outputs": [],
   "source": [
    "experiment_folder = os.path.abspath(os.path.join(base_dir, 'experiments', experiment_name))\n",
    "img_folder = os.path.abspath(os.path.join(experiment_folder, 'imgs'))"
   ]
  },
  {
   "cell_type": "markdown",
   "id": "ea9b90fb",
   "metadata": {
    "papermill": {
     "duration": 0.002838,
     "end_time": "2024-03-12T22:47:40.515610",
     "exception": false,
     "start_time": "2024-03-12T22:47:40.512772",
     "status": "completed"
    },
    "tags": []
   },
   "source": [
    "### Defining names, paths and flags"
   ]
  },
  {
   "cell_type": "code",
   "execution_count": 5,
   "id": "45727eef",
   "metadata": {
    "ExecuteTime": {
     "end_time": "2022-09-29T20:54:14.816686Z",
     "start_time": "2022-09-29T20:54:14.806238Z"
    },
    "execution": {
     "iopub.execute_input": "2024-03-12T22:47:40.522266Z",
     "iopub.status.busy": "2024-03-12T22:47:40.521785Z",
     "iopub.status.idle": "2024-03-12T22:47:40.526224Z",
     "shell.execute_reply": "2024-03-12T22:47:40.525769Z"
    },
    "papermill": {
     "duration": 0.008599,
     "end_time": "2024-03-12T22:47:40.527114",
     "exception": false,
     "start_time": "2024-03-12T22:47:40.518515",
     "status": "completed"
    },
    "tags": []
   },
   "outputs": [
    {
     "name": "stdout",
     "output_type": "stream",
     "text": [
      "The new directory is created in /mnt/nupeb/rede-micro/redemicro-jennefer/experiments/jennefer-vs-paired-end-trim-not-histec/qiime-artifacts/alpha-analysis\n",
      "The new directory is created in /mnt/nupeb/rede-micro/redemicro-jennefer/experiments/jennefer-vs-paired-end-trim-not-histec/qiime-artifacts/beta-analysis\n"
     ]
    }
   ],
   "source": [
    "# QIIME2 Artifacts folder\n",
    "qiime_folder = os.path.join(experiment_folder, 'qiime-artifacts')\n",
    "\n",
    "# Input - DADA2 Artifacts\n",
    "dada2_tabs_path = os.path.join(qiime_folder, 'dada2-tabs.qza')\n",
    "dada2_reps_path = os.path.join(qiime_folder, 'dada2-reps.qza')\n",
    "dada2_stat_path = os.path.join(qiime_folder, 'dada2-stat.qza')\n",
    "\n",
    "# Input - Taxonaomic Artifacts\n",
    "taxonomy_path = os.path.join(qiime_folder, 'metatax.qza')\n",
    "\n",
    "# Create folder to store Alpha files\n",
    "alpha_path = os.path.join(qiime_folder, 'alpha-analysis')\n",
    "if not os.path.exists(alpha_path):\n",
    "    os.makedirs(alpha_path)\n",
    "    print(f'The new directory is created in {alpha_path}')\n",
    "    \n",
    "# Create folder to store Beta files\n",
    "beta_path = os.path.join(qiime_folder, 'beta-analysis')\n",
    "if not os.path.exists(beta_path):\n",
    "    os.makedirs(beta_path)\n",
    "    print(f'The new directory is created in {beta_path}')\n",
    "\n",
    "# Output -Diversity Artifacts\n",
    "alpha_diversity_path = os.path.join(alpha_path, 'alpha-diversity.qza')\n",
    "alpha_diversity_view_path = os.path.join(alpha_path, 'alpha-diversity.qzv')\n",
    "beta_diversity_path = os.path.join(beta_path, 'beta-diversity.qza')\n",
    "beta_diversity_view_path = os.path.join(beta_path, 'beta-diversity.qzv')"
   ]
  },
  {
   "cell_type": "code",
   "execution_count": 6,
   "id": "601ae263",
   "metadata": {
    "ExecuteTime": {
     "end_time": "2022-09-29T20:54:14.829117Z",
     "start_time": "2022-09-29T20:54:14.818272Z"
    },
    "execution": {
     "iopub.execute_input": "2024-03-12T22:47:40.533840Z",
     "iopub.status.busy": "2024-03-12T22:47:40.533707Z",
     "iopub.status.idle": "2024-03-12T22:47:40.537300Z",
     "shell.execute_reply": "2024-03-12T22:47:40.536882Z"
    },
    "papermill": {
     "duration": 0.008155,
     "end_time": "2024-03-12T22:47:40.538220",
     "exception": false,
     "start_time": "2024-03-12T22:47:40.530065",
     "status": "completed"
    },
    "tags": []
   },
   "outputs": [],
   "source": [
    "def filter_and_collapse(tab, seqs, tax, meta, lvl, exclude=True, exclude_list='uncultured,unidentified,metagenome'):\n",
    "    from qiime2.plugins.taxa.methods import collapse\n",
    "    from qiime2.plugins.taxa.methods import filter_table\n",
    "    from qiime2.plugins.feature_table.methods import filter_seqs\n",
    "    from qiime2.plugins.feature_table.visualizers import summarize\n",
    "    \n",
    "    to_include = ('d', 'p', 'c', 'o', 'f', 'g', 's')[lvl-1]\n",
    "    to_include += '__'\n",
    "    to_exclude = exclude_list if exclude else None\n",
    "    \n",
    "    filtered_tabs = filter_table(\n",
    "        table=tab, \n",
    "        taxonomy=tax,\n",
    "        include=to_include,\n",
    "        exclude=to_exclude,\n",
    "        mode='contains').filtered_table\n",
    "    \n",
    "    filtered_seqs = filter_seqs(\n",
    "        data = seqs,\n",
    "        table = filtered_tabs,\n",
    "    ).filtered_data\n",
    "    \n",
    "    collapsed_table = collapse(table=filtered_tabs, taxonomy=tax, level=lvl).collapsed_table\n",
    "    collapsed_table_view = summarize(table=collapsed_table, sample_metadata=meta).visualization\n",
    "    \n",
    "    return collapsed_table, collapsed_table_view, filtered_seqs"
   ]
  },
  {
   "cell_type": "markdown",
   "id": "0999a1b2",
   "metadata": {
    "papermill": {
     "duration": 0.002887,
     "end_time": "2024-03-12T22:47:40.543993",
     "exception": false,
     "start_time": "2024-03-12T22:47:40.541106",
     "status": "completed"
    },
    "tags": []
   },
   "source": [
    "## Step execution\n",
    "\n",
    "### Load input files\n",
    "\n",
    "This Step import the QIIME2 `FeatureTable[Frequency]` Artifact and the `Metadata` file."
   ]
  },
  {
   "cell_type": "code",
   "execution_count": 7,
   "id": "8f299d1a",
   "metadata": {
    "ExecuteTime": {
     "end_time": "2022-09-29T20:54:15.559837Z",
     "start_time": "2022-09-29T20:54:14.830405Z"
    },
    "execution": {
     "iopub.execute_input": "2024-03-12T22:47:40.550476Z",
     "iopub.status.busy": "2024-03-12T22:47:40.550360Z",
     "iopub.status.idle": "2024-03-12T22:47:40.966838Z",
     "shell.execute_reply": "2024-03-12T22:47:40.966376Z"
    },
    "papermill": {
     "duration": 0.42095,
     "end_time": "2024-03-12T22:47:40.967960",
     "exception": false,
     "start_time": "2024-03-12T22:47:40.547010",
     "status": "completed"
    },
    "tags": []
   },
   "outputs": [],
   "source": [
    "#Load Metadata\n",
    "metadata_qa = Metadata.load(metadata_file)\n",
    "\n",
    "#Load FeatureTable[Frequency]\n",
    "tabs = Artifact.load(dada2_tabs_path)\n",
    "tabs_df = tabs.view(Metadata).to_dataframe().T\n",
    "\n",
    "# FeatureData[Sequence]\n",
    "reps = Artifact.load(dada2_reps_path)\n",
    "\n",
    "# FeatureData[Taxonomy]\n",
    "tax = Artifact.load(taxonomy_path)"
   ]
  },
  {
   "cell_type": "code",
   "execution_count": 8,
   "id": "c8dfe530",
   "metadata": {
    "ExecuteTime": {
     "end_time": "2022-09-29T20:54:15.564968Z",
     "start_time": "2022-09-29T20:54:15.561875Z"
    },
    "execution": {
     "iopub.execute_input": "2024-03-12T22:47:40.975370Z",
     "iopub.status.busy": "2024-03-12T22:47:40.974803Z",
     "iopub.status.idle": "2024-03-12T22:47:41.236750Z",
     "shell.execute_reply": "2024-03-12T22:47:41.236300Z"
    },
    "papermill": {
     "duration": 0.266526,
     "end_time": "2024-03-12T22:47:41.237711",
     "exception": false,
     "start_time": "2024-03-12T22:47:40.971185",
     "status": "completed"
    },
    "tags": []
   },
   "outputs": [
    {
     "name": "stderr",
     "output_type": "stream",
     "text": [
      "/home/lauro/anaconda3/envs/qiime2-2023.5/lib/python3.8/site-packages/q2_types/feature_data/_transformer.py:258: FutureWarning: iteritems is deprecated and will be removed in a future version. Use .items instead.\n",
      "  for id_, seq in data.iteritems():\n"
     ]
    }
   ],
   "source": [
    "# Filter FeatureTable[Frequency | RelativeFrequency | PresenceAbsence | Composition] based on Metadata sample ID values\n",
    "tabs = filter_samples(\n",
    "    table=tabs,\n",
    "    metadata=metadata_qa,\n",
    ").filtered_table\n",
    "# Filter SampleData[SequencesWithQuality | PairedEndSequencesWithQuality | JoinedSequencesWithQuality] based on Metadata sample ID values; returns FeatureData[Sequence | AlignedSequence]\n",
    "reps = filter_seqs(\n",
    "    data=reps,\n",
    "    table=tabs,\n",
    ").filtered_data"
   ]
  },
  {
   "cell_type": "markdown",
   "id": "9f43843a",
   "metadata": {
    "ExecuteTime": {
     "end_time": "2022-09-22T22:48:07.523952Z",
     "start_time": "2022-09-22T22:48:07.517565Z"
    },
    "papermill": {
     "duration": 0.003078,
     "end_time": "2024-03-12T22:47:41.244138",
     "exception": false,
     "start_time": "2024-03-12T22:47:41.241060",
     "status": "completed"
    },
    "tags": []
   },
   "source": [
    "## Alpha diversity analysis\n",
    "\n",
    "#### Reference\n",
    "- [The Use and Types of Alpha-Diversity Metrics in Microbial NGS](https://www.cd-genomics.com/microbioseq/the-use-and-types-of-alpha-diversity-metrics-in-microbial-ngs.html)\n",
    "- [Alpha diversity metrics](http://scikit-bio.org/docs/0.2.0/generated/skbio.diversity.alpha.html)\n",
    "\n",
    "#### Methods\n",
    "- [diversity alpha](https://docs.qiime2.org/2022.8/plugins/available/diversity/alpha/): Computes a user-specified alpha diversity metric for all samples in a\n",
    "feature table.\n",
    "- [diversity alpha_phylogenetic](https://docs.qiime2.org/2022.8/plugins/available/diversity/alpha-phylogenetic/): Computes a user-specified phylogenetic alpha diversity metric for all\n",
    "samples in a feature table.\n",
    "- [diversity alpha_correlation](https://docs.qiime2.org/2022.8/plugins/available/diversity/alpha-correlation/): Determine whether numeric sample metadata columns are correlated with alpha diversity.\n",
    "- [diversity alpha_group_significance](https://docs.qiime2.org/2022.8/plugins/available/diversity/alpha-group-significance/): Visually and statistically compare groups of alpha diversity values."
   ]
  },
  {
   "cell_type": "markdown",
   "id": "606b9c75",
   "metadata": {
    "papermill": {
     "duration": 0.002961,
     "end_time": "2024-03-12T22:47:41.250143",
     "exception": false,
     "start_time": "2024-03-12T22:47:41.247182",
     "status": "completed"
    },
    "tags": []
   },
   "source": [
    "### Compute Alpha Diversity vectors\n",
    "- [diversity alpha](https://docs.qiime2.org/2022.8/plugins/available/diversity/alpha/): Computes a user-specified alpha diversity metric for all samples in a feature table.\n",
    "- [Alpha diversity metrics](http://scikit-bio.org/docs/0.2.0/generated/skbio.diversity.alpha.html)\n",
    " - Choices: ('ace', 'berger_parker_d', 'brillouin_d', 'chao1', 'chao1_ci', 'dominance', 'doubles', 'enspie', 'esty_ci', 'fisher_alpha', 'gini_index', 'goods_coverage', 'heip_e', 'kempton_taylor_q', 'lladser_pe', 'margalef', 'mcintosh_d', 'mcintosh_e', 'menhinick', 'michaelis_menten_fit', 'observed_features', 'osd', 'pielou_e', 'robbins', 'shannon', 'simpson', 'simpson_e', 'singles', 'strong')"
   ]
  },
  {
   "cell_type": "code",
   "execution_count": 9,
   "id": "556e5264",
   "metadata": {
    "ExecuteTime": {
     "end_time": "2022-09-29T20:54:20.790166Z",
     "start_time": "2022-09-29T20:54:20.451134Z"
    },
    "execution": {
     "iopub.execute_input": "2024-03-12T22:47:41.257090Z",
     "iopub.status.busy": "2024-03-12T22:47:41.256780Z",
     "iopub.status.idle": "2024-03-12T22:47:41.667535Z",
     "shell.execute_reply": "2024-03-12T22:47:41.667157Z"
    },
    "papermill": {
     "duration": 0.415405,
     "end_time": "2024-03-12T22:47:41.668485",
     "exception": false,
     "start_time": "2024-03-12T22:47:41.253080",
     "status": "completed"
    },
    "tags": []
   },
   "outputs": [
    {
     "name": "stdout",
     "output_type": "stream",
     "text": [
      "Calculating alpha diversity: chao1\n",
      "DONE: Calculating alpha diversity: chao1\n",
      "Calculating alpha diversity: chao1_ci\n",
      "DONE: Calculating alpha diversity: chao1_ci\n",
      "Calculating alpha diversity: observed_features\n"
     ]
    },
    {
     "name": "stdout",
     "output_type": "stream",
     "text": [
      "DONE: Calculating alpha diversity: observed_features\n",
      "Calculating alpha diversity: shannon\n",
      "DONE: Calculating alpha diversity: shannon\n",
      "Calculating alpha diversity: simpson\n",
      "DONE: Calculating alpha diversity: simpson\n",
      "Calculating alpha diversity: simpson_e\n",
      "DONE: Calculating alpha diversity: simpson_e\n"
     ]
    }
   ],
   "source": [
    "metrics = ('ace', 'berger_parker_d', 'brillouin_d', 'chao1', 'chao1_ci', 'dominance', 'doubles', 'enspie', 'esty_ci', 'fisher_alpha', 'gini_index', 'goods_coverage', 'heip_e', 'kempton_taylor_q', 'lladser_pe', 'margalef', 'mcintosh_d', 'mcintosh_e', 'menhinick', 'michaelis_menten_fit', 'observed_features', 'osd', 'pielou_e', 'robbins', 'shannon', 'simpson', 'simpson_e', 'singles', 'strong')\n",
    "\n",
    "# Sugestão de valores para Alpha diversity\n",
    "# chao1 e observed_features (riqueza); shannon e simpson (diversidade - que levam em consideração riqueza e equitabilidade).\n",
    "metrics = ('chao1', 'chao1_ci', 'observed_features', 'shannon', 'simpson', 'simpson_e')\n",
    "alpha_diversities = dict()\n",
    "for metric in metrics:\n",
    "    print(f\"Calculating alpha diversity: {metric}\")\n",
    "    try:\n",
    "        alpha_diversity = alpha(table=tabs, metric=metric).alpha_diversity\n",
    "        alpha_diversities[metric] = alpha_diversity\n",
    "        # Save SampleData[AlphaDiversity] Artifact\n",
    "        file_path = os.path.join(alpha_path, f'alpha-values-{metric}.qza')\n",
    "        alpha_diversity.save(file_path)\n",
    "        print(f\"DONE: Calculating alpha diversity: {metric}\")\n",
    "    except Exception as e:\n",
    "        print(f\"ERROR: Calculating alpha diversity: {metric}\")\n",
    "        print(e)"
   ]
  },
  {
   "cell_type": "markdown",
   "id": "184bcb7b",
   "metadata": {
    "papermill": {
     "duration": 0.003111,
     "end_time": "2024-03-12T22:47:41.675031",
     "exception": false,
     "start_time": "2024-03-12T22:47:41.671920",
     "status": "completed"
    },
    "tags": []
   },
   "source": [
    "### Create Phylogenetic inference\n",
    "\n",
    "- [alignment align_to_tree_mafft_fasttree](https://docs.qiime2.org/2022.8/plugins/available/phylogeny/align-to-tree-mafft-fasttree/): Build a phylogenetic tree using fasttree and mafft alignment\n",
    "\n",
    "This pipeline will start by creating a sequence alignment using MAFFT,\n",
    "after which any alignment columns that are phylogenetically uninformative\n",
    "or ambiguously aligned will be removed (masked). The resulting masked\n",
    "alignment will be used to infer a phylogenetic tree and then subsequently\n",
    "rooted at its midpoint. Output files from each step of the pipeline will be\n",
    "saved. This includes both the unmasked and masked MAFFT alignment from\n",
    "q2-alignment methods, and both the rooted and unrooted phylogenies from\n",
    "q2-phylogeny methods.\n",
    "\n",
    "\n",
    "Returns\n",
    "- alignment : FeatureData[AlignedSequence] : The aligned sequences.\n",
    "- masked_alignment : FeatureData[AlignedSequence] : The masked alignment.\n",
    "- tree : Phylogeny[Unrooted] : The unrooted phylogenetic tree.\n",
    "- rooted_tree : Phylogeny[Rooted] : The rooted phylogenetic tree."
   ]
  },
  {
   "cell_type": "code",
   "execution_count": 10,
   "id": "9c8cfe47",
   "metadata": {
    "ExecuteTime": {
     "end_time": "2022-09-29T20:54:35.139531Z",
     "start_time": "2022-09-29T20:54:20.792130Z"
    },
    "execution": {
     "iopub.execute_input": "2024-03-12T22:47:41.682127Z",
     "iopub.status.busy": "2024-03-12T22:47:41.681851Z",
     "iopub.status.idle": "2024-03-12T22:47:48.594063Z",
     "shell.execute_reply": "2024-03-12T22:47:48.593555Z"
    },
    "papermill": {
     "duration": 6.91689,
     "end_time": "2024-03-12T22:47:48.595063",
     "exception": false,
     "start_time": "2024-03-12T22:47:41.678173",
     "status": "completed"
    },
    "tags": []
   },
   "outputs": [
    {
     "name": "stdout",
     "output_type": "stream",
     "text": [
      "Running external command line application. This may print messages to stdout and/or stderr.\n",
      "The command being run is below. This command cannot be manually re-run as it will depend on temporary files that no longer exist.\n",
      "\n",
      "Command: mafft --preservecase --inputorder --thread 6 /tmp/qiime2/lauro/data/38669326-ff9e-4a61-b490-2cddf85c763a/data/dna-sequences.fasta\n",
      "\n"
     ]
    },
    {
     "name": "stderr",
     "output_type": "stream",
     "text": [
      "inputfile = orig\n",
      "763 x 431 - 23 d\n",
      "nthread = 6\n",
      "nthreadpair = 6\n",
      "nthreadtb = 6\n",
      "ppenalty_ex = 0\n",
      "stacksize: 8192 kb\n",
      "generating a scoring matrix for nucleotide (dist=200) ... done\n",
      "Gap Penalty = -1.53, +0.00, +0.00\n",
      "\n",
      "\n",
      "\n",
      "Making a distance matrix ..\n",
      "\r",
      "    1 / 763 (thread    0)\r",
      "  101 / 763 (thread    1)\r",
      "  201 / 763 (thread    4)\r",
      "  301 / 763 (thread    2)\r",
      "  401 / 763 (thread    1)\r",
      "  501 / 763 (thread    4)\r",
      "  601 / 763 (thread    5)\r",
      "  701 / 763 (thread    0)\n",
      "done.\n",
      "\n",
      "Constructing a UPGMA tree (efffree=0) ... \n",
      "\r",
      "    0 / 763\r",
      "   10 / 763\r",
      "   20 / 763\r",
      "   30 / 763\r",
      "   40 / 763\r",
      "   50 / 763\r",
      "   60 / 763\r",
      "   70 / 763\r",
      "   80 / 763\r",
      "   90 / 763\r",
      "  100 / 763\r",
      "  110 / 763\r",
      "  120 / 763\r",
      "  130 / 763\r",
      "  140 / 763\r",
      "  150 / 763\r",
      "  160 / 763\r",
      "  170 / 763\r",
      "  180 / 763\r",
      "  190 / 763\r",
      "  200 / 763\r",
      "  210 / 763\r",
      "  220 / 763\r",
      "  230 / 763\r",
      "  240 / 763\r",
      "  250 / 763\r",
      "  260 / 763\r",
      "  270 / 763\r",
      "  280 / 763\r",
      "  290 / 763\r",
      "  300 / 763\r",
      "  310 / 763\r",
      "  320 / 763\r",
      "  330 / 763\r",
      "  340 / 763\r",
      "  350 / 763\r",
      "  360 / 763\r",
      "  370 / 763\r",
      "  380 / 763\r",
      "  390 / 763\r",
      "  400 / 763\r",
      "  410 / 763\r",
      "  420 / 763\r",
      "  430 / 763\r",
      "  440 / 763\r",
      "  450 / 763\r",
      "  460 / 763\r",
      "  470 / 763\r",
      "  480 / 763\r",
      "  490 / 763\r",
      "  500 / 763\r",
      "  510 / 763\r",
      "  520 / 763\r",
      "  530 / 763\r",
      "  540 / 763\r",
      "  550 / 763\r",
      "  560 / 763\r",
      "  570 / 763\r",
      "  580 / 763\r",
      "  590 / 763\r",
      "  600 / 763\r",
      "  610 / 763\r",
      "  620 / 763\r",
      "  630 / 763\r",
      "  640 / 763\r",
      "  650 / 763\r",
      "  660 / 763\r",
      "  670 / 763\r",
      "  680 / 763\r",
      "  690 / 763\r",
      "  700 / 763\r",
      "  710 / 763\r",
      "  720 / 763\r",
      "  730 / 763\r",
      "  740 / 763\r",
      "  750 / 763\r",
      "  760 / 763\n",
      "done.\n",
      "\n",
      "Progressive alignment 1/2... \n",
      "\r",
      "STEP     1 / 762 (thread    0) f\b\b\r",
      "STEP     2 / 762 (thread    5) f\b\b\r",
      "STEP     3 / 762 (thread    2) f\b\b\r",
      "STEP     5 / 762 (thread    3) f\b\b\r",
      "STEP     4 / 762 (thread    4) f\b\b\r",
      "STEP     6 / 762 (thread    1) f\b\b\r",
      "STEP     8 / 762 (thread    1) f\b\b\r",
      "STEP     7 / 762 (thread    2) f\b\b\r",
      "STEP     9 / 762 (thread    4) f\b\b\r",
      "STEP    10 / 762 (thread    1) f\b\b\r",
      "STEP    12 / 762 (thread    1) f\b\b\r",
      "STEP    11 / 762 (thread    4) f\b\b\r",
      "STEP    13 / 762 (thread    1) f\b\b\r",
      "STEP    14 / 762 (thread    5) f\b\b\r",
      "STEP    15 / 762 (thread    5) f\b\b\r",
      "STEP    16 / 762 (thread    1) f\b\b\r",
      "STEP    17 / 762 (thread    2) f\b\b\r",
      "STEP    18 / 762 (thread    1) f\b\b\r",
      "STEP    19 / 762 (thread    5) f\b\b\r",
      "STEP    20 / 762 (thread    3) f\b\b\r",
      "STEP    21 / 762 (thread    0) f\b\b\r",
      "STEP    22 / 762 (thread    5) f\b\b\r",
      "STEP    23 / 762 (thread    3) f\b\b\r",
      "STEP    25 / 762 (thread    4) f\b\b\r",
      "STEP    27 / 762 (thread    3) f\b\b\r",
      "STEP    24 / 762 (thread    0) f\b\b\r",
      "STEP    28 / 762 (thread    5) f\b\b\r",
      "STEP    29 / 762 (thread    4) f\b\b\r",
      "STEP    26 / 762 (thread    2) f\b\b\r",
      "STEP    30 / 762 (thread    4) f\b\b\r",
      "STEP    31 / 762 (thread    5) f\b\b\r",
      "STEP    32 / 762 (thread    4) f\b\b\r",
      "STEP    34 / 762 (thread    3) f\b\b\r",
      "STEP    35 / 762 (thread    4) f\b\b\r",
      "STEP    36 / 762 (thread    1) f\b\b\r",
      "STEP    37 / 762 (thread    4) f\b\b\r",
      "STEP    38 / 762 (thread    2) f\b\b\r",
      "STEP    39 / 762 (thread    3) f\b\b\r",
      "STEP    40 / 762 (thread    1) f\b\b\r",
      "STEP    41 / 762 (thread    4) f\b\b\r",
      "STEP    42 / 762 (thread    1) f\b\b\r",
      "STEP    43 / 762 (thread    2) f\b\b\r",
      "STEP    44 / 762 (thread    2) f\b\b\r",
      "STEP    45 / 762 (thread    3) f\b\b\r",
      "STEP    46 / 762 (thread    3) f\b\b\r",
      "STEP    47 / 762 (thread    4) f\b\b\r",
      "STEP    48 / 762 (thread    2) f\b\b\r",
      "STEP    49 / 762 (thread    5) f\b\b\r",
      "STEP    33 / 762 (thread    0) f\b\b\r",
      "STEP    50 / 762 (thread    1) f\b\b\r",
      "STEP    51 / 762 (thread    3) f\b\b\r",
      "STEP    52 / 762 (thread    4) f\b\b\r",
      "STEP    53 / 762 (thread    2) f\b\b\r",
      "STEP    54 / 762 (thread    1) f\b\b\r",
      "STEP    55 / 762 (thread    3) f\b\b\r",
      "STEP    56 / 762 (thread    4) f\b\b\r",
      "STEP    57 / 762 (thread    2) f\b\b\r",
      "STEP    58 / 762 (thread    1) f\b\b\r",
      "STEP    59 / 762 (thread    3)\r",
      "STEP    60 / 762 (thread    4) f\b\b f\b\b\r",
      "STEP    61 / 762 (thread    0) f\b\b\r",
      "STEP    62 / 762 (thread    5) f\b\b\r",
      "STEP    63 / 762 (thread    0) f\b\b\r",
      "STEP    64 / 762 (thread    4) f\b\b\r",
      "STEP    65 / 762 (thread    5) f\b\b\r",
      "STEP    66 / 762 (thread    2) f\b\b\r",
      "STEP    67 / 762 (thread    3) f\b\b\r",
      "STEP    68 / 762 (thread    1) f\b\b\r",
      "STEP    69 / 762 (thread    0) f\b\b\r",
      "STEP    70 / 762 (thread    4) f\b\b\r",
      "STEP    71 / 762 (thread    5) f\b\b\r",
      "STEP    72 / 762 (thread    2) f\b\b\r",
      "STEP    73 / 762 (thread    3) f\b\b\r",
      "STEP    74 / 762 (thread    1) f\b\b\r",
      "STEP    76 / 762 (thread    4) f\b\b\r",
      "STEP    77 / 762 (thread    5) f\b\b\r",
      "STEP    78 / 762 (thread    2) f\b\b\r",
      "STEP    79 / 762 (thread    3) f\b\b\r",
      "STEP    80 / 762 (thread    1) f\b\b\r",
      "STEP    75 / 762 (thread    0) f\b\b\r",
      "STEP    82 / 762 (thread    5) f\b\b\r",
      "STEP    83 / 762 (thread    2) f\b\b\r",
      "STEP    84 / 762 (thread    3) f\b\b\r",
      "STEP    85 / 762 (thread    1) f\b\b\r",
      "STEP    81 / 762 (thread    4) f\b\b\r",
      "STEP    86 / 762 (thread    5) f\b\b\r",
      "STEP    87 / 762 (thread    2) f\b\b\r",
      "STEP    88 / 762 (thread    3) f\b\b\r",
      "STEP    89 / 762 (thread    1) f\b\b\r",
      "STEP    90 / 762 (thread    0) f\b\b\r",
      "STEP    91 / 762 (thread    5) f\b\b\r",
      "STEP    92 / 762 (thread    2) f\b\b\r",
      "STEP    93 / 762 (thread    3) f\b\b\r",
      "STEP    94 / 762 (thread    1) f\b\b\r",
      "STEP    95 / 762 (thread    0) f\b\b\r",
      "STEP    96 / 762 (thread    4) f\b\b\r",
      "STEP    97 / 762 (thread    5) f\b\b\r",
      "STEP    98 / 762 (thread    3) f\b\b\r",
      "STEP    99 / 762 (thread    1) f\b\b\r",
      "STEP   100 / 762 (thread    4) f\b\b\r",
      "STEP   101 / 762 (thread    5) f\b\b\r",
      "STEP   102 / 762 (thread    3) f\b\b\r",
      "STEP   103 / 762 (thread    2) f\b\b\r",
      "STEP   104 / 762 (thread    1) f\b\b\r",
      "STEP   105 / 762 (thread    4) f\b\b\r",
      "STEP   106 / 762 (thread    5) f\b\b\r",
      "STEP   107 / 762 (thread    0) f\b\b\r",
      "STEP   108 / 762 (thread    3) f\b\b\r",
      "STEP   109 / 762 (thread    2) f\b\b\r",
      "STEP   110 / 762 (thread    1) f\b\b\r",
      "STEP   111 / 762 (thread    4) f\b\b\r",
      "STEP   112 / 762 (thread    5) f\b\b\r",
      "STEP   113 / 762 (thread    0) f\b\b\r",
      "STEP   114 / 762 (thread    3) f\b\b\r",
      "STEP   115 / 762 (thread    2) f\b\b\r",
      "STEP   116 / 762 (thread    1) f\b\b\r",
      "STEP   117 / 762 (thread    4) f\b\b\r",
      "STEP   118 / 762 (thread    5) f\b\b\r",
      "STEP   119 / 762 (thread    0) f\b\b\r",
      "STEP   120 / 762 (thread    3) f\b\b\r",
      "STEP   121 / 762 (thread    2) f\b\b\r",
      "STEP   122 / 762 (thread    1) f\b\b\r",
      "STEP   123 / 762 (thread    4) f\b\b\r",
      "STEP   124 / 762 (thread    5) f\b\b\r",
      "STEP   125 / 762 (thread    0) f\b\b\r",
      "STEP   126 / 762 (thread    3) f\b\b\r",
      "STEP   127 / 762 (thread    2) f\b\b\r",
      "STEP   128 / 762 (thread    1) f\b\b\r",
      "STEP   129 / 762 (thread    4) f\b\b\r",
      "STEP   130 / 762 (thread    5) f\b\b\r",
      "STEP   131 / 762 (thread    0) f\b\b\r",
      "STEP   132 / 762 (thread    3) f\b\b\r",
      "STEP   133 / 762 (thread    2) f\b\b\r",
      "STEP   134 / 762 (thread    4) f\b\b\r",
      "STEP   135 / 762 (thread    0) f\b\b\r",
      "STEP   136 / 762 (thread    5) f\b\b\r",
      "STEP   137 / 762 (thread    2) f\b\b\r",
      "STEP   138 / 762 (thread    1) f\b\b\r",
      "STEP   139 / 762 (thread    4) f\b\b\r",
      "STEP   140 / 762 (thread    0) f\b\b\r",
      "STEP   141 / 762 (thread    5) f\b\b\r",
      "STEP   142 / 762 (thread    2) f\b\b\r",
      "STEP   143 / 762 (thread    3) f\b\b\r",
      "STEP   144 / 762 (thread    1) f\b\b\r",
      "STEP   145 / 762 (thread    4) f\b\b\r",
      "STEP   146 / 762 (thread    0) f\b\b\r",
      "STEP   147 / 762 (thread    3) f\b\b\r",
      "STEP   148 / 762 (thread    1) f\b\b\r",
      "STEP   149 / 762 (thread    4) f\b\b\r",
      "STEP   150 / 762 (thread    0) f\b\b\r",
      "STEP   151 / 762 (thread    5) f\b\b\r",
      "STEP   152 / 762 (thread    3) f\b\b\r",
      "STEP   153 / 762 (thread    2) f\b\b\r",
      "STEP   154 / 762 (thread    0) f\b\b\r",
      "STEP   155 / 762 (thread    5) f\b\b\r",
      "STEP   156 / 762 (thread    1) f\b\b\r",
      "STEP   157 / 762 (thread    4) f\b\b\r",
      "STEP   158 / 762 (thread    3) f\b\b\r",
      "STEP   159 / 762 (thread    2) f\b\b\r",
      "STEP   160 / 762 (thread    0) f\b\b\r",
      "STEP   161 / 762 (thread    5) f\b\b\r",
      "STEP   162 / 762 (thread    1) f\b\b\r",
      "STEP   163 / 762 (thread    4) f\b\b\r",
      "STEP   164 / 762 (thread    3) f\b\b\r",
      "STEP   165 / 762 (thread    2) f\b\b\r",
      "STEP   166 / 762 (thread    0) f\b\b\r",
      "STEP   167 / 762 (thread    5) f\b\b\r",
      "STEP   168 / 762 (thread    2) f\b\b\r",
      "STEP   169 / 762 (thread    1) f\b\b\r",
      "STEP   170 / 762 (thread    0) f\b\b\r",
      "STEP   171 / 762 (thread    4) f\b\b\r",
      "STEP   172 / 762 (thread    5) f\b\b\r",
      "STEP   173 / 762 (thread    2) f\b\b\r",
      "STEP   174 / 762 (thread    3) f\b\b\r",
      "STEP   175 / 762 (thread    1) f\b\b\r",
      "STEP   176 / 762 (thread    0) f\b\b\r",
      "STEP   177 / 762 (thread    5) f\b\b\r",
      "STEP   178 / 762 (thread    4) f\b\b\r",
      "STEP   179 / 762 (thread    1) f\b\b\r",
      "STEP   180 / 762 (thread    0) f\b\b\r",
      "STEP   181 / 762 (thread    5) f\b\b\r",
      "STEP   182 / 762 (thread    4) f\b\b\r",
      "STEP   183 / 762 (thread    1) f\b\b\r",
      "STEP   184 / 762 (thread    0) f\b\b\r",
      "STEP   185 / 762 (thread    2) f\b\b\r",
      "STEP   186 / 762 (thread    3) f\b\b\r",
      "STEP   187 / 762 (thread    5) f\b\b\r",
      "STEP   188 / 762 (thread    4) f\b\b\r",
      "STEP   189 / 762 (thread    1) f\b\b\r",
      "STEP   190 / 762 (thread    4) f\b\b\r",
      "STEP   191 / 762 (thread    5) f\b\b\r",
      "STEP   192 / 762 (thread    1) f\b\b\r",
      "STEP   193 / 762 (thread    0) f\b\b\r",
      "STEP   194 / 762 (thread    3) f\b\b\r",
      "STEP   195 / 762 (thread    2) f\b\b\r",
      "STEP   196 / 762 (thread    4) f\b\b\r",
      "STEP   197 / 762 (thread    5) f\b\b\r",
      "STEP   198 / 762 (thread    1) f\b\b\r",
      "STEP   199 / 762 (thread    0) f\b\b\r",
      "STEP   200 / 762 (thread    3) f\b\b\r",
      "STEP   201 / 762 (thread    2) f\b\b\r",
      "STEP   202 / 762 (thread    5) f\b\b\r",
      "STEP   203 / 762 (thread    4) f\b\b\r",
      "STEP   204 / 762 (thread    1) f\b\b\r",
      "STEP   205 / 762 (thread    0) f\b\b\r",
      "STEP   206 / 762 (thread    3) f\b\b\r",
      "STEP   207 / 762 (thread    2) f\b\b\r",
      "STEP   208 / 762 (thread    4) f\b\b\r",
      "STEP   209 / 762 (thread    1) f\b\b\r",
      "STEP   210 / 762 (thread    5) f\b\b\r",
      "STEP   211 / 762 (thread    0) f\b\b\r",
      "STEP   212 / 762 (thread    2) f\b\b\r",
      "STEP   213 / 762 (thread    1) f\b\b\r",
      "STEP   214 / 762 (thread    3) f\b\b\r",
      "STEP   215 / 762 (thread    5) f\b\b\r",
      "STEP   216 / 762 (thread    0) f\b\b\r",
      "STEP   217 / 762 (thread    4) f\b\b\r",
      "STEP   218 / 762 (thread    2) f\b\b\r",
      "STEP   219 / 762 (thread    1) f\b\b\r",
      "STEP   220 / 762 (thread    3) f\b\b\r",
      "STEP   221 / 762 (thread    5) f\b\b\r",
      "STEP   222 / 762 (thread    0) f\b\b\r",
      "STEP   223 / 762 (thread    4) f\b\b\r",
      "STEP   224 / 762 (thread    2) f\b\b\r",
      "STEP   225 / 762 (thread    1) f\b\b\r",
      "STEP   226 / 762 (thread    3) f\b\b\r",
      "STEP   227 / 762 (thread    5) f\b\b\r",
      "STEP   228 / 762 (thread    0) f\b\b\r",
      "STEP   229 / 762 (thread    4) f\b\b\r",
      "STEP   230 / 762 (thread    2) f\b\b\r",
      "STEP   231 / 762 (thread    1) f\b\b\r",
      "STEP   232 / 762 (thread    3) f\b\b\r",
      "STEP   233 / 762 (thread    5) f\b\b\r",
      "STEP   234 / 762 (thread    0) f\b\b\r",
      "STEP   235 / 762 (thread    4) f\b\b\r",
      "STEP   236 / 762 (thread    2) f\b\b\r",
      "STEP   237 / 762 (thread    1) f\b\b\r",
      "STEP   238 / 762 (thread    3) f\b\b\r",
      "STEP   239 / 762 (thread    5) f\b\b\r",
      "STEP   240 / 762 (thread    0) f\b\b\r",
      "STEP   241 / 762 (thread    4) f\b\b\r",
      "STEP   242 / 762 (thread    2) f\b\b\r",
      "STEP   243 / 762 (thread    1) f\b\b\r",
      "STEP   244 / 762 (thread    3) f\b\b\r",
      "STEP   245 / 762 (thread    5) f\b\b\r",
      "STEP   246 / 762 (thread    0) f\b\b\r",
      "STEP   247 / 762 (thread    4) f\b\b\r",
      "STEP   248 / 762 (thread    2) f\b\b\r",
      "STEP   249 / 762 (thread    1) f\b\b\r",
      "STEP   250 / 762 (thread    3) f\b\b\r",
      "STEP   251 / 762 (thread    5) f\b\b\r",
      "STEP   252 / 762 (thread    0) f\b\b\r",
      "STEP   253 / 762 (thread    2) f\b\b\r",
      "STEP   254 / 762 (thread    1) f\b\b\r",
      "STEP   255 / 762 (thread    3) f\b\b\r",
      "STEP   256 / 762 (thread    4) f\b\b\r",
      "STEP   257 / 762 (thread    5) f\b\b\r",
      "STEP   258 / 762 (thread    0) f\b\b\r",
      "STEP   259 / 762 (thread    5) f\b\b\r",
      "STEP   260 / 762 (thread    3) f\b\b\r",
      "STEP   261 / 762 (thread    2) f\b\b\r",
      "STEP   262 / 762 (thread    1) f\b\b\r",
      "STEP   263 / 762 (thread    0) f\b\b\r",
      "STEP   264 / 762 (thread    4) f\b\b\r",
      "STEP   265 / 762 (thread    5) f\b\b\r",
      "STEP   266 / 762 (thread    2) f\b\b\r",
      "STEP   267 / 762 (thread    3) f\b\b\r",
      "STEP   268 / 762 (thread    1) f\b\b\r",
      "STEP   269 / 762 (thread    0) f\b\b\r",
      "STEP   270 / 762 (thread    4) f\b\b\r",
      "STEP   272 / 762 (thread    3) f\b\b\r",
      "STEP   273 / 762 (thread    2) f\b\b\r",
      "STEP   271 / 762 (thread    5) f\b\b\r",
      "STEP   274 / 762 (thread    4) f\b\b\r",
      "STEP   276 / 762 (thread    4) f\b\b\r",
      "STEP   277 / 762 (thread    0) f\b\b\r",
      "STEP   278 / 762 (thread    3) f\b\b\r",
      "STEP   279 / 762 (thread    0) f\b\b\r",
      "STEP   280 / 762 (thread    5) f\b\b\r",
      "STEP   275 / 762 (thread    1) f\b\b\r",
      "STEP   281 / 762 (thread    2) f\b\b\r",
      "STEP   282 / 762 (thread    4) f\b\b\r",
      "STEP   283 / 762 (thread    3) f\b\b\r",
      "STEP   284 / 762 (thread    5) f\b\b\r",
      "STEP   285 / 762 (thread    3) f\b\b\r",
      "STEP   286 / 762 (thread    0) f\b\b\r",
      "STEP   287 / 762 (thread    2) f\b\b\r",
      "STEP   288 / 762 (thread    1) f\b\b\r",
      "STEP   289 / 762 (thread    4) f\b\b\r",
      "STEP   290 / 762 (thread    5) f\b\b\r",
      "STEP   291 / 762 (thread    2) f\b\b\r",
      "STEP   292 / 762 (thread    0) f\b\b\r",
      "STEP   293 / 762 (thread    2) f\b\b\r",
      "STEP   294 / 762 (thread    3) f\b\b\r",
      "STEP   295 / 762 (thread    1) f\b\b\r",
      "STEP   296 / 762 (thread    1) f\b\b\r",
      "STEP   297 / 762 (thread    4) f\b\b\r",
      "STEP   298 / 762 (thread    5) f\b\b\r",
      "STEP   299 / 762 (thread    3) f\b\b\r",
      "STEP   300 / 762 (thread    0) f\b\b\r",
      "STEP   301 / 762 (thread    2) f\b\b\r",
      "STEP   302 / 762 (thread    1) f\b\b\r",
      "STEP   303 / 762 (thread    4) f\b\b\r",
      "STEP   305 / 762 (thread    5) f\b\b\r",
      "STEP   306 / 762 (thread    3) f\b\b\r",
      "STEP   307 / 762 (thread    0) f\b\b\r",
      "STEP   308 / 762 (thread    4) f\b\b\r",
      "STEP   304 / 762 (thread    2) f\b\b\r",
      "STEP   309 / 762 (thread    5) f\b\b\r",
      "STEP   310 / 762 (thread    3) f\b\b\r",
      "STEP   311 / 762 (thread    0) f\b\b\r",
      "STEP   312 / 762 (thread    1) f\b\b\r",
      "STEP   313 / 762 (thread    2) f\b\b\r",
      "STEP   314 / 762 (thread    4) f\b\b\r",
      "STEP   315 / 762 (thread    3) f\b\b\r",
      "STEP   316 / 762 (thread    5) f\b\b\r",
      "STEP   317 / 762 (thread    0) f\b\b\r",
      "STEP   318 / 762 (thread    1) f\b\b\r",
      "STEP   319 / 762 (thread    4) f\b\b\r",
      "STEP   320 / 762 (thread    3) f\b\b\r",
      "STEP   321 / 762 (thread    1) f\b\b\r",
      "STEP   322 / 762 (thread    4) f\b\b\r",
      "STEP   325 / 762 (thread    5) f\b\b\r",
      "STEP   324 / 762 (thread    3) f\b\b\r",
      "STEP   326 / 762 (thread    0) f\b\b\r",
      "STEP   323 / 762 (thread    2) f\b\b\r",
      "STEP   327 / 762 (thread    1) f\b\b\r",
      "STEP   328 / 762 (thread    4) f\b\b\r",
      "STEP   329 / 762 (thread    3) f\b\b\r",
      "STEP   330 / 762 (thread    5) f\b\b\r",
      "STEP   331 / 762 (thread    0) f\b\b\r",
      "STEP   332 / 762 (thread    2) f\b\b\r",
      "STEP   333 / 762 (thread    4) f\b\b\r",
      "STEP   334 / 762 (thread    1) f\b\b\r",
      "STEP   335 / 762 (thread    0) f\b\b\r",
      "STEP   336 / 762 (thread    3) f\b\b\r",
      "STEP   337 / 762 (thread    5) f\b\b\r",
      "STEP   338 / 762 (thread    2) f\b\b\r",
      "STEP   339 / 762 (thread    4) f\b\b\r",
      "STEP   340 / 762 (thread    1) f\b\b\r",
      "STEP   341 / 762 (thread    0) f\b\b\r",
      "STEP   342 / 762 (thread    5) f\b\b\r",
      "STEP   343 / 762 (thread    2) f\b\b\r",
      "STEP   344 / 762 (thread    3) f\b\b\r",
      "STEP   345 / 762 (thread    3) f\b\b\r",
      "STEP   346 / 762 (thread    4) f\b\b\r",
      "STEP   347 / 762 (thread    0) f\b\b\r",
      "STEP   348 / 762 (thread    5) f\b\b\r",
      "STEP   350 / 762 (thread    5) f\b\b\r",
      "STEP   351 / 762 (thread    3) f\b\b\r",
      "STEP   352 / 762 (thread    0) f\b\b\r",
      "STEP   353 / 762 (thread    2) f\b\b\r",
      "STEP   354 / 762 (thread    3) f\b\b\r",
      "STEP   349 / 762 (thread    1) f\b\b\r",
      "STEP   355 / 762 (thread    4) f\b\b\r",
      "STEP   356 / 762 (thread    5) f\b\b\r",
      "STEP   357 / 762 (thread    4) f\b\b\r",
      "STEP   358 / 762 (thread    0) f\b\b\r",
      "STEP   359 / 762 (thread    3) f\b\b\r",
      "STEP   360 / 762 (thread    2) f\b\b\r",
      "STEP   361 / 762 (thread    5) f\b\b\r",
      "STEP   362 / 762 (thread    1) f\b\b\r",
      "STEP   363 / 762 (thread    4) f\b\b\r",
      "STEP   364 / 762 (thread    0) f\b\b\r",
      "STEP   365 / 762 (thread    3) f\b\b\r",
      "STEP   366 / 762 (thread    4) f\b\b\r",
      "STEP   367 / 762 (thread    5) f\b\b\r",
      "STEP   368 / 762 (thread    3) f\b\b\n",
      "Reallocating..done. *alloclen = 1867\n",
      "\r",
      "STEP   369 / 762 (thread    1) f\b\b\r",
      "STEP   370 / 762 (thread    2) f\b\b\r",
      "STEP   371 / 762 (thread    0) f\b\b\r",
      "STEP   372 / 762 (thread    5) f\b\b\r",
      "STEP   373 / 762 (thread    2) f\b\b\r",
      "STEP   374 / 762 (thread    4) f\b\b\r",
      "STEP   375 / 762 (thread    3) f\b\b\r",
      "STEP   376 / 762 (thread    2) f\b\b\r",
      "STEP   377 / 762 (thread    5) f\b\b\r",
      "STEP   378 / 762 (thread    0) f\b\b\r",
      "STEP   379 / 762 (thread    3) f\b\b\r",
      "STEP   380 / 762 (thread    1) f\b\b\r",
      "STEP   381 / 762 (thread    4) f\b\b\r",
      "STEP   382 / 762 (thread    5) f\b\b\r",
      "STEP   383 / 762 (thread    2) f\b\b\r",
      "STEP   384 / 762 (thread    3) f\b\b\r",
      "STEP   385 / 762 (thread    0) f\b\b\r",
      "STEP   386 / 762 (thread    5) f\b\b\r",
      "STEP   387 / 762 (thread    3) f\b\b\r",
      "STEP   388 / 762 (thread    5) f\b\b\r",
      "STEP   389 / 762 (thread    0) f\b\b\r",
      "STEP   390 / 762 (thread    4) f\b\b\r",
      "STEP   391 / 762 (thread    3) f\b\b\r",
      "STEP   392 / 762 (thread    2) f\b\b\r",
      "STEP   393 / 762 (thread    1) f\b\b\r",
      "STEP   394 / 762 (thread    4) f\b\b\r",
      "STEP   395 / 762 (thread    5) f\b\b\r",
      "STEP   396 / 762 (thread    0) f\b\b\r",
      "STEP   397 / 762 (thread    1) f\b\b\r",
      "STEP   398 / 762 (thread    3) f\b\b\r",
      "STEP   399 / 762 (thread    0) f\b\b\r",
      "STEP   400 / 762 (thread    2) f\b\b\r",
      "STEP   401 / 762 (thread    0) f\b\b\r",
      "STEP   402 / 762 (thread    2) f\b\b\r",
      "STEP   403 / 762 (thread    1) f\b\b\r",
      "STEP   404 / 762 (thread    5) f\b\b\r",
      "STEP   405 / 762 (thread    4) f\b\b\r",
      "STEP   406 / 762 (thread    3) f\b\b\r",
      "STEP   407 / 762 (thread    4) f\b\b\r",
      "STEP   408 / 762 (thread    2) f\b\b\r",
      "STEP   409 / 762 (thread    0) f\b\b\r",
      "STEP   410 / 762 (thread    5) f\b\b\r",
      "STEP   412 / 762 (thread    4) f\b\b\r",
      "STEP   411 / 762 (thread    1) f\b\b\r",
      "STEP   413 / 762 (thread    3) f\b\b\r",
      "STEP   415 / 762 (thread    0) f\b\b\r",
      "STEP   418 / 762 (thread    1) f\b\b\r",
      "STEP   416 / 762 (thread    5) f\b\b\r",
      "STEP   419 / 762 (thread    3) f\b\b\r",
      "STEP   414 / 762 (thread    2) f\b\b\r",
      "STEP   420 / 762 (thread    0) f\b\b\r",
      "STEP   417 / 762 (thread    4) f\b\b\r",
      "STEP   422 / 762 (thread    5) f\b\b\r",
      "STEP   421 / 762 (thread    1) f\b\b\r",
      "STEP   423 / 762 (thread    3) f\b\b\r",
      "STEP   424 / 762 (thread    2) f\b\b\r",
      "STEP   425 / 762 (thread    0) f\b\b\r",
      "STEP   426 / 762 (thread    5) f\b\b\r",
      "STEP   427 / 762 (thread    1) f\b\b\r",
      "STEP   428 / 762 (thread    4) f\b\b\r",
      "STEP   429 / 762 (thread    3) f\b\b\r",
      "STEP   430 / 762 (thread    2) f\b\b\r",
      "STEP   431 / 762 (thread    0) f\b\b\r",
      "STEP   432 / 762 (thread    3) f\b\b\r",
      "STEP   433 / 762 (thread    4) f\b\b\r",
      "STEP   434 / 762 (thread    5) f\b\b\r",
      "STEP   435 / 762 (thread    0) f\b\b\r",
      "STEP   436 / 762 (thread    2) f\b\b\r",
      "STEP   437 / 762 (thread    5) f\b\b\r",
      "STEP   438 / 762 (thread    1) f\b\b\r",
      "STEP   439 / 762 (thread    3) f\b\b\r",
      "STEP   440 / 762 (thread    0) f\b\b\r",
      "STEP   441 / 762 (thread    4) f\b\b\r",
      "STEP   442 / 762 (thread    3) f\b\b\r",
      "STEP   443 / 762 (thread    1) f\b\b\r",
      "STEP   444 / 762 (thread    5) f\b\b\r",
      "STEP   445 / 762 (thread    2) f\b\b\r",
      "STEP   446 / 762 (thread    4) f\b\b\r",
      "STEP   447 / 762 (thread    0) f\b\b\r",
      "STEP   448 / 762 (thread    4) f\b\b\r",
      "STEP   449 / 762 (thread    3) f\b\b\r",
      "STEP   450 / 762 (thread    1) f\b\b\r",
      "STEP   451 / 762 (thread    2) f\b\b\r",
      "STEP   452 / 762 (thread    4) f\b\b\r",
      "STEP   453 / 762 (thread    5) f\b\b\r",
      "STEP   454 / 762 (thread    0) f\b\b\r",
      "STEP   455 / 762 (thread    3) f\b\b\r",
      "STEP   456 / 762 (thread    1) f\b\b\r",
      "STEP   458 / 762 (thread    2) f\b\b\r",
      "STEP   459 / 762 (thread    5) f\b\b\r",
      "STEP   460 / 762 (thread    0) f\b\b\r",
      "STEP   457 / 762 (thread    4) f\b\b\r",
      "STEP   461 / 762 (thread    1) f\b\b\r",
      "STEP   462 / 762 (thread    3) f\b\b\r",
      "STEP   463 / 762 (thread    5) f\b\b\r",
      "STEP   464 / 762 (thread    0) f\b\b\r",
      "STEP   465 / 762 (thread    2) f\b\b\r",
      "STEP   466 / 762 (thread    3) f\b\b\r",
      "STEP   468 / 762 (thread    0) f\b\b\r",
      "STEP   469 / 762 (thread    1) f\b\b\r",
      "STEP   470 / 762 (thread    2) f\b\b\r",
      "STEP   471 / 762 (thread    3) f\b\b\r",
      "STEP   472 / 762 (thread    5) f\b\b\r",
      "STEP   467 / 762 (thread    4) f\b\b\r",
      "STEP   473 / 762 (thread    0) f\b\b\r",
      "STEP   475 / 762 (thread    0) f\b\b\r",
      "STEP   476 / 762 (thread    1) f\b\b\r",
      "STEP   477 / 762 (thread    5) f\b\b\r",
      "STEP   474 / 762 (thread    2) f\b\b\r",
      "STEP   478 / 762 (thread    3) f\b\b\r",
      "STEP   479 / 762 (thread    4) f\b\b\r",
      "STEP   480 / 762 (thread    0) f\b\b\r",
      "STEP   481 / 762 (thread    3) f\b\b\r",
      "STEP   482 / 762 (thread    5) f\b\b\r",
      "STEP   483 / 762 (thread    4) f\b\b\r",
      "STEP   484 / 762 (thread    1) f\b\b\r",
      "STEP   485 / 762 (thread    2) f\b\b\r",
      "STEP   486 / 762 (thread    3) f\b\b\r",
      "STEP   487 / 762 (thread    0) f\b\b\r",
      "STEP   488 / 762 (thread    5) f\b\b\r",
      "STEP   489 / 762 (thread    4) f\b\b\r",
      "STEP   490 / 762 (thread    1) f\b\b\r",
      "STEP   491 / 762 (thread    5) f\b\b\r",
      "STEP   492 / 762 (thread    0) f\b\b\r",
      "STEP   493 / 762 (thread    3) f\b\b\r",
      "STEP   494 / 762 (thread    2) f\b\b\r",
      "STEP   495 / 762 (thread    0) f\b\b\r",
      "STEP   496 / 762 (thread    5) f\b\b\r",
      "STEP   497 / 762 (thread    1) f\b\b\r",
      "STEP   498 / 762 (thread    4) f\b\b\r",
      "STEP   499 / 762 (thread    3) f\b\b\r",
      "STEP   500 / 762 (thread    0) f\b\b\r",
      "STEP   501 / 762 (thread    3) f\b\b\r",
      "STEP   601 / 762 (thread    1) f\b\b\r",
      "STEP   701 / 762 (thread    3) f\b\b"
     ]
    },
    {
     "name": "stderr",
     "output_type": "stream",
     "text": [
      "\n",
      "done.\n",
      "\n",
      "Making a distance matrix from msa.. \n",
      "\r",
      "    0 / 763 (thread    0)\r",
      "  100 / 763 (thread    1)\r",
      "  200 / 763 (thread    3)\r",
      "  300 / 763 (thread    1)\r",
      "  400 / 763 (thread    0)\r",
      "  500 / 763 (thread    5)\r",
      "  600 / 763 (thread    4)\r",
      "  700 / 763 (thread    0)\n",
      "done.\n",
      "\n",
      "Constructing a UPGMA tree (efffree=1) ... \n",
      "\r",
      "    0 / 763\r",
      "   10 / 763\r",
      "   20 / 763\r",
      "   30 / 763\r",
      "   40 / 763\r",
      "   50 / 763\r",
      "   60 / 763\r",
      "   70 / 763\r",
      "   80 / 763\r",
      "   90 / 763\r",
      "  100 / 763\r",
      "  110 / 763\r",
      "  120 / 763\r",
      "  130 / 763\r",
      "  140 / 763\r",
      "  150 / 763\r",
      "  160 / 763\r",
      "  170 / 763\r",
      "  180 / 763\r",
      "  190 / 763\r",
      "  200 / 763\r",
      "  210 / 763\r",
      "  220 / 763\r",
      "  230 / 763\r",
      "  240 / 763\r",
      "  250 / 763\r",
      "  260 / 763\r",
      "  270 / 763\r",
      "  280 / 763\r",
      "  290 / 763\r",
      "  300 / 763\r",
      "  310 / 763\r",
      "  320 / 763\r",
      "  330 / 763\r",
      "  340 / 763\r",
      "  350 / 763\r",
      "  360 / 763\r",
      "  370 / 763\r",
      "  380 / 763\r",
      "  390 / 763\r",
      "  400 / 763\r",
      "  410 / 763\r",
      "  420 / 763\r",
      "  430 / 763\r",
      "  440 / 763\r",
      "  450 / 763\r",
      "  460 / 763\r",
      "  470 / 763\r",
      "  480 / 763\r",
      "  490 / 763\r",
      "  500 / 763\r",
      "  510 / 763\r",
      "  520 / 763\r",
      "  530 / 763\r",
      "  540 / 763\r",
      "  550 / 763\r",
      "  560 / 763\r",
      "  570 / 763\r",
      "  580 / 763\r",
      "  590 / 763\r",
      "  600 / 763\r",
      "  610 / 763\r",
      "  620 / 763\r",
      "  630 / 763\r",
      "  640 / 763\r",
      "  650 / 763\r",
      "  660 / 763\r",
      "  670 / 763\r",
      "  680 / 763\r",
      "  690 / 763\r",
      "  700 / 763\r",
      "  710 / 763\r",
      "  720 / 763\r",
      "  730 / 763\r",
      "  740 / 763\r",
      "  750 / 763\r",
      "  760 / 763\n",
      "done.\n",
      "\n",
      "Progressive alignment 2/2... \n",
      "\r",
      "STEP     1 / 762 (thread    0) f\b\b\r",
      "STEP     2 / 762 (thread    5) f\b\b\r",
      "STEP     3 / 762 (thread    2) f\b\b\r",
      "STEP     4 / 762 (thread    3) f\b\b\r",
      "STEP     5 / 762 (thread    1) f\b\b\r",
      "STEP     6 / 762 (thread    4) f\b\b\r",
      "STEP     7 / 762 (thread    5) f\b\b\r",
      "STEP     8 / 762 (thread    0) f\b\b\r",
      "STEP     9 / 762 (thread    2) f\b\b\r",
      "STEP    10 / 762 (thread    4) f\b\b\r",
      "STEP    11 / 762 (thread    3) f\b\b\r",
      "STEP    12 / 762 (thread    1) f\b\b\r",
      "STEP    13 / 762 (thread    5) f\b\b\r",
      "STEP    14 / 762 (thread    0) f\b\b\r",
      "STEP    15 / 762 (thread    2) f\b\b\r",
      "STEP    16 / 762 (thread    4) f\b\b\r",
      "STEP    17 / 762 (thread    3) f\b\b\r",
      "STEP    18 / 762 (thread    1) f\b\b\r",
      "STEP    19 / 762 (thread    5) f\b\b\r",
      "STEP    20 / 762 (thread    0) f\b\b\r",
      "STEP    21 / 762 (thread    2) f\b\b\r",
      "STEP    22 / 762 (thread    4) f\b\b\r",
      "STEP    23 / 762 (thread    3) f\b\b\r",
      "STEP    24 / 762 (thread    1) f\b\b\r",
      "STEP    25 / 762 (thread    5) f\b\b\r",
      "STEP    26 / 762 (thread    0) f\b\b\r",
      "STEP    27 / 762 (thread    2) f\b\b\r",
      "STEP    28 / 762 (thread    4) f\b\b\r",
      "STEP    29 / 762 (thread    3) f\b\b\r",
      "STEP    30 / 762 (thread    1) f\b\b\r",
      "STEP    31 / 762 (thread    5) f\b\b\r",
      "STEP    32 / 762 (thread    0) f\b\b\r",
      "STEP    33 / 762 (thread    2) f\b\b\r",
      "STEP    34 / 762 (thread    3) f\b\b\r",
      "STEP    35 / 762 (thread    4) f\b\b\r",
      "STEP    36 / 762 (thread    1) f\b\b\r",
      "STEP    37 / 762 (thread    5) f\b\b\r",
      "STEP    38 / 762 (thread    0) f\b\b\r",
      "STEP    39 / 762 (thread    2) f\b\b\r",
      "STEP    40 / 762 (thread    3) f\b\b\r",
      "STEP    41 / 762 (thread    4) f\b\b\r",
      "STEP    42 / 762 (thread    1) f\b\b\r",
      "STEP    43 / 762 (thread    5) f\b\b\r",
      "STEP    44 / 762 (thread    0) f\b\b\r",
      "STEP    45 / 762 (thread    2) f\b\b\r",
      "STEP    46 / 762 (thread    3) f\b\b\r",
      "STEP    47 / 762 (thread    4) f\b\b\r",
      "STEP    48 / 762 (thread    1) f\b\b\r",
      "STEP    49 / 762 (thread    5) f\b\b\r",
      "STEP    50 / 762 (thread    0) f\b\b\r",
      "STEP    51 / 762 (thread    2) f\b\b\r",
      "STEP    52 / 762 (thread    3) f\b\b\r",
      "STEP    53 / 762 (thread    4) f\b\b\r",
      "STEP    54 / 762 (thread    1) f\b\b\r",
      "STEP    55 / 762 (thread    5) f\b\b\r",
      "STEP    56 / 762 (thread    0) f\b\b\r",
      "STEP    57 / 762 (thread    2) f\b\b\r",
      "STEP    58 / 762 (thread    3) f\b\b\r",
      "STEP    59 / 762 (thread    4) f\b\b\r",
      "STEP    60 / 762 (thread    1) f\b\b\r",
      "STEP    61 / 762 (thread    5) f\b\b\r",
      "STEP    62 / 762 (thread    0) f\b\b\r",
      "STEP    63 / 762 (thread    2) f\b\b\r",
      "STEP    64 / 762 (thread    4) f\b\b\r",
      "STEP    65 / 762 (thread    3) f\b\b\r",
      "STEP    66 / 762 (thread    1) f\b\b\r",
      "STEP    67 / 762 (thread    5) f\b\b\r",
      "STEP    68 / 762 (thread    0) f\b\b\r",
      "STEP    69 / 762 (thread    2) f\b\b\r",
      "STEP    70 / 762 (thread    4) f\b\b\r",
      "STEP    71 / 762 (thread    3) f\b\b\r",
      "STEP    72 / 762 (thread    1) f\b\b\r",
      "STEP    73 / 762 (thread    5) f\b\b\r",
      "STEP    74 / 762 (thread    0) f\b\b\r",
      "STEP    75 / 762 (thread    2) f\b\b\r",
      "STEP    76 / 762 (thread    4) f\b\b\r",
      "STEP    77 / 762 (thread    3) f\b\b\r",
      "STEP    78 / 762 (thread    1) f\b\b\r",
      "STEP    79 / 762 (thread    5) f\b\b\r",
      "STEP    80 / 762 (thread    0) f\b\b\r",
      "STEP    81 / 762 (thread    2) f\b\b\r",
      "STEP    82 / 762 (thread    3) f\b\b\r",
      "STEP    83 / 762 (thread    4) f\b\b\r",
      "STEP    84 / 762 (thread    1) f\b\b\r",
      "STEP    85 / 762 (thread    5) f\b\b\r",
      "STEP    86 / 762 (thread    0) f\b\b\r",
      "STEP    87 / 762 (thread    2) f\b\b\r",
      "STEP    88 / 762 (thread    3) f\b\b\r",
      "STEP    89 / 762 (thread    4) f\b\b\r",
      "STEP    90 / 762 (thread    1) f\b\b\r",
      "STEP    91 / 762 (thread    5) f\b\b\r",
      "STEP    92 / 762 (thread    0) f\b\b\r",
      "STEP    93 / 762 (thread    2) f\b\b\r",
      "STEP    94 / 762 (thread    3) f\b\b\r",
      "STEP    95 / 762 (thread    4) f\b\b\r",
      "STEP    96 / 762 (thread    1) f\b\b\r",
      "STEP    97 / 762 (thread    5) f\b\b\r",
      "STEP    98 / 762 (thread    2) f\b\b\r",
      "STEP    99 / 762 (thread    0) f\b\b\r",
      "STEP   100 / 762 (thread    3) f\b\b\r",
      "STEP   101 / 762 (thread    4) f\b\b\r",
      "STEP   102 / 762 (thread    2) f\b\b\r",
      "STEP   103 / 762 (thread    0) f\b\b\r",
      "STEP   104 / 762 (thread    3) f\b\b\r",
      "STEP   105 / 762 (thread    4) f\b\b\r",
      "STEP   106 / 762 (thread    2) f\b\b\r",
      "STEP   107 / 762 (thread    0) f\b\b\r",
      "STEP   108 / 762 (thread    1) f\b\b\r",
      "STEP   109 / 762 (thread    3) f\b\b\r",
      "STEP   110 / 762 (thread    5) f\b\b\r",
      "STEP   111 / 762 (thread    4) f\b\b\r",
      "STEP   112 / 762 (thread    2) f\b\b\r",
      "STEP   113 / 762 (thread    0) f\b\b\r",
      "STEP   114 / 762 (thread    3) f\b\b\r",
      "STEP   115 / 762 (thread    5) f\b\b\r",
      "STEP   116 / 762 (thread    1) f\b\b\r",
      "STEP   117 / 762 (thread    0) f\b\b\r",
      "STEP   118 / 762 (thread    3) f\b\b\r",
      "STEP   119 / 762 (thread    5) f\b\b\r",
      "STEP   120 / 762 (thread    1) f\b\b\r",
      "STEP   121 / 762 (thread    4) f\b\b\r",
      "STEP   122 / 762 (thread    0) f\b\b\r",
      "STEP   123 / 762 (thread    3) f\b\b\r",
      "STEP   124 / 762 (thread    5) f\b\b\r",
      "STEP   125 / 762 (thread    1) f\b\b\r",
      "STEP   126 / 762 (thread    2) f\b\b\r",
      "STEP   127 / 762 (thread    4) f\b\b\r",
      "STEP   128 / 762 (thread    0) f\b\b\r",
      "STEP   129 / 762 (thread    3) f\b\b\r",
      "STEP   130 / 762 (thread    5) f\b\b\r",
      "STEP   131 / 762 (thread    1) f\b\b\r",
      "STEP   132 / 762 (thread    2) f\b\b\r",
      "STEP   133 / 762 (thread    4) f\b\b\r",
      "STEP   134 / 762 (thread    0) f\b\b\r",
      "STEP   135 / 762 (thread    3) f\b\b\r",
      "STEP   136 / 762 (thread    5) f\b\b\r",
      "STEP   137 / 762 (thread    2) f\b\b\r",
      "STEP   138 / 762 (thread    1) f\b\b\r",
      "STEP   139 / 762 (thread    4) f\b\b\r",
      "STEP   140 / 762 (thread    0) f\b\b\r",
      "STEP   141 / 762 (thread    3) f\b\b\r",
      "STEP   142 / 762 (thread    5) f\b\b\r",
      "STEP   143 / 762 (thread    2) f\b\b\r",
      "STEP   144 / 762 (thread    1) f\b\b\r",
      "STEP   145 / 762 (thread    4) f\b\b\r",
      "STEP   146 / 762 (thread    0) f\b\b\r",
      "STEP   147 / 762 (thread    3) f\b\b\r",
      "STEP   148 / 762 (thread    5) f\b\b\r",
      "STEP   149 / 762 (thread    2) f\b\b\r",
      "STEP   150 / 762 (thread    1) f\b\b\r",
      "STEP   151 / 762 (thread    4) f\b\b\r",
      "STEP   152 / 762 (thread    3) f\b\b\r",
      "STEP   153 / 762 (thread    0) f\b\b\r",
      "STEP   154 / 762 (thread    5) f\b\b\r",
      "STEP   155 / 762 (thread    2) f\b\b\r",
      "STEP   156 / 762 (thread    1) f\b\b\r",
      "STEP   157 / 762 (thread    4) f\b\b\r",
      "STEP   158 / 762 (thread    0) f\b\b\r",
      "STEP   160 / 762 (thread    5) f\b\b\r",
      "STEP   159 / 762 (thread    3) f\b\b\r",
      "STEP   161 / 762 (thread    2) f\b\b\r",
      "STEP   163 / 762 (thread    4) f\b\b\r",
      "STEP   162 / 762 (thread    1) f\b\b\r",
      "STEP   167 / 762 (thread    2) f\b\b\r",
      "STEP   168 / 762 (thread    2) f\b\b\r",
      "STEP   169 / 762 (thread    4) f\b\b\r",
      "STEP   164 / 762 (thread    0) f\b\b\r",
      "STEP   170 / 762 (thread    2) f\b\b\r",
      "STEP   171 / 762 (thread    1) f\b\b\r",
      "STEP   172 / 762 (thread    4) f\b\b\r",
      "STEP   173 / 762 (thread    2) f\b\b\r",
      "STEP   174 / 762 (thread    1) f\b\b\r",
      "STEP   175 / 762 (thread    4) f\b\b\r",
      "STEP   176 / 762 (thread    0) f\b\b\r",
      "STEP   165 / 762 (thread    5) f\b\b\r",
      "STEP   177 / 762 (thread    2) f\b\b\r",
      "STEP   178 / 762 (thread    1) f\b\b\r",
      "STEP   179 / 762 (thread    0) f\b\b\r",
      "STEP   180 / 762 (thread    2) f\b\b\r",
      "STEP   181 / 762 (thread    1) f\b\b\r",
      "STEP   182 / 762 (thread    4) f\b\b\r",
      "STEP   183 / 762 (thread    5) f\b\b\r",
      "STEP   166 / 762 (thread    3) f\b\b\r",
      "STEP   184 / 762 (thread    4) f\b\b\r",
      "STEP   185 / 762 (thread    0) f\b\b\r",
      "STEP   186 / 762 (thread    2) f\b\b\r",
      "STEP   187 / 762 (thread    1) f\b\b\r",
      "STEP   188 / 762 (thread    5) f\b\b\r",
      "STEP   189 / 762 (thread    3) f\b\b\r",
      "STEP   190 / 762 (thread    4) f\b\b\r",
      "STEP   191 / 762 (thread    1) f\b\b\r",
      "STEP   192 / 762 (thread    0) f\b\b\r",
      "STEP   193 / 762 (thread    2) f\b\b\r",
      "STEP   194 / 762 (thread    5) f\b\b\r",
      "STEP   195 / 762 (thread    3) f\b\b\r",
      "STEP   196 / 762 (thread    2) f\b\b\r",
      "STEP   197 / 762 (thread    4) f\b\b\r",
      "STEP   198 / 762 (thread    1) f\b\b\r",
      "STEP   199 / 762 (thread    0) f\b\b\r",
      "STEP   200 / 762 (thread    5) f\b\b\r",
      "STEP   201 / 762 (thread    2) f\b\b\r",
      "STEP   202 / 762 (thread    5) f\b\b\r",
      "STEP   203 / 762 (thread    2) f\b\b\r",
      "STEP   204 / 762 (thread    3) f\b\b\r",
      "STEP   205 / 762 (thread    4) f\b\b\r",
      "STEP   206 / 762 (thread    2) f\b\b\r",
      "STEP   207 / 762 (thread    0) f\b\b\r",
      "STEP   208 / 762 (thread    1) f\b\b\r",
      "STEP   209 / 762 (thread    3) f\b\b\r",
      "STEP   210 / 762 (thread    4) f\b\b\r",
      "STEP   211 / 762 (thread    5) f\b\b\r",
      "STEP   212 / 762 (thread    5) f\b\b\r",
      "STEP   213 / 762 (thread    2) f\b\b\r",
      "STEP   214 / 762 (thread    0) f\b\b\r",
      "STEP   215 / 762 (thread    3) f\b\b\r",
      "STEP   216 / 762 (thread    1) f\b\b\r",
      "STEP   217 / 762 (thread    4) f\b\b\r",
      "STEP   218 / 762 (thread    3) f\b\b\r",
      "STEP   219 / 762 (thread    1) f\b\b\r",
      "STEP   220 / 762 (thread    5) f\b\b\r",
      "STEP   221 / 762 (thread    2) f\b\b\r",
      "STEP   222 / 762 (thread    0) f\b\b\r",
      "STEP   223 / 762 (thread    1) f\b\b\r",
      "STEP   224 / 762 (thread    4) f\b\b\r",
      "STEP   225 / 762 (thread    5) f\b\b\r",
      "STEP   226 / 762 (thread    2) f\b\b\r",
      "STEP   227 / 762 (thread    3) f\b\b\r",
      "STEP   228 / 762 (thread    0) f\b\b\r",
      "STEP   229 / 762 (thread    1) f\b\b\r",
      "STEP   230 / 762 (thread    4) f\b\b\r",
      "STEP   231 / 762 (thread    2) f\b\b\r",
      "STEP   232 / 762 (thread    5) f\b\b\r",
      "STEP   233 / 762 (thread    3) f\b\b\r",
      "STEP   234 / 762 (thread    0) f\b\b\r",
      "STEP   235 / 762 (thread    4) f\b\b\r",
      "STEP   236 / 762 (thread    1) f\b\b\r",
      "STEP   237 / 762 (thread    2) f\b\b\r",
      "STEP   238 / 762 (thread    5) f\b\b\r",
      "STEP   239 / 762 (thread    3) f\b\b\r",
      "STEP   240 / 762 (thread    0) f\b\b\r",
      "STEP   241 / 762 (thread    2) f\b\b\r",
      "STEP   242 / 762 (thread    5) f\b\b\r",
      "STEP   243 / 762 (thread    4) f\b\b\r",
      "STEP   244 / 762 (thread    1) f\b\b\r",
      "STEP   245 / 762 (thread    3) f\b\b\r",
      "STEP   246 / 762 (thread    0) f\b\b\r",
      "STEP   247 / 762 (thread    4) f\b\b\r",
      "STEP   248 / 762 (thread    2) f\b\b\r",
      "STEP   249 / 762 (thread    5) f\b\b\r",
      "STEP   253 / 762 (thread    2) f\b\b\r",
      "STEP   254 / 762 (thread    5) f\b\b\r",
      "STEP   250 / 762 (thread    1) f\b\b\r",
      "STEP   251 / 762 (thread    3) f\b\b\r",
      "STEP   252 / 762 (thread    0) f\b\b\r",
      "STEP   255 / 762 (thread    4) f\b\b\r",
      "STEP   256 / 762 (thread    2) f\b\b\r",
      "STEP   257 / 762 (thread    5) f\b\b\r",
      "STEP   258 / 762 (thread    4) f\b\b\r",
      "STEP   259 / 762 (thread    2) f\b\b\r",
      "STEP   260 / 762 (thread    3) f\b\b\r",
      "STEP   261 / 762 (thread    1) f\b\b\r",
      "STEP   262 / 762 (thread    0) f\b\b\r",
      "STEP   263 / 762 (thread    5) f\b\b\r",
      "STEP   264 / 762 (thread    4) f\b\b\r",
      "STEP   265 / 762 (thread    2) f\b\b\r",
      "STEP   266 / 762 (thread    3) f\b\b\r",
      "STEP   267 / 762 (thread    5) f\b\b\r",
      "STEP   268 / 762 (thread    0) f\b\b\r",
      "STEP   269 / 762 (thread    1) f\b\b\r",
      "STEP   270 / 762 (thread    2) f\b\b\r",
      "STEP   271 / 762 (thread    4) f\b\b\r",
      "STEP   272 / 762 (thread    3) f\b\b\r",
      "STEP   273 / 762 (thread    5) f\b\b\r",
      "STEP   274 / 762 (thread    0) f\b\b\r",
      "STEP   275 / 762 (thread    2) f\b\b\r",
      "STEP   276 / 762 (thread    1) f\b\b\r",
      "STEP   277 / 762 (thread    4) f\b\b\r",
      "STEP   278 / 762 (thread    1) f\b\b\r",
      "STEP   279 / 762 (thread    3) f\b\b\r",
      "STEP   280 / 762 (thread    5) f\b\b\r",
      "STEP   281 / 762 (thread    0) f\b\b\r",
      "STEP   283 / 762 (thread    3) f\b\b\r",
      "STEP   284 / 762 (thread    5) f\b\b\r",
      "STEP   285 / 762 (thread    4) f\b\b\r",
      "STEP   286 / 762 (thread    0) f\b\b\r",
      "STEP   282 / 762 (thread    2) f\b\b\r",
      "STEP   287 / 762 (thread    1) f\b\b\r",
      "STEP   289 / 762 (thread    3) f\b\b\r",
      "STEP   291 / 762 (thread    0) f\b\b\r",
      "STEP   288 / 762 (thread    4) f\b\b\r",
      "STEP   292 / 762 (thread    2) f\b\b\r",
      "STEP   293 / 762 (thread    0) f\b\b\r",
      "STEP   294 / 762 (thread    1) f\b\b\r",
      "STEP   290 / 762 (thread    5) f\b\b\r",
      "STEP   295 / 762 (thread    3) f\b\b\r",
      "STEP   296 / 762 (thread    4) f\b\b\r",
      "STEP   297 / 762 (thread    2) f\b\b\r",
      "STEP   298 / 762 (thread    3) f\b\b\r",
      "STEP   299 / 762 (thread    0) f\b\b\r",
      "STEP   300 / 762 (thread    1) f\b\b\r",
      "STEP   301 / 762 (thread    2) f\b\b\r",
      "STEP   302 / 762 (thread    3) f\b\b\r",
      "STEP   303 / 762 (thread    5) f\b\b\r",
      "STEP   304 / 762 (thread    4) f\b\b\r",
      "STEP   305 / 762 (thread    0) f\b\b\r",
      "STEP   306 / 762 (thread    0) f\b\b\r",
      "STEP   307 / 762 (thread    1) f\b\b\r",
      "STEP   308 / 762 (thread    3) f\b\b\r",
      "STEP   309 / 762 (thread    2) f\b\b\r",
      "STEP   311 / 762 (thread    5) f\b\b\r",
      "STEP   312 / 762 (thread    0) f\b\b\r",
      "STEP   313 / 762 (thread    5) f\b\b\r",
      "STEP   314 / 762 (thread    3) f\b\b\r",
      "STEP   315 / 762 (thread    0) f\b\b\r",
      "STEP   316 / 762 (thread    3) f\b\b\r",
      "STEP   317 / 762 (thread    1) f\b\b\r",
      "STEP   318 / 762 (thread    2) f\b\b\r",
      "STEP   310 / 762 (thread    4) f\b\b\r",
      "STEP   319 / 762 (thread    5) f\b\b\r",
      "STEP   320 / 762 (thread    2) f\b\b\r",
      "STEP   321 / 762 (thread    2) f\b\b\r",
      "STEP   322 / 762 (thread    0) f\b\b\r",
      "STEP   323 / 762 (thread    5) f\b\b\r",
      "STEP   324 / 762 (thread    3) f\b\b\r",
      "STEP   325 / 762 (thread    2) f\b\b\r",
      "STEP   327 / 762 (thread    3) f\b\b\r",
      "STEP   328 / 762 (thread    4) f\b\b\r",
      "STEP   329 / 762 (thread    5) f\b\b\r",
      "STEP   330 / 762 (thread    2) f\b\b\r",
      "STEP   331 / 762 (thread    4) f\b\b\r",
      "STEP   332 / 762 (thread    0) f\b\b\r",
      "STEP   326 / 762 (thread    1) f\b\b\r",
      "STEP   333 / 762 (thread    5) f\b\b\r",
      "STEP   334 / 762 (thread    3) f\b\b\r",
      "STEP   335 / 762 (thread    2) f\b\b\r",
      "STEP   336 / 762 (thread    0) f\b\b\r",
      "STEP   337 / 762 (thread    4) f\b\b\r",
      "STEP   338 / 762 (thread    5) f\b\b\r",
      "STEP   339 / 762 (thread    1) f\b\b\r",
      "STEP   340 / 762 (thread    3) f\b\b\r",
      "STEP   341 / 762 (thread    2) f\b\b\r",
      "STEP   342 / 762 (thread    0) f\b\b\r",
      "STEP   343 / 762 (thread    1) f\b\b\r",
      "STEP   344 / 762 (thread    4) f\b\b\r",
      "STEP   345 / 762 (thread    5) f\b\b\r",
      "STEP   346 / 762 (thread    1) f\b\b\r",
      "STEP   347 / 762 (thread    3) f\b\b\r",
      "STEP   348 / 762 (thread    5) f\b\b\r",
      "STEP   349 / 762 (thread    0) f\b\b\r",
      "STEP   350 / 762 (thread    2) f\b\b\r",
      "STEP   351 / 762 (thread    4) f\b\b\r",
      "STEP   352 / 762 (thread    5) f\b\b\r",
      "STEP   353 / 762 (thread    1) f\b\b\r",
      "STEP   354 / 762 (thread    3) f\b\b\r",
      "STEP   355 / 762 (thread    2) f\b\b\r",
      "STEP   356 / 762 (thread    1) f\b\b\r",
      "STEP   357 / 762 (thread    0) f\b\b\r",
      "STEP   358 / 762 (thread    5) f\b\b\r",
      "STEP   359 / 762 (thread    4) f\b\b\r",
      "STEP   360 / 762 (thread    3) f\b\b\r",
      "STEP   361 / 762 (thread    2) f\b\b\r",
      "STEP   362 / 762 (thread    5) f\b\b\r",
      "STEP   363 / 762 (thread    0) f\b\b\r",
      "STEP   364 / 762 (thread    1) f\b\b\r",
      "STEP   365 / 762 (thread    4) f\b\b\r",
      "STEP   366 / 762 (thread    1) f\b\b\r",
      "STEP   367 / 762 (thread    3) f\b\b\r",
      "STEP   368 / 762 (thread    0) f\b\b\r",
      "STEP   370 / 762 (thread    2) f\b\b\r",
      "STEP   371 / 762 (thread    5) f\b\b\r",
      "STEP   369 / 762 (thread    4) f\b\b\r",
      "STEP   372 / 762 (thread    3) f\b\b\r",
      "STEP   374 / 762 (thread    0) f\b\b\r",
      "STEP   375 / 762 (thread    2) f\b\b\r",
      "STEP   376 / 762 (thread    3) f\b\b\r",
      "STEP   377 / 762 (thread    4) f\b\b\r",
      "STEP   378 / 762 (thread    5) f\b\b\r",
      "STEP   373 / 762 (thread    1) f\b\b\r",
      "STEP   379 / 762 (thread    0) f\b\b\r",
      "STEP   380 / 762 (thread    2) f\b\b\r",
      "STEP   381 / 762 (thread    3) f\b\b\r",
      "STEP   383 / 762 (thread    4) f\b\b\r",
      "STEP   384 / 762 (thread    0) f\b\b\r",
      "STEP   382 / 762 (thread    3) f\b\b\r",
      "STEP   386 / 762 (thread    5) f\b\b\r",
      "STEP   387 / 762 (thread    2) f\b\b\r",
      "STEP   385 / 762 (thread    1) f\b\b\r",
      "STEP   389 / 762 (thread    0) f\b\b\r",
      "STEP   390 / 762 (thread    3) f\b\b\r",
      "STEP   391 / 762 (thread    4) f\b\b\r",
      "STEP   392 / 762 (thread    5) f\b\b\r",
      "STEP   388 / 762 (thread    2) f\b\b\r",
      "STEP   393 / 762 (thread    1) f\b\b\r",
      "STEP   394 / 762 (thread    4) f\b\b\r",
      "STEP   395 / 762 (thread    5) f\b\b\r",
      "STEP   396 / 762 (thread    4) f\b\b\r",
      "STEP   397 / 762 (thread    3) f\b\b\r",
      "STEP   398 / 762 (thread    0) f\b\b\r",
      "STEP   399 / 762 (thread    1) f\b\b\r",
      "STEP   400 / 762 (thread    5) f\b\b\r",
      "STEP   401 / 762 (thread    4) f\b\b\r",
      "STEP   402 / 762 (thread    1) f\b\b\r",
      "STEP   403 / 762 (thread    3) f\b\b\r",
      "STEP   404 / 762 (thread    1) f\b\b\r",
      "STEP   405 / 762 (thread    4) f\b\b\r",
      "STEP   406 / 762 (thread    0) f\b\b\r",
      "STEP   407 / 762 (thread    5) f\b\b\r",
      "STEP   408 / 762 (thread    2) f\b\b\r",
      "STEP   409 / 762 (thread    0) f\b\b\r",
      "STEP   410 / 762 (thread    5) f\b\b\r",
      "STEP   411 / 762 (thread    3) f\b\b\r",
      "STEP   412 / 762 (thread    1) f\b\b\r",
      "STEP   413 / 762 (thread    4) f\b\b\r",
      "STEP   414 / 762 (thread    4) f\b\b\r",
      "STEP   415 / 762 (thread    5) f\b\b\r",
      "STEP   417 / 762 (thread    2) f\b\b\r",
      "STEP   418 / 762 (thread    1) f\b\b\r",
      "STEP   416 / 762 (thread    3) f\b\b\r",
      "STEP   419 / 762 (thread    0) f\b\b\r",
      "STEP   420 / 762 (thread    5) f\b\b\r",
      "STEP   421 / 762 (thread    4) f\b\b\r",
      "STEP   422 / 762 (thread    2) f\b\b\r",
      "STEP   423 / 762 (thread    0) f\b\b\r",
      "STEP   424 / 762 (thread    1) f\b\b\r",
      "STEP   425 / 762 (thread    5) f\b\b\r",
      "STEP   426 / 762 (thread    3) f\b\b\r",
      "STEP   427 / 762 (thread    4) f\b\b\r",
      "STEP   428 / 762 (thread    0) f\b\b\r",
      "STEP   429 / 762 (thread    1) f\b\b\r",
      "STEP   430 / 762 (thread    4) f\b\b\r",
      "STEP   432 / 762 (thread    5) f\b\b\r",
      "STEP   433 / 762 (thread    3) f\b\b\r",
      "STEP   431 / 762 (thread    2) f\b\b\r",
      "STEP   434 / 762 (thread    1) f\b\b\r",
      "STEP   436 / 762 (thread    5) f\b\b\r",
      "STEP   437 / 762 (thread    0) f\b\b\r",
      "STEP   438 / 762 (thread    1) f\b\b\r",
      "STEP   439 / 762 (thread    2) f\b\b\r",
      "STEP   435 / 762 (thread    4) f\b\b\r",
      "STEP   440 / 762 (thread    3) f\b\b\r",
      "STEP   441 / 762 (thread    3) f\b\b\r",
      "STEP   442 / 762 (thread    5) f\b\b\r",
      "STEP   443 / 762 (thread    1) f\b\b\r",
      "STEP   445 / 762 (thread    4) f\b\b\r",
      "STEP   446 / 762 (thread    4) f\b\b\r",
      "STEP   447 / 762 (thread    3) f\b\b\r",
      "STEP   448 / 762 (thread    1) f\b\b\r",
      "STEP   444 / 762 (thread    2) f\b\b\r",
      "STEP   450 / 762 (thread    0) f\b\b\r",
      "STEP   451 / 762 (thread    3) f\b\b\r",
      "STEP   452 / 762 (thread    4) f\b\b\r",
      "STEP   449 / 762 (thread    5) f\b\b\r",
      "STEP   453 / 762 (thread    2) f\b\b\r",
      "STEP   454 / 762 (thread    4) f\b\b\r",
      "STEP   455 / 762 (thread    0) f\b\b\r",
      "STEP   456 / 762 (thread    1) f\b\b\r",
      "STEP   457 / 762 (thread    1) f\b\b\r",
      "STEP   458 / 762 (thread    2) f\b\b\r",
      "STEP   460 / 762 (thread    3) f\b\b\r",
      "STEP   461 / 762 (thread    4) f\b\b\r",
      "STEP   459 / 762 (thread    5) f\b\b\r",
      "STEP   462 / 762 (thread    0) f\b\b\r",
      "STEP   463 / 762 (thread    2) f\b\b\r",
      "STEP   464 / 762 (thread    3) f\b\b\r",
      "STEP   465 / 762 (thread    4) f\b\b\r",
      "STEP   466 / 762 (thread    1) f\b\b\r",
      "STEP   467 / 762 (thread    0) f\b\b\r",
      "STEP   468 / 762 (thread    1) f\b\b\r",
      "STEP   469 / 762 (thread    2) f\b\b\r",
      "STEP   470 / 762 (thread    0) f\b\b\r",
      "STEP   471 / 762 (thread    5) f\b\b\r",
      "STEP   472 / 762 (thread    3) f\b\b\r",
      "STEP   473 / 762 (thread    2) f\b\b\r",
      "STEP   474 / 762 (thread    0) f\b\b\r",
      "STEP   475 / 762 (thread    3) f\b\b\r",
      "STEP   476 / 762 (thread    1) f\b\b\r",
      "STEP   477 / 762 (thread    2) f\b\b\r",
      "STEP   478 / 762 (thread    0) f\b\b\r",
      "STEP   479 / 762 (thread    5) f\b\b\r",
      "STEP   480 / 762 (thread    4) f\b\b\r",
      "STEP   481 / 762 (thread    2) f\b\b\r",
      "STEP   482 / 762 (thread    3) f\b\b\r",
      "STEP   483 / 762 (thread    0) f\b\b\r",
      "STEP   484 / 762 (thread    2) f\b\b\r",
      "STEP   485 / 762 (thread    1) f\b\b\r",
      "STEP   486 / 762 (thread    5) f\b\b\r",
      "STEP   487 / 762 (thread    4) f\b\b\r",
      "STEP   488 / 762 (thread    3) f\b\b\r",
      "STEP   489 / 762 (thread    2) f\b\b\r",
      "STEP   490 / 762 (thread    0) f\b\b\r",
      "STEP   491 / 762 (thread    1) f\b\b\r",
      "STEP   492 / 762 (thread    4) f\b\b\r",
      "STEP   493 / 762 (thread    5) f\b\b\r",
      "STEP   494 / 762 (thread    3) f\b\b\r",
      "STEP   495 / 762 (thread    1) f\b\b\r",
      "STEP   496 / 762 (thread    0) f\b\b\r",
      "STEP   497 / 762 (thread    5) f\b\b\r",
      "STEP   498 / 762 (thread    0) f\b\b\r",
      "STEP   499 / 762 (thread    5) f\b\b\r",
      "STEP   500 / 762 (thread    5) f\b\b\r",
      "STEP   501 / 762 (thread    4) f\b\b\n",
      "Reallocating..done. *alloclen = 1867\n",
      "\r",
      "STEP   601 / 762 (thread    3) f\b\b\r",
      "STEP   701 / 762 (thread    4) f\b\b"
     ]
    },
    {
     "name": "stderr",
     "output_type": "stream",
     "text": [
      "\n",
      "done.\n",
      "\n",
      "disttbfast (nuc) Version 7.520\n",
      "alg=A, model=DNA200 (2), 1.53 (4.59), -0.00 (-0.00), noshift, amax=0.0\n",
      "6 thread(s)\n",
      "\n",
      "\n",
      "Strategy:\n",
      " FFT-NS-2 (Fast but rough)\n",
      " Progressive method (guide trees were built 2 times.)\n",
      "\n",
      "If unsure which option to use, try 'mafft --auto input > output'.\n",
      "For more information, see 'mafft --help', 'mafft --man' and the mafft page.\n",
      "\n",
      "The default gap scoring scheme has been changed in version 7.110 (2013 Oct).\n",
      "It tends to insert more gaps into gap-rich regions than previous versions.\n",
      "To disable this change, add the --leavegappyregion option.\n",
      "\n"
     ]
    },
    {
     "name": "stdout",
     "output_type": "stream",
     "text": [
      "Running external command line application. This may print messages to stdout and/or stderr.\n",
      "The command being run is below. This command cannot be manually re-run as it will depend on temporary files that no longer exist.\n",
      "\n",
      "Command: FastTreeMP -quote -nt /tmp/qiime2/lauro/data/8a6b17b2-5109-4fdb-bab8-ac2ab55da8f7/data/aligned-dna-sequences.fasta\n",
      "\n"
     ]
    },
    {
     "name": "stderr",
     "output_type": "stream",
     "text": [
      "FastTree Version 2.1.11 Double precision (No SSE3), OpenMP (6 threads)\n",
      "Alignment: /tmp/qiime2/lauro/data/8a6b17b2-5109-4fdb-bab8-ac2ab55da8f7/data/aligned-dna-sequences.fasta\n",
      "Nucleotide distances: Jukes-Cantor Joins: balanced Support: SH-like 1000\n",
      "Search: Normal +NNI +SPR (2 rounds range 10) +ML-NNI opt-each=1\n",
      "TopHits: 1.00*sqrtN close=default refresh=0.80\n",
      "ML Model: Jukes-Cantor, CAT approximation with 20 rate categories\n",
      "      0.13 seconds: Joined    400 of    693\n"
     ]
    },
    {
     "name": "stderr",
     "output_type": "stream",
     "text": [
      "Initial topology in 0.24 seconds\n",
      "Refining topology: 38 rounds ME-NNIs, 2 rounds ME-SPRs, 19 rounds ML-NNIs\n",
      "      0.24 seconds: ME NNI round 1 of 38, 1 of 694 splits\n",
      "      0.35 seconds: SPR round   1 of   2, 101 of 1390 nodes\n"
     ]
    },
    {
     "name": "stderr",
     "output_type": "stream",
     "text": [
      "      0.48 seconds: SPR round   1 of   2, 401 of 1390 nodes\n",
      "      0.60 seconds: SPR round   1 of   2, 701 of 1390 nodes\n"
     ]
    },
    {
     "name": "stderr",
     "output_type": "stream",
     "text": [
      "      0.74 seconds: SPR round   1 of   2, 1001 of 1390 nodes\n",
      "      0.86 seconds: SPR round   1 of   2, 1301 of 1390 nodes\n"
     ]
    },
    {
     "name": "stderr",
     "output_type": "stream",
     "text": [
      "      0.99 seconds: SPR round   2 of   2, 101 of 1390 nodes\n",
      "      1.12 seconds: SPR round   2 of   2, 401 of 1390 nodes\n"
     ]
    },
    {
     "name": "stderr",
     "output_type": "stream",
     "text": [
      "      1.26 seconds: SPR round   2 of   2, 701 of 1390 nodes\n",
      "      1.37 seconds: SPR round   2 of   2, 1001 of 1390 nodes\n"
     ]
    },
    {
     "name": "stderr",
     "output_type": "stream",
     "text": [
      "      1.49 seconds: SPR round   2 of   2, 1301 of 1390 nodes\n",
      "Total branch-length 30.323 after 1.59 sec\n",
      "      1.61 seconds: ML Lengths 101 of 694 splits\n"
     ]
    },
    {
     "name": "stderr",
     "output_type": "stream",
     "text": [
      "      1.73 seconds: ML NNI round 1 of 19, 1 of 694 splits\n",
      "      1.85 seconds: ML NNI round 1 of 19, 401 of 694 splits, 54 changes (max delta 10.155)\n"
     ]
    },
    {
     "name": "stderr",
     "output_type": "stream",
     "text": [
      "ML-NNI round 1: LogLk = -47104.558 NNIs 123 max delta 10.16 Time 1.96\n",
      "      1.96 seconds: Site likelihoods with rate category 1 of 20\n",
      "Switched to using 20 rate categories (CAT approximation)\n",
      "Rate categories were divided by 0.993 so that average rate = 1.0\n",
      "CAT-based log-likelihoods may not be comparable across runs\n",
      "Use -gamma for approximate but comparable Gamma(20) log-likelihoods\n",
      "      2.06 seconds: ML NNI round 2 of 19, 1 of 694 splits\n"
     ]
    },
    {
     "name": "stderr",
     "output_type": "stream",
     "text": [
      "      2.19 seconds: ML NNI round 2 of 19, 401 of 694 splits, 38 changes (max delta 4.796)\n",
      "ML-NNI round 2: LogLk = -40798.772 NNIs 78 max delta 5.92 Time 2.30\n",
      "      2.30 seconds: ML NNI round 3 of 19, 1 of 694 splits\n"
     ]
    },
    {
     "name": "stderr",
     "output_type": "stream",
     "text": [
      "      2.40 seconds: ML NNI round 3 of 19, 301 of 694 splits, 8 changes (max delta 1.617)\n",
      "ML-NNI round 3: LogLk = -40768.450 NNIs 35 max delta 9.44 Time 2.47\n",
      "      2.50 seconds: ML NNI round 4 of 19, 101 of 694 splits, 1 changes (max delta 0.000)\n",
      "ML-NNI round 4: LogLk = -40759.413 NNIs 19 max delta 3.72 Time 2.57\n"
     ]
    },
    {
     "name": "stderr",
     "output_type": "stream",
     "text": [
      "      2.60 seconds: ML NNI round 5 of 19, 101 of 694 splits, 10 changes (max delta 0.419)\n",
      "ML-NNI round 5: LogLk = -40757.827 NNIs 10 max delta 0.42 Time 2.61\n",
      "ML-NNI round 6: LogLk = -40757.390 NNIs 3 max delta 0.10 Time 2.63\n",
      "Turning off heuristics for final round of ML NNIs (converged)\n",
      "      2.72 seconds: ML NNI round 7 of 19, 301 of 694 splits, 0 changes\n"
     ]
    },
    {
     "name": "stderr",
     "output_type": "stream",
     "text": [
      "ML-NNI round 7: LogLk = -40751.959 NNIs 9 max delta 1.78 Time 2.86 (final)\n",
      "      2.85 seconds: ML Lengths 1 of 694 splits\n",
      "Optimize all lengths: LogLk = -40750.504 Time 2.97\n",
      "      3.05 seconds: ML split tests for    100 of    693 internal splits\n"
     ]
    },
    {
     "name": "stderr",
     "output_type": "stream",
     "text": [
      "      3.23 seconds: ML split tests for    300 of    693 internal splits\n",
      "      3.40 seconds: ML split tests for    500 of    693 internal splits\n"
     ]
    },
    {
     "name": "stderr",
     "output_type": "stream",
     "text": [
      "Total time: 3.58 seconds Unique: 696/763 Bad splits: 2/693 Worst delta-LogLk 0.640\n"
     ]
    }
   ],
   "source": [
    "mafft_alignment, mafft_masked_alignment, mafft_tree, mafft_rooted_tree = align_to_tree_mafft_fasttree(\n",
    "    sequences=reps, n_threads=6, )"
   ]
  },
  {
   "cell_type": "markdown",
   "id": "0768d598",
   "metadata": {
    "papermill": {
     "duration": 0.004145,
     "end_time": "2024-03-12T22:47:48.603739",
     "exception": false,
     "start_time": "2024-03-12T22:47:48.599594",
     "status": "completed"
    },
    "tags": []
   },
   "source": [
    "### Compute Alpha Diversity (Phylogeny)\n",
    "- [diversity alpha_phylogenetic](https://docs.qiime2.org/2022.8/plugins/available/diversity/alpha-phylogenetic/): Computes a user-specified phylogenetic alpha diversity metric for all samples in a feature table.\n",
    "- Metrics: Choices ('faith_pd')"
   ]
  },
  {
   "cell_type": "code",
   "execution_count": 11,
   "id": "0383aa19",
   "metadata": {
    "ExecuteTime": {
     "end_time": "2022-09-29T20:54:35.310009Z",
     "start_time": "2022-09-29T20:54:35.141333Z"
    },
    "execution": {
     "iopub.execute_input": "2024-03-12T22:47:48.613140Z",
     "iopub.status.busy": "2024-03-12T22:47:48.612743Z",
     "iopub.status.idle": "2024-03-12T22:47:48.740730Z",
     "shell.execute_reply": "2024-03-12T22:47:48.740248Z"
    },
    "papermill": {
     "duration": 0.133857,
     "end_time": "2024-03-12T22:47:48.741725",
     "exception": false,
     "start_time": "2024-03-12T22:47:48.607868",
     "status": "completed"
    },
    "tags": []
   },
   "outputs": [
    {
     "name": "stdout",
     "output_type": "stream",
     "text": [
      "Calculating alpha diversity: faith_pd\n",
      "Running external command line application. This may print messages to stdout and/or stderr.\n",
      "The command being run is below. This command cannot be manually re-run as it will depend on temporary files that no longer exist.\n",
      "\n",
      "Command:\n",
      "\n",
      "faithpd -i /tmp/qiime2/lauro/data/326d3e4a-6a26-4b3b-bddd-faf243f22372/data/feature-table.biom -t /tmp/qiime2/lauro/data/93700a91-e012-4bec-9c30-5eee0cac7bbb/data/tree.nwk -o /tmp/q2-AlphaDiversityFormat-lg7py4s6\n",
      "\n",
      "DONE: Calculating alpha phylogeny: faith_pd\n"
     ]
    }
   ],
   "source": [
    "metrics = ('faith_pd', )\n",
    "alpha_diversities_phylogenetic = dict()\n",
    "for metric in metrics:\n",
    "    print(f\"Calculating alpha diversity: {metric}\")\n",
    "    try:\n",
    "        alpha_diversity = alpha_phylogenetic(table=tabs, phylogeny=mafft_rooted_tree, metric=metric).alpha_diversity\n",
    "        alpha_diversities_phylogenetic[metric] = alpha_diversity\n",
    "        # Save Artifact\n",
    "        file_path = os.path.join(alpha_path, f'alpha-phylogeny-{metric}.qza')\n",
    "        alpha_diversity.save(file_path)\n",
    "        print(f\"DONE: Calculating alpha phylogeny: {metric}\")\n",
    "    except Exception as e:\n",
    "        print(f\"ERROR: Calculating alpha phylogeny: {metric}\")"
   ]
  },
  {
   "cell_type": "markdown",
   "id": "42db1ead",
   "metadata": {
    "papermill": {
     "duration": 0.004199,
     "end_time": "2024-03-12T22:47:48.750404",
     "exception": false,
     "start_time": "2024-03-12T22:47:48.746205",
     "status": "completed"
    },
    "tags": []
   },
   "source": [
    "- [core-metrics-phylogenetic](https://docs.qiime2.org/2023.7/plugins/available/diversity/core-metrics-phylogenetic/)"
   ]
  },
  {
   "cell_type": "code",
   "execution_count": 12,
   "id": "ef726ab7",
   "metadata": {
    "execution": {
     "iopub.execute_input": "2024-03-12T22:47:48.759542Z",
     "iopub.status.busy": "2024-03-12T22:47:48.759405Z",
     "iopub.status.idle": "2024-03-12T22:47:50.694285Z",
     "shell.execute_reply": "2024-03-12T22:47:50.693793Z"
    },
    "papermill": {
     "duration": 1.940852,
     "end_time": "2024-03-12T22:47:50.695445",
     "exception": false,
     "start_time": "2024-03-12T22:47:48.754593",
     "status": "completed"
    },
    "tags": []
   },
   "outputs": [
    {
     "name": "stderr",
     "output_type": "stream",
     "text": [
      "/home/lauro/anaconda3/envs/qiime2-2023.5/lib/python3.8/site-packages/skbio/diversity/alpha/_base.py:793: RuntimeWarning: invalid value encountered in double_scalars\n",
      "  return shannon(counts, base=np.e) / np.log(observed_otus(counts))\n",
      "/home/lauro/anaconda3/envs/qiime2-2023.5/lib/python3.8/site-packages/sklearn/metrics/pairwise.py:1761: DataConversionWarning: Data was converted to boolean for metric jaccard\n",
      "  warnings.warn(msg, DataConversionWarning)\n",
      "/home/lauro/anaconda3/envs/qiime2-2023.5/lib/python3.8/site-packages/skbio/stats/ordination/_principal_coordinate_analysis.py:143: RuntimeWarning: The result contains negative eigenvalues. Please compare their magnitude with the magnitude of some of the largest positive eigenvalues. If the negative ones are smaller, it's probably safe to ignore them, but if they are large in magnitude, the results won't be useful. See the Notes section for more details. The smallest eigenvalue is -0.058444419822931894 and the largest is 3.0537799286613447.\n",
      "  warn(\n",
      "/home/lauro/anaconda3/envs/qiime2-2023.5/lib/python3.8/site-packages/skbio/stats/ordination/_principal_coordinate_analysis.py:143: RuntimeWarning: The result contains negative eigenvalues. Please compare their magnitude with the magnitude of some of the largest positive eigenvalues. If the negative ones are smaller, it's probably safe to ignore them, but if they are large in magnitude, the results won't be useful. See the Notes section for more details. The smallest eigenvalue is -0.20942340117333225 and the largest is 5.582310990881879.\n",
      "  warn(\n"
     ]
    },
    {
     "name": "stdout",
     "output_type": "stream",
     "text": [
      "Running external command line application. This may print messages to stdout and/or stderr.\n",
      "The command being run is below. This command cannot be manually re-run as it will depend on temporary files that no longer exist.\n",
      "\n",
      "Command:\n",
      "\n",
      "faithpd -i /tmp/qiime2/lauro/data/5cdb907a-fec6-4099-95e6-6a8e85b8397e/data/feature-table.biom -t /tmp/qiime2/lauro/data/93700a91-e012-4bec-9c30-5eee0cac7bbb/data/tree.nwk -o /tmp/q2-AlphaDiversityFormat-1pde474c\n",
      "\n",
      "Running external command line application. This may print messages to stdout and/or stderr.\n",
      "The command being run is below. This command cannot be manually re-run as it will depend on temporary files that no longer exist.\n",
      "\n",
      "Command:\n",
      "\n",
      "ssu -i /tmp/qiime2/lauro/data/5cdb907a-fec6-4099-95e6-6a8e85b8397e/data/feature-table.biom -t /tmp/qiime2/lauro/data/93700a91-e012-4bec-9c30-5eee0cac7bbb/data/tree.nwk -m unweighted -o /tmp/q2-LSMatFormat-2_28hj8r\n",
      "\n"
     ]
    },
    {
     "name": "stdout",
     "output_type": "stream",
     "text": [
      "Running external command line application. This may print messages to stdout and/or stderr.\n",
      "The command being run is below. This command cannot be manually re-run as it will depend on temporary files that no longer exist.\n",
      "\n",
      "Command:\n",
      "\n",
      "ssu -i /tmp/qiime2/lauro/data/5cdb907a-fec6-4099-95e6-6a8e85b8397e/data/feature-table.biom -t /tmp/qiime2/lauro/data/93700a91-e012-4bec-9c30-5eee0cac7bbb/data/tree.nwk -m weighted_unnormalized -o /tmp/q2-LSMatFormat-fztz1f3d\n",
      "\n"
     ]
    },
    {
     "name": "stderr",
     "output_type": "stream",
     "text": [
      "/home/lauro/anaconda3/envs/qiime2-2023.5/lib/python3.8/site-packages/skbio/stats/ordination/_principal_coordinate_analysis.py:143: RuntimeWarning: The result contains negative eigenvalues. Please compare their magnitude with the magnitude of some of the largest positive eigenvalues. If the negative ones are smaller, it's probably safe to ignore them, but if they are large in magnitude, the results won't be useful. See the Notes section for more details. The smallest eigenvalue is -0.07549139633261415 and the largest is 3.355471531738721.\n",
      "  warn(\n",
      "/home/lauro/anaconda3/envs/qiime2-2023.5/lib/python3.8/site-packages/skbio/stats/ordination/_principal_coordinate_analysis.py:143: RuntimeWarning: The result contains negative eigenvalues. Please compare their magnitude with the magnitude of some of the largest positive eigenvalues. If the negative ones are smaller, it's probably safe to ignore them, but if they are large in magnitude, the results won't be useful. See the Notes section for more details. The smallest eigenvalue is -0.17474231493480463 and the largest is 3.2647006190475736.\n",
      "  warn(\n"
     ]
    }
   ],
   "source": [
    "s_depth = int(tabs.view(pd.DataFrame).sum(axis=1).min())\n",
    "results = core_metrics_phylogenetic(\n",
    "    table = tabs,\n",
    "    phylogeny = mafft_rooted_tree,\n",
    "    sampling_depth = s_depth,\n",
    "    metadata = metadata_qa,\n",
    "    n_jobs_or_threads = 6,\n",
    ")"
   ]
  },
  {
   "cell_type": "code",
   "execution_count": 13,
   "id": "19311218",
   "metadata": {
    "execution": {
     "iopub.execute_input": "2024-03-12T22:47:50.705390Z",
     "iopub.status.busy": "2024-03-12T22:47:50.705254Z",
     "iopub.status.idle": "2024-03-12T22:47:50.708883Z",
     "shell.execute_reply": "2024-03-12T22:47:50.708579Z"
    },
    "papermill": {
     "duration": 0.009604,
     "end_time": "2024-03-12T22:47:50.709763",
     "exception": false,
     "start_time": "2024-03-12T22:47:50.700159",
     "status": "completed"
    },
    "tags": []
   },
   "outputs": [],
   "source": [
    "results_info = [(\"rarefied_table\", \"FeatureTable[Frequency]\", \"The resulting rarefied feature table.\"),\n",
    "(\"faith_pd_vector\", \"SampleData[AlphaDiversity]\", \"Vector of Faith PD values by sample.\"),\n",
    "(\"observed_features_vector\", \"SampleData[AlphaDiversity]\", \"Vector of Observed Features values by sample.\"),\n",
    "(\"shannon_vector\", \"SampleData[AlphaDiversity]\", \"Vector of Shannon diversity values by sample.\"),\n",
    "(\"evenness_vector\", \"SampleData[AlphaDiversity]\", \"Vector of Pielou's evenness values by sample.\"),\n",
    "(\"unweighted_unifrac_distance_matrix\", \"DistanceMatrix\", \"Matrix of unweighted UniFrac distances between pairs of samples.\"),\n",
    "(\"weighted_unifrac_distance_matrix\", \"DistanceMatrix\", \"Matrix of weighted UniFrac distances between pairs of samples.\"),\n",
    "(\"jaccard_distance_matrix\", \"DistanceMatrix\", \"Matrix of Jaccard distances between pairs of samples.\"),\n",
    "(\"bray_curtis_distance_matrix\", \"DistanceMatrix\", \"Matrix of Bray-Curtis distances between pairs of samples.\"),\n",
    "(\"unweighted_unifrac_pcoa_results\", \"PCoAResults\", \"PCoA matrix computed from unweighted UniFrac distances between samples.\"),\n",
    "(\"weighted_unifrac_pcoa_results\", \"PCoAResults\", \"PCoA matrix computed from weighted UniFrac distances between samples.\"),\n",
    "(\"jaccard_pcoa_results\", \"PCoAResults\", \"PCoA matrix computed from Jaccard distances between samples.\"),\n",
    "(\"bray_curtis_pcoa_results\", \"PCoAResults\", \"PCoA matrix computed from Bray-Curtis distances between samples.\"),\n",
    "(\"unweighted_unifrac_emperor\", \"Visualization\", \"Emperor plot of the PCoA matrix computed from unweighted UniFrac.\"),\n",
    "(\"weighted_unifrac_emperor\", \"Visualization\", \"Emperor plot of the PCoA matrix computed from weighted UniFrac.\"),\n",
    "(\"jaccard_emperor\", \"Visualization\", \"Emperor plot of the PCoA matrix computed from Jaccard.\"),\n",
    "(\"bray_curtis_emperor\", \"Visualization\", \"Emperor plot of the PCoA matrix computed from Bray-Curtis.\")]"
   ]
  },
  {
   "cell_type": "code",
   "execution_count": 14,
   "id": "2264925a",
   "metadata": {
    "execution": {
     "iopub.execute_input": "2024-03-12T22:47:50.719200Z",
     "iopub.status.busy": "2024-03-12T22:47:50.719078Z",
     "iopub.status.idle": "2024-03-12T22:47:51.010058Z",
     "shell.execute_reply": "2024-03-12T22:47:51.009540Z"
    },
    "papermill": {
     "duration": 0.296846,
     "end_time": "2024-03-12T22:47:51.011079",
     "exception": false,
     "start_time": "2024-03-12T22:47:50.714233",
     "status": "completed"
    },
    "tags": []
   },
   "outputs": [
    {
     "name": "stdout",
     "output_type": "stream",
     "text": [
      "13 unweighted_unifrac_emperor Visualization\n",
      "--- Emperor plot of the PCoA matrix computed from unweighted UniFrac. ---\n",
      "Saving emperor file at: /mnt/nupeb/rede-micro/redemicro-jennefer/experiments/jennefer-vs-paired-end-trim-not-histec/qiime-artifacts/beta-analysis/unweighted_unifrac_emperor.qzv\n",
      "\n",
      "14 weighted_unifrac_emperor Visualization\n",
      "--- Emperor plot of the PCoA matrix computed from weighted UniFrac. ---\n",
      "Saving emperor file at: /mnt/nupeb/rede-micro/redemicro-jennefer/experiments/jennefer-vs-paired-end-trim-not-histec/qiime-artifacts/beta-analysis/weighted_unifrac_emperor.qzv\n",
      "\n",
      "15 jaccard_emperor Visualization\n",
      "--- Emperor plot of the PCoA matrix computed from Jaccard. ---\n",
      "Saving emperor file at: /mnt/nupeb/rede-micro/redemicro-jennefer/experiments/jennefer-vs-paired-end-trim-not-histec/qiime-artifacts/beta-analysis/jaccard_emperor.qzv\n",
      "\n"
     ]
    },
    {
     "name": "stdout",
     "output_type": "stream",
     "text": [
      "16 bray_curtis_emperor Visualization\n",
      "--- Emperor plot of the PCoA matrix computed from Bray-Curtis. ---\n",
      "Saving emperor file at: /mnt/nupeb/rede-micro/redemicro-jennefer/experiments/jennefer-vs-paired-end-trim-not-histec/qiime-artifacts/beta-analysis/bray_curtis_emperor.qzv\n",
      "\n"
     ]
    }
   ],
   "source": [
    "distance_matrix = dict()\n",
    "for i, info in enumerate(results_info):\n",
    "    r_id, r_type, r_desc = info\n",
    "    #print(i, r_id, r_type)\n",
    "    file_name = f\"{r_id}.qzv\"\n",
    "    if r_type == \"FeatureTable[Frequency]\":\n",
    "        pass\n",
    "    elif r_type == \"DistanceMatrix\":\n",
    "        distance_matrix[r_id] = results[i]\n",
    "    elif r_id.endswith('emperor'):\n",
    "        print(i, r_id, r_type)\n",
    "        print(f\"--- {r_desc} ---\")\n",
    "        file_name = os.path.join(beta_path, file_name)\n",
    "        print(f'Saving emperor file at: {file_name}\\n')\n",
    "        results[i].save(filepath=file_name)"
   ]
  },
  {
   "cell_type": "markdown",
   "id": "c7752cfd",
   "metadata": {
    "papermill": {
     "duration": 0.004625,
     "end_time": "2024-03-12T22:47:51.020593",
     "exception": false,
     "start_time": "2024-03-12T22:47:51.015968",
     "status": "completed"
    },
    "tags": []
   },
   "source": [
    "### Alpha diversity correlation\n",
    "\n",
    "This method only process `numeric` columns.\n"
   ]
  },
  {
   "cell_type": "code",
   "execution_count": 15,
   "id": "2814f613",
   "metadata": {
    "ExecuteTime": {
     "end_time": "2022-09-29T20:54:35.317618Z",
     "start_time": "2022-09-29T20:54:35.312094Z"
    },
    "execution": {
     "iopub.execute_input": "2024-03-12T22:47:51.030579Z",
     "iopub.status.busy": "2024-03-12T22:47:51.030381Z",
     "iopub.status.idle": "2024-03-12T22:47:51.763527Z",
     "shell.execute_reply": "2024-03-12T22:47:51.763198Z"
    },
    "papermill": {
     "duration": 0.739232,
     "end_time": "2024-03-12T22:47:51.764441",
     "exception": false,
     "start_time": "2024-03-12T22:47:51.025209",
     "status": "completed"
    },
    "tags": []
   },
   "outputs": [
    {
     "name": "stdout",
     "output_type": "stream",
     "text": [
      "DONE: Calculating alpha correlation: chao1 spearman\n"
     ]
    },
    {
     "name": "stderr",
     "output_type": "stream",
     "text": [
      "/home/lauro/anaconda3/envs/qiime2-2023.5/lib/python3.8/site-packages/q2_diversity/_alpha/_visualizer.py:168: FutureWarning: Passing a set as an indexer is deprecated and will raise in a future version. Use a list instead.\n",
      "  alpha_diversity = alpha_diversity[matched_ids]\n",
      "/home/lauro/anaconda3/envs/qiime2-2023.5/lib/python3.8/site-packages/q2_diversity/_alpha/_visualizer.py:168: FutureWarning: Passing a set as an indexer is deprecated and will raise in a future version. Use a list instead.\n",
      "  alpha_diversity = alpha_diversity[matched_ids]\n",
      "/home/lauro/anaconda3/envs/qiime2-2023.5/lib/python3.8/site-packages/q2_diversity/_alpha/_visualizer.py:168: FutureWarning: Passing a set as an indexer is deprecated and will raise in a future version. Use a list instead.\n",
      "  alpha_diversity = alpha_diversity[matched_ids]\n"
     ]
    },
    {
     "name": "stdout",
     "output_type": "stream",
     "text": [
      "DONE: Calculating alpha correlation: chao1 pearson\n",
      "ERROR: Calculating alpha correlation: chao1_ci spearman\n",
      "ERROR: Calculating alpha correlation: chao1_ci pearson\n",
      "DONE: Calculating alpha correlation: observed_features spearman\n"
     ]
    },
    {
     "name": "stdout",
     "output_type": "stream",
     "text": [
      "DONE: Calculating alpha correlation: observed_features pearson\n"
     ]
    },
    {
     "name": "stderr",
     "output_type": "stream",
     "text": [
      "/home/lauro/anaconda3/envs/qiime2-2023.5/lib/python3.8/site-packages/q2_diversity/_alpha/_visualizer.py:168: FutureWarning: Passing a set as an indexer is deprecated and will raise in a future version. Use a list instead.\n",
      "  alpha_diversity = alpha_diversity[matched_ids]\n",
      "/home/lauro/anaconda3/envs/qiime2-2023.5/lib/python3.8/site-packages/q2_diversity/_alpha/_visualizer.py:168: FutureWarning: Passing a set as an indexer is deprecated and will raise in a future version. Use a list instead.\n",
      "  alpha_diversity = alpha_diversity[matched_ids]\n",
      "/home/lauro/anaconda3/envs/qiime2-2023.5/lib/python3.8/site-packages/q2_diversity/_alpha/_visualizer.py:168: FutureWarning: Passing a set as an indexer is deprecated and will raise in a future version. Use a list instead.\n",
      "  alpha_diversity = alpha_diversity[matched_ids]\n"
     ]
    },
    {
     "name": "stdout",
     "output_type": "stream",
     "text": [
      "DONE: Calculating alpha correlation: shannon spearman\n",
      "DONE: Calculating alpha correlation: shannon pearson\n"
     ]
    },
    {
     "name": "stdout",
     "output_type": "stream",
     "text": [
      "DONE: Calculating alpha correlation: simpson spearman\n"
     ]
    },
    {
     "name": "stderr",
     "output_type": "stream",
     "text": [
      "/home/lauro/anaconda3/envs/qiime2-2023.5/lib/python3.8/site-packages/q2_diversity/_alpha/_visualizer.py:168: FutureWarning: Passing a set as an indexer is deprecated and will raise in a future version. Use a list instead.\n",
      "  alpha_diversity = alpha_diversity[matched_ids]\n",
      "/home/lauro/anaconda3/envs/qiime2-2023.5/lib/python3.8/site-packages/q2_diversity/_alpha/_visualizer.py:168: FutureWarning: Passing a set as an indexer is deprecated and will raise in a future version. Use a list instead.\n",
      "  alpha_diversity = alpha_diversity[matched_ids]\n",
      "/home/lauro/anaconda3/envs/qiime2-2023.5/lib/python3.8/site-packages/q2_diversity/_alpha/_visualizer.py:168: FutureWarning: Passing a set as an indexer is deprecated and will raise in a future version. Use a list instead.\n",
      "  alpha_diversity = alpha_diversity[matched_ids]\n"
     ]
    },
    {
     "name": "stdout",
     "output_type": "stream",
     "text": [
      "DONE: Calculating alpha correlation: simpson pearson\n",
      "DONE: Calculating alpha correlation: simpson_e spearman\n"
     ]
    },
    {
     "name": "stdout",
     "output_type": "stream",
     "text": [
      "DONE: Calculating alpha correlation: simpson_e pearson\n"
     ]
    },
    {
     "name": "stderr",
     "output_type": "stream",
     "text": [
      "/home/lauro/anaconda3/envs/qiime2-2023.5/lib/python3.8/site-packages/q2_diversity/_alpha/_visualizer.py:168: FutureWarning: Passing a set as an indexer is deprecated and will raise in a future version. Use a list instead.\n",
      "  alpha_diversity = alpha_diversity[matched_ids]\n"
     ]
    }
   ],
   "source": [
    "methods = ('spearman', 'pearson')\n",
    "numerics_cols = metadata_qa.filter_columns(column_type='numeric')\n",
    "if numerics_cols.column_count > 0:\n",
    "    for metric, alpha_values in alpha_diversities.items():\n",
    "        for method in methods:\n",
    "            try:\n",
    "                corr_view = alpha_correlation(alpha_diversity=alpha_values, metadata=numerics_cols, \n",
    "                                          method=method, intersect_ids=True).visualization\n",
    "                view_path = os.path.join(alpha_path, f'alpha-correlation-{metric}-{method}.qzv')\n",
    "                corr_view.save(view_path)\n",
    "                corr_view\n",
    "                print(f\"DONE: Calculating alpha correlation: {metric} {method}\")\n",
    "            except Exception as e:\n",
    "                print(f\"ERROR: Calculating alpha correlation: {metric} {method}\")"
   ]
  },
  {
   "cell_type": "markdown",
   "id": "8ea83c8a",
   "metadata": {
    "papermill": {
     "duration": 0.004791,
     "end_time": "2024-03-12T22:47:51.774350",
     "exception": false,
     "start_time": "2024-03-12T22:47:51.769559",
     "status": "completed"
    },
    "tags": []
   },
   "source": [
    "## Alpha diversity comparisons\n",
    "\n",
    "Visually and statistically compare groups of alpha diversity values.\n",
    "\n",
    "[diversity alpha_group_significance](https://docs.qiime2.org/2022.8/plugins/available/diversity/alpha-group-significance/)"
   ]
  },
  {
   "cell_type": "code",
   "execution_count": 16,
   "id": "276d1c18",
   "metadata": {
    "ExecuteTime": {
     "end_time": "2022-09-29T20:54:36.089290Z",
     "start_time": "2022-09-29T20:54:35.318963Z"
    },
    "execution": {
     "iopub.execute_input": "2024-03-12T22:47:51.784534Z",
     "iopub.status.busy": "2024-03-12T22:47:51.784402Z",
     "iopub.status.idle": "2024-03-12T22:47:52.198186Z",
     "shell.execute_reply": "2024-03-12T22:47:52.197712Z"
    },
    "papermill": {
     "duration": 0.419961,
     "end_time": "2024-03-12T22:47:52.199130",
     "exception": false,
     "start_time": "2024-03-12T22:47:51.779169",
     "status": "completed"
    },
    "tags": []
   },
   "outputs": [
    {
     "name": "stdout",
     "output_type": "stream",
     "text": [
      "Processing alpha_group_significance: chao1\n"
     ]
    },
    {
     "name": "stdout",
     "output_type": "stream",
     "text": [
      "DONE: Calculating alpha group significance: chao1\n",
      "Processing alpha_group_significance: chao1_ci\n",
      "ERROR: Calculating alpha group significance: chao1_ci\n",
      "Processing alpha_group_significance: observed_features\n",
      "DONE: Calculating alpha group significance: observed_features\n",
      "Processing alpha_group_significance: shannon\n"
     ]
    },
    {
     "name": "stdout",
     "output_type": "stream",
     "text": [
      "DONE: Calculating alpha group significance: shannon\n",
      "Processing alpha_group_significance: simpson\n"
     ]
    },
    {
     "name": "stdout",
     "output_type": "stream",
     "text": [
      "DONE: Calculating alpha group significance: simpson\n",
      "Processing alpha_group_significance: simpson_e\n",
      "DONE: Calculating alpha group significance: simpson_e\n"
     ]
    }
   ],
   "source": [
    "for metric, alpha_values in alpha_diversities.items():\n",
    "    print(f\"Processing alpha_group_significance: {metric}\")\n",
    "    try:\n",
    "        significance_view = alpha_group_significance(alpha_diversity=alpha_values, metadata=metadata_qa).visualization\n",
    "        view_path = os.path.join(alpha_path, f'alpha-group-significance-{metric}.qzv')\n",
    "        significance_view.save(view_path)\n",
    "        significance_view\n",
    "        print(f\"DONE: Calculating alpha group significance: {metric}\")\n",
    "    except Exception as e:\n",
    "        print(f\"ERROR: Calculating alpha group significance: {metric}\")"
   ]
  },
  {
   "cell_type": "markdown",
   "id": "4349d357",
   "metadata": {
    "papermill": {
     "duration": 0.004898,
     "end_time": "2024-03-12T22:47:52.209182",
     "exception": false,
     "start_time": "2024-03-12T22:47:52.204284",
     "status": "completed"
    },
    "tags": []
   },
   "source": [
    "## Beta diversity analysis\n",
    "\n",
    "#### Reference\n",
    "- [diversity beta](https://docs.qiime2.org/2022.8/plugins/available/diversity/beta/): Computes a user-specified beta diversity metric for all pairs of samples in a feature table.\n",
    "- [Beta diversity metrics](http://scikit-bio.org/docs/0.2.0/generated/skbio.diversity.beta.html)\n",
    "\n",
    "- Metric Choices('aitchison', 'braycurtis', 'canberra', 'canberra_adkins', 'chebyshev', 'cityblock', 'correlation', 'cosine', 'dice', 'euclidean', 'hamming', 'jaccard', 'jensenshannon', 'kulsinski', 'matching', 'minkowski', 'rogerstanimoto', 'russellrao', 'seuclidean', 'sokalmichener', 'sokalsneath', 'sqeuclidean', 'yule')"
   ]
  },
  {
   "cell_type": "code",
   "execution_count": 17,
   "id": "f6f358dd",
   "metadata": {
    "ExecuteTime": {
     "end_time": "2022-09-29T20:54:36.335038Z",
     "start_time": "2022-09-29T20:54:36.091288Z"
    },
    "execution": {
     "iopub.execute_input": "2024-03-12T22:47:52.220349Z",
     "iopub.status.busy": "2024-03-12T22:47:52.220219Z",
     "iopub.status.idle": "2024-03-12T22:47:52.643362Z",
     "shell.execute_reply": "2024-03-12T22:47:52.642921Z"
    },
    "papermill": {
     "duration": 0.429535,
     "end_time": "2024-03-12T22:47:52.644330",
     "exception": false,
     "start_time": "2024-03-12T22:47:52.214795",
     "status": "completed"
    },
    "tags": []
   },
   "outputs": [
    {
     "name": "stdout",
     "output_type": "stream",
     "text": [
      "Calculating beta diversity: euclidean\n"
     ]
    },
    {
     "name": "stdout",
     "output_type": "stream",
     "text": [
      "DONE: Calculating beta diversity: euclidean\n",
      "Calculating beta diversity: dice\n"
     ]
    },
    {
     "name": "stdout",
     "output_type": "stream",
     "text": [
      "DONE: Calculating beta diversity: dice\n",
      "Calculating beta diversity: braycurtis\n"
     ]
    },
    {
     "name": "stdout",
     "output_type": "stream",
     "text": [
      "DONE: Calculating beta diversity: braycurtis\n",
      "Calculating beta diversity: correlation\n",
      "ERROR: Calculating beta diversity: correlation\n",
      "Calculating beta diversity: cosine\n",
      "ERROR: Calculating beta diversity: cosine\n",
      "Calculating beta diversity: matching\n"
     ]
    },
    {
     "name": "stderr",
     "output_type": "stream",
     "text": [
      "/home/lauro/anaconda3/envs/qiime2-2023.5/lib/python3.8/site-packages/sklearn/metrics/pairwise.py:1761: DataConversionWarning: Data was converted to boolean for metric dice\n",
      "  warnings.warn(msg, DataConversionWarning)\n"
     ]
    },
    {
     "name": "stdout",
     "output_type": "stream",
     "text": [
      "DONE: Calculating beta diversity: matching\n",
      "Calculating beta diversity: jaccard\n"
     ]
    },
    {
     "name": "stdout",
     "output_type": "stream",
     "text": [
      "DONE: Calculating beta diversity: jaccard\n"
     ]
    },
    {
     "name": "stderr",
     "output_type": "stream",
     "text": [
      "/home/lauro/anaconda3/envs/qiime2-2023.5/lib/python3.8/site-packages/sklearn/metrics/pairwise.py:1761: DataConversionWarning: Data was converted to boolean for metric matching\n",
      "  warnings.warn(msg, DataConversionWarning)\n",
      "/home/lauro/anaconda3/envs/qiime2-2023.5/lib/python3.8/site-packages/sklearn/metrics/pairwise.py:1761: DataConversionWarning: Data was converted to boolean for metric jaccard\n",
      "  warnings.warn(msg, DataConversionWarning)\n"
     ]
    }
   ],
   "source": [
    "metrics = ('aitchison', 'braycurtis', 'canberra', 'canberra_adkins', 'chebyshev', 'cityblock', 'correlation', 'cosine', 'dice', 'euclidean', 'hamming', 'jaccard', 'jensenshannon', 'kulsinski', 'matching', 'minkowski', 'rogerstanimoto', 'russellrao', 'seuclidean', 'sokalmichener', 'sokalsneath', 'sqeuclidean', 'yule')\n",
    "metrics = ('euclidean', 'dice', 'braycurtis', 'correlation', 'cosine', 'matching', 'jaccard')\n",
    "beta_diversities = dict()\n",
    "for metric in metrics:\n",
    "    print(f\"Calculating beta diversity: {metric}\")\n",
    "    try:\n",
    "        beta_diversity = beta(table=tabs, metric=metric, n_jobs=6, pseudocount=1).distance_matrix\n",
    "        beta_diversities[metric] = beta_diversity\n",
    "        # Save SampleData[BetaDiversity] Artifact\n",
    "        file_path = os.path.join(beta_path, f'beta-values-{metric}.qza')\n",
    "        beta_diversity.save(file_path)\n",
    "        print(f\"DONE: Calculating beta diversity: {metric}\")\n",
    "    except Exception as e:\n",
    "        print(f\"ERROR: Calculating beta diversity: {metric}\")"
   ]
  },
  {
   "cell_type": "markdown",
   "id": "200a2fa7",
   "metadata": {
    "papermill": {
     "duration": 0.005079,
     "end_time": "2024-03-12T22:47:52.654893",
     "exception": false,
     "start_time": "2024-03-12T22:47:52.649814",
     "status": "completed"
    },
    "tags": []
   },
   "source": [
    "### Beta group significance\n",
    "\n",
    "- [diversity beta_group_significance](https://docs.qiime2.org/2022.8/plugins/available/diversity/beta-group-significance/): Determine whether groups of samples are significantly different from one another using a permutation-based statistical test.\n",
    "- Marti J Anderson. A new method for non-parametric multivariate analysis of variance. Austral ecology, 26(1):32–46, 2001. doi:https://doi.org/10.1111/j.1442-9993.2001.01070.pp.x."
   ]
  },
  {
   "cell_type": "code",
   "execution_count": 18,
   "id": "b8dd42b6",
   "metadata": {
    "ExecuteTime": {
     "end_time": "2022-09-29T20:55:08.313860Z",
     "start_time": "2022-09-29T20:54:36.336993Z"
    },
    "execution": {
     "iopub.execute_input": "2024-03-12T22:47:52.665761Z",
     "iopub.status.busy": "2024-03-12T22:47:52.665601Z",
     "iopub.status.idle": "2024-03-12T22:48:29.837065Z",
     "shell.execute_reply": "2024-03-12T22:48:29.836671Z"
    },
    "papermill": {
     "duration": 37.178079,
     "end_time": "2024-03-12T22:48:29.838091",
     "exception": false,
     "start_time": "2024-03-12T22:47:52.660012",
     "status": "completed"
    },
    "tags": []
   },
   "outputs": [
    {
     "name": "stdout",
     "output_type": "stream",
     "text": [
      "Calculating beta group significance with method permanova and metric euclidean\n"
     ]
    },
    {
     "name": "stdout",
     "output_type": "stream",
     "text": [
      "DONE: Calculating beta group significance: permanova euclidean\n",
      "Calculating beta group significance with method permanova and metric dice\n"
     ]
    },
    {
     "name": "stdout",
     "output_type": "stream",
     "text": [
      "DONE: Calculating beta group significance: permanova dice\n",
      "Calculating beta group significance with method permanova and metric braycurtis\n"
     ]
    },
    {
     "name": "stdout",
     "output_type": "stream",
     "text": [
      "DONE: Calculating beta group significance: permanova braycurtis\n",
      "Calculating beta group significance with method permanova and metric matching\n"
     ]
    },
    {
     "name": "stdout",
     "output_type": "stream",
     "text": [
      "DONE: Calculating beta group significance: permanova matching\n",
      "Calculating beta group significance with method permanova and metric jaccard\n"
     ]
    },
    {
     "name": "stdout",
     "output_type": "stream",
     "text": [
      "DONE: Calculating beta group significance: permanova jaccard\n",
      "Calculating beta group significance with method anosim and metric euclidean\n"
     ]
    },
    {
     "name": "stdout",
     "output_type": "stream",
     "text": [
      "DONE: Calculating beta group significance: anosim euclidean\n",
      "Calculating beta group significance with method anosim and metric dice\n"
     ]
    },
    {
     "name": "stdout",
     "output_type": "stream",
     "text": [
      "DONE: Calculating beta group significance: anosim dice\n",
      "Calculating beta group significance with method anosim and metric braycurtis\n"
     ]
    },
    {
     "name": "stdout",
     "output_type": "stream",
     "text": [
      "DONE: Calculating beta group significance: anosim braycurtis\n",
      "Calculating beta group significance with method anosim and metric matching\n"
     ]
    },
    {
     "name": "stdout",
     "output_type": "stream",
     "text": [
      "DONE: Calculating beta group significance: anosim matching\n",
      "Calculating beta group significance with method anosim and metric jaccard\n"
     ]
    },
    {
     "name": "stdout",
     "output_type": "stream",
     "text": [
      "DONE: Calculating beta group significance: anosim jaccard\n",
      "Calculating beta group significance with method permdisp and metric euclidean\n"
     ]
    },
    {
     "name": "stderr",
     "output_type": "stream",
     "text": [
      "/home/lauro/anaconda3/envs/qiime2-2023.5/lib/python3.8/site-packages/skbio/stats/ordination/_principal_coordinate_analysis.py:143: RuntimeWarning: The result contains negative eigenvalues. Please compare their magnitude with the magnitude of some of the largest positive eigenvalues. If the negative ones are smaller, it's probably safe to ignore them, but if they are large in magnitude, the results won't be useful. See the Notes section for more details. The smallest eigenvalue is -3.998309802065448e-06 and the largest is 56965995717.5753.\n",
      "  warn(\n"
     ]
    },
    {
     "name": "stderr",
     "output_type": "stream",
     "text": [
      "/home/lauro/anaconda3/envs/qiime2-2023.5/lib/python3.8/site-packages/skbio/stats/ordination/_principal_coordinate_analysis.py:143: RuntimeWarning: The result contains negative eigenvalues. Please compare their magnitude with the magnitude of some of the largest positive eigenvalues. If the negative ones are smaller, it's probably safe to ignore them, but if they are large in magnitude, the results won't be useful. See the Notes section for more details. The smallest eigenvalue is -3.916783213313952e-05 and the largest is 347646794204.9527.\n",
      "  warn(\n"
     ]
    },
    {
     "name": "stdout",
     "output_type": "stream",
     "text": [
      "DONE: Calculating beta group significance: permdisp euclidean\n",
      "Calculating beta group significance with method permdisp and metric dice\n"
     ]
    },
    {
     "name": "stderr",
     "output_type": "stream",
     "text": [
      "/home/lauro/anaconda3/envs/qiime2-2023.5/lib/python3.8/site-packages/skbio/stats/ordination/_principal_coordinate_analysis.py:143: RuntimeWarning: The result contains negative eigenvalues. Please compare their magnitude with the magnitude of some of the largest positive eigenvalues. If the negative ones are smaller, it's probably safe to ignore them, but if they are large in magnitude, the results won't be useful. See the Notes section for more details. The smallest eigenvalue is -0.07338896431238452 and the largest is 2.6935781883740644.\n",
      "  warn(\n"
     ]
    },
    {
     "name": "stderr",
     "output_type": "stream",
     "text": [
      "/home/lauro/anaconda3/envs/qiime2-2023.5/lib/python3.8/site-packages/skbio/stats/ordination/_principal_coordinate_analysis.py:143: RuntimeWarning: The result contains negative eigenvalues. Please compare their magnitude with the magnitude of some of the largest positive eigenvalues. If the negative ones are smaller, it's probably safe to ignore them, but if they are large in magnitude, the results won't be useful. See the Notes section for more details. The smallest eigenvalue is -0.014466370058626186 and the largest is 1.4372282226841828.\n",
      "  warn(\n"
     ]
    },
    {
     "name": "stderr",
     "output_type": "stream",
     "text": [
      "/home/lauro/anaconda3/envs/qiime2-2023.5/lib/python3.8/site-packages/skbio/stats/ordination/_principal_coordinate_analysis.py:143: RuntimeWarning: The result contains negative eigenvalues. Please compare their magnitude with the magnitude of some of the largest positive eigenvalues. If the negative ones are smaller, it's probably safe to ignore them, but if they are large in magnitude, the results won't be useful. See the Notes section for more details. The smallest eigenvalue is -0.05016540258791121 and the largest is 1.8771817101410215.\n",
      "  warn(\n"
     ]
    },
    {
     "name": "stderr",
     "output_type": "stream",
     "text": [
      "/home/lauro/anaconda3/envs/qiime2-2023.5/lib/python3.8/site-packages/skbio/stats/ordination/_principal_coordinate_analysis.py:143: RuntimeWarning: The result contains negative eigenvalues. Please compare their magnitude with the magnitude of some of the largest positive eigenvalues. If the negative ones are smaller, it's probably safe to ignore them, but if they are large in magnitude, the results won't be useful. See the Notes section for more details. The smallest eigenvalue is -0.05547741932045815 and the largest is 2.2927325781081533.\n",
      "  warn(\n"
     ]
    },
    {
     "name": "stdout",
     "output_type": "stream",
     "text": [
      "DONE: Calculating beta group significance: permdisp dice\n",
      "Calculating beta group significance with method permdisp and metric braycurtis\n"
     ]
    },
    {
     "name": "stderr",
     "output_type": "stream",
     "text": [
      "/home/lauro/anaconda3/envs/qiime2-2023.5/lib/python3.8/site-packages/skbio/stats/ordination/_principal_coordinate_analysis.py:143: RuntimeWarning: The result contains negative eigenvalues. Please compare their magnitude with the magnitude of some of the largest positive eigenvalues. If the negative ones are smaller, it's probably safe to ignore them, but if they are large in magnitude, the results won't be useful. See the Notes section for more details. The smallest eigenvalue is -0.16995834180640834 and the largest is 3.9983484168792414.\n",
      "  warn(\n"
     ]
    },
    {
     "name": "stderr",
     "output_type": "stream",
     "text": [
      "/home/lauro/anaconda3/envs/qiime2-2023.5/lib/python3.8/site-packages/skbio/stats/ordination/_principal_coordinate_analysis.py:143: RuntimeWarning: The result contains negative eigenvalues. Please compare their magnitude with the magnitude of some of the largest positive eigenvalues. If the negative ones are smaller, it's probably safe to ignore them, but if they are large in magnitude, the results won't be useful. See the Notes section for more details. The smallest eigenvalue is -0.08675987777769589 and the largest is 2.2657882255083206.\n",
      "  warn(\n"
     ]
    },
    {
     "name": "stderr",
     "output_type": "stream",
     "text": [
      "/home/lauro/anaconda3/envs/qiime2-2023.5/lib/python3.8/site-packages/skbio/stats/ordination/_principal_coordinate_analysis.py:143: RuntimeWarning: The result contains negative eigenvalues. Please compare their magnitude with the magnitude of some of the largest positive eigenvalues. If the negative ones are smaller, it's probably safe to ignore them, but if they are large in magnitude, the results won't be useful. See the Notes section for more details. The smallest eigenvalue is -0.14159903332128534 and the largest is 3.200397005103992.\n",
      "  warn(\n"
     ]
    },
    {
     "name": "stderr",
     "output_type": "stream",
     "text": [
      "/home/lauro/anaconda3/envs/qiime2-2023.5/lib/python3.8/site-packages/skbio/stats/ordination/_principal_coordinate_analysis.py:143: RuntimeWarning: The result contains negative eigenvalues. Please compare their magnitude with the magnitude of some of the largest positive eigenvalues. If the negative ones are smaller, it's probably safe to ignore them, but if they are large in magnitude, the results won't be useful. See the Notes section for more details. The smallest eigenvalue is -0.08467152442775137 and the largest is 3.0608385860119545.\n",
      "  warn(\n"
     ]
    },
    {
     "name": "stdout",
     "output_type": "stream",
     "text": [
      "DONE: Calculating beta group significance: permdisp braycurtis\n",
      "Calculating beta group significance with method permdisp and metric matching\n"
     ]
    },
    {
     "name": "stderr",
     "output_type": "stream",
     "text": [
      "/home/lauro/anaconda3/envs/qiime2-2023.5/lib/python3.8/site-packages/skbio/stats/ordination/_principal_coordinate_analysis.py:143: RuntimeWarning: The result contains negative eigenvalues. Please compare their magnitude with the magnitude of some of the largest positive eigenvalues. If the negative ones are smaller, it's probably safe to ignore them, but if they are large in magnitude, the results won't be useful. See the Notes section for more details. The smallest eigenvalue is -0.005859410802197307 and the largest is 0.06475045200018327.\n",
      "  warn(\n"
     ]
    },
    {
     "name": "stderr",
     "output_type": "stream",
     "text": [
      "/home/lauro/anaconda3/envs/qiime2-2023.5/lib/python3.8/site-packages/skbio/stats/ordination/_principal_coordinate_analysis.py:143: RuntimeWarning: The result contains negative eigenvalues. Please compare their magnitude with the magnitude of some of the largest positive eigenvalues. If the negative ones are smaller, it's probably safe to ignore them, but if they are large in magnitude, the results won't be useful. See the Notes section for more details. The smallest eigenvalue is -0.00038492760729784203 and the largest is 0.01814541023330565.\n",
      "  warn(\n"
     ]
    },
    {
     "name": "stderr",
     "output_type": "stream",
     "text": [
      "/home/lauro/anaconda3/envs/qiime2-2023.5/lib/python3.8/site-packages/skbio/stats/ordination/_principal_coordinate_analysis.py:143: RuntimeWarning: The result contains negative eigenvalues. Please compare their magnitude with the magnitude of some of the largest positive eigenvalues. If the negative ones are smaller, it's probably safe to ignore them, but if they are large in magnitude, the results won't be useful. See the Notes section for more details. The smallest eigenvalue is -0.004196327361228349 and the largest is 0.06194356149081156.\n",
      "  warn(\n"
     ]
    },
    {
     "name": "stderr",
     "output_type": "stream",
     "text": [
      "/home/lauro/anaconda3/envs/qiime2-2023.5/lib/python3.8/site-packages/skbio/stats/ordination/_principal_coordinate_analysis.py:143: RuntimeWarning: The result contains negative eigenvalues. Please compare their magnitude with the magnitude of some of the largest positive eigenvalues. If the negative ones are smaller, it's probably safe to ignore them, but if they are large in magnitude, the results won't be useful. See the Notes section for more details. The smallest eigenvalue is -0.004180500301271059 and the largest is 0.06386559171804604.\n",
      "  warn(\n"
     ]
    },
    {
     "name": "stdout",
     "output_type": "stream",
     "text": [
      "DONE: Calculating beta group significance: permdisp matching\n",
      "Calculating beta group significance with method permdisp and metric jaccard\n"
     ]
    },
    {
     "name": "stdout",
     "output_type": "stream",
     "text": [
      "DONE: Calculating beta group significance: permdisp jaccard\n"
     ]
    },
    {
     "data": {
      "text/plain": [
       "<Figure size 640x480 with 0 Axes>"
      ]
     },
     "metadata": {},
     "output_type": "display_data"
    }
   ],
   "source": [
    "methods = ('permanova', 'anosim', 'permdisp')\n",
    "for method in methods:\n",
    "    for metric, beta_diversity in beta_diversities.items():\n",
    "        print(f'Calculating beta group significance with method {method} and metric {metric}')\n",
    "        try:\n",
    "            beta_view = beta_group_significance(distance_matrix=beta_diversity, \n",
    "                                                metadata=metadata_qa.get_column(class_col), \n",
    "                                                pairwise=True, method=method).visualization\n",
    "            view_name = os.path.join(beta_path, f'beta-group-significance-{metric}-{method}.qzv')\n",
    "            beta_view.save(view_name)\n",
    "            print(f\"DONE: Calculating beta group significance: {method} {metric}\")\n",
    "        except Exception as e:\n",
    "            print(f\"ERROR: Calculating beta group significance: {method} {metric}\")"
   ]
  },
  {
   "cell_type": "code",
   "execution_count": 19,
   "id": "6366725e",
   "metadata": {
    "execution": {
     "iopub.execute_input": "2024-03-12T22:48:29.851132Z",
     "iopub.status.busy": "2024-03-12T22:48:29.850994Z",
     "iopub.status.idle": "2024-03-12T22:48:59.856239Z",
     "shell.execute_reply": "2024-03-12T22:48:59.855810Z"
    },
    "papermill": {
     "duration": 30.019056,
     "end_time": "2024-03-12T22:48:59.863456",
     "exception": false,
     "start_time": "2024-03-12T22:48:29.844400",
     "status": "completed"
    },
    "tags": []
   },
   "outputs": [
    {
     "name": "stdout",
     "output_type": "stream",
     "text": [
      "Calculating beta group significance with method permanova and metric unweighted_unifrac_distance_matrix\n"
     ]
    },
    {
     "name": "stdout",
     "output_type": "stream",
     "text": [
      "DONE: Calculating beta group significance: permanova unweighted_unifrac_distance_matrix\n",
      "Calculating beta group significance with method permanova and metric weighted_unifrac_distance_matrix\n"
     ]
    },
    {
     "name": "stdout",
     "output_type": "stream",
     "text": [
      "DONE: Calculating beta group significance: permanova weighted_unifrac_distance_matrix\n",
      "Calculating beta group significance with method permanova and metric jaccard_distance_matrix\n"
     ]
    },
    {
     "name": "stdout",
     "output_type": "stream",
     "text": [
      "DONE: Calculating beta group significance: permanova jaccard_distance_matrix\n",
      "Calculating beta group significance with method permanova and metric bray_curtis_distance_matrix\n"
     ]
    },
    {
     "name": "stdout",
     "output_type": "stream",
     "text": [
      "DONE: Calculating beta group significance: permanova bray_curtis_distance_matrix\n",
      "Calculating beta group significance with method anosim and metric unweighted_unifrac_distance_matrix\n"
     ]
    },
    {
     "name": "stdout",
     "output_type": "stream",
     "text": [
      "DONE: Calculating beta group significance: anosim unweighted_unifrac_distance_matrix\n",
      "Calculating beta group significance with method anosim and metric weighted_unifrac_distance_matrix\n"
     ]
    },
    {
     "name": "stdout",
     "output_type": "stream",
     "text": [
      "DONE: Calculating beta group significance: anosim weighted_unifrac_distance_matrix\n",
      "Calculating beta group significance with method anosim and metric jaccard_distance_matrix\n"
     ]
    },
    {
     "name": "stdout",
     "output_type": "stream",
     "text": [
      "DONE: Calculating beta group significance: anosim jaccard_distance_matrix\n",
      "Calculating beta group significance with method anosim and metric bray_curtis_distance_matrix\n"
     ]
    },
    {
     "name": "stdout",
     "output_type": "stream",
     "text": [
      "DONE: Calculating beta group significance: anosim bray_curtis_distance_matrix\n",
      "Calculating beta group significance with method permdisp and metric unweighted_unifrac_distance_matrix\n"
     ]
    },
    {
     "name": "stderr",
     "output_type": "stream",
     "text": [
      "/home/lauro/anaconda3/envs/qiime2-2023.5/lib/python3.8/site-packages/skbio/stats/ordination/_principal_coordinate_analysis.py:143: RuntimeWarning: The result contains negative eigenvalues. Please compare their magnitude with the magnitude of some of the largest positive eigenvalues. If the negative ones are smaller, it's probably safe to ignore them, but if they are large in magnitude, the results won't be useful. See the Notes section for more details. The smallest eigenvalue is -0.07549139633261417 and the largest is 3.3554715317387207.\n",
      "  warn(\n"
     ]
    },
    {
     "name": "stderr",
     "output_type": "stream",
     "text": [
      "/home/lauro/anaconda3/envs/qiime2-2023.5/lib/python3.8/site-packages/skbio/stats/ordination/_principal_coordinate_analysis.py:143: RuntimeWarning: The result contains negative eigenvalues. Please compare their magnitude with the magnitude of some of the largest positive eigenvalues. If the negative ones are smaller, it's probably safe to ignore them, but if they are large in magnitude, the results won't be useful. See the Notes section for more details. The smallest eigenvalue is -0.03549846039032923 and the largest is 1.3578920614742414.\n",
      "  warn(\n"
     ]
    },
    {
     "name": "stderr",
     "output_type": "stream",
     "text": [
      "/home/lauro/anaconda3/envs/qiime2-2023.5/lib/python3.8/site-packages/skbio/stats/ordination/_principal_coordinate_analysis.py:143: RuntimeWarning: The result contains negative eigenvalues. Please compare their magnitude with the magnitude of some of the largest positive eigenvalues. If the negative ones are smaller, it's probably safe to ignore them, but if they are large in magnitude, the results won't be useful. See the Notes section for more details. The smallest eigenvalue is -0.06152218389460637 and the largest is 2.573235606815939.\n",
      "  warn(\n"
     ]
    },
    {
     "name": "stderr",
     "output_type": "stream",
     "text": [
      "/home/lauro/anaconda3/envs/qiime2-2023.5/lib/python3.8/site-packages/skbio/stats/ordination/_principal_coordinate_analysis.py:143: RuntimeWarning: The result contains negative eigenvalues. Please compare their magnitude with the magnitude of some of the largest positive eigenvalues. If the negative ones are smaller, it's probably safe to ignore them, but if they are large in magnitude, the results won't be useful. See the Notes section for more details. The smallest eigenvalue is -0.06322868958243699 and the largest is 2.775933384525374.\n",
      "  warn(\n"
     ]
    },
    {
     "name": "stdout",
     "output_type": "stream",
     "text": [
      "DONE: Calculating beta group significance: permdisp unweighted_unifrac_distance_matrix\n",
      "Calculating beta group significance with method permdisp and metric weighted_unifrac_distance_matrix\n"
     ]
    },
    {
     "name": "stderr",
     "output_type": "stream",
     "text": [
      "/home/lauro/anaconda3/envs/qiime2-2023.5/lib/python3.8/site-packages/skbio/stats/ordination/_principal_coordinate_analysis.py:143: RuntimeWarning: The result contains negative eigenvalues. Please compare their magnitude with the magnitude of some of the largest positive eigenvalues. If the negative ones are smaller, it's probably safe to ignore them, but if they are large in magnitude, the results won't be useful. See the Notes section for more details. The smallest eigenvalue is -0.17474231493480466 and the largest is 3.264700619047572.\n",
      "  warn(\n"
     ]
    },
    {
     "name": "stderr",
     "output_type": "stream",
     "text": [
      "/home/lauro/anaconda3/envs/qiime2-2023.5/lib/python3.8/site-packages/skbio/stats/ordination/_principal_coordinate_analysis.py:143: RuntimeWarning: The result contains negative eigenvalues. Please compare their magnitude with the magnitude of some of the largest positive eigenvalues. If the negative ones are smaller, it's probably safe to ignore them, but if they are large in magnitude, the results won't be useful. See the Notes section for more details. The smallest eigenvalue is -0.030464237562075912 and the largest is 1.4627287755603462.\n",
      "  warn(\n"
     ]
    },
    {
     "name": "stderr",
     "output_type": "stream",
     "text": [
      "/home/lauro/anaconda3/envs/qiime2-2023.5/lib/python3.8/site-packages/skbio/stats/ordination/_principal_coordinate_analysis.py:143: RuntimeWarning: The result contains negative eigenvalues. Please compare their magnitude with the magnitude of some of the largest positive eigenvalues. If the negative ones are smaller, it's probably safe to ignore them, but if they are large in magnitude, the results won't be useful. See the Notes section for more details. The smallest eigenvalue is -0.16113678396926864 and the largest is 2.439825884681157.\n",
      "  warn(\n"
     ]
    },
    {
     "name": "stderr",
     "output_type": "stream",
     "text": [
      "/home/lauro/anaconda3/envs/qiime2-2023.5/lib/python3.8/site-packages/skbio/stats/ordination/_principal_coordinate_analysis.py:143: RuntimeWarning: The result contains negative eigenvalues. Please compare their magnitude with the magnitude of some of the largest positive eigenvalues. If the negative ones are smaller, it's probably safe to ignore them, but if they are large in magnitude, the results won't be useful. See the Notes section for more details. The smallest eigenvalue is -0.16035327403739819 and the largest is 2.641527770977819.\n",
      "  warn(\n"
     ]
    },
    {
     "name": "stdout",
     "output_type": "stream",
     "text": [
      "DONE: Calculating beta group significance: permdisp weighted_unifrac_distance_matrix\n",
      "Calculating beta group significance with method permdisp and metric jaccard_distance_matrix\n"
     ]
    },
    {
     "name": "stderr",
     "output_type": "stream",
     "text": [
      "/home/lauro/anaconda3/envs/qiime2-2023.5/lib/python3.8/site-packages/skbio/stats/ordination/_principal_coordinate_analysis.py:143: RuntimeWarning: The result contains negative eigenvalues. Please compare their magnitude with the magnitude of some of the largest positive eigenvalues. If the negative ones are smaller, it's probably safe to ignore them, but if they are large in magnitude, the results won't be useful. See the Notes section for more details. The smallest eigenvalue is -0.05844441982293207 and the largest is 3.053779928661343.\n",
      "  warn(\n"
     ]
    },
    {
     "name": "stderr",
     "output_type": "stream",
     "text": [
      "/home/lauro/anaconda3/envs/qiime2-2023.5/lib/python3.8/site-packages/skbio/stats/ordination/_principal_coordinate_analysis.py:143: RuntimeWarning: The result contains negative eigenvalues. Please compare their magnitude with the magnitude of some of the largest positive eigenvalues. If the negative ones are smaller, it's probably safe to ignore them, but if they are large in magnitude, the results won't be useful. See the Notes section for more details. The smallest eigenvalue is -0.04475810054768308 and the largest is 2.4586892939366307.\n",
      "  warn(\n"
     ]
    },
    {
     "name": "stderr",
     "output_type": "stream",
     "text": [
      "/home/lauro/anaconda3/envs/qiime2-2023.5/lib/python3.8/site-packages/skbio/stats/ordination/_principal_coordinate_analysis.py:143: RuntimeWarning: The result contains negative eigenvalues. Please compare their magnitude with the magnitude of some of the largest positive eigenvalues. If the negative ones are smaller, it's probably safe to ignore them, but if they are large in magnitude, the results won't be useful. See the Notes section for more details. The smallest eigenvalue is -0.050948552155845164 and the largest is 2.5176310805189552.\n",
      "  warn(\n"
     ]
    },
    {
     "name": "stdout",
     "output_type": "stream",
     "text": [
      "DONE: Calculating beta group significance: permdisp jaccard_distance_matrix\n",
      "Calculating beta group significance with method permdisp and metric bray_curtis_distance_matrix\n"
     ]
    },
    {
     "name": "stderr",
     "output_type": "stream",
     "text": [
      "/home/lauro/anaconda3/envs/qiime2-2023.5/lib/python3.8/site-packages/skbio/stats/ordination/_principal_coordinate_analysis.py:143: RuntimeWarning: The result contains negative eigenvalues. Please compare their magnitude with the magnitude of some of the largest positive eigenvalues. If the negative ones are smaller, it's probably safe to ignore them, but if they are large in magnitude, the results won't be useful. See the Notes section for more details. The smallest eigenvalue is -0.2094234011733324 and the largest is 5.582310990881879.\n",
      "  warn(\n"
     ]
    },
    {
     "name": "stderr",
     "output_type": "stream",
     "text": [
      "/home/lauro/anaconda3/envs/qiime2-2023.5/lib/python3.8/site-packages/skbio/stats/ordination/_principal_coordinate_analysis.py:143: RuntimeWarning: The result contains negative eigenvalues. Please compare their magnitude with the magnitude of some of the largest positive eigenvalues. If the negative ones are smaller, it's probably safe to ignore them, but if they are large in magnitude, the results won't be useful. See the Notes section for more details. The smallest eigenvalue is -0.039114093854539754 and the largest is 2.583510783416076.\n",
      "  warn(\n"
     ]
    },
    {
     "name": "stderr",
     "output_type": "stream",
     "text": [
      "/home/lauro/anaconda3/envs/qiime2-2023.5/lib/python3.8/site-packages/skbio/stats/ordination/_principal_coordinate_analysis.py:143: RuntimeWarning: The result contains negative eigenvalues. Please compare their magnitude with the magnitude of some of the largest positive eigenvalues. If the negative ones are smaller, it's probably safe to ignore them, but if they are large in magnitude, the results won't be useful. See the Notes section for more details. The smallest eigenvalue is -0.14543187821954895 and the largest is 4.52575424484373.\n",
      "  warn(\n"
     ]
    },
    {
     "name": "stderr",
     "output_type": "stream",
     "text": [
      "/home/lauro/anaconda3/envs/qiime2-2023.5/lib/python3.8/site-packages/skbio/stats/ordination/_principal_coordinate_analysis.py:143: RuntimeWarning: The result contains negative eigenvalues. Please compare their magnitude with the magnitude of some of the largest positive eigenvalues. If the negative ones are smaller, it's probably safe to ignore them, but if they are large in magnitude, the results won't be useful. See the Notes section for more details. The smallest eigenvalue is -0.1625228012438495 and the largest is 4.436527118027296.\n",
      "  warn(\n"
     ]
    },
    {
     "name": "stdout",
     "output_type": "stream",
     "text": [
      "DONE: Calculating beta group significance: permdisp bray_curtis_distance_matrix\n"
     ]
    },
    {
     "data": {
      "text/plain": [
       "<Figure size 640x480 with 0 Axes>"
      ]
     },
     "metadata": {},
     "output_type": "display_data"
    }
   ],
   "source": [
    "# Expand tests using UNIFRAC metrics\n",
    "methods = ('permanova', 'anosim', 'permdisp')\n",
    "for method in methods:\n",
    "    for metric, beta_diversity in distance_matrix.items():\n",
    "        print(f'Calculating beta group significance with method {method} and metric {metric}')\n",
    "        try:\n",
    "            beta_view = beta_group_significance(distance_matrix=beta_diversity, \n",
    "                                                metadata=metadata_qa.get_column(class_col), \n",
    "                                                pairwise=True, method=method).visualization\n",
    "            view_name = os.path.join(beta_path, f'beta-group-significance-{metric}-{method}.qzv')\n",
    "            beta_view.save(view_name)\n",
    "            print(f\"DONE: Calculating beta group significance: {method} {metric}\")\n",
    "        except Exception as e:\n",
    "            print(f\"ERROR: Calculating beta group significance: {method} {metric}\")"
   ]
  },
  {
   "cell_type": "markdown",
   "id": "c0de85cf",
   "metadata": {
    "papermill": {
     "duration": 0.006752,
     "end_time": "2024-03-12T22:48:59.877043",
     "exception": false,
     "start_time": "2024-03-12T22:48:59.870291",
     "status": "completed"
    },
    "tags": []
   },
   "source": [
    "### Beta group Rarefaction\n",
    "\n",
    "- [diversity beta_rarefaction](https://docs.qiime2.org/2022.8/plugins/available/diversity/beta-rarefaction/): Repeatedly rarefy a feature table to compare beta diversity results within a given rarefaction depth.  For a given beta diversity metric, this visualizer will provide: an Emperor jackknifed PCoA plot, samples clustered by UPGMA or neighbor joining with support calculation, and a heatmap showing the correlation between rarefaction trials of that beta diversity metric."
   ]
  }
 ],
 "metadata": {
  "celltoolbar": "Edit Metadata",
  "kernelspec": {
   "display_name": "Python 3 (ipykernel)",
   "language": "python",
   "name": "python3"
  },
  "language_info": {
   "codemirror_mode": {
    "name": "ipython",
    "version": 3
   },
   "file_extension": ".py",
   "mimetype": "text/x-python",
   "name": "python",
   "nbconvert_exporter": "python",
   "pygments_lexer": "ipython3",
   "version": "3.8.16"
  },
  "papermill": {
   "default_parameters": {},
   "duration": 85.903654,
   "end_time": "2024-03-12T22:49:00.700827",
   "environment_variables": {},
   "exception": null,
   "input_path": "nb-templates/step-diversity-analysis.ipynb",
   "output_path": "/mnt/nupeb/rede-micro/redemicro-jennefer/experiments/jennefer-vs-paired-end-trim-not-histec/nb-executed-steps/step-diversity-analysis-jennefer-vs-paired-end-trim-not-histec.ipynb",
   "parameters": {
    "base_dir": "/mnt/nupeb/rede-micro/redemicro-jennefer",
    "class_col": "class",
    "classifier_file": "/mnt/nupeb/rede-micro/datasets/16S_classifiers_qiime2/silva-138-99-nb-classifier.qza",
    "experiment_name": "jennefer-vs-paired-end-trim-not-histec",
    "manifest_file": "/mnt/nupeb/rede-micro/redemicro-jennefer/data/manifest.csv",
    "metadata_file": "/mnt/nupeb/rede-micro/redemicro-jennefer/data/metadata-not-his.tsv",
    "overlap": 12,
    "phred": 20,
    "replace_files": false,
    "threads": 6,
    "trim": {
     "forward_primer": "CCTACGGGRSGCAGCAG",
     "overlap": 8,
     "reverse_primer": "GGACTACHVGGGTWTCTAAT"
    },
    "trunc_f": 0,
    "trunc_r": 0
   },
   "start_time": "2024-03-12T22:47:34.797173",
   "version": "2.4.0"
  }
 },
 "nbformat": 4,
 "nbformat_minor": 5
}