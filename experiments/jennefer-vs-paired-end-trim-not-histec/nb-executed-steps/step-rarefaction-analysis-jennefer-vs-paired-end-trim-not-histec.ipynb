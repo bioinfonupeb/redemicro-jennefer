{
 "cells": [
  {
   "cell_type": "markdown",
   "id": "4882164c",
   "metadata": {
    "papermill": {
     "duration": 0.014689,
     "end_time": "2024-03-12T22:41:51.471728",
     "exception": false,
     "start_time": "2024-03-12T22:41:51.457039",
     "status": "completed"
    },
    "tags": []
   },
   "source": [
    "# STEP : Rarefaction Analysis\n",
    "\n",
    "Using QIIME2 to create rarefaction graphs.\n",
    "\n",
    "\n",
    "## Methods\n",
    "[qiime alpha_rarefaction](https://docs.qiime2.org/2023.2/plugins/available/diversity/alpha-rarefaction/)\n",
    "```\n",
    "Generate interactive alpha rarefaction curves by computing rarefactions\n",
    "between `min_depth` and `max_depth`. The number of intermediate depths to\n",
    "compute is controlled by the `steps` parameter, with n `iterations` being\n",
    "computed at each rarefaction depth. If sample metadata is provided, samples\n",
    "may be grouped based on distinct values within a metadata column.\n",
    "```\n"
   ]
  },
  {
   "cell_type": "markdown",
   "id": "d4e37b69",
   "metadata": {
    "papermill": {
     "duration": 0.008725,
     "end_time": "2024-03-12T22:41:51.493297",
     "exception": false,
     "start_time": "2024-03-12T22:41:51.484572",
     "status": "completed"
    },
    "tags": []
   },
   "source": [
    "## Setup and settings"
   ]
  },
  {
   "cell_type": "code",
   "execution_count": 1,
   "id": "9f0ab1d1",
   "metadata": {
    "ExecuteTime": {
     "end_time": "2022-09-22T21:43:54.326002Z",
     "start_time": "2022-09-22T21:43:47.911891Z"
    },
    "execution": {
     "iopub.execute_input": "2024-03-12T22:41:51.504743Z",
     "iopub.status.busy": "2024-03-12T22:41:51.504499Z",
     "iopub.status.idle": "2024-03-12T22:41:56.360279Z",
     "shell.execute_reply": "2024-03-12T22:41:56.359760Z"
    },
    "papermill": {
     "duration": 4.862428,
     "end_time": "2024-03-12T22:41:56.361510",
     "exception": false,
     "start_time": "2024-03-12T22:41:51.499082",
     "status": "completed"
    },
    "tags": []
   },
   "outputs": [],
   "source": [
    "# Importing packages\n",
    "import os\n",
    "import pandas as pd\n",
    "from qiime2 import Artifact\n",
    "from qiime2 import Visualization\n",
    "from qiime2 import Metadata\n",
    "from qiime2.plugins.diversity.visualizers import alpha_rarefaction\n",
    "from qiime2.plugins.diversity.visualizers import beta_rarefaction\n",
    "\n",
    "from qiime2.plugins.feature_table.methods import filter_samples\n",
    "from qiime2.plugins.feature_table.methods import filter_seqs\n",
    "\n",
    "import matplotlib.pyplot as plt\n",
    "\n",
    "%matplotlib inline"
   ]
  },
  {
   "cell_type": "code",
   "execution_count": 2,
   "id": "34a9afa0",
   "metadata": {
    "ExecuteTime": {
     "end_time": "2022-09-22T21:43:54.330790Z",
     "start_time": "2022-09-22T21:43:54.328358Z"
    },
    "execution": {
     "iopub.execute_input": "2024-03-12T22:41:56.369481Z",
     "iopub.status.busy": "2024-03-12T22:41:56.369235Z",
     "iopub.status.idle": "2024-03-12T22:41:56.371807Z",
     "shell.execute_reply": "2024-03-12T22:41:56.371365Z"
    },
    "papermill": {
     "duration": 0.008917,
     "end_time": "2024-03-12T22:41:56.372667",
     "exception": false,
     "start_time": "2024-03-12T22:41:56.363750",
     "status": "completed"
    },
    "tags": []
   },
   "outputs": [],
   "source": [
    "# from qiime2.plugins import demux, deblur, quality_filter, \\\n",
    "#                            metadata, feature_table, alignment, \\\n",
    "#                            phylogeny, diversity, emperor, feature_classifier, \\\n",
    "#                            taxa, composition"
   ]
  },
  {
   "cell_type": "markdown",
   "id": "97dbebc8",
   "metadata": {
    "papermill": {
     "duration": 0.001967,
     "end_time": "2024-03-12T22:41:56.376610",
     "exception": false,
     "start_time": "2024-03-12T22:41:56.374643",
     "status": "completed"
    },
    "tags": []
   },
   "source": [
    "### Receiving the parameters\n",
    "\n",
    "The following cell can receive parameters using the [papermill](https://papermill.readthedocs.io/en/latest/) tool."
   ]
  },
  {
   "cell_type": "code",
   "execution_count": 3,
   "id": "28d72865",
   "metadata": {
    "ExecuteTime": {
     "end_time": "2022-09-22T21:43:54.344271Z",
     "start_time": "2022-09-22T21:43:54.332262Z"
    },
    "execution": {
     "iopub.execute_input": "2024-03-12T22:41:56.381252Z",
     "iopub.status.busy": "2024-03-12T22:41:56.381102Z",
     "iopub.status.idle": "2024-03-12T22:41:56.383709Z",
     "shell.execute_reply": "2024-03-12T22:41:56.383292Z"
    },
    "papermill": {
     "duration": 0.0059,
     "end_time": "2024-03-12T22:41:56.384582",
     "exception": false,
     "start_time": "2024-03-12T22:41:56.378682",
     "status": "completed"
    },
    "tags": [
     "parameters"
    ]
   },
   "outputs": [],
   "source": [
    "metadata_file = '/home/lauro/nupeb/rede-micro/redemicro-miliane-nutri/data/raw/metadata/miliane-metadata-CxAC.tsv'\n",
    "base_dir = os.path.join('/', 'home', 'lauro', 'nupeb', 'rede-micro', 'redemicro-miliane-nutri')\n",
    "experiment_name = 'miliane-CxAC-trim'\n",
    "replace_files = False"
   ]
  },
  {
   "cell_type": "code",
   "execution_count": 4,
   "id": "72dfe24b",
   "metadata": {
    "execution": {
     "iopub.execute_input": "2024-03-12T22:41:56.389156Z",
     "iopub.status.busy": "2024-03-12T22:41:56.389035Z",
     "iopub.status.idle": "2024-03-12T22:41:56.391827Z",
     "shell.execute_reply": "2024-03-12T22:41:56.391406Z"
    },
    "papermill": {
     "duration": 0.006049,
     "end_time": "2024-03-12T22:41:56.392668",
     "exception": false,
     "start_time": "2024-03-12T22:41:56.386619",
     "status": "completed"
    },
    "tags": [
     "injected-parameters"
    ]
   },
   "outputs": [],
   "source": [
    "# Parameters\n",
    "experiment_name = \"jennefer-vs-paired-end-trim-not-histec\"\n",
    "base_dir = \"/mnt/nupeb/rede-micro/redemicro-jennefer\"\n",
    "manifest_file = \"/mnt/nupeb/rede-micro/redemicro-jennefer/data/manifest.csv\"\n",
    "metadata_file = \"/mnt/nupeb/rede-micro/redemicro-jennefer/data/metadata-not-his.tsv\"\n",
    "class_col = \"class\"\n",
    "classifier_file = \"/mnt/nupeb/rede-micro/datasets/16S_classifiers_qiime2/silva-138-99-nb-classifier.qza\"\n",
    "replace_files = False\n",
    "phred = 20\n",
    "trunc_f = 0\n",
    "trunc_r = 0\n",
    "overlap = 12\n",
    "threads = 6\n",
    "trim = {\n",
    "    \"overlap\": 8,\n",
    "    \"forward_primer\": \"CCTACGGGRSGCAGCAG\",\n",
    "    \"reverse_primer\": \"GGACTACHVGGGTWTCTAAT\",\n",
    "}\n"
   ]
  },
  {
   "cell_type": "markdown",
   "id": "d6dcacb3",
   "metadata": {
    "papermill": {
     "duration": 0.001993,
     "end_time": "2024-03-12T22:41:56.396667",
     "exception": false,
     "start_time": "2024-03-12T22:41:56.394674",
     "status": "completed"
    },
    "tags": []
   },
   "source": [
    "### Defining names, paths and flags"
   ]
  },
  {
   "cell_type": "code",
   "execution_count": 5,
   "id": "015c34fe",
   "metadata": {
    "ExecuteTime": {
     "end_time": "2022-09-22T21:43:54.362004Z",
     "start_time": "2022-09-22T21:43:54.346365Z"
    },
    "execution": {
     "iopub.execute_input": "2024-03-12T22:41:56.401373Z",
     "iopub.status.busy": "2024-03-12T22:41:56.401097Z",
     "iopub.status.idle": "2024-03-12T22:41:56.795126Z",
     "shell.execute_reply": "2024-03-12T22:41:56.792127Z"
    },
    "papermill": {
     "duration": 0.401881,
     "end_time": "2024-03-12T22:41:56.800597",
     "exception": false,
     "start_time": "2024-03-12T22:41:56.398716",
     "status": "completed"
    },
    "tags": []
   },
   "outputs": [],
   "source": [
    "# Experiments\n",
    "experiment_folder = os.path.abspath(os.path.join(base_dir, 'experiments', experiment_name))\n",
    "!mkdir -p {experiment_folder}\n",
    "\n",
    "# Imgs folder\n",
    "img_folder = os.path.abspath(os.path.join(experiment_folder, 'imgs'))\n",
    "!mkdir -p {img_folder}\n",
    "\n",
    "# QIIME2 Artifacts folder\n",
    "qiime_folder = os.path.join(experiment_folder, 'qiime-artifacts')\n",
    "!mkdir -p {qiime_folder}"
   ]
  },
  {
   "cell_type": "code",
   "execution_count": 6,
   "id": "8666a7f0",
   "metadata": {
    "ExecuteTime": {
     "end_time": "2022-09-22T21:43:54.373657Z",
     "start_time": "2022-09-22T21:43:54.363586Z"
    },
    "execution": {
     "iopub.execute_input": "2024-03-12T22:41:56.808210Z",
     "iopub.status.busy": "2024-03-12T22:41:56.807694Z",
     "iopub.status.idle": "2024-03-12T22:41:56.811155Z",
     "shell.execute_reply": "2024-03-12T22:41:56.810729Z"
    },
    "papermill": {
     "duration": 0.007113,
     "end_time": "2024-03-12T22:41:56.812067",
     "exception": false,
     "start_time": "2024-03-12T22:41:56.804954",
     "status": "completed"
    },
    "tags": []
   },
   "outputs": [],
   "source": [
    "# Input - DADA2 Artifacts\n",
    "dada2_tabs_path = os.path.join(qiime_folder, 'dada2-tabs.qza')\n",
    "dada2_reps_path = os.path.join(qiime_folder, 'dada2-reps.qza')\n",
    "dada2_stat_path = os.path.join(qiime_folder, 'dada2-stat.qza')\n",
    "\n",
    "# Output -Rarefaction Artifacts\n",
    "alpha_rarefaction_path = os.path.join(qiime_folder, 'alpha-rarefaction.qza')\n",
    "alpha_rarefaction_view_path = os.path.join(qiime_folder, 'alpha-rarefaction.qzv')\n",
    "\n",
    "# Flag - Load or create files\n",
    "need_tax = not (os.path.isfile(alpha_rarefaction_path)) or replace_files\n",
    "need_view = not (os.path.isfile(alpha_rarefaction_view_path)) or replace_files"
   ]
  },
  {
   "cell_type": "markdown",
   "id": "2a2bf9d1",
   "metadata": {
    "papermill": {
     "duration": 0.003478,
     "end_time": "2024-03-12T22:41:56.842960",
     "exception": false,
     "start_time": "2024-03-12T22:41:56.839482",
     "status": "completed"
    },
    "tags": []
   },
   "source": [
    "## Step execution\n",
    "\n",
    "### Load input files\n",
    "\n",
    "This Step import the QIIME2 `SampleData[PairedEndSequencesWithQuality]` Artifact with all demultiplexed sequences and the `Metadata` file."
   ]
  },
  {
   "cell_type": "code",
   "execution_count": 7,
   "id": "5bf32a66",
   "metadata": {
    "ExecuteTime": {
     "end_time": "2022-09-22T21:43:54.398034Z",
     "start_time": "2022-09-22T21:43:54.375240Z"
    },
    "execution": {
     "iopub.execute_input": "2024-03-12T22:41:56.896832Z",
     "iopub.status.busy": "2024-03-12T22:41:56.895199Z",
     "iopub.status.idle": "2024-03-12T22:41:56.929351Z",
     "shell.execute_reply": "2024-03-12T22:41:56.927083Z"
    },
    "papermill": {
     "duration": 0.054028,
     "end_time": "2024-03-12T22:41:56.934268",
     "exception": false,
     "start_time": "2024-03-12T22:41:56.880240",
     "status": "completed"
    },
    "tags": []
   },
   "outputs": [],
   "source": [
    "#Load Metadata\n",
    "metadata_qa = Metadata.load(metadata_file)"
   ]
  },
  {
   "cell_type": "code",
   "execution_count": 8,
   "id": "3d6066e2",
   "metadata": {
    "execution": {
     "iopub.execute_input": "2024-03-12T22:41:56.961835Z",
     "iopub.status.busy": "2024-03-12T22:41:56.960760Z",
     "iopub.status.idle": "2024-03-12T22:41:56.969060Z",
     "shell.execute_reply": "2024-03-12T22:41:56.967522Z"
    },
    "papermill": {
     "duration": 0.025492,
     "end_time": "2024-03-12T22:41:56.972738",
     "exception": false,
     "start_time": "2024-03-12T22:41:56.947246",
     "status": "completed"
    },
    "tags": []
   },
   "outputs": [],
   "source": [
    "alt_tab_path = os.path.join(base_dir, 'data', 'interim', 'dada2-tabs.qza')\n",
    "# Verify if table file exists and if it is shared\n",
    "if not os.path.isfile(dada2_tabs_path) and os.path.isfile(alt_tab_path):\n",
    "    # If it is shared, create a local symbolic link\n",
    "    os.symlink(alt_tab_path, dada2_tabs_path)"
   ]
  },
  {
   "cell_type": "code",
   "execution_count": 9,
   "id": "d888cf97",
   "metadata": {
    "ExecuteTime": {
     "end_time": "2022-09-22T21:43:54.827295Z",
     "start_time": "2022-09-22T21:43:54.399431Z"
    },
    "execution": {
     "iopub.execute_input": "2024-03-12T22:41:56.987201Z",
     "iopub.status.busy": "2024-03-12T22:41:56.986899Z",
     "iopub.status.idle": "2024-03-12T22:41:57.440395Z",
     "shell.execute_reply": "2024-03-12T22:41:57.439922Z"
    },
    "papermill": {
     "duration": 0.461112,
     "end_time": "2024-03-12T22:41:57.441490",
     "exception": false,
     "start_time": "2024-03-12T22:41:56.980378",
     "status": "completed"
    },
    "tags": []
   },
   "outputs": [],
   "source": [
    "# Load Table artifact\n",
    "tabs = Artifact.load(dada2_tabs_path)\n",
    "# Filter samples using Metadata IDs\n",
    "tabs = filter_samples(\n",
    "    table=tabs,\n",
    "    metadata=metadata_qa,\n",
    ").filtered_table\n",
    "tabs_df = tabs.view(Metadata).to_dataframe().T"
   ]
  },
  {
   "cell_type": "code",
   "execution_count": null,
   "id": "b00f8826",
   "metadata": {
    "papermill": {
     "duration": 0.002167,
     "end_time": "2024-03-12T22:41:57.446098",
     "exception": false,
     "start_time": "2024-03-12T22:41:57.443931",
     "status": "completed"
    },
    "tags": []
   },
   "outputs": [],
   "source": []
  },
  {
   "cell_type": "markdown",
   "id": "c68c9cf6",
   "metadata": {
    "papermill": {
     "duration": 0.002162,
     "end_time": "2024-03-12T22:41:57.450362",
     "exception": false,
     "start_time": "2024-03-12T22:41:57.448200",
     "status": "completed"
    },
    "tags": []
   },
   "source": [
    "## Alpha Rarefaction"
   ]
  },
  {
   "cell_type": "code",
   "execution_count": 10,
   "id": "46959882",
   "metadata": {
    "ExecuteTime": {
     "end_time": "2022-09-22T21:55:53.328300Z",
     "start_time": "2022-09-22T21:55:53.318166Z"
    },
    "execution": {
     "iopub.execute_input": "2024-03-12T22:41:57.455865Z",
     "iopub.status.busy": "2024-03-12T22:41:57.455593Z",
     "iopub.status.idle": "2024-03-12T22:41:57.459471Z",
     "shell.execute_reply": "2024-03-12T22:41:57.459001Z"
    },
    "papermill": {
     "duration": 0.008024,
     "end_time": "2024-03-12T22:41:57.460502",
     "exception": false,
     "start_time": "2024-03-12T22:41:57.452478",
     "status": "completed"
    },
    "tags": []
   },
   "outputs": [],
   "source": [
    "# Get min and maximum feature counts to set sampling depth\n",
    "rank_df = tabs_df.sum().sort_values()\n",
    "min_feature_count = int(rank_df.min())\n",
    "max_feature_count = int(rank_df.max())"
   ]
  },
  {
   "cell_type": "code",
   "execution_count": 11,
   "id": "5d7d7531",
   "metadata": {
    "execution": {
     "iopub.execute_input": "2024-03-12T22:41:57.465406Z",
     "iopub.status.busy": "2024-03-12T22:41:57.465255Z",
     "iopub.status.idle": "2024-03-12T22:41:57.470812Z",
     "shell.execute_reply": "2024-03-12T22:41:57.470490Z"
    },
    "papermill": {
     "duration": 0.009053,
     "end_time": "2024-03-12T22:41:57.471710",
     "exception": false,
     "start_time": "2024-03-12T22:41:57.462657",
     "status": "completed"
    },
    "tags": []
   },
   "outputs": [],
   "source": [
    "# Add new columns with samples IDs to rarefaction\n",
    "meta_df = metadata_qa.to_dataframe()\n",
    "meta_df['samples'] = meta_df.index.to_list()\n",
    "metadata_qa = Metadata(meta_df)"
   ]
  },
  {
   "cell_type": "code",
   "execution_count": 12,
   "id": "1173f663",
   "metadata": {
    "ExecuteTime": {
     "end_time": "2022-09-22T21:56:13.586159Z",
     "start_time": "2022-09-22T21:55:55.117935Z"
    },
    "execution": {
     "iopub.execute_input": "2024-03-12T22:41:57.476724Z",
     "iopub.status.busy": "2024-03-12T22:41:57.476537Z",
     "iopub.status.idle": "2024-03-12T22:42:16.740578Z",
     "shell.execute_reply": "2024-03-12T22:42:16.740173Z"
    },
    "papermill": {
     "duration": 19.267722,
     "end_time": "2024-03-12T22:42:16.741696",
     "exception": false,
     "start_time": "2024-03-12T22:41:57.473974",
     "status": "completed"
    },
    "tags": []
   },
   "outputs": [
    {
     "name": "stderr",
     "output_type": "stream",
     "text": [
      "/home/lauro/anaconda3/envs/qiime2-2023.5/lib/python3.8/site-packages/q2_diversity/_alpha/_visualizer.py:245: FutureWarning: The default value of numeric_only in DataFrameGroupBy.median is deprecated. In a future version, numeric_only will default to False. Either specify numeric_only or select only columns which should be valid for the function.\n",
      "  median_ = grouped.median()\n",
      "/home/lauro/anaconda3/envs/qiime2-2023.5/lib/python3.8/site-packages/q2_diversity/_alpha/_visualizer.py:245: FutureWarning: The default value of numeric_only in DataFrameGroupBy.median is deprecated. In a future version, numeric_only will default to False. Either specify numeric_only or select only columns which should be valid for the function.\n",
      "  median_ = grouped.median()\n"
     ]
    },
    {
     "name": "stderr",
     "output_type": "stream",
     "text": [
      "/home/lauro/anaconda3/envs/qiime2-2023.5/lib/python3.8/site-packages/q2_diversity/_alpha/_visualizer.py:245: FutureWarning: The default value of numeric_only in DataFrameGroupBy.median is deprecated. In a future version, numeric_only will default to False. Either specify numeric_only or select only columns which should be valid for the function.\n",
      "  median_ = grouped.median()\n",
      "/home/lauro/anaconda3/envs/qiime2-2023.5/lib/python3.8/site-packages/q2_diversity/_alpha/_visualizer.py:245: FutureWarning: The default value of numeric_only in DataFrameGroupBy.median is deprecated. In a future version, numeric_only will default to False. Either specify numeric_only or select only columns which should be valid for the function.\n",
      "  median_ = grouped.median()\n"
     ]
    }
   ],
   "source": [
    "alpha_rar = alpha_rarefaction(\n",
    "    table = tabs,\n",
    "    max_depth = max_feature_count,\n",
    "    min_depth = 1,\n",
    "    metadata = metadata_qa,\n",
    ")"
   ]
  },
  {
   "cell_type": "code",
   "execution_count": 13,
   "id": "3468ae67",
   "metadata": {
    "ExecuteTime": {
     "end_time": "2022-09-22T21:56:13.632468Z",
     "start_time": "2022-09-22T21:56:13.589032Z"
    },
    "execution": {
     "iopub.execute_input": "2024-03-12T22:42:16.747505Z",
     "iopub.status.busy": "2024-03-12T22:42:16.747161Z",
     "iopub.status.idle": "2024-03-12T22:42:16.778397Z",
     "shell.execute_reply": "2024-03-12T22:42:16.778044Z"
    },
    "papermill": {
     "duration": 0.03502,
     "end_time": "2024-03-12T22:42:16.779322",
     "exception": false,
     "start_time": "2024-03-12T22:42:16.744302",
     "status": "completed"
    },
    "scrolled": true,
    "tags": []
   },
   "outputs": [
    {
     "data": {
      "text/html": [
       "<div><img onload=\"(function(div, url){\n",
       "if (typeof require !== 'undefined') {\n",
       "    var baseURL = require.toUrl('').split('/').slice(0, -2).join('/');\n",
       "} else {\n",
       "    var baseURL = JSON.parse(\n",
       "        document.getElementById('jupyter-config-data').innerHTML\n",
       "    ).baseUrl.slice(0, -1);\n",
       "}\n",
       "url = baseURL + url;\n",
       "fetch(url).then(function(res) {\n",
       "    if (res.status === 404) {\n",
       "        div.innerHTML = 'Install QIIME 2 Jupyter extension with:<br />' +\n",
       "                        '<code>jupyter serverextension enable --py qiime2' +\n",
       "                        ' --sys-prefix</code><br />then restart your server.' +\n",
       "                        '<br /><br />(Interactive output not available on ' +\n",
       "                        'static notebook viewer services like nbviewer.)';\n",
       "    } else if (res.status === 409) {\n",
       "        div.innerHTML = 'Visualization no longer in scope. Re-run this cell' +\n",
       "                        ' to see the visualization.';\n",
       "    } else if (res.ok) {\n",
       "        url = res.url;\n",
       "        div.innerHTML = '<iframe src=\\'' + url + '\\' style=\\'' +\n",
       "                        'width: 100%; height: 700px; border: 0;\\'>' +\n",
       "                        '</iframe><hr />Open in a: <a href=\\'' + url + '\\'' +\n",
       "                        ' target=\\'_blank\\'>new window</a>'\n",
       "    } else {\n",
       "        div.innerHTML = 'Something has gone wrong. Check notebook server for' +\n",
       "                        ' errors.';\n",
       "    }\n",
       "});\n",
       "})(this.parentElement, '/qiime2/redirect?location=/tmp/qiime2/lauro/data/018aebba-6397-49e1-b035-d82c5e5ab58c')\" src=\"data:image/gif;base64,R0lGODlhAQABAIAAAP///wAAACH5BAEAAAAALAAAAAABAAEAAAICRAEAOw==\" /></div>"
      ],
      "text/plain": [
       "<visualization: Visualization uuid: 018aebba-6397-49e1-b035-d82c5e5ab58c>"
      ]
     },
     "execution_count": 13,
     "metadata": {},
     "output_type": "execute_result"
    }
   ],
   "source": [
    "alpha_rar.visualization.save(alpha_rarefaction_view_path)\n",
    "alpha_rar.visualization"
   ]
  },
  {
   "cell_type": "markdown",
   "id": "9e29b408",
   "metadata": {
    "papermill": {
     "duration": 0.002354,
     "end_time": "2024-03-12T22:42:16.784044",
     "exception": false,
     "start_time": "2024-03-12T22:42:16.781690",
     "status": "completed"
    },
    "tags": []
   },
   "source": [
    "## Beta Rarefaction"
   ]
  },
  {
   "cell_type": "code",
   "execution_count": 14,
   "id": "67cfd729",
   "metadata": {
    "ExecuteTime": {
     "end_time": "2022-09-22T21:56:19.645438Z",
     "start_time": "2022-09-22T21:56:17.687848Z"
    },
    "execution": {
     "iopub.execute_input": "2024-03-12T22:42:16.789612Z",
     "iopub.status.busy": "2024-03-12T22:42:16.789319Z",
     "iopub.status.idle": "2024-03-12T22:42:20.282531Z",
     "shell.execute_reply": "2024-03-12T22:42:20.281991Z"
    },
    "papermill": {
     "duration": 3.497116,
     "end_time": "2024-03-12T22:42:20.283591",
     "exception": false,
     "start_time": "2024-03-12T22:42:16.786475",
     "status": "completed"
    },
    "tags": []
   },
   "outputs": [
    {
     "name": "stderr",
     "output_type": "stream",
     "text": [
      "/home/lauro/anaconda3/envs/qiime2-2023.5/lib/python3.8/site-packages/skbio/stats/ordination/_principal_coordinate_analysis.py:143: RuntimeWarning: The result contains negative eigenvalues. Please compare their magnitude with the magnitude of some of the largest positive eigenvalues. If the negative ones are smaller, it's probably safe to ignore them, but if they are large in magnitude, the results won't be useful. See the Notes section for more details. The smallest eigenvalue is -0.29166786564963326 and the largest is 5.881709410901969.\n",
      "  warn(\n",
      "/home/lauro/anaconda3/envs/qiime2-2023.5/lib/python3.8/site-packages/skbio/stats/ordination/_principal_coordinate_analysis.py:143: RuntimeWarning: The result contains negative eigenvalues. Please compare their magnitude with the magnitude of some of the largest positive eigenvalues. If the negative ones are smaller, it's probably safe to ignore them, but if they are large in magnitude, the results won't be useful. See the Notes section for more details. The smallest eigenvalue is -0.2489528817449274 and the largest is 5.649670484163176.\n",
      "  warn(\n",
      "/home/lauro/anaconda3/envs/qiime2-2023.5/lib/python3.8/site-packages/skbio/stats/ordination/_principal_coordinate_analysis.py:143: RuntimeWarning: The result contains negative eigenvalues. Please compare their magnitude with the magnitude of some of the largest positive eigenvalues. If the negative ones are smaller, it's probably safe to ignore them, but if they are large in magnitude, the results won't be useful. See the Notes section for more details. The smallest eigenvalue is -0.23530183508025915 and the largest is 5.471407774127513.\n",
      "  warn(\n",
      "/home/lauro/anaconda3/envs/qiime2-2023.5/lib/python3.8/site-packages/skbio/stats/ordination/_principal_coordinate_analysis.py:143: RuntimeWarning: The result contains negative eigenvalues. Please compare their magnitude with the magnitude of some of the largest positive eigenvalues. If the negative ones are smaller, it's probably safe to ignore them, but if they are large in magnitude, the results won't be useful. See the Notes section for more details. The smallest eigenvalue is -0.2647442919344864 and the largest is 5.720292746643796.\n",
      "  warn(\n",
      "/home/lauro/anaconda3/envs/qiime2-2023.5/lib/python3.8/site-packages/skbio/stats/ordination/_principal_coordinate_analysis.py:143: RuntimeWarning: The result contains negative eigenvalues. Please compare their magnitude with the magnitude of some of the largest positive eigenvalues. If the negative ones are smaller, it's probably safe to ignore them, but if they are large in magnitude, the results won't be useful. See the Notes section for more details. The smallest eigenvalue is -0.2831930664195846 and the largest is 5.814352501944291.\n",
      "  warn(\n",
      "/home/lauro/anaconda3/envs/qiime2-2023.5/lib/python3.8/site-packages/skbio/stats/ordination/_principal_coordinate_analysis.py:143: RuntimeWarning: The result contains negative eigenvalues. Please compare their magnitude with the magnitude of some of the largest positive eigenvalues. If the negative ones are smaller, it's probably safe to ignore them, but if they are large in magnitude, the results won't be useful. See the Notes section for more details. The smallest eigenvalue is -0.22801221006811656 and the largest is 5.8041031758128305.\n",
      "  warn(\n",
      "/home/lauro/anaconda3/envs/qiime2-2023.5/lib/python3.8/site-packages/skbio/stats/ordination/_principal_coordinate_analysis.py:143: RuntimeWarning: The result contains negative eigenvalues. Please compare their magnitude with the magnitude of some of the largest positive eigenvalues. If the negative ones are smaller, it's probably safe to ignore them, but if they are large in magnitude, the results won't be useful. See the Notes section for more details. The smallest eigenvalue is -0.2704363913670607 and the largest is 5.754138204569977.\n",
      "  warn(\n",
      "/home/lauro/anaconda3/envs/qiime2-2023.5/lib/python3.8/site-packages/skbio/stats/ordination/_principal_coordinate_analysis.py:143: RuntimeWarning: The result contains negative eigenvalues. Please compare their magnitude with the magnitude of some of the largest positive eigenvalues. If the negative ones are smaller, it's probably safe to ignore them, but if they are large in magnitude, the results won't be useful. See the Notes section for more details. The smallest eigenvalue is -0.25928168022961173 and the largest is 5.668851320447003.\n",
      "  warn(\n",
      "/home/lauro/anaconda3/envs/qiime2-2023.5/lib/python3.8/site-packages/skbio/stats/ordination/_principal_coordinate_analysis.py:143: RuntimeWarning: The result contains negative eigenvalues. Please compare their magnitude with the magnitude of some of the largest positive eigenvalues. If the negative ones are smaller, it's probably safe to ignore them, but if they are large in magnitude, the results won't be useful. See the Notes section for more details. The smallest eigenvalue is -0.24078425389683666 and the largest is 5.775398724513654.\n",
      "  warn(\n",
      "/home/lauro/anaconda3/envs/qiime2-2023.5/lib/python3.8/site-packages/skbio/stats/ordination/_principal_coordinate_analysis.py:143: RuntimeWarning: The result contains negative eigenvalues. Please compare their magnitude with the magnitude of some of the largest positive eigenvalues. If the negative ones are smaller, it's probably safe to ignore them, but if they are large in magnitude, the results won't be useful. See the Notes section for more details. The smallest eigenvalue is -0.2563287114244794 and the largest is 5.525708008805861.\n",
      "  warn(\n"
     ]
    },
    {
     "data": {
      "image/png": "[encoded data removed]",
      "text/plain": [
       "<Figure size 640x480 with 2 Axes>"
      ]
     },
     "metadata": {},
     "output_type": "display_data"
    }
   ],
   "source": [
    "choices = ('matching', 'aitchison', 'euclidean', 'generalized_unifrac', 'canberra', 'russellrao', 'braycurtis', 'cosine', 'jensenshannon', 'yule', 'weighted_normalized_unifrac', 'unweighted_unifrac', 'hamming', 'weighted_unifrac', 'cityblock', 'sokalmichener', 'seuclidean', 'rogerstanimoto', 'correlation', 'minkowski', 'kulsinski', 'chebyshev', 'sqeuclidean', 'sokalsneath', 'jaccard', 'dice', 'canberra_adkins')\n",
    "clustering_methods = ('nj', 'upgma')\n",
    "correlation_methods = ('pearson', 'spearman')\n",
    "\n",
    "sampling_depth = max(min_feature_count, 1)\n",
    "metric = 'braycurtis'\n",
    "clustering_method = clustering_methods[0]\n",
    "correlation_method = correlation_methods[1]\n",
    "\n",
    "beta_rar = beta_rarefaction(\n",
    "    table = tabs,\n",
    "    sampling_depth  = sampling_depth,\n",
    "    metadata = metadata_qa,\n",
    "    metric = metric,\n",
    "    clustering_method = clustering_method,\n",
    "    correlation_method = correlation_method,\n",
    ")"
   ]
  },
  {
   "cell_type": "markdown",
   "id": "e829a298",
   "metadata": {
    "papermill": {
     "duration": 0.002701,
     "end_time": "2024-03-12T22:42:20.289235",
     "exception": false,
     "start_time": "2024-03-12T22:42:20.286534",
     "status": "completed"
    },
    "tags": []
   },
   "source": [
    " ## Beta diversity PCoA\n",
    " Ellipses represent 95% confidence intervals."
   ]
  },
  {
   "cell_type": "code",
   "execution_count": 15,
   "id": "97f85208",
   "metadata": {
    "ExecuteTime": {
     "end_time": "2022-09-22T21:56:22.170995Z",
     "start_time": "2022-09-22T21:56:22.048827Z"
    },
    "execution": {
     "iopub.execute_input": "2024-03-12T22:42:20.295628Z",
     "iopub.status.busy": "2024-03-12T22:42:20.295319Z",
     "iopub.status.idle": "2024-03-12T22:42:20.371900Z",
     "shell.execute_reply": "2024-03-12T22:42:20.371471Z"
    },
    "papermill": {
     "duration": 0.080864,
     "end_time": "2024-03-12T22:42:20.372788",
     "exception": false,
     "start_time": "2024-03-12T22:42:20.291924",
     "status": "completed"
    },
    "tags": []
   },
   "outputs": [
    {
     "data": {
      "text/html": [
       "<div><img onload=\"(function(div, url){\n",
       "if (typeof require !== 'undefined') {\n",
       "    var baseURL = require.toUrl('').split('/').slice(0, -2).join('/');\n",
       "} else {\n",
       "    var baseURL = JSON.parse(\n",
       "        document.getElementById('jupyter-config-data').innerHTML\n",
       "    ).baseUrl.slice(0, -1);\n",
       "}\n",
       "url = baseURL + url;\n",
       "fetch(url).then(function(res) {\n",
       "    if (res.status === 404) {\n",
       "        div.innerHTML = 'Install QIIME 2 Jupyter extension with:<br />' +\n",
       "                        '<code>jupyter serverextension enable --py qiime2' +\n",
       "                        ' --sys-prefix</code><br />then restart your server.' +\n",
       "                        '<br /><br />(Interactive output not available on ' +\n",
       "                        'static notebook viewer services like nbviewer.)';\n",
       "    } else if (res.status === 409) {\n",
       "        div.innerHTML = 'Visualization no longer in scope. Re-run this cell' +\n",
       "                        ' to see the visualization.';\n",
       "    } else if (res.ok) {\n",
       "        url = res.url;\n",
       "        div.innerHTML = '<iframe src=\\'' + url + '\\' style=\\'' +\n",
       "                        'width: 100%; height: 700px; border: 0;\\'>' +\n",
       "                        '</iframe><hr />Open in a: <a href=\\'' + url + '\\'' +\n",
       "                        ' target=\\'_blank\\'>new window</a>'\n",
       "    } else {\n",
       "        div.innerHTML = 'Something has gone wrong. Check notebook server for' +\n",
       "                        ' errors.';\n",
       "    }\n",
       "});\n",
       "})(this.parentElement, '/qiime2/redirect?location=/tmp/qiime2/lauro/data/cbf01a9f-6507-4193-b9e0-fc904eeca8b7')\" src=\"data:image/gif;base64,R0lGODlhAQABAIAAAP///wAAACH5BAEAAAAALAAAAAABAAEAAAICRAEAOw==\" /></div>"
      ],
      "text/plain": [
       "<visualization: Visualization uuid: cbf01a9f-6507-4193-b9e0-fc904eeca8b7>"
      ]
     },
     "execution_count": 15,
     "metadata": {},
     "output_type": "execute_result"
    }
   ],
   "source": [
    "plot_tmp = f'{metric}-{clustering_method}-{correlation_method}-{sampling_depth}'\n",
    "beta_rarefaction_view_path = os.path.join(qiime_folder, f'beta-rarefaction-{plot_tmp}.qzv')\n",
    "beta_rar.visualization.save(beta_rarefaction_view_path)\n",
    "\n",
    "beta_rar.visualization"
   ]
  }
 ],
 "metadata": {
  "celltoolbar": "Edit Metadata",
  "kernelspec": {
   "display_name": "Python 3 (ipykernel)",
   "language": "python",
   "name": "python3"
  },
  "language_info": {
   "codemirror_mode": {
    "name": "ipython",
    "version": 3
   },
   "file_extension": ".py",
   "mimetype": "text/x-python",
   "name": "python",
   "nbconvert_exporter": "python",
   "pygments_lexer": "ipython3",
   "version": "3.8.16"
  },
  "papermill": {
   "default_parameters": {},
   "duration": 30.893726,
   "end_time": "2024-03-12T22:42:21.292397",
   "environment_variables": {},
   "exception": null,
   "input_path": "nb-templates/step-rarefaction-analysis.ipynb",
   "output_path": "/mnt/nupeb/rede-micro/redemicro-jennefer/experiments/jennefer-vs-paired-end-trim-not-histec/nb-executed-steps/step-rarefaction-analysis-jennefer-vs-paired-end-trim-not-histec.ipynb",
   "parameters": {
    "base_dir": "/mnt/nupeb/rede-micro/redemicro-jennefer",
    "class_col": "class",
    "classifier_file": "/mnt/nupeb/rede-micro/datasets/16S_classifiers_qiime2/silva-138-99-nb-classifier.qza",
    "experiment_name": "jennefer-vs-paired-end-trim-not-histec",
    "manifest_file": "/mnt/nupeb/rede-micro/redemicro-jennefer/data/manifest.csv",
    "metadata_file": "/mnt/nupeb/rede-micro/redemicro-jennefer/data/metadata-not-his.tsv",
    "overlap": 12,
    "phred": 20,
    "replace_files": false,
    "threads": 6,
    "trim": {
     "forward_primer": "CCTACGGGRSGCAGCAG",
     "overlap": 8,
     "reverse_primer": "GGACTACHVGGGTWTCTAAT"
    },
    "trunc_f": 0,
    "trunc_r": 0
   },
   "start_time": "2024-03-12T22:41:50.398671",
   "version": "2.4.0"
  },
  "toc-autonumbering": false,
  "toc-showcode": false,
  "toc-showmarkdowntxt": false
 },
 "nbformat": 4,
 "nbformat_minor": 5
}