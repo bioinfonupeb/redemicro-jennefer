{
 "cells": [
  {
   "cell_type": "code",
   "execution_count": 1,
   "id": "ec99af15",
   "metadata": {},
   "outputs": [],
   "source": [
    "import os\n",
    "import pandas as pd"
   ]
  },
  {
   "cell_type": "code",
   "execution_count": 2,
   "id": "bcf7a10b",
   "metadata": {},
   "outputs": [],
   "source": [
    "fastq_path = '/mnt/nupeb/rede-micro/datasets/raw-fastqs/raw-paired-end-fastq'\n",
    "data_folder_path = '/mnt/nupeb/rede-micro/redemicro-jennefer/data'\n",
    "sample_ids_file_path = f'{data_folder_path}/vs-sample-ids.tsv'\n",
    "manifest_file_path = f'{data_folder_path}/manifest.csv'\n",
    "raw_metadata_file_path = f'{data_folder_path}/metadata-raw.tsv'\n",
    "metadata_file_path = f'{data_folder_path}/metadata.tsv'\n",
    "histec_metadata_file_path = f'{data_folder_path}/metadata-his.tsv'\n",
    "not_histec_metadata_file_path = f'{data_folder_path}/metadata-not-his.tsv'"
   ]
  },
  {
   "cell_type": "code",
   "execution_count": 3,
   "id": "08dd792b",
   "metadata": {},
   "outputs": [],
   "source": [
    "# Read samples IDs\n",
    "samples_df = pd.read_csv(sample_ids_file_path, sep='\\t', header=None, names=['sample-id', 'vs-id'])\n",
    "samples_dict = pd.Series(samples_df['vs-id'].values, index=samples_df['sample-id'].values).to_dict()\n",
    "file_names  = !ls {fastq_path}"
   ]
  },
  {
   "cell_type": "markdown",
   "id": "408c8054",
   "metadata": {},
   "source": [
    "# Manifest"
   ]
  },
  {
   "cell_type": "code",
   "execution_count": 4,
   "id": "3e26a1bc",
   "metadata": {},
   "outputs": [],
   "source": [
    "header_names = ('sample-id', 'absolute-filepath', 'direction')\n",
    "header_line = ','.join(header_names)\n",
    "manifest_lines = [header_line]\n",
    "for f_name in file_names:\n",
    "    s_id = int(f_name[:12])\n",
    "    if s_id in samples_dict.keys():\n",
    "        full_path = f'{fastq_path}/{f_name}'\n",
    "        direction = 'forward' if f_name[-11:-10] == '1' else 'reverse'\n",
    "        line = f'{samples_dict[s_id]},{full_path},{direction}'\n",
    "        manifest_lines.append(line)"
   ]
  },
  {
   "cell_type": "code",
   "execution_count": 5,
   "id": "20a28478",
   "metadata": {},
   "outputs": [],
   "source": [
    "with open(manifest_file_path, 'w') as f:\n",
    "    f.write('\\n'.join(manifest_lines))"
   ]
  },
  {
   "cell_type": "markdown",
   "id": "977dced0",
   "metadata": {},
   "source": [
    "# Metadata"
   ]
  },
  {
   "cell_type": "code",
   "execution_count": 6,
   "id": "d5d2fe59",
   "metadata": {},
   "outputs": [],
   "source": [
    "metadata_df = pd.read_csv(raw_metadata_file_path, sep='\\t', skiprows=[1])\n",
    "metadata_df['class_meno'] += 1"
   ]
  },
  {
   "cell_type": "code",
   "execution_count": 7,
   "id": "1098f766",
   "metadata": {},
   "outputs": [],
   "source": [
    "histerectomia_ids = ['M40', 'M56', 'M76', 'M80', 'M97', 'M100', 'M111', 'M113', 'M124', 'M160']\n",
    "histerectomia_rows = metadata_df[metadata_df['id_fezes'].isin(histerectomia_ids)].index\n",
    "metadata_df.iloc[histerectomia_rows, -1] = 0"
   ]
  },
  {
   "cell_type": "code",
   "execution_count": 14,
   "id": "b8f83682",
   "metadata": {},
   "outputs": [
    {
     "name": "stderr",
     "output_type": "stream",
     "text": [
      "/tmp/ipykernel_144110/3956128100.py:8: SettingWithCopyWarning: \n",
      "A value is trying to be set on a copy of a slice from a DataFrame\n",
      "\n",
      "See the caveats in the documentation: https://pandas.pydata.org/pandas-docs/stable/user_guide/indexing.html#returning-a-view-versus-a-copy\n",
      "  projection_metadata_df.loc[-1] = types_line\n",
      "/tmp/ipykernel_144110/3956128100.py:10: SettingWithCopyWarning: \n",
      "A value is trying to be set on a copy of a slice from a DataFrame\n",
      "\n",
      "See the caveats in the documentation: https://pandas.pydata.org/pandas-docs/stable/user_guide/indexing.html#returning-a-view-versus-a-copy\n",
      "  projection_metadata_df.sort_index(inplace=True)\n"
     ]
    }
   ],
   "source": [
    "metadata_df.rename(columns={'id_vaginal': 'sample-id', 'idade': 'age', 'class_meno': 'class'}, inplace=True)\n",
    "projection_metadata_df = metadata_df[['sample-id', 'age', 'class']]\n",
    "\n",
    "projection_metadata_df.to_csv(metadata_file_path, sep='\\t', index=False)\n",
    "\n",
    "# Insert new line with data type info for QIMME2\n",
    "types_line = ['#q2:types', 'numeric', 'categorical']\n",
    "projection_metadata_df.loc[-1] = types_line\n",
    "projection_metadata_df.index = projection_metadata_df.index + 1\n",
    "projection_metadata_df.sort_index(inplace=True)\n",
    "projection_metadata_df\n",
    "\n",
    "projection_metadata_df.to_csv(histec_metadata_file_path, sep='\\t', index=False)\n",
    "projection_metadata_df[projection_metadata_df['class']!=0].to_csv(not_histec_metadata_file_path, sep='\\t', index=False)"
   ]
  }
 ],
 "metadata": {
  "kernelspec": {
   "display_name": "Python 3 (ipykernel)",
   "language": "python",
   "name": "python3"
  },
  "language_info": {
   "codemirror_mode": {
    "name": "ipython",
    "version": 3
   },
   "file_extension": ".py",
   "mimetype": "text/x-python",
   "name": "python",
   "nbconvert_exporter": "python",
   "pygments_lexer": "ipython3",
   "version": "3.8.16"
  }
 },
 "nbformat": 4,
 "nbformat_minor": 5
}
